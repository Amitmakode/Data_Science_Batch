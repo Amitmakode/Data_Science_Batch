{
 "cells": [
  {
   "cell_type": "code",
   "execution_count": 1,
   "id": "8a7b0744-ba54-41ee-8a25-4632e5431c06",
   "metadata": {},
   "outputs": [
    {
     "ename": "FileNotFoundError",
     "evalue": "[Errno 2] No such file or directory: 'new.txt'",
     "output_type": "error",
     "traceback": [
      "\u001b[1;31m---------------------------------------------------------------------------\u001b[0m",
      "\u001b[1;31mFileNotFoundError\u001b[0m                         Traceback (most recent call last)",
      "Cell \u001b[1;32mIn[1], line 1\u001b[0m\n\u001b[1;32m----> 1\u001b[0m \u001b[38;5;28mopen\u001b[39m(\u001b[38;5;124m\"\u001b[39m\u001b[38;5;124mnew.txt\u001b[39m\u001b[38;5;124m\"\u001b[39m)\n",
      "File \u001b[1;32m~\\anaconda3\\Lib\\site-packages\\IPython\\core\\interactiveshell.py:310\u001b[0m, in \u001b[0;36m_modified_open\u001b[1;34m(file, *args, **kwargs)\u001b[0m\n\u001b[0;32m    303\u001b[0m \u001b[38;5;28;01mif\u001b[39;00m file \u001b[38;5;129;01min\u001b[39;00m {\u001b[38;5;241m0\u001b[39m, \u001b[38;5;241m1\u001b[39m, \u001b[38;5;241m2\u001b[39m}:\n\u001b[0;32m    304\u001b[0m     \u001b[38;5;28;01mraise\u001b[39;00m \u001b[38;5;167;01mValueError\u001b[39;00m(\n\u001b[0;32m    305\u001b[0m         \u001b[38;5;124mf\u001b[39m\u001b[38;5;124m\"\u001b[39m\u001b[38;5;124mIPython won\u001b[39m\u001b[38;5;124m'\u001b[39m\u001b[38;5;124mt let you open fd=\u001b[39m\u001b[38;5;132;01m{\u001b[39;00mfile\u001b[38;5;132;01m}\u001b[39;00m\u001b[38;5;124m by default \u001b[39m\u001b[38;5;124m\"\u001b[39m\n\u001b[0;32m    306\u001b[0m         \u001b[38;5;124m\"\u001b[39m\u001b[38;5;124mas it is likely to crash IPython. If you know what you are doing, \u001b[39m\u001b[38;5;124m\"\u001b[39m\n\u001b[0;32m    307\u001b[0m         \u001b[38;5;124m\"\u001b[39m\u001b[38;5;124myou can use builtins\u001b[39m\u001b[38;5;124m'\u001b[39m\u001b[38;5;124m open.\u001b[39m\u001b[38;5;124m\"\u001b[39m\n\u001b[0;32m    308\u001b[0m     )\n\u001b[1;32m--> 310\u001b[0m \u001b[38;5;28;01mreturn\u001b[39;00m io_open(file, \u001b[38;5;241m*\u001b[39margs, \u001b[38;5;241m*\u001b[39m\u001b[38;5;241m*\u001b[39mkwargs)\n",
      "\u001b[1;31mFileNotFoundError\u001b[0m: [Errno 2] No such file or directory: 'new.txt'"
     ]
    }
   ],
   "source": [
    "open(\"new.txt\")"
   ]
  },
  {
   "cell_type": "code",
   "execution_count": 2,
   "id": "17915594-7cbf-494d-8419-0720d67c972f",
   "metadata": {},
   "outputs": [
    {
     "name": "stdout",
     "output_type": "stream",
     "text": [
      " Volume in drive C is Local Disk\n",
      " Volume Serial Number is C685-8258\n",
      "\n",
      " Directory of C:\\Users\\amitm\\Class\\7_30 DS 2024\n",
      "\n",
      "04-09-2024  19:57    <DIR>          .\n",
      "27-08-2024  08:30    <DIR>          ..\n",
      "04-09-2024  19:57    <DIR>          .ipynb_checkpoints\n",
      "13-08-2024  20:09            23,761 5. String.ipynb\n",
      "14-08-2024  19:56            14,996 6. String.ipynb\n",
      "21-08-2024  20:32            14,752 Condition.ipynb\n",
      "22-08-2024  20:06            25,943 Condition-2.ipynb\n",
      "20-08-2024  20:35            34,034 Day-1.ipynb\n",
      "09-08-2024  20:31            57,022 Day-2.ipynb\n",
      "12-08-2024  19:38                72 Day-3.ipynb\n",
      "12-08-2024  20:20            15,052 Day-4.ipynb\n",
      "20-08-2024  20:16            32,651 Dictionary.ipynb\n",
      "30-08-2024  20:01            14,468 Exception_Handling.ipynb\n",
      "04-09-2024  19:56                72 File_Handling.ipynb\n",
      "14-08-2024  20:14            19,311 List.ipynb\n",
      "28-08-2024  20:21            12,395 Loop Practice.ipynb\n",
      "26-08-2024  20:13            16,307 Loop.ipynb\n",
      "16-08-2024  19:58            21,145 Tuple and Set.ipynb\n",
      "27-08-2024  20:32            21,226 While_Loop.ipynb\n",
      "              16 File(s)        323,207 bytes\n",
      "               3 Dir(s)  99,192,172,544 bytes free\n"
     ]
    }
   ],
   "source": [
    "ls"
   ]
  },
  {
   "cell_type": "code",
   "execution_count": null,
   "id": "ee5d5c0e-806c-48ce-affe-0dac9d3a4c67",
   "metadata": {},
   "outputs": [],
   "source": [
    "- \"r\" - Read - Default value. Opens a file for reading, it returns an error if the file does not exist\n",
    "- \"a\" - Append - Opens a file for appending, creates the file if it does not exist\n",
    "- \"w\" - Write - Opens a file for writing, creates the file if it does not exist\n",
    "- \"x\" - Create - Creates the specified file, returns an error if the file exists\n",
    "- \"t\" - Text - Default value. Text mode\n",
    "- \"b\" - Binary - Binary mode (e.g. images)\n",
    "- \"r+\" - Read and Write"
   ]
  },
  {
   "cell_type": "code",
   "execution_count": 3,
   "id": "3c9a1ca7-76aa-4aa2-8300-04ee97b6f26f",
   "metadata": {},
   "outputs": [
    {
     "ename": "ValueError",
     "evalue": "invalid mode: 'c'",
     "output_type": "error",
     "traceback": [
      "\u001b[1;31m---------------------------------------------------------------------------\u001b[0m",
      "\u001b[1;31mValueError\u001b[0m                                Traceback (most recent call last)",
      "Cell \u001b[1;32mIn[3], line 1\u001b[0m\n\u001b[1;32m----> 1\u001b[0m \u001b[38;5;28mopen\u001b[39m(\u001b[38;5;124m\"\u001b[39m\u001b[38;5;124mtest_1.txt\u001b[39m\u001b[38;5;124m\"\u001b[39m, \u001b[38;5;124m\"\u001b[39m\u001b[38;5;124mc\u001b[39m\u001b[38;5;124m\"\u001b[39m)\n",
      "File \u001b[1;32m~\\anaconda3\\Lib\\site-packages\\IPython\\core\\interactiveshell.py:310\u001b[0m, in \u001b[0;36m_modified_open\u001b[1;34m(file, *args, **kwargs)\u001b[0m\n\u001b[0;32m    303\u001b[0m \u001b[38;5;28;01mif\u001b[39;00m file \u001b[38;5;129;01min\u001b[39;00m {\u001b[38;5;241m0\u001b[39m, \u001b[38;5;241m1\u001b[39m, \u001b[38;5;241m2\u001b[39m}:\n\u001b[0;32m    304\u001b[0m     \u001b[38;5;28;01mraise\u001b[39;00m \u001b[38;5;167;01mValueError\u001b[39;00m(\n\u001b[0;32m    305\u001b[0m         \u001b[38;5;124mf\u001b[39m\u001b[38;5;124m\"\u001b[39m\u001b[38;5;124mIPython won\u001b[39m\u001b[38;5;124m'\u001b[39m\u001b[38;5;124mt let you open fd=\u001b[39m\u001b[38;5;132;01m{\u001b[39;00mfile\u001b[38;5;132;01m}\u001b[39;00m\u001b[38;5;124m by default \u001b[39m\u001b[38;5;124m\"\u001b[39m\n\u001b[0;32m    306\u001b[0m         \u001b[38;5;124m\"\u001b[39m\u001b[38;5;124mas it is likely to crash IPython. If you know what you are doing, \u001b[39m\u001b[38;5;124m\"\u001b[39m\n\u001b[0;32m    307\u001b[0m         \u001b[38;5;124m\"\u001b[39m\u001b[38;5;124myou can use builtins\u001b[39m\u001b[38;5;124m'\u001b[39m\u001b[38;5;124m open.\u001b[39m\u001b[38;5;124m\"\u001b[39m\n\u001b[0;32m    308\u001b[0m     )\n\u001b[1;32m--> 310\u001b[0m \u001b[38;5;28;01mreturn\u001b[39;00m io_open(file, \u001b[38;5;241m*\u001b[39margs, \u001b[38;5;241m*\u001b[39m\u001b[38;5;241m*\u001b[39mkwargs)\n",
      "\u001b[1;31mValueError\u001b[0m: invalid mode: 'c'"
     ]
    }
   ],
   "source": [
    "open(\"test_1.txt\", \"c\")"
   ]
  },
  {
   "cell_type": "code",
   "execution_count": 5,
   "id": "85d6fa50-f4fc-4150-92a9-e62f85ae32ce",
   "metadata": {},
   "outputs": [
    {
     "ename": "FileExistsError",
     "evalue": "[Errno 17] File exists: 'test_1.txt'",
     "output_type": "error",
     "traceback": [
      "\u001b[1;31m---------------------------------------------------------------------------\u001b[0m",
      "\u001b[1;31mFileExistsError\u001b[0m                           Traceback (most recent call last)",
      "Cell \u001b[1;32mIn[5], line 1\u001b[0m\n\u001b[1;32m----> 1\u001b[0m f \u001b[38;5;241m=\u001b[39m \u001b[38;5;28mopen\u001b[39m(\u001b[38;5;124m\"\u001b[39m\u001b[38;5;124mtest_1.txt\u001b[39m\u001b[38;5;124m\"\u001b[39m, \u001b[38;5;124m\"\u001b[39m\u001b[38;5;124mx\u001b[39m\u001b[38;5;124m\"\u001b[39m)\n",
      "File \u001b[1;32m~\\anaconda3\\Lib\\site-packages\\IPython\\core\\interactiveshell.py:310\u001b[0m, in \u001b[0;36m_modified_open\u001b[1;34m(file, *args, **kwargs)\u001b[0m\n\u001b[0;32m    303\u001b[0m \u001b[38;5;28;01mif\u001b[39;00m file \u001b[38;5;129;01min\u001b[39;00m {\u001b[38;5;241m0\u001b[39m, \u001b[38;5;241m1\u001b[39m, \u001b[38;5;241m2\u001b[39m}:\n\u001b[0;32m    304\u001b[0m     \u001b[38;5;28;01mraise\u001b[39;00m \u001b[38;5;167;01mValueError\u001b[39;00m(\n\u001b[0;32m    305\u001b[0m         \u001b[38;5;124mf\u001b[39m\u001b[38;5;124m\"\u001b[39m\u001b[38;5;124mIPython won\u001b[39m\u001b[38;5;124m'\u001b[39m\u001b[38;5;124mt let you open fd=\u001b[39m\u001b[38;5;132;01m{\u001b[39;00mfile\u001b[38;5;132;01m}\u001b[39;00m\u001b[38;5;124m by default \u001b[39m\u001b[38;5;124m\"\u001b[39m\n\u001b[0;32m    306\u001b[0m         \u001b[38;5;124m\"\u001b[39m\u001b[38;5;124mas it is likely to crash IPython. If you know what you are doing, \u001b[39m\u001b[38;5;124m\"\u001b[39m\n\u001b[0;32m    307\u001b[0m         \u001b[38;5;124m\"\u001b[39m\u001b[38;5;124myou can use builtins\u001b[39m\u001b[38;5;124m'\u001b[39m\u001b[38;5;124m open.\u001b[39m\u001b[38;5;124m\"\u001b[39m\n\u001b[0;32m    308\u001b[0m     )\n\u001b[1;32m--> 310\u001b[0m \u001b[38;5;28;01mreturn\u001b[39;00m io_open(file, \u001b[38;5;241m*\u001b[39margs, \u001b[38;5;241m*\u001b[39m\u001b[38;5;241m*\u001b[39mkwargs)\n",
      "\u001b[1;31mFileExistsError\u001b[0m: [Errno 17] File exists: 'test_1.txt'"
     ]
    }
   ],
   "source": [
    "f = open(\"test_1.txt\", \"x\")         #create a file"
   ]
  },
  {
   "cell_type": "code",
   "execution_count": 7,
   "id": "d1a327f4-e6fb-400f-90f8-21265708270a",
   "metadata": {},
   "outputs": [],
   "source": [
    "f =open(\"test_1.txt\", \"w\")   "
   ]
  },
  {
   "cell_type": "code",
   "execution_count": 9,
   "id": "19afbdb3-b433-4a81-baf0-0492553b3b23",
   "metadata": {},
   "outputs": [
    {
     "data": {
      "text/plain": [
       "27"
      ]
     },
     "execution_count": 9,
     "metadata": {},
     "output_type": "execute_result"
    }
   ],
   "source": [
    "f.write(\"you can use builtins' open.\")"
   ]
  },
  {
   "cell_type": "code",
   "execution_count": 10,
   "id": "597fb0a0-3f25-4d06-93ce-672accf4e2b4",
   "metadata": {},
   "outputs": [],
   "source": [
    "f.close()"
   ]
  },
  {
   "cell_type": "code",
   "execution_count": 12,
   "id": "0270c9b5-0695-4307-87c6-eeb1f0010d0a",
   "metadata": {},
   "outputs": [],
   "source": [
    "f1 = open(\"test_1.txt\", \"r\")"
   ]
  },
  {
   "cell_type": "code",
   "execution_count": 13,
   "id": "4f2a54f6-3118-483d-8aa6-4752986c61d0",
   "metadata": {},
   "outputs": [
    {
     "data": {
      "text/plain": [
       "\"you can use builtins' open.\""
      ]
     },
     "execution_count": 13,
     "metadata": {},
     "output_type": "execute_result"
    }
   ],
   "source": [
    "f1.read()"
   ]
  },
  {
   "cell_type": "code",
   "execution_count": 14,
   "id": "b8d18a58-2b8c-451c-a3e5-9c960aa3fa78",
   "metadata": {},
   "outputs": [
    {
     "data": {
      "text/plain": [
       "''"
      ]
     },
     "execution_count": 14,
     "metadata": {},
     "output_type": "execute_result"
    }
   ],
   "source": [
    "f1.read()"
   ]
  },
  {
   "cell_type": "code",
   "execution_count": 15,
   "id": "c2f602d3-071a-4c17-9798-4b75f27fac6b",
   "metadata": {},
   "outputs": [
    {
     "ename": "UnsupportedOperation",
     "evalue": "not writable",
     "output_type": "error",
     "traceback": [
      "\u001b[1;31m---------------------------------------------------------------------------\u001b[0m",
      "\u001b[1;31mUnsupportedOperation\u001b[0m                      Traceback (most recent call last)",
      "Cell \u001b[1;32mIn[15], line 1\u001b[0m\n\u001b[1;32m----> 1\u001b[0m f1\u001b[38;5;241m.\u001b[39mwrite(\u001b[38;5;124m\"\u001b[39m\u001b[38;5;124mFileExistsError\u001b[39m\u001b[38;5;124m\"\u001b[39m)\n",
      "\u001b[1;31mUnsupportedOperation\u001b[0m: not writable"
     ]
    }
   ],
   "source": [
    "f1.write(\"FileExistsError\")"
   ]
  },
  {
   "cell_type": "code",
   "execution_count": 16,
   "id": "e46e6871-2560-470e-a898-55afa3f19e16",
   "metadata": {},
   "outputs": [],
   "source": [
    "f1.close()"
   ]
  },
  {
   "cell_type": "code",
   "execution_count": 18,
   "id": "446eb13d-3dc2-4cc2-8e68-192fc88746e6",
   "metadata": {},
   "outputs": [],
   "source": [
    "f2 =open(\"test_1.txt\", \"r+\")"
   ]
  },
  {
   "cell_type": "code",
   "execution_count": 19,
   "id": "46ada971-6942-4355-a753-be0428537426",
   "metadata": {},
   "outputs": [
    {
     "data": {
      "text/plain": [
       "20"
      ]
     },
     "execution_count": 19,
     "metadata": {},
     "output_type": "execute_result"
    }
   ],
   "source": [
    "f2.write(\"UnsupportedOperation\")"
   ]
  },
  {
   "cell_type": "code",
   "execution_count": 21,
   "id": "d943f61b-ff2a-4e1d-b528-49a720b43950",
   "metadata": {},
   "outputs": [
    {
     "data": {
      "text/plain": [
       "''"
      ]
     },
     "execution_count": 21,
     "metadata": {},
     "output_type": "execute_result"
    }
   ],
   "source": [
    "f2.read()"
   ]
  },
  {
   "cell_type": "code",
   "execution_count": 22,
   "id": "97d74a23-e132-40fa-b9e6-eb20b29699c7",
   "metadata": {},
   "outputs": [],
   "source": [
    "f2.close()"
   ]
  },
  {
   "cell_type": "code",
   "execution_count": 24,
   "id": "cebd2ab6-f9d2-4b90-8a50-97c06219ffc4",
   "metadata": {},
   "outputs": [],
   "source": [
    "f3 =open(\"test_1.txt\", \"a\")"
   ]
  },
  {
   "cell_type": "code",
   "execution_count": 25,
   "id": "035c4e50-704b-429f-8f80-2f5cdb000871",
   "metadata": {},
   "outputs": [
    {
     "data": {
      "text/plain": [
       "20"
      ]
     },
     "execution_count": 25,
     "metadata": {},
     "output_type": "execute_result"
    }
   ],
   "source": [
    "f3.write(\"you can use builtins\")"
   ]
  },
  {
   "cell_type": "code",
   "execution_count": 26,
   "id": "a4aaef87-a4e8-49e1-b175-ec57a993b054",
   "metadata": {},
   "outputs": [],
   "source": [
    "f3.close()"
   ]
  },
  {
   "cell_type": "code",
   "execution_count": 27,
   "id": "2e7335c9-63a3-4713-ba5c-c3e0085f75b7",
   "metadata": {},
   "outputs": [],
   "source": [
    "f4 =open(\"test_1.txt\", \"a\")"
   ]
  },
  {
   "cell_type": "code",
   "execution_count": 28,
   "id": "cbba77c2-0911-4581-8665-af8da32de86f",
   "metadata": {},
   "outputs": [
    {
     "data": {
      "text/plain": [
       "34"
      ]
     },
     "execution_count": 28,
     "metadata": {},
     "output_type": "execute_result"
    }
   ],
   "source": [
    "f4.write(\"\\n as it is likely to crash IPython\")"
   ]
  },
  {
   "cell_type": "code",
   "execution_count": 29,
   "id": "e2893541-2824-42cb-81e6-c75cb4614c16",
   "metadata": {},
   "outputs": [],
   "source": [
    "f4.close()"
   ]
  },
  {
   "cell_type": "code",
   "execution_count": 30,
   "id": "8c8ec433-778c-47d1-afc9-547910489875",
   "metadata": {},
   "outputs": [],
   "source": [
    "f5 =open(\"test_1.txt\", \"a\")"
   ]
  },
  {
   "cell_type": "code",
   "execution_count": 32,
   "id": "2a0045c2-5c38-46ca-adf0-6674e18b86bd",
   "metadata": {},
   "outputs": [
    {
     "data": {
      "text/plain": [
       "20"
      ]
     },
     "execution_count": 32,
     "metadata": {},
     "output_type": "execute_result"
    }
   ],
   "source": [
    "f5.seek(20)"
   ]
  },
  {
   "cell_type": "code",
   "execution_count": 33,
   "id": "36d645ef-0c34-410d-ac97-024bbdf95e91",
   "metadata": {},
   "outputs": [
    {
     "data": {
      "text/plain": [
       "4"
      ]
     },
     "execution_count": 33,
     "metadata": {},
     "output_type": "execute_result"
    }
   ],
   "source": [
    "f5.write(\"amit\")"
   ]
  },
  {
   "cell_type": "code",
   "execution_count": 35,
   "id": "01d10542-414c-4dee-be83-553c8fabf4c4",
   "metadata": {},
   "outputs": [],
   "source": [
    "f5.close()"
   ]
  },
  {
   "cell_type": "code",
   "execution_count": 36,
   "id": "772e7173-d9af-4dd7-9808-3e160b65b292",
   "metadata": {},
   "outputs": [],
   "source": [
    "f6 =open(\"test_1.txt\", \"r+\")"
   ]
  },
  {
   "cell_type": "code",
   "execution_count": 37,
   "id": "349e7d8f-06ca-4d2b-8a6d-cb8a5c61bb2f",
   "metadata": {},
   "outputs": [
    {
     "data": {
      "text/plain": [
       "10"
      ]
     },
     "execution_count": 37,
     "metadata": {},
     "output_type": "execute_result"
    }
   ],
   "source": [
    "f6.seek(10)"
   ]
  },
  {
   "cell_type": "code",
   "execution_count": 38,
   "id": "027c9870-689f-47fa-8be2-162bf348d8e8",
   "metadata": {},
   "outputs": [
    {
     "data": {
      "text/plain": [
       "10"
      ]
     },
     "execution_count": 38,
     "metadata": {},
     "output_type": "execute_result"
    }
   ],
   "source": [
    "f6.write(\"--python--\")"
   ]
  },
  {
   "cell_type": "code",
   "execution_count": 39,
   "id": "f649a38b-d759-4d4f-9432-1c24f84dedd4",
   "metadata": {},
   "outputs": [],
   "source": [
    "f6.close()"
   ]
  },
  {
   "cell_type": "code",
   "execution_count": 40,
   "id": "aafb16ae-c112-4714-ad1e-009905507a9d",
   "metadata": {},
   "outputs": [
    {
     "data": {
      "text/plain": [
       "'r+'"
      ]
     },
     "execution_count": 40,
     "metadata": {},
     "output_type": "execute_result"
    }
   ],
   "source": [
    "f6.mode"
   ]
  },
  {
   "cell_type": "code",
   "execution_count": 41,
   "id": "392c2468-4574-4346-8703-f5b2c595811e",
   "metadata": {},
   "outputs": [],
   "source": [
    "f7 =open(\"test_1.txt\", \"r+\")"
   ]
  },
  {
   "cell_type": "code",
   "execution_count": 42,
   "id": "d6415a0d-4d19-475c-874b-75e0d13505e3",
   "metadata": {},
   "outputs": [
    {
     "data": {
      "text/plain": [
       "0"
      ]
     },
     "execution_count": 42,
     "metadata": {},
     "output_type": "execute_result"
    }
   ],
   "source": [
    "f7.tell()"
   ]
  },
  {
   "cell_type": "code",
   "execution_count": 43,
   "id": "13d3f221-46e1-4e61-9e54-3d2204f9ee20",
   "metadata": {},
   "outputs": [
    {
     "data": {
      "text/plain": [
       "8"
      ]
     },
     "execution_count": 43,
     "metadata": {},
     "output_type": "execute_result"
    }
   ],
   "source": [
    "f7.write(\" @543657\")"
   ]
  },
  {
   "cell_type": "code",
   "execution_count": 44,
   "id": "459e8070-e1b6-4fc1-8b17-86c3800af8ff",
   "metadata": {},
   "outputs": [],
   "source": [
    "f7.close()"
   ]
  },
  {
   "cell_type": "code",
   "execution_count": 50,
   "id": "4fbabb20-41e5-4f64-a268-38591bb33014",
   "metadata": {},
   "outputs": [
    {
     "name": "stdout",
     "output_type": "stream",
     "text": [
      " @543657te--python--\n"
     ]
    }
   ],
   "source": [
    "f = open(\"test_1.txt\")\n",
    "line = f.readline(20)\n",
    "#print(type(line))\n",
    "print(line)\n",
    "#f.close()"
   ]
  },
  {
   "cell_type": "code",
   "execution_count": 52,
   "id": "150b0415-c495-4cb7-8ce5-2483ffd258c7",
   "metadata": {},
   "outputs": [
    {
     "name": "stdout",
     "output_type": "stream",
     "text": [
      " @543657te--python--' open.you can use builtins\n",
      " as it is likely to crash IPythonamit\n"
     ]
    }
   ],
   "source": [
    "with open(\"test_1.txt\") as f:\n",
    "    lines = f.read()\n",
    "    print(lines)"
   ]
  },
  {
   "cell_type": "code",
   "execution_count": 53,
   "id": "91148c39-c980-45f3-a161-04afcf2647c2",
   "metadata": {},
   "outputs": [
    {
     "name": "stdout",
     "output_type": "stream",
     "text": [
      "Writing demo1.py\n"
     ]
    }
   ],
   "source": [
    "%%writefile demo1.py  \n",
    "my name is amit "
   ]
  },
  {
   "cell_type": "code",
   "execution_count": 54,
   "id": "bdd8b6c4-b230-4c34-bbf8-b813f476ea07",
   "metadata": {},
   "outputs": [
    {
     "name": "stdout",
     "output_type": "stream",
     "text": [
      "Writing demo2.sql\n"
     ]
    }
   ],
   "source": [
    "%%writefile demo2.sql  \n",
    "my name is amit "
   ]
  },
  {
   "cell_type": "code",
   "execution_count": 56,
   "id": "41d26dae-1688-4a2a-a970-bab050d0a4f2",
   "metadata": {},
   "outputs": [
    {
     "name": "stdout",
     "output_type": "stream",
     "text": [
      "Writing id_pass1.text\n"
     ]
    }
   ],
   "source": [
    "%%writefile id_pass1.text\n",
    "id , 123123\n",
    "passw, 123@123 "
   ]
  },
  {
   "cell_type": "code",
   "execution_count": 57,
   "id": "c64418c6-a623-4e12-b375-e0c4180146a8",
   "metadata": {},
   "outputs": [],
   "source": [
    "import os "
   ]
  },
  {
   "cell_type": "code",
   "execution_count": 58,
   "id": "25f1fe5c-4ec3-43b4-a3c3-2d595dc5ca3b",
   "metadata": {},
   "outputs": [
    {
     "data": {
      "text/plain": [
       "'C:\\\\Users\\\\amitm\\\\Class\\\\7_30 DS 2024'"
      ]
     },
     "execution_count": 58,
     "metadata": {},
     "output_type": "execute_result"
    }
   ],
   "source": [
    "os.getcwd()"
   ]
  },
  {
   "cell_type": "code",
   "execution_count": 59,
   "id": "5211ddf7-5c9c-4fe8-9ac3-d999ef2a10ea",
   "metadata": {},
   "outputs": [
    {
     "data": {
      "text/plain": [
       "['.ipynb_checkpoints',\n",
       " '5. String.ipynb',\n",
       " '6. String.ipynb',\n",
       " 'Condition-2.ipynb',\n",
       " 'Condition.ipynb',\n",
       " 'Day-1.ipynb',\n",
       " 'Day-2.ipynb',\n",
       " 'Day-3.ipynb',\n",
       " 'Day-4.ipynb',\n",
       " 'demo1.py',\n",
       " 'demo2.sql',\n",
       " 'Dictionary.ipynb',\n",
       " 'Exception_Handling.ipynb',\n",
       " 'File_Handling.ipynb',\n",
       " 'id_pass.pdf',\n",
       " 'id_pass1.text',\n",
       " 'List.ipynb',\n",
       " 'Loop Practice.ipynb',\n",
       " 'Loop.ipynb',\n",
       " 'test_1.txt',\n",
       " 'Tuple and Set.ipynb',\n",
       " 'While_Loop.ipynb']"
      ]
     },
     "execution_count": 59,
     "metadata": {},
     "output_type": "execute_result"
    }
   ],
   "source": [
    "os.listdir()"
   ]
  },
  {
   "cell_type": "code",
   "execution_count": 60,
   "id": "a7861366-4509-40c9-bc8c-43031592c2d8",
   "metadata": {},
   "outputs": [],
   "source": [
    "os.chdir(\"C:\\\\Users\\\\amitm\\\\Downloads\")"
   ]
  },
  {
   "cell_type": "code",
   "execution_count": 61,
   "id": "bef2df75-4e55-46f5-9cd5-419bc592ac20",
   "metadata": {},
   "outputs": [
    {
     "data": {
      "text/plain": [
       "'C:\\\\Users\\\\amitm\\\\Downloads'"
      ]
     },
     "execution_count": 61,
     "metadata": {},
     "output_type": "execute_result"
    }
   ],
   "source": [
    "os.getcwd()"
   ]
  },
  {
   "cell_type": "code",
   "execution_count": 62,
   "id": "f5810713-ce2c-4854-b21b-7f15e967f232",
   "metadata": {},
   "outputs": [
    {
     "data": {
      "text/plain": [
       "['#wallpaper.jpg',\n",
       " '20. Day-20.ipynb',\n",
       " '5. Bulk_load.sql',\n",
       " 'amit resume.pdf',\n",
       " 'AnyDesk.exe',\n",
       " 'Business_Database.xlsx',\n",
       " 'Data Analyst_JD.pdf',\n",
       " 'desktop.ini',\n",
       " 'DevOps Mastery Course.pptx',\n",
       " 'devops-demo.pptx',\n",
       " 'download.jpg',\n",
       " 'id_pass.pdf',\n",
       " 'Index class to be cont..sql',\n",
       " 'invite.ics',\n",
       " 'Portfolio-Website',\n",
       " 'Power BI Formulas.pdf',\n",
       " 'Power BI QnA.pdf',\n",
       " 'questions.txt',\n",
       " 'README.md',\n",
       " 'Resume Ngenux Solutions.pdf',\n",
       " 'sales_data_final.csv',\n",
       " 'SAP.docx',\n",
       " 'ZentraTech Developer Test 2024.docx']"
      ]
     },
     "execution_count": 62,
     "metadata": {},
     "output_type": "execute_result"
    }
   ],
   "source": [
    "os.listdir()"
   ]
  },
  {
   "cell_type": "code",
   "execution_count": 63,
   "id": "1729d8b9-5790-4a2c-b29e-86e2a82db00c",
   "metadata": {},
   "outputs": [
    {
     "ename": "FileNotFoundError",
     "evalue": "[Errno 2] No such file or directory: 'test_11.txt'",
     "output_type": "error",
     "traceback": [
      "\u001b[1;31m---------------------------------------------------------------------------\u001b[0m",
      "\u001b[1;31mFileNotFoundError\u001b[0m                         Traceback (most recent call last)",
      "Cell \u001b[1;32mIn[63], line 1\u001b[0m\n\u001b[1;32m----> 1\u001b[0m \u001b[38;5;28;01mwith\u001b[39;00m \u001b[38;5;28mopen\u001b[39m(\u001b[38;5;124m\"\u001b[39m\u001b[38;5;124mtest_11.txt\u001b[39m\u001b[38;5;124m\"\u001b[39m) \u001b[38;5;28;01mas\u001b[39;00m f:\n\u001b[0;32m      2\u001b[0m     lines \u001b[38;5;241m=\u001b[39m f\u001b[38;5;241m.\u001b[39mread()\n",
      "File \u001b[1;32m~\\anaconda3\\Lib\\site-packages\\IPython\\core\\interactiveshell.py:310\u001b[0m, in \u001b[0;36m_modified_open\u001b[1;34m(file, *args, **kwargs)\u001b[0m\n\u001b[0;32m    303\u001b[0m \u001b[38;5;28;01mif\u001b[39;00m file \u001b[38;5;129;01min\u001b[39;00m {\u001b[38;5;241m0\u001b[39m, \u001b[38;5;241m1\u001b[39m, \u001b[38;5;241m2\u001b[39m}:\n\u001b[0;32m    304\u001b[0m     \u001b[38;5;28;01mraise\u001b[39;00m \u001b[38;5;167;01mValueError\u001b[39;00m(\n\u001b[0;32m    305\u001b[0m         \u001b[38;5;124mf\u001b[39m\u001b[38;5;124m\"\u001b[39m\u001b[38;5;124mIPython won\u001b[39m\u001b[38;5;124m'\u001b[39m\u001b[38;5;124mt let you open fd=\u001b[39m\u001b[38;5;132;01m{\u001b[39;00mfile\u001b[38;5;132;01m}\u001b[39;00m\u001b[38;5;124m by default \u001b[39m\u001b[38;5;124m\"\u001b[39m\n\u001b[0;32m    306\u001b[0m         \u001b[38;5;124m\"\u001b[39m\u001b[38;5;124mas it is likely to crash IPython. If you know what you are doing, \u001b[39m\u001b[38;5;124m\"\u001b[39m\n\u001b[0;32m    307\u001b[0m         \u001b[38;5;124m\"\u001b[39m\u001b[38;5;124myou can use builtins\u001b[39m\u001b[38;5;124m'\u001b[39m\u001b[38;5;124m open.\u001b[39m\u001b[38;5;124m\"\u001b[39m\n\u001b[0;32m    308\u001b[0m     )\n\u001b[1;32m--> 310\u001b[0m \u001b[38;5;28;01mreturn\u001b[39;00m io_open(file, \u001b[38;5;241m*\u001b[39margs, \u001b[38;5;241m*\u001b[39m\u001b[38;5;241m*\u001b[39mkwargs)\n",
      "\u001b[1;31mFileNotFoundError\u001b[0m: [Errno 2] No such file or directory: 'test_11.txt'"
     ]
    }
   ],
   "source": [
    "with open(\"test_11.txt\") as f:\n",
    "    lines = f.read()"
   ]
  },
  {
   "cell_type": "code",
   "execution_count": 64,
   "id": "2d377fdb-4c1a-4a2e-88a0-e83573bc36bc",
   "metadata": {},
   "outputs": [],
   "source": [
    "with open(\"test_11.txt\", \"w\") as f:\n",
    "    f.write(\"something\")\n",
    "    f.close()"
   ]
  },
  {
   "cell_type": "code",
   "execution_count": 65,
   "id": "42d3dcf1-ea63-4f58-ac7c-34a69551bee6",
   "metadata": {},
   "outputs": [
    {
     "data": {
      "text/plain": [
       "['#wallpaper.jpg',\n",
       " '20. Day-20.ipynb',\n",
       " '5. Bulk_load.sql',\n",
       " 'amit resume.pdf',\n",
       " 'AnyDesk.exe',\n",
       " 'Business_Database.xlsx',\n",
       " 'Data Analyst_JD.pdf',\n",
       " 'desktop.ini',\n",
       " 'DevOps Mastery Course.pptx',\n",
       " 'devops-demo.pptx',\n",
       " 'download.jpg',\n",
       " 'id_pass.pdf',\n",
       " 'Index class to be cont..sql',\n",
       " 'invite.ics',\n",
       " 'Portfolio-Website',\n",
       " 'Power BI Formulas.pdf',\n",
       " 'Power BI QnA.pdf',\n",
       " 'questions.txt',\n",
       " 'README.md',\n",
       " 'Resume Ngenux Solutions.pdf',\n",
       " 'sales_data_final.csv',\n",
       " 'SAP.docx',\n",
       " 'test_11.txt',\n",
       " 'ZentraTech Developer Test 2024.docx']"
      ]
     },
     "execution_count": 65,
     "metadata": {},
     "output_type": "execute_result"
    }
   ],
   "source": [
    "os.listdir()"
   ]
  },
  {
   "cell_type": "code",
   "execution_count": 66,
   "id": "551e514b-c52e-4d18-aece-a71816c7b18d",
   "metadata": {},
   "outputs": [],
   "source": [
    "os.mkdir(\"new_dir\")"
   ]
  },
  {
   "cell_type": "code",
   "execution_count": 67,
   "id": "2b7aa2a7-b0e7-4126-a13d-01df952c1382",
   "metadata": {},
   "outputs": [],
   "source": [
    "os.chdir(\"C:\\\\Users\\\\amitm\\\\Downloads\\\\new_dir\")"
   ]
  },
  {
   "cell_type": "code",
   "execution_count": 68,
   "id": "32bb3e90-7411-4eaa-8af0-f16dcab7514a",
   "metadata": {},
   "outputs": [
    {
     "data": {
      "text/plain": [
       "[]"
      ]
     },
     "execution_count": 68,
     "metadata": {},
     "output_type": "execute_result"
    }
   ],
   "source": [
    "os.listdir()"
   ]
  },
  {
   "cell_type": "code",
   "execution_count": 69,
   "id": "0cbb2b2e-aa8a-4753-a97e-a326a3ee00b2",
   "metadata": {},
   "outputs": [],
   "source": [
    "with open(\"new.txt\", \"w\") as f1:\n",
    "    f1.write(\"hello\")\n",
    "    f.close()"
   ]
  },
  {
   "cell_type": "code",
   "execution_count": 70,
   "id": "4db54e44-2b07-476f-bdb2-b7a49a9469c5",
   "metadata": {},
   "outputs": [
    {
     "data": {
      "text/plain": [
       "['new.txt']"
      ]
     },
     "execution_count": 70,
     "metadata": {},
     "output_type": "execute_result"
    }
   ],
   "source": [
    "os.listdir()"
   ]
  },
  {
   "cell_type": "code",
   "execution_count": 71,
   "id": "746becc1-9a67-45ca-8b79-62938d7f73d6",
   "metadata": {},
   "outputs": [],
   "source": [
    "os.remove('new.txt')"
   ]
  },
  {
   "cell_type": "code",
   "execution_count": 72,
   "id": "a367f05f-fe01-4616-a3f0-2d28ea645be3",
   "metadata": {},
   "outputs": [
    {
     "data": {
      "text/plain": [
       "[]"
      ]
     },
     "execution_count": 72,
     "metadata": {},
     "output_type": "execute_result"
    }
   ],
   "source": [
    "os.listdir()"
   ]
  },
  {
   "cell_type": "code",
   "execution_count": 73,
   "id": "791dee00-bf6d-4780-a81c-58115f2cca0b",
   "metadata": {},
   "outputs": [],
   "source": [
    "os.chdir(\"C:\\\\Users\\\\amitm\\\\Downloads\")"
   ]
  },
  {
   "cell_type": "code",
   "execution_count": 75,
   "id": "fcbe59e1-d6d5-4d1a-b3da-1f1495890785",
   "metadata": {},
   "outputs": [
    {
     "data": {
      "text/plain": [
       "['#wallpaper.jpg',\n",
       " '20. Day-20.ipynb',\n",
       " '5. Bulk_load.sql',\n",
       " 'amit resume.pdf',\n",
       " 'AnyDesk.exe',\n",
       " 'Business_Database.xlsx',\n",
       " 'Data Analyst_JD.pdf',\n",
       " 'desktop.ini',\n",
       " 'DevOps Mastery Course.pptx',\n",
       " 'devops-demo.pptx',\n",
       " 'download.jpg',\n",
       " 'id_pass.pdf',\n",
       " 'Index class to be cont..sql',\n",
       " 'invite.ics',\n",
       " 'new_dir',\n",
       " 'Portfolio-Website',\n",
       " 'Power BI Formulas.pdf',\n",
       " 'Power BI QnA.pdf',\n",
       " 'questions.txt',\n",
       " 'README.md',\n",
       " 'Resume Ngenux Solutions.pdf',\n",
       " 'sales_data_final.csv',\n",
       " 'SAP.docx',\n",
       " 'test_11.txt',\n",
       " 'ZentraTech Developer Test 2024.docx']"
      ]
     },
     "execution_count": 75,
     "metadata": {},
     "output_type": "execute_result"
    }
   ],
   "source": [
    "os.listdir()"
   ]
  },
  {
   "cell_type": "code",
   "execution_count": 76,
   "id": "121fb2f1-76e9-4230-8509-5e5e780a7070",
   "metadata": {},
   "outputs": [],
   "source": [
    "os.rmdir('new_dir')"
   ]
  },
  {
   "cell_type": "code",
   "execution_count": 77,
   "id": "21f708a4-bcdd-4afa-a91f-fb684ba09c9c",
   "metadata": {},
   "outputs": [
    {
     "data": {
      "text/plain": [
       "['#wallpaper.jpg',\n",
       " '20. Day-20.ipynb',\n",
       " '5. Bulk_load.sql',\n",
       " 'amit resume.pdf',\n",
       " 'AnyDesk.exe',\n",
       " 'Business_Database.xlsx',\n",
       " 'Data Analyst_JD.pdf',\n",
       " 'desktop.ini',\n",
       " 'DevOps Mastery Course.pptx',\n",
       " 'devops-demo.pptx',\n",
       " 'download.jpg',\n",
       " 'id_pass.pdf',\n",
       " 'Index class to be cont..sql',\n",
       " 'invite.ics',\n",
       " 'Portfolio-Website',\n",
       " 'Power BI Formulas.pdf',\n",
       " 'Power BI QnA.pdf',\n",
       " 'questions.txt',\n",
       " 'README.md',\n",
       " 'Resume Ngenux Solutions.pdf',\n",
       " 'sales_data_final.csv',\n",
       " 'SAP.docx',\n",
       " 'test_11.txt',\n",
       " 'ZentraTech Developer Test 2024.docx']"
      ]
     },
     "execution_count": 77,
     "metadata": {},
     "output_type": "execute_result"
    }
   ],
   "source": [
    "os.listdir()"
   ]
  },
  {
   "cell_type": "code",
   "execution_count": 78,
   "id": "52b339b8-44c7-48d0-8722-db7c2b3fa8f8",
   "metadata": {},
   "outputs": [],
   "source": [
    "os.chdir('C:\\\\Users\\\\amitm\\\\Class\\\\7_30 DS 2024')"
   ]
  },
  {
   "cell_type": "code",
   "execution_count": 79,
   "id": "1082bdc8-2c1b-40b2-bb2e-af6844618453",
   "metadata": {},
   "outputs": [
    {
     "data": {
      "text/plain": [
       "['.ipynb_checkpoints',\n",
       " '5. String.ipynb',\n",
       " '6. String.ipynb',\n",
       " 'Condition-2.ipynb',\n",
       " 'Condition.ipynb',\n",
       " 'Day-1.ipynb',\n",
       " 'Day-2.ipynb',\n",
       " 'Day-3.ipynb',\n",
       " 'Day-4.ipynb',\n",
       " 'demo1.py',\n",
       " 'demo2.sql',\n",
       " 'Dictionary.ipynb',\n",
       " 'Exception_Handling.ipynb',\n",
       " 'File_Handling.ipynb',\n",
       " 'id_pass.pdf',\n",
       " 'id_pass1.text',\n",
       " 'List.ipynb',\n",
       " 'Loop Practice.ipynb',\n",
       " 'Loop.ipynb',\n",
       " 'test_1.txt',\n",
       " 'Tuple and Set.ipynb',\n",
       " 'While_Loop.ipynb']"
      ]
     },
     "execution_count": 79,
     "metadata": {},
     "output_type": "execute_result"
    }
   ],
   "source": [
    "os.listdir()"
   ]
  },
  {
   "cell_type": "code",
   "execution_count": 80,
   "id": "c49ddda4-57a8-4b48-9e46-a6071d29373a",
   "metadata": {},
   "outputs": [],
   "source": [
    "for i in range(3):\n",
    "    with open(\"file1.txt\", \"w\") as f:\n",
    "        f.close()\n",
    "        os.listdir()\n",
    "        for j in os.listdir():\n",
    "            if j == \"file1.txt\":\n",
    "                j+=\"1\"\n"
   ]
  },
  {
   "cell_type": "code",
   "execution_count": 84,
   "id": "362d5724-a186-4271-9fa6-d63549d0f16c",
   "metadata": {},
   "outputs": [
    {
     "name": "stdout",
     "output_type": "stream",
     "text": [
      "While_Loop.ipynb\n",
      "While_Loop.ipynb\n",
      "While_Loop.ipynb\n",
      "While_Loop.ipynb\n",
      "While_Loop.ipynb\n",
      "While_Loop.ipynb\n",
      "While_Loop.ipynb\n",
      "While_Loop.ipynb\n",
      "While_Loop.ipynb\n",
      "While_Loop.ipynb\n",
      "While_Loop.ipynb\n",
      "While_Loop.ipynb\n",
      "While_Loop.ipynb\n",
      "While_Loop.ipynb\n",
      "While_Loop.ipynb\n",
      "While_Loop.ipynb\n",
      "While_Loop.ipynb\n",
      "While_Loop.ipynb\n",
      "While_Loop.ipynb\n",
      "While_Loop.ipynb\n",
      "While_Loop.ipynb\n",
      "While_Loop.ipynb\n",
      "While_Loop.ipynb\n"
     ]
    }
   ],
   "source": [
    " for i in os.listdir():\n",
    "      if j == \"file1.txt\":\n",
    "          j+=\"1\"\n",
    "      print(j)    \n",
    "          \n",
    "    "
   ]
  },
  {
   "cell_type": "code",
   "execution_count": 85,
   "id": "60b15634-34f5-40e4-9f88-97b0af015960",
   "metadata": {},
   "outputs": [
    {
     "name": "stdout",
     "output_type": "stream",
     "text": [
      "Files in directory after creation: ['.ipynb_checkpoints', '5. String.ipynb', '6. String.ipynb', 'Condition-2.ipynb', 'Condition.ipynb', 'Day-1.ipynb', 'Day-2.ipynb', 'Day-3.ipynb', 'Day-4.ipynb', 'demo1.py', 'demo2.sql', 'Dictionary.ipynb', 'Exception_Handling.ipynb', 'file1.txt', 'file1_0.txt', 'File_Handling.ipynb', 'id_pass.pdf', 'id_pass1.text', 'List.ipynb', 'Loop Practice.ipynb', 'Loop.ipynb', 'test_1.txt', 'Tuple and Set.ipynb', 'While_Loop.ipynb']\n",
      "Files in directory after creation: ['.ipynb_checkpoints', '5. String.ipynb', '6. String.ipynb', 'Condition-2.ipynb', 'Condition.ipynb', 'Day-1.ipynb', 'Day-2.ipynb', 'Day-3.ipynb', 'Day-4.ipynb', 'demo1.py', 'demo2.sql', 'Dictionary.ipynb', 'Exception_Handling.ipynb', 'file1.txt', 'file1_0.txt', 'file1_1.txt', 'File_Handling.ipynb', 'id_pass.pdf', 'id_pass1.text', 'List.ipynb', 'Loop Practice.ipynb', 'Loop.ipynb', 'test_1.txt', 'Tuple and Set.ipynb', 'While_Loop.ipynb']\n",
      "Files in directory after creation: ['.ipynb_checkpoints', '5. String.ipynb', '6. String.ipynb', 'Condition-2.ipynb', 'Condition.ipynb', 'Day-1.ipynb', 'Day-2.ipynb', 'Day-3.ipynb', 'Day-4.ipynb', 'demo1.py', 'demo2.sql', 'Dictionary.ipynb', 'Exception_Handling.ipynb', 'file1.txt', 'file1_0.txt', 'file1_1.txt', 'file1_2.txt', 'File_Handling.ipynb', 'id_pass.pdf', 'id_pass1.text', 'List.ipynb', 'Loop Practice.ipynb', 'Loop.ipynb', 'test_1.txt', 'Tuple and Set.ipynb', 'While_Loop.ipynb']\n"
     ]
    }
   ],
   "source": [
    "import os\n",
    "\n",
    "# Directory where the files will be created\n",
    "directory = \".\"\n",
    "\n",
    "# Loop to create new files with unique names\n",
    "for i in range(3):\n",
    "    # Generate a unique filename\n",
    "    filename = f\"file1_{i}.txt\"\n",
    "    \n",
    "    # Create and close the file\n",
    "    with open(filename, \"w\") as f:\n",
    "        # The file is created and closed here; nothing else needs to be done\n",
    "        pass\n",
    "\n",
    "    # List files in the directory to verify (optional)\n",
    "    files = os.listdir(directory)\n",
    "    print(\"Files in directory after creation:\", files)\n"
   ]
  },
  {
   "cell_type": "code",
   "execution_count": null,
   "id": "93d1d79e-8365-418e-b11d-28de90bf56fd",
   "metadata": {},
   "outputs": [],
   "source": []
  }
 ],
 "metadata": {
  "kernelspec": {
   "display_name": "Python 3 (ipykernel)",
   "language": "python",
   "name": "python3"
  },
  "language_info": {
   "codemirror_mode": {
    "name": "ipython",
    "version": 3
   },
   "file_extension": ".py",
   "mimetype": "text/x-python",
   "name": "python",
   "nbconvert_exporter": "python",
   "pygments_lexer": "ipython3",
   "version": "3.11.7"
  }
 },
 "nbformat": 4,
 "nbformat_minor": 5
}
