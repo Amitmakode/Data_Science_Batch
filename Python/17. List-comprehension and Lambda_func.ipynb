{
 "cells": [
  {
   "cell_type": "code",
   "execution_count": 1,
   "id": "fe0702d4-950c-4b9b-aef3-318944c41c06",
   "metadata": {},
   "outputs": [],
   "source": [
    "lis = [4,6,8,3,6,4]"
   ]
  },
  {
   "cell_type": "code",
   "execution_count": 2,
   "id": "6c8cfbaf-1194-4ed6-8450-d5c4b559b043",
   "metadata": {},
   "outputs": [],
   "source": [
    "strr = \"python\""
   ]
  },
  {
   "cell_type": "code",
   "execution_count": 3,
   "id": "e4799156-b0a0-4836-a519-998d941a62ca",
   "metadata": {},
   "outputs": [
    {
     "data": {
      "text/plain": [
       "['p', 'y', 't', 'h', 'o', 'n']"
      ]
     },
     "execution_count": 3,
     "metadata": {},
     "output_type": "execute_result"
    }
   ],
   "source": [
    "[i for i in strr]"
   ]
  },
  {
   "cell_type": "code",
   "execution_count": 6,
   "id": "6fd37fad-f4c2-4fcf-bc47-50958ad5aa5a",
   "metadata": {},
   "outputs": [],
   "source": [
    "var = (i for i in strr)"
   ]
  },
  {
   "cell_type": "code",
   "execution_count": 8,
   "id": "e8eb39f6-8941-4f1b-9c50-dc3e5c21a8a3",
   "metadata": {},
   "outputs": [
    {
     "data": {
      "text/plain": [
       "['p', 'y', 't', 'h', 'o', 'n']"
      ]
     },
     "execution_count": 8,
     "metadata": {},
     "output_type": "execute_result"
    }
   ],
   "source": [
    "list(var)"
   ]
  },
  {
   "cell_type": "code",
   "execution_count": 9,
   "id": "83ad5efd-cfab-4f59-b2f9-d116e13bced6",
   "metadata": {},
   "outputs": [
    {
     "data": {
      "text/plain": [
       "[16, 36, 64, 9, 36, 16]"
      ]
     },
     "execution_count": 9,
     "metadata": {},
     "output_type": "execute_result"
    }
   ],
   "source": [
    "[i**2 for i in lis]"
   ]
  },
  {
   "cell_type": "code",
   "execution_count": 10,
   "id": "d2652faa-42a6-4153-a551-29e89dc513f6",
   "metadata": {},
   "outputs": [
    {
     "data": {
      "text/plain": [
       "[{4, int}, {6, int}, {8, int}, {3, int}, {6, int}, {4, int}]"
      ]
     },
     "execution_count": 10,
     "metadata": {},
     "output_type": "execute_result"
    }
   ],
   "source": [
    "[{type(i), i} for i in lis]"
   ]
  },
  {
   "cell_type": "code",
   "execution_count": 11,
   "id": "ac8fadb0-2c0e-43e8-ae1f-7f8d023cdeeb",
   "metadata": {},
   "outputs": [
    {
     "data": {
      "text/plain": [
       "[0, 2, 4, 6, 8, 10]"
      ]
     },
     "execution_count": 11,
     "metadata": {},
     "output_type": "execute_result"
    }
   ],
   "source": [
    "[i for i in range(11) if i % 2 == 0]"
   ]
  },
  {
   "cell_type": "code",
   "execution_count": 12,
   "id": "26ec81b2-c71e-47bb-9417-9023bc036dec",
   "metadata": {},
   "outputs": [
    {
     "data": {
      "text/plain": [
       "['Even number',\n",
       " 'Odd number',\n",
       " 'Even number',\n",
       " 'Odd number',\n",
       " 'Even number',\n",
       " 'Odd number',\n",
       " 'Even number',\n",
       " 'Odd number']"
      ]
     },
     "execution_count": 12,
     "metadata": {},
     "output_type": "execute_result"
    }
   ],
   "source": [
    "[\"Even number\" if i % 2 == 0 else \"Odd number\" for i in range(8)]"
   ]
  },
  {
   "cell_type": "code",
   "execution_count": 13,
   "id": "94c61873-83db-45f0-bec4-57bed9516fe3",
   "metadata": {},
   "outputs": [
    {
     "data": {
      "text/plain": [
       "[0, 15, 30, 45, 60, 75, 90]"
      ]
     },
     "execution_count": 13,
     "metadata": {},
     "output_type": "execute_result"
    }
   ],
   "source": [
    "[i for i in range(100)  if i % 5 == 0 if i % 3 == 0]"
   ]
  },
  {
   "cell_type": "code",
   "execution_count": 16,
   "id": "42623db1-a49e-4016-b014-81dbcd1b0927",
   "metadata": {},
   "outputs": [
    {
     "data": {
      "text/plain": [
       "[[0, 1, 2, 3, 4],\n",
       " [0, 1, 2, 3, 4],\n",
       " [0, 1, 2, 3, 4],\n",
       " [0, 1, 2, 3, 4],\n",
       " [0, 1, 2, 3, 4],\n",
       " [0, 1, 2, 3, 4]]"
      ]
     },
     "execution_count": 16,
     "metadata": {},
     "output_type": "execute_result"
    }
   ],
   "source": [
    "[[i for i in range(5) ]for _ in range(6)]"
   ]
  },
  {
   "cell_type": "code",
   "execution_count": 21,
   "id": "b8db282b-a056-49ef-bbed-a98e3f8e4cc4",
   "metadata": {},
   "outputs": [
    {
     "ename": "SyntaxError",
     "evalue": "invalid syntax (680837244.py, line 2)",
     "output_type": "error",
     "traceback": [
      "\u001b[1;36m  Cell \u001b[1;32mIn[21], line 2\u001b[1;36m\u001b[0m\n\u001b[1;33m    [ i while n < 5 i= i+1]\u001b[0m\n\u001b[1;37m        ^\u001b[0m\n\u001b[1;31mSyntaxError\u001b[0m\u001b[1;31m:\u001b[0m invalid syntax\n"
     ]
    }
   ],
   "source": [
    "n = 0\n",
    "[ i while n < 5 i= i+1]"
   ]
  },
  {
   "cell_type": "markdown",
   "id": "d2ebfd9b-a084-4a68-86af-6c2d070bfcae",
   "metadata": {},
   "source": [
    "## Lambda"
   ]
  },
  {
   "cell_type": "code",
   "execution_count": 23,
   "id": "38e2442d-d1ee-460c-98c0-5df918308c09",
   "metadata": {},
   "outputs": [],
   "source": [
    "var = lambda a , b : a + b "
   ]
  },
  {
   "cell_type": "code",
   "execution_count": 24,
   "id": "3c93e43c-ed90-4600-a3d9-e28fd2cb04c0",
   "metadata": {},
   "outputs": [
    {
     "data": {
      "text/plain": [
       "9"
      ]
     },
     "execution_count": 24,
     "metadata": {},
     "output_type": "execute_result"
    }
   ],
   "source": [
    "var(2,7)"
   ]
  },
  {
   "cell_type": "code",
   "execution_count": 26,
   "id": "72560e08-bcc4-45fe-8a6d-db463a317f33",
   "metadata": {},
   "outputs": [],
   "source": [
    "squre_fun = lambda a : a**2"
   ]
  },
  {
   "cell_type": "code",
   "execution_count": 28,
   "id": "941e24fb-6c8b-42ee-8831-19c2d8b439f2",
   "metadata": {},
   "outputs": [
    {
     "data": {
      "text/plain": [
       "2500"
      ]
     },
     "execution_count": 28,
     "metadata": {},
     "output_type": "execute_result"
    }
   ],
   "source": [
    "squre_fun(50)"
   ]
  },
  {
   "cell_type": "code",
   "execution_count": 33,
   "id": "b44b12be-860d-40f0-a9cb-acf86625c324",
   "metadata": {},
   "outputs": [],
   "source": [
    "var2 = lambda *a : a"
   ]
  },
  {
   "cell_type": "code",
   "execution_count": 34,
   "id": "1e85e5b7-78ef-470f-ae5c-91ff2585ff90",
   "metadata": {},
   "outputs": [
    {
     "data": {
      "text/plain": [
       "(4,)"
      ]
     },
     "execution_count": 34,
     "metadata": {},
     "output_type": "execute_result"
    }
   ],
   "source": [
    "var2(4)"
   ]
  },
  {
   "cell_type": "code",
   "execution_count": 36,
   "id": "bad2368c-70cf-4862-8ce5-d10c4b5a0267",
   "metadata": {},
   "outputs": [],
   "source": [
    "var4 = lambda a : 3.14*(a**2)"
   ]
  },
  {
   "cell_type": "code",
   "execution_count": 37,
   "id": "76480602-03d8-4b78-81c4-2f912d65e26f",
   "metadata": {},
   "outputs": [
    {
     "data": {
      "text/plain": [
       "452.16"
      ]
     },
     "execution_count": 37,
     "metadata": {},
     "output_type": "execute_result"
    }
   ],
   "source": [
    "var4(12)"
   ]
  },
  {
   "cell_type": "code",
   "execution_count": 38,
   "id": "c5711d06-ef2a-40de-84fe-97a643ebca5c",
   "metadata": {},
   "outputs": [],
   "source": [
    "str1 = 'python is a data science language'\n",
    "\n",
    "upper = lambda string_var: string_var.upper()"
   ]
  },
  {
   "cell_type": "code",
   "execution_count": 39,
   "id": "95dc255e-7fd0-4df5-9497-fd04332d2564",
   "metadata": {},
   "outputs": [
    {
     "data": {
      "text/plain": [
       "'PYTHON IS A DATA SCIENCE LANGUAGE'"
      ]
     },
     "execution_count": 39,
     "metadata": {},
     "output_type": "execute_result"
    }
   ],
   "source": [
    "upper(str1)"
   ]
  },
  {
   "cell_type": "code",
   "execution_count": 40,
   "id": "0ce01759-8640-455e-9d0b-9ffc236d4608",
   "metadata": {},
   "outputs": [],
   "source": [
    "List = [[2,3,4],[1, 4, 16, 64],[3, 6, 9, 12]]\n",
    "\n",
    "sortList = lambda x: (sorted(i) for i in x)"
   ]
  },
  {
   "cell_type": "code",
   "execution_count": 41,
   "id": "96483869-6e3d-4667-bb91-23ce676ec88a",
   "metadata": {},
   "outputs": [
    {
     "data": {
      "text/plain": [
       "<generator object <lambda>.<locals>.<genexpr> at 0x0000018151D2D460>"
      ]
     },
     "execution_count": 41,
     "metadata": {},
     "output_type": "execute_result"
    }
   ],
   "source": [
    "sortList(List)"
   ]
  },
  {
   "cell_type": "code",
   "execution_count": 42,
   "id": "bd8f478f-7e44-4be4-9d4d-b604e781dc8b",
   "metadata": {},
   "outputs": [],
   "source": [
    "List = [[20,3,4],[1, 4, 66, 64],[30, 66, 9, 12]]\n",
    "\n",
    "sortList = lambda x: [sorted(i) for i in x]"
   ]
  },
  {
   "cell_type": "code",
   "execution_count": 43,
   "id": "5bd4d946-1f89-4610-b53a-c07c54b1b904",
   "metadata": {},
   "outputs": [
    {
     "data": {
      "text/plain": [
       "[[3, 4, 20], [1, 4, 64, 66], [9, 12, 30, 66]]"
      ]
     },
     "execution_count": 43,
     "metadata": {},
     "output_type": "execute_result"
    }
   ],
   "source": [
    "sortList(List)"
   ]
  },
  {
   "cell_type": "code",
   "execution_count": 44,
   "id": "ab7a97ce-ff71-45e5-8751-6968f18d17c1",
   "metadata": {},
   "outputs": [],
   "source": [
    "Max = lambda a, b : a if(a > b) else b"
   ]
  },
  {
   "cell_type": "code",
   "execution_count": 45,
   "id": "a4baf026-1aa9-40c3-a589-f7d32dff4cc3",
   "metadata": {},
   "outputs": [
    {
     "data": {
      "text/plain": [
       "33"
      ]
     },
     "execution_count": 45,
     "metadata": {},
     "output_type": "execute_result"
    }
   ],
   "source": [
    "Max(33, 22)"
   ]
  },
  {
   "cell_type": "code",
   "execution_count": 46,
   "id": "6d5cc5d3-d763-4608-932c-02d142cfcb37",
   "metadata": {},
   "outputs": [
    {
     "data": {
      "text/plain": [
       "22"
      ]
     },
     "execution_count": 46,
     "metadata": {},
     "output_type": "execute_result"
    }
   ],
   "source": [
    "Max(21, 22)"
   ]
  },
  {
   "cell_type": "markdown",
   "id": "7b33f640-e11a-4070-9f1c-f82adcc7b0ad",
   "metadata": {},
   "source": [
    "## Logging"
   ]
  },
  {
   "cell_type": "code",
   "execution_count": 48,
   "id": "30f6a753-c6b5-4e2a-ab26-d0f369c3c68f",
   "metadata": {},
   "outputs": [],
   "source": [
    "import logging "
   ]
  },
  {
   "cell_type": "code",
   "execution_count": null,
   "id": "2355da26-2c6d-4733-8210-230ce03f3af0",
   "metadata": {},
   "outputs": [],
   "source": [
    "logging.DEBUG\n",
    "logging.info\n",
    "logging.warning\n",
    "logging.error\n",
    "logging.critical"
   ]
  },
  {
   "cell_type": "code",
   "execution_count": null,
   "id": "e4ad62ef-f9f6-4d01-835c-250ece8c5b3a",
   "metadata": {},
   "outputs": [],
   "source": [
    "DEBUG = 10\n",
    "Info = 20\n",
    "Warniing = 30\n",
    "Error = 40\n",
    "Critical = 50"
   ]
  },
  {
   "cell_type": "code",
   "execution_count": 49,
   "id": "7d847c14-8029-42b9-b0c2-5aca4bf9a17d",
   "metadata": {},
   "outputs": [],
   "source": [
    "logging.basicConfig(filename=\"logfile.log\", level=logging.DEBUG, format=\"%(asctime)s %(levelname)s %(message)s\")"
   ]
  },
  {
   "cell_type": "code",
   "execution_count": 53,
   "id": "f7972e30-484c-449a-bed3-199d0ee621ca",
   "metadata": {},
   "outputs": [],
   "source": [
    "l = [[1, 2, 3, 4], (2, 3, 4, 5, 6), (3, 4, 5, 6, 7), [23, 4, 5, 45, 4, 5]]"
   ]
  },
  {
   "cell_type": "code",
   "execution_count": 54,
   "id": "01e58f99-34f0-4119-987d-ca11e5805096",
   "metadata": {},
   "outputs": [
    {
     "name": "stdout",
     "output_type": "stream",
     "text": [
      "[1, 2, 3, 4]\n",
      "[23, 4, 5, 45, 4, 5]\n"
     ]
    }
   ],
   "source": [
    "for i in l:\n",
    "    logging.info(\"Loop begin\")\n",
    "    if type(i) == list:\n",
    "        print(i)\n",
    "        logging.info(\"Output is there\")"
   ]
  },
  {
   "cell_type": "code",
   "execution_count": 56,
   "id": "7dac36b5-50de-408d-9d66-426531dbc2c5",
   "metadata": {},
   "outputs": [
    {
     "name": "stdout",
     "output_type": "stream",
     "text": [
      "n < 200\n"
     ]
    }
   ],
   "source": [
    "n = 100\n",
    "if n == 200:\n",
    "    print(\"n == 200\")\n",
    "    logging.info(n)\n",
    "elif n > 200:\n",
    "    print(\"n > 200\")\n",
    "    logging.info(n)\n",
    "else:\n",
    "    print(\"n < 200\")\n",
    "    logging.info(n)"
   ]
  },
  {
   "cell_type": "code",
   "execution_count": null,
   "id": "1699c6d2-23f7-4de4-a598-1dd03fc0bbd3",
   "metadata": {},
   "outputs": [],
   "source": [
    "n = 100\n",
    "if n == 200:\n",
    "    print(\"n == 200\")\n",
    "elif n > 200:\n",
    "    print(\"n > 200\")\n",
    "else:\n",
    "    print(\"n < 200\")"
   ]
  },
  {
   "cell_type": "code",
   "execution_count": 58,
   "id": "7f2875c4-6579-458c-bf64-cd2916c86102",
   "metadata": {},
   "outputs": [
    {
     "name": "stdout",
     "output_type": "stream",
     "text": [
      "n == 200\n"
     ]
    }
   ],
   "source": [
    "n = 200\n",
    "if n == 200:\n",
    "    print(\"n == 200\")\n",
    "    logging.info(\"n == 200\")\n",
    "elif n > 200:\n",
    "    print(\"n > 200\")\n",
    "    logging.info(\"n > 200\")\n",
    "else:\n",
    "    print(\"n < 200\")\n",
    "    logging.info(\"n < 200\")"
   ]
  },
  {
   "cell_type": "code",
   "execution_count": 60,
   "id": "f9067f66-d3c3-4814-8c57-70c1631070be",
   "metadata": {},
   "outputs": [
    {
     "name": "stdout",
     "output_type": "stream",
     "text": [
      "5.0\n"
     ]
    }
   ],
   "source": [
    "try:\n",
    "    a = 10\n",
    "    b = 2\n",
    "    c = a/b\n",
    "    print(c)\n",
    "    logging.info(c)\n",
    "except Exception as e:\n",
    "    print(e)\n",
    "    logging.info(e)"
   ]
  },
  {
   "cell_type": "code",
   "execution_count": null,
   "id": "6d0b729b-56f6-4491-aade-af8e340a4c09",
   "metadata": {},
   "outputs": [],
   "source": []
  }
 ],
 "metadata": {
  "kernelspec": {
   "display_name": "Python 3 (ipykernel)",
   "language": "python",
   "name": "python3"
  },
  "language_info": {
   "codemirror_mode": {
    "name": "ipython",
    "version": 3
   },
   "file_extension": ".py",
   "mimetype": "text/x-python",
   "name": "python",
   "nbconvert_exporter": "python",
   "pygments_lexer": "ipython3",
   "version": "3.11.7"
  }
 },
 "nbformat": 4,
 "nbformat_minor": 5
}
