{
 "cells": [
  {
   "cell_type": "code",
   "execution_count": 1,
   "id": "c445d1c0-5f64-4b4d-acba-7d78ba2a2f82",
   "metadata": {},
   "outputs": [],
   "source": [
    "import math"
   ]
  },
  {
   "cell_type": "code",
   "execution_count": 2,
   "id": "d5e7736b-ade4-4b5e-8be2-df5dcbe645d0",
   "metadata": {},
   "outputs": [
    {
     "name": "stdout",
     "output_type": "stream",
     "text": [
      "Pi: 3.141592653589793\n",
      "e: 2.718281828459045\n"
     ]
    }
   ],
   "source": [
    "# Constants\n",
    "print(\"Pi:\", math.pi)\n",
    "print(\"e:\", math.e)\n"
   ]
  },
  {
   "cell_type": "code",
   "execution_count": 3,
   "id": "59264d59-4d10-4e4a-89fc-026059b7a643",
   "metadata": {},
   "outputs": [
    {
     "data": {
      "text/plain": [
       "5"
      ]
     },
     "execution_count": 3,
     "metadata": {},
     "output_type": "execute_result"
    }
   ],
   "source": [
    "math.ceil(4.2)"
   ]
  },
  {
   "cell_type": "code",
   "execution_count": 4,
   "id": "c803beb2-ebdc-471a-953a-dd73c1594f5e",
   "metadata": {},
   "outputs": [
    {
     "data": {
      "text/plain": [
       "4"
      ]
     },
     "execution_count": 4,
     "metadata": {},
     "output_type": "execute_result"
    }
   ],
   "source": [
    "math.floor(4.7)"
   ]
  },
  {
   "cell_type": "code",
   "execution_count": 5,
   "id": "185e953c-0c0e-4798-9d19-8f4b81dcde4b",
   "metadata": {},
   "outputs": [
    {
     "data": {
      "text/plain": [
       "4.0"
      ]
     },
     "execution_count": 5,
     "metadata": {},
     "output_type": "execute_result"
    }
   ],
   "source": [
    "math.sqrt(16)"
   ]
  },
  {
   "cell_type": "code",
   "execution_count": 6,
   "id": "f06dfb5c-8637-414d-a6cc-1c96bc0196c0",
   "metadata": {},
   "outputs": [
    {
     "data": {
      "text/plain": [
       "2.9999999999999996"
      ]
     },
     "execution_count": 6,
     "metadata": {},
     "output_type": "execute_result"
    }
   ],
   "source": [
    "math.log(1000, 10)"
   ]
  },
  {
   "cell_type": "code",
   "execution_count": 7,
   "id": "e3fc9229-3182-4d0a-bf94-0276a489e01f",
   "metadata": {},
   "outputs": [
    {
     "data": {
      "text/plain": [
       "0.8509035245341184"
      ]
     },
     "execution_count": 7,
     "metadata": {},
     "output_type": "execute_result"
    }
   ],
   "source": [
    "math.sin(45)"
   ]
  },
  {
   "cell_type": "code",
   "execution_count": 8,
   "id": "10c27a53-3daa-4ffa-a879-736dcf493c9a",
   "metadata": {},
   "outputs": [
    {
     "data": {
      "text/plain": [
       "120"
      ]
     },
     "execution_count": 8,
     "metadata": {},
     "output_type": "execute_result"
    }
   ],
   "source": [
    "math.factorial(5)"
   ]
  },
  {
   "cell_type": "code",
   "execution_count": 9,
   "id": "4acafc76-0bd2-4c8e-b2f0-93d4eba4a270",
   "metadata": {},
   "outputs": [
    {
     "data": {
      "text/plain": [
       "20"
      ]
     },
     "execution_count": 9,
     "metadata": {},
     "output_type": "execute_result"
    }
   ],
   "source": [
    "math.comb(6, 3)"
   ]
  },
  {
   "cell_type": "code",
   "execution_count": 10,
   "id": "6bdd9da7-85c6-4249-a7e8-b3210e01cc89",
   "metadata": {},
   "outputs": [
    {
     "data": {
      "text/plain": [
       "120"
      ]
     },
     "execution_count": 10,
     "metadata": {},
     "output_type": "execute_result"
    }
   ],
   "source": [
    "math.perm(6, 3)"
   ]
  },
  {
   "cell_type": "code",
   "execution_count": 11,
   "id": "2c885097-56af-4793-8562-e41d3c145120",
   "metadata": {},
   "outputs": [
    {
     "data": {
      "text/plain": [
       "6"
      ]
     },
     "execution_count": 11,
     "metadata": {},
     "output_type": "execute_result"
    }
   ],
   "source": [
    "math.gcd(48, 18)"
   ]
  },
  {
   "cell_type": "code",
   "execution_count": 12,
   "id": "55474756-e1e0-4622-8bc1-88c3b309bf30",
   "metadata": {},
   "outputs": [
    {
     "data": {
      "text/plain": [
       "144"
      ]
     },
     "execution_count": 12,
     "metadata": {},
     "output_type": "execute_result"
    }
   ],
   "source": [
    "math.lcm(48,18)"
   ]
  },
  {
   "cell_type": "code",
   "execution_count": 13,
   "id": "12383801-2041-412b-a6f5-615b6d99f788",
   "metadata": {},
   "outputs": [
    {
     "data": {
      "text/plain": [
       "7.5"
      ]
     },
     "execution_count": 13,
     "metadata": {},
     "output_type": "execute_result"
    }
   ],
   "source": [
    "math.fabs(-7.5)"
   ]
  },
  {
   "cell_type": "code",
   "execution_count": 14,
   "id": "0a1490ec-0987-4a4f-aebf-211dc21c4187",
   "metadata": {},
   "outputs": [
    {
     "data": {
      "text/plain": [
       "0.5235987755982988"
      ]
     },
     "execution_count": 14,
     "metadata": {},
     "output_type": "execute_result"
    }
   ],
   "source": [
    "math.radians(30)"
   ]
  },
  {
   "cell_type": "code",
   "execution_count": 15,
   "id": "939c1165-64b9-477c-8e3c-1435ca8ee0b7",
   "metadata": {},
   "outputs": [],
   "source": [
    "import datetime"
   ]
  },
  {
   "cell_type": "code",
   "execution_count": 17,
   "id": "b9ec41dc-1029-4731-8680-9edb70a84546",
   "metadata": {},
   "outputs": [],
   "source": [
    "from datetime import date"
   ]
  },
  {
   "cell_type": "code",
   "execution_count": 22,
   "id": "659cb833-c4b2-4c75-a004-b77eebfc8b23",
   "metadata": {},
   "outputs": [],
   "source": [
    "td = date.today()"
   ]
  },
  {
   "cell_type": "code",
   "execution_count": 23,
   "id": "c88a78c4-99ce-421b-a1f2-3686573b6901",
   "metadata": {},
   "outputs": [
    {
     "name": "stdout",
     "output_type": "stream",
     "text": [
      "Today's date: 2024-09-11\n"
     ]
    }
   ],
   "source": [
    "print(\"Today's date:\", td)"
   ]
  },
  {
   "cell_type": "code",
   "execution_count": 28,
   "id": "e966feb1-2384-4a91-8fc7-0462d0a4f589",
   "metadata": {},
   "outputs": [],
   "source": [
    "d = date(2024, 9, 11)"
   ]
  },
  {
   "cell_type": "code",
   "execution_count": 29,
   "id": "1a86654b-7176-4b3f-aac9-5a0f8db5d213",
   "metadata": {},
   "outputs": [
    {
     "data": {
      "text/plain": [
       "datetime.date(2024, 9, 11)"
      ]
     },
     "execution_count": 29,
     "metadata": {},
     "output_type": "execute_result"
    }
   ],
   "source": [
    "d"
   ]
  },
  {
   "cell_type": "code",
   "execution_count": 30,
   "id": "dc2c450c-1234-4b06-b6a4-1d233917a0ec",
   "metadata": {},
   "outputs": [
    {
     "data": {
      "text/plain": [
       "datetime.date(2024, 9, 11)"
      ]
     },
     "execution_count": 30,
     "metadata": {},
     "output_type": "execute_result"
    }
   ],
   "source": [
    "date.fromisoformat('2024-09-11')"
   ]
  },
  {
   "cell_type": "code",
   "execution_count": 32,
   "id": "0b097c2b-f687-4132-9f21-26ec6a0b3686",
   "metadata": {},
   "outputs": [
    {
     "data": {
      "text/plain": [
       "2024"
      ]
     },
     "execution_count": 32,
     "metadata": {},
     "output_type": "execute_result"
    }
   ],
   "source": [
    "d.year"
   ]
  },
  {
   "cell_type": "code",
   "execution_count": 34,
   "id": "9dccf5ec-6849-49ec-a6a0-7fa5ff093f3a",
   "metadata": {},
   "outputs": [
    {
     "data": {
      "text/plain": [
       "2"
      ]
     },
     "execution_count": 34,
     "metadata": {},
     "output_type": "execute_result"
    }
   ],
   "source": [
    "d.weekday()"
   ]
  },
  {
   "cell_type": "code",
   "execution_count": 35,
   "id": "288700c2-c646-4886-9316-3f741a3d5522",
   "metadata": {},
   "outputs": [
    {
     "data": {
      "text/plain": [
       "9"
      ]
     },
     "execution_count": 35,
     "metadata": {},
     "output_type": "execute_result"
    }
   ],
   "source": [
    "d.month"
   ]
  },
  {
   "cell_type": "code",
   "execution_count": 37,
   "id": "849d8a82-32f9-4d7e-a0a0-844558d03a63",
   "metadata": {},
   "outputs": [
    {
     "data": {
      "text/plain": [
       "datetime.date(2025, 10, 11)"
      ]
     },
     "execution_count": 37,
     "metadata": {},
     "output_type": "execute_result"
    }
   ],
   "source": [
    "d.replace(year=2025, month = 10)"
   ]
  },
  {
   "cell_type": "code",
   "execution_count": 38,
   "id": "97eebaa5-148a-4903-9c58-54ea3d5a469c",
   "metadata": {},
   "outputs": [],
   "source": [
    "from datetime import datetime "
   ]
  },
  {
   "cell_type": "code",
   "execution_count": 40,
   "id": "048c02bc-67ca-4ac3-a088-09c005a2c65f",
   "metadata": {},
   "outputs": [],
   "source": [
    "dt = datetime(2024, 9, 11, 15, 30)"
   ]
  },
  {
   "cell_type": "code",
   "execution_count": 41,
   "id": "3a57be5b-7cef-42a2-8cec-a392665c5cfb",
   "metadata": {},
   "outputs": [
    {
     "name": "stdout",
     "output_type": "stream",
     "text": [
      "2024-09-11 15:30:00\n"
     ]
    }
   ],
   "source": [
    "print(dt)"
   ]
  },
  {
   "cell_type": "code",
   "execution_count": 43,
   "id": "666fffc3-c390-4e1c-a807-643143901cb1",
   "metadata": {},
   "outputs": [],
   "source": [
    "dtn =datetime.now()"
   ]
  },
  {
   "cell_type": "code",
   "execution_count": 44,
   "id": "bf6d1746-be93-450d-9cd5-98925d760ddc",
   "metadata": {},
   "outputs": [
    {
     "name": "stdout",
     "output_type": "stream",
     "text": [
      "2024-09-11 18:40:20.793532\n"
     ]
    }
   ],
   "source": [
    "print(dtn)"
   ]
  },
  {
   "cell_type": "code",
   "execution_count": 47,
   "id": "a27628ef-ce74-403f-b288-429591da0128",
   "metadata": {},
   "outputs": [
    {
     "data": {
      "text/plain": [
       "datetime.datetime(2024, 9, 11, 15, 30)"
      ]
     },
     "execution_count": 47,
     "metadata": {},
     "output_type": "execute_result"
    }
   ],
   "source": [
    "datetime.fromisoformat('2024-09-11T15:30:00')"
   ]
  },
  {
   "cell_type": "code",
   "execution_count": 49,
   "id": "dcb27b3d-c739-4269-a237-e4affd29f440",
   "metadata": {},
   "outputs": [
    {
     "name": "stdout",
     "output_type": "stream",
     "text": [
      "2024-09-11\n",
      "15:30:00\n"
     ]
    }
   ],
   "source": [
    "from datetime import date, time\n",
    "d = date(2024, 9, 11)\n",
    "t = time(15, 30)\n",
    "print(d)\n",
    "print(t)"
   ]
  },
  {
   "cell_type": "code",
   "execution_count": 52,
   "id": "100acf3e-072b-4df2-80ec-347dedf60f73",
   "metadata": {},
   "outputs": [],
   "source": [
    "dtm = datetime.combine(d, t)"
   ]
  },
  {
   "cell_type": "code",
   "execution_count": 53,
   "id": "5012de60-dcac-43e2-a1c4-343628fe5bf0",
   "metadata": {},
   "outputs": [
    {
     "name": "stdout",
     "output_type": "stream",
     "text": [
      "2024-09-11 15:30:00\n"
     ]
    }
   ],
   "source": [
    "print(dtm)"
   ]
  },
  {
   "cell_type": "code",
   "execution_count": 54,
   "id": "8591666b-f8ed-406e-b658-600f4e3b8dae",
   "metadata": {},
   "outputs": [
    {
     "data": {
      "text/plain": [
       "datetime.datetime(2025, 9, 11, 15, 30)"
      ]
     },
     "execution_count": 54,
     "metadata": {},
     "output_type": "execute_result"
    }
   ],
   "source": [
    "dt.replace(year=2025)"
   ]
  },
  {
   "cell_type": "code",
   "execution_count": 55,
   "id": "680f64e1-302d-476d-8567-047335cb001a",
   "metadata": {},
   "outputs": [
    {
     "data": {
      "text/plain": [
       "2"
      ]
     },
     "execution_count": 55,
     "metadata": {},
     "output_type": "execute_result"
    }
   ],
   "source": [
    " dt.weekday()"
   ]
  },
  {
   "cell_type": "code",
   "execution_count": 56,
   "id": "aa67ccee-82bf-4fcf-936a-6faeddeac766",
   "metadata": {},
   "outputs": [],
   "source": [
    "from datetime import timedelta"
   ]
  },
  {
   "cell_type": "code",
   "execution_count": 59,
   "id": "6b875dc0-ce4a-49ab-a4f0-c7ad5d2ebc06",
   "metadata": {},
   "outputs": [],
   "source": [
    "delta =timedelta(days=5, hours=3)"
   ]
  },
  {
   "cell_type": "code",
   "execution_count": 60,
   "id": "aa528e9e-5ca4-42dd-a5ba-55077f405a39",
   "metadata": {},
   "outputs": [
    {
     "name": "stdout",
     "output_type": "stream",
     "text": [
      "5 days, 3:00:00\n"
     ]
    }
   ],
   "source": [
    "print(delta)"
   ]
  },
  {
   "cell_type": "code",
   "execution_count": 61,
   "id": "e69840f0-6f18-4b42-b81c-e1deb41e18b6",
   "metadata": {},
   "outputs": [],
   "source": [
    "days = delta.days"
   ]
  },
  {
   "cell_type": "code",
   "execution_count": 62,
   "id": "c80718ab-dc08-4c40-9358-8dd36a731a7c",
   "metadata": {},
   "outputs": [
    {
     "data": {
      "text/plain": [
       "5"
      ]
     },
     "execution_count": 62,
     "metadata": {},
     "output_type": "execute_result"
    }
   ],
   "source": [
    "days"
   ]
  },
  {
   "cell_type": "code",
   "execution_count": 63,
   "id": "5744d367-5493-48be-b73f-c2d31b546a0f",
   "metadata": {},
   "outputs": [
    {
     "data": {
      "text/plain": [
       "10800"
      ]
     },
     "execution_count": 63,
     "metadata": {},
     "output_type": "execute_result"
    }
   ],
   "source": [
    "delta.seconds"
   ]
  },
  {
   "cell_type": "code",
   "execution_count": 64,
   "id": "e4eb9fe4-2490-4949-9c97-82bfe4844daa",
   "metadata": {},
   "outputs": [
    {
     "data": {
      "text/plain": [
       "<function timedelta.total_seconds>"
      ]
     },
     "execution_count": 64,
     "metadata": {},
     "output_type": "execute_result"
    }
   ],
   "source": [
    "delta.total_seconds"
   ]
  },
  {
   "cell_type": "code",
   "execution_count": 65,
   "id": "c2ab6ea1-5858-474b-9160-792a9e63184d",
   "metadata": {},
   "outputs": [],
   "source": [
    "delta2 = timedelta(days=2)\n",
    "result = delta + delta2"
   ]
  },
  {
   "cell_type": "code",
   "execution_count": 66,
   "id": "77b7ff8e-41c8-419d-877b-a0b486b246ca",
   "metadata": {},
   "outputs": [
    {
     "data": {
      "text/plain": [
       "datetime.timedelta(days=7, seconds=10800)"
      ]
     },
     "execution_count": 66,
     "metadata": {},
     "output_type": "execute_result"
    }
   ],
   "source": [
    "result"
   ]
  },
  {
   "cell_type": "code",
   "execution_count": 69,
   "id": "819c395d-37f6-428d-a43c-b0894fbb9ba6",
   "metadata": {},
   "outputs": [],
   "source": [
    "result = result * 2"
   ]
  },
  {
   "cell_type": "code",
   "execution_count": 70,
   "id": "39a501f2-856e-4bf9-96dd-84039a0e9c4c",
   "metadata": {},
   "outputs": [
    {
     "data": {
      "text/plain": [
       "datetime.timedelta(days=20, seconds=43200)"
      ]
     },
     "execution_count": 70,
     "metadata": {},
     "output_type": "execute_result"
    }
   ],
   "source": [
    "result"
   ]
  },
  {
   "cell_type": "code",
   "execution_count": 71,
   "id": "47fbe0a4-4320-4111-b1e6-ef9d970eb45d",
   "metadata": {},
   "outputs": [],
   "source": [
    "result = delta / 2"
   ]
  },
  {
   "cell_type": "code",
   "execution_count": 72,
   "id": "f58b6577-8098-4c20-9691-35ff8f93e36a",
   "metadata": {},
   "outputs": [
    {
     "data": {
      "text/plain": [
       "datetime.timedelta(days=2, seconds=48600)"
      ]
     },
     "execution_count": 72,
     "metadata": {},
     "output_type": "execute_result"
    }
   ],
   "source": [
    "result"
   ]
  },
  {
   "cell_type": "code",
   "execution_count": 73,
   "id": "8a6c9c99-e86f-4d11-9cd4-50aa4e647517",
   "metadata": {},
   "outputs": [],
   "source": [
    "is_not_equal = delta != timedelta(days=5, hours=3)"
   ]
  },
  {
   "cell_type": "code",
   "execution_count": 74,
   "id": "c9f07859-00cd-42fb-88ad-de2fc8f67ce1",
   "metadata": {},
   "outputs": [
    {
     "data": {
      "text/plain": [
       "False"
      ]
     },
     "execution_count": 74,
     "metadata": {},
     "output_type": "execute_result"
    }
   ],
   "source": [
    "is_not_equal"
   ]
  },
  {
   "cell_type": "code",
   "execution_count": 75,
   "id": "fb667a8c-16c2-4969-bf8a-ba451d2673fb",
   "metadata": {},
   "outputs": [],
   "source": [
    "is_greater_than = delta > timedelta(days=4)"
   ]
  },
  {
   "cell_type": "code",
   "execution_count": 76,
   "id": "8d07c917-c5b7-4f70-803e-b23716ac423f",
   "metadata": {},
   "outputs": [
    {
     "data": {
      "text/plain": [
       "True"
      ]
     },
     "execution_count": 76,
     "metadata": {},
     "output_type": "execute_result"
    }
   ],
   "source": [
    "is_greater_than"
   ]
  },
  {
   "cell_type": "code",
   "execution_count": 77,
   "id": "2f6c6f7e-dbb6-4d12-991a-7ac1ba2c1103",
   "metadata": {},
   "outputs": [],
   "source": [
    "import datetime"
   ]
  },
  {
   "cell_type": "code",
   "execution_count": 79,
   "id": "c9b967a9-0657-4b89-a49d-499f004ada04",
   "metadata": {},
   "outputs": [
    {
     "data": {
      "text/plain": [
       "9999"
      ]
     },
     "execution_count": 79,
     "metadata": {},
     "output_type": "execute_result"
    }
   ],
   "source": [
    "datetime.MAXYEAR"
   ]
  },
  {
   "cell_type": "code",
   "execution_count": 80,
   "id": "4668402e-d2eb-457e-9e28-787abf3539fc",
   "metadata": {},
   "outputs": [
    {
     "data": {
      "text/plain": [
       "1"
      ]
     },
     "execution_count": 80,
     "metadata": {},
     "output_type": "execute_result"
    }
   ],
   "source": [
    "datetime.MINYEAR"
   ]
  },
  {
   "cell_type": "code",
   "execution_count": 96,
   "id": "11dd7c12-692b-49b4-a3b7-48dfb0641ce9",
   "metadata": {},
   "outputs": [],
   "source": [
    "import statistics"
   ]
  },
  {
   "cell_type": "code",
   "execution_count": 87,
   "id": "e77dea3b-8134-40fd-8f93-c2674b134772",
   "metadata": {},
   "outputs": [],
   "source": [
    "data = [10, 15, 23, 7, 18, 12, 10, 20, 25, 13, 7, 7]"
   ]
  },
  {
   "cell_type": "code",
   "execution_count": 84,
   "id": "1c2775d9-837d-4103-991f-ea4f1561d969",
   "metadata": {},
   "outputs": [
    {
     "data": {
      "text/plain": [
       "15.3"
      ]
     },
     "execution_count": 84,
     "metadata": {},
     "output_type": "execute_result"
    }
   ],
   "source": [
    "statistics.mean(data)"
   ]
  },
  {
   "cell_type": "code",
   "execution_count": 85,
   "id": "3e3cbdd2-3a44-4875-87fa-82e6bb43ac23",
   "metadata": {},
   "outputs": [
    {
     "data": {
      "text/plain": [
       "14.0"
      ]
     },
     "execution_count": 85,
     "metadata": {},
     "output_type": "execute_result"
    }
   ],
   "source": [
    "statistics.median(data)"
   ]
  },
  {
   "cell_type": "code",
   "execution_count": 88,
   "id": "9bf433a5-4879-492f-a116-9df5aa7bd125",
   "metadata": {},
   "outputs": [
    {
     "data": {
      "text/plain": [
       "7"
      ]
     },
     "execution_count": 88,
     "metadata": {},
     "output_type": "execute_result"
    }
   ],
   "source": [
    "statistics.mode(data)"
   ]
  },
  {
   "cell_type": "code",
   "execution_count": 89,
   "id": "853952b1-6cb8-45b5-b4d8-e5cb97c5f4b0",
   "metadata": {},
   "outputs": [
    {
     "data": {
      "text/plain": [
       "6.3167646110580336"
      ]
     },
     "execution_count": 89,
     "metadata": {},
     "output_type": "execute_result"
    }
   ],
   "source": [
    "statistics.stdev(data)"
   ]
  },
  {
   "cell_type": "code",
   "execution_count": 90,
   "id": "7bbb238d-d004-4f1a-9a02-0dc7d851d746",
   "metadata": {},
   "outputs": [
    {
     "data": {
      "text/plain": [
       "39.90151515151515"
      ]
     },
     "execution_count": 90,
     "metadata": {},
     "output_type": "execute_result"
    }
   ],
   "source": [
    "statistics.variance(data)"
   ]
  },
  {
   "cell_type": "code",
   "execution_count": 91,
   "id": "2930f5bc-ef4c-4908-8365-bc701ef171a8",
   "metadata": {},
   "outputs": [
    {
     "data": {
      "text/plain": [
       "6.047841671942884"
      ]
     },
     "execution_count": 91,
     "metadata": {},
     "output_type": "execute_result"
    }
   ],
   "source": [
    "statistics.pstdev(data)"
   ]
  },
  {
   "cell_type": "code",
   "execution_count": 92,
   "id": "90adb80d-8a9e-4c12-931c-9a88df83d904",
   "metadata": {},
   "outputs": [
    {
     "data": {
      "text/plain": [
       "36.576388888888886"
      ]
     },
     "execution_count": 92,
     "metadata": {},
     "output_type": "execute_result"
    }
   ],
   "source": [
    "statistics.pvariance(data)"
   ]
  },
  {
   "cell_type": "code",
   "execution_count": 95,
   "id": "f791d0f6-633a-48ab-9097-2c3b06a815df",
   "metadata": {},
   "outputs": [
    {
     "data": {
      "text/plain": [
       "[7.75, 12.5, 19.5]"
      ]
     },
     "execution_count": 95,
     "metadata": {},
     "output_type": "execute_result"
    }
   ],
   "source": [
    " statistics.quantiles(data, n=4)"
   ]
  },
  {
   "cell_type": "code",
   "execution_count": 100,
   "id": "84750d39-afbc-414b-8639-2833b566d36b",
   "metadata": {},
   "outputs": [
    {
     "ename": "AttributeError",
     "evalue": "'list' object has no attribute '_mu'",
     "output_type": "error",
     "traceback": [
      "\u001b[1;31m---------------------------------------------------------------------------\u001b[0m",
      "\u001b[1;31mAttributeError\u001b[0m                            Traceback (most recent call last)",
      "Cell \u001b[1;32mIn[100], line 1\u001b[0m\n\u001b[1;32m----> 1\u001b[0m statistics\u001b[38;5;241m.\u001b[39mNormalDist\u001b[38;5;241m.\u001b[39msamples(data, \u001b[38;5;241m5\u001b[39m)\n",
      "File \u001b[1;32m~\\anaconda3\\Lib\\statistics.py:1195\u001b[0m, in \u001b[0;36mNormalDist.samples\u001b[1;34m(self, n, seed)\u001b[0m\n\u001b[0;32m   1193\u001b[0m \u001b[38;5;124m\"\u001b[39m\u001b[38;5;124mGenerate *n* samples for a given mean and standard deviation.\u001b[39m\u001b[38;5;124m\"\u001b[39m\n\u001b[0;32m   1194\u001b[0m gauss \u001b[38;5;241m=\u001b[39m random\u001b[38;5;241m.\u001b[39mgauss \u001b[38;5;28;01mif\u001b[39;00m seed \u001b[38;5;129;01mis\u001b[39;00m \u001b[38;5;28;01mNone\u001b[39;00m \u001b[38;5;28;01melse\u001b[39;00m random\u001b[38;5;241m.\u001b[39mRandom(seed)\u001b[38;5;241m.\u001b[39mgauss\n\u001b[1;32m-> 1195\u001b[0m mu, sigma \u001b[38;5;241m=\u001b[39m \u001b[38;5;28mself\u001b[39m\u001b[38;5;241m.\u001b[39m_mu, \u001b[38;5;28mself\u001b[39m\u001b[38;5;241m.\u001b[39m_sigma\n\u001b[0;32m   1196\u001b[0m \u001b[38;5;28;01mreturn\u001b[39;00m [gauss(mu, sigma) \u001b[38;5;28;01mfor\u001b[39;00m i \u001b[38;5;129;01min\u001b[39;00m \u001b[38;5;28mrange\u001b[39m(n)]\n",
      "\u001b[1;31mAttributeError\u001b[0m: 'list' object has no attribute '_mu'"
     ]
    }
   ],
   "source": [
    "statistics.NormalDist.samples(data, 5)"
   ]
  },
  {
   "cell_type": "code",
   "execution_count": 101,
   "id": "0ff13328-dd8a-4759-93be-2da6576abf4c",
   "metadata": {},
   "outputs": [],
   "source": [
    "x = [1, 2, 3, 4, 5]\n",
    "y = [2, 4, 6, 8, 10]"
   ]
  },
  {
   "cell_type": "code",
   "execution_count": 102,
   "id": "9e020a6c-27ad-44c8-9671-747df49e625f",
   "metadata": {},
   "outputs": [
    {
     "data": {
      "text/plain": [
       "1.0"
      ]
     },
     "execution_count": 102,
     "metadata": {},
     "output_type": "execute_result"
    }
   ],
   "source": [
    "statistics.correlation(x, y)"
   ]
  },
  {
   "cell_type": "code",
   "execution_count": 103,
   "id": "796b2d0c-3656-4fb8-8b73-79342034e972",
   "metadata": {},
   "outputs": [],
   "source": [
    "age = [2,3,2,6,8,9,12,45]\n",
    "weight = [11,20,44,21,5,7,45,28]"
   ]
  },
  {
   "cell_type": "code",
   "execution_count": 104,
   "id": "07e54d24-d32d-4744-835c-13bddd77a468",
   "metadata": {},
   "outputs": [
    {
     "data": {
      "text/plain": [
       "0.1490101190691124"
      ]
     },
     "execution_count": 104,
     "metadata": {},
     "output_type": "execute_result"
    }
   ],
   "source": [
    "statistics.correlation(age, weight)"
   ]
  },
  {
   "cell_type": "code",
   "execution_count": 109,
   "id": "8fc8eee9-ef6b-4fdd-b359-3b0f64721e77",
   "metadata": {},
   "outputs": [],
   "source": [
    "age1 = [55, 60, 65, 70, 75, 80]\n",
    "strength = [80, 70, 80, 50, 70, 30]"
   ]
  },
  {
   "cell_type": "code",
   "execution_count": 110,
   "id": "c0df4af6-9629-4348-a33f-519abba3ede2",
   "metadata": {},
   "outputs": [
    {
     "data": {
      "text/plain": [
       "-0.7611243951073873"
      ]
     },
     "execution_count": 110,
     "metadata": {},
     "output_type": "execute_result"
    }
   ],
   "source": [
    "statistics.correlation(age1, strength)"
   ]
  },
  {
   "cell_type": "code",
   "execution_count": null,
   "id": "8959b639-69c8-4698-a4c5-aa7f93472925",
   "metadata": {},
   "outputs": [],
   "source": []
  }
 ],
 "metadata": {
  "kernelspec": {
   "display_name": "Python 3 (ipykernel)",
   "language": "python",
   "name": "python3"
  },
  "language_info": {
   "codemirror_mode": {
    "name": "ipython",
    "version": 3
   },
   "file_extension": ".py",
   "mimetype": "text/x-python",
   "name": "python",
   "nbconvert_exporter": "python",
   "pygments_lexer": "ipython3",
   "version": "3.11.7"
  }
 },
 "nbformat": 4,
 "nbformat_minor": 5
}
