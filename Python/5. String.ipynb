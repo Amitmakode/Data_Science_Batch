{
 "cells": [
  {
   "cell_type": "code",
   "execution_count": 3,
   "id": "6961ac3a-8d39-413f-b115-efbc96dc6442",
   "metadata": {},
   "outputs": [
    {
     "name": "stdout",
     "output_type": "stream",
     "text": [
      "hello-----\n"
     ]
    }
   ],
   "source": [
    "#ljust(width[, fillchar])\n",
    "\n",
    "#Left justifies the string in a field of width width with optional fillchar.\n",
    "\n",
    "s = \"hello\"\n",
    "print(s.ljust(10, '-'))  # Output: \"hello-----\""
   ]
  },
  {
   "cell_type": "code",
   "execution_count": 4,
   "id": "3f7e5631-68a1-4c92-9326-368fb63b3f94",
   "metadata": {},
   "outputs": [
    {
     "name": "stdout",
     "output_type": "stream",
     "text": [
      "hello\n"
     ]
    }
   ],
   "source": [
    "#lower()\n",
    "\n",
    "#Converts all characters in the string to lowercase.\n",
    "\n",
    "s = \"HELLO\"\n",
    "print(s.lower())  # Output: \"hello\""
   ]
  },
  {
   "cell_type": "code",
   "execution_count": 7,
   "id": "575fa42a-320c-4658-b57d-92e6873ca4be",
   "metadata": {},
   "outputs": [
    {
     "name": "stdout",
     "output_type": "stream",
     "text": [
      "hello----\n"
     ]
    }
   ],
   "source": [
    "#lstrip([chars])\n",
    "\n",
    "#Removes leading whitespace or characters specified in chars.\n",
    "\n",
    "s = \"----hello----\"\n",
    "print(s.lstrip(\"-\"))  # Output: \"hello   \""
   ]
  },
  {
   "cell_type": "code",
   "execution_count": 12,
   "id": "6eb9aae9-8f58-4d96-88ad-e62a7d3c273b",
   "metadata": {},
   "outputs": [],
   "source": [
    "#maketrans(x[, y[, z]])\n",
    "\n",
    "#Creates a translation table usable for translate() from specified mapping arguments.\n",
    "\n",
    "intab = \"aeiou\"\n",
    "outtab = \"12345\"\n",
    "\n",
    "trans_table = str.maketrans(intab, outtab)\n"
   ]
  },
  {
   "cell_type": "code",
   "execution_count": 13,
   "id": "e84177cf-a9c5-4ae5-922d-36723f644dbe",
   "metadata": {},
   "outputs": [
    {
     "data": {
      "text/plain": [
       "{97: 49, 101: 50, 105: 51, 111: 52, 117: 53}"
      ]
     },
     "execution_count": 13,
     "metadata": {},
     "output_type": "execute_result"
    }
   ],
   "source": [
    "trans_table"
   ]
  },
  {
   "cell_type": "code",
   "execution_count": 18,
   "id": "ac874e23-18e4-46d3-8cae-f3eaa7db42b5",
   "metadata": {},
   "outputs": [
    {
     "name": "stdout",
     "output_type": "stream",
     "text": [
      "h2ll435\n"
     ]
    }
   ],
   "source": [
    "s = \"helloiu\"\n",
    "print(s.translate(trans_table))  # Output: \"h2ll4\""
   ]
  },
  {
   "cell_type": "code",
   "execution_count": 20,
   "id": "5cb20776-2c34-4a0f-ab1f-b0ede8bc6f83",
   "metadata": {},
   "outputs": [
    {
     "name": "stdout",
     "output_type": "stream",
     "text": [
      "('hello', ' ', 'world')\n"
     ]
    }
   ],
   "source": [
    "#partition(sep)\n",
    "\n",
    "#Splits the string into a tuple (head, sep, tail) where sep is the first occurrence of sep.\n",
    "\n",
    "s = \"hello world\"\n",
    "print(s.partition(' '))  # Output: (\"hello\", \" \", \"world\")"
   ]
  },
  {
   "cell_type": "code",
   "execution_count": 21,
   "id": "b99bcb1e-bbcb-4e4e-9d97-0b321e0b672e",
   "metadata": {},
   "outputs": [
    {
     "name": "stdout",
     "output_type": "stream",
     "text": [
      "hello Python\n"
     ]
    }
   ],
   "source": [
    "#replace(old, new[, count])\n",
    "\n",
    "#Returns a copy of the string with all occurrences of substring old replaced by new.\n",
    "\n",
    "s = \"hello world\"\n",
    "print(s.replace('world', 'Python'))  # Output: \"hello python\""
   ]
  },
  {
   "cell_type": "code",
   "execution_count": 22,
   "id": "9b26fc94-6975-490c-89c5-d987994af9ff",
   "metadata": {},
   "outputs": [
    {
     "name": "stdout",
     "output_type": "stream",
     "text": [
      "hell0 w0rld\n"
     ]
    }
   ],
   "source": [
    "s = \"hello world\"\n",
    "print(s.replace('o', '0'))  # Output: \"hello python\""
   ]
  },
  {
   "cell_type": "code",
   "execution_count": 23,
   "id": "90b14dfb-b04a-40c3-b3c9-cfd6e3c43222",
   "metadata": {},
   "outputs": [
    {
     "name": "stdout",
     "output_type": "stream",
     "text": [
      "12\n"
     ]
    }
   ],
   "source": [
    "#rfind(sub[, start[, end]])\n",
    "\n",
    "#Returns the highest index in the string where substring sub is found, or -1 if not found.\n",
    "\n",
    "s = \"hello hello hello\"\n",
    "print(s.rfind('hello'))  # Output: 12"
   ]
  },
  {
   "cell_type": "code",
   "execution_count": 24,
   "id": "389ca8c9-d2c8-453b-bcb8-29fef36c5bfc",
   "metadata": {},
   "outputs": [
    {
     "name": "stdout",
     "output_type": "stream",
     "text": [
      "9\n"
     ]
    }
   ],
   "source": [
    "#rindex(sub[, start[, end]])\n",
    "\n",
    "#Like rfind(), but raises ValueError if sub is not found.\n",
    "\n",
    "s = \"hello world\"\n",
    "print(s.rindex('l'))  # Output: 6"
   ]
  },
  {
   "cell_type": "code",
   "execution_count": 25,
   "id": "9664323a-e646-49ba-9738-5ea2e20a72d2",
   "metadata": {},
   "outputs": [
    {
     "name": "stdout",
     "output_type": "stream",
     "text": [
      "-----hello\n"
     ]
    }
   ],
   "source": [
    "#rjust(width[, fillchar])\n",
    "\n",
    "#Right justifies the string in a field of width width with optional fillchar.\n",
    "\n",
    "s = \"hello\"\n",
    "print(s.rjust(10, '-'))  # Output: \"-----hello\""
   ]
  },
  {
   "cell_type": "code",
   "execution_count": 26,
   "id": "142b7022-8426-42eb-aa89-51236129e0a0",
   "metadata": {},
   "outputs": [
    {
     "name": "stdout",
     "output_type": "stream",
     "text": [
      "('hello wor', 'l', 'd')\n"
     ]
    }
   ],
   "source": [
    "# plits the string into a tuple (head, sep, tail) where sep is the last occurrence of sep.\n",
    "\n",
    "s = \"hello world\"\n",
    "print(s.rpartition('l'))  # Output: (\"hello\", \" \", \"world\")"
   ]
  },
  {
   "cell_type": "code",
   "execution_count": 28,
   "id": "1237e762-a2d5-4933-9b9a-00688a1a1f52",
   "metadata": {},
   "outputs": [
    {
     "name": "stdout",
     "output_type": "stream",
     "text": [
      "@@@hello\n"
     ]
    }
   ],
   "source": [
    "#Removes trailing whitespace or characters specified in chars.\n",
    " \n",
    "s = \"@@@hello---\"\n",
    "print(s.rstrip(\"-\"))  # Output: \"   hello\""
   ]
  },
  {
   "cell_type": "code",
   "execution_count": 29,
   "id": "30e50386-826b-46d6-8644-c4d62fe3308f",
   "metadata": {},
   "outputs": [
    {
     "name": "stdout",
     "output_type": "stream",
     "text": [
      "['hello', 'world']\n"
     ]
    }
   ],
   "source": [
    "#Splits the string into a list of words using sep as the delimiter.\n",
    "\n",
    "s = \"hello world\"\n",
    "print(s.split())  # Output: ['hello', 'world']"
   ]
  },
  {
   "cell_type": "code",
   "execution_count": 30,
   "id": "05f1efff-a2db-431b-ada0-51a3d0ce372e",
   "metadata": {},
   "outputs": [
    {
     "name": "stdout",
     "output_type": "stream",
     "text": [
      "['hello ', 'orld']\n"
     ]
    }
   ],
   "source": [
    "s = \"hello world\"\n",
    "print(s.split(\"w\"))  # Output: ['hello', 'world']"
   ]
  },
  {
   "cell_type": "code",
   "execution_count": 31,
   "id": "645e8146-e561-4c0c-903c-adc6a0edd049",
   "metadata": {},
   "outputs": [
    {
     "name": "stdout",
     "output_type": "stream",
     "text": [
      "['amit', ' kumar']\n"
     ]
    }
   ],
   "source": [
    "s = \"amit, kumar\"\n",
    "print(s.split(\",\"))  # Output: ['hello', 'world']"
   ]
  },
  {
   "cell_type": "code",
   "execution_count": 32,
   "id": "0c5838a5-6366-43fc-9a75-97bea7effccc",
   "metadata": {},
   "outputs": [
    {
     "name": "stdout",
     "output_type": "stream",
     "text": [
      "['hello', 'world']\n"
     ]
    }
   ],
   "source": [
    "#Splits the string at line breaks and returns a list of lines.\n",
    "\n",
    "s = \"hello\\nworld\"\n",
    "print(s.splitlines())  # Output: ['hello', 'world']"
   ]
  },
  {
   "cell_type": "code",
   "execution_count": 36,
   "id": "3ce8c368-bdf1-4411-a1a8-2d10f57b14e1",
   "metadata": {},
   "outputs": [
    {
     "name": "stdout",
     "output_type": "stream",
     "text": [
      "True\n"
     ]
    }
   ],
   "source": [
    "#Checks if the string starts with the specified prefix.\n",
    " \n",
    "s = \"hello world\"\n",
    "print(s.startswith('h'))  # Output: True"
   ]
  },
  {
   "cell_type": "code",
   "execution_count": 37,
   "id": "d360ea5a-4915-471b-95f0-2d3e835b1592",
   "metadata": {},
   "outputs": [
    {
     "name": "stdout",
     "output_type": "stream",
     "text": [
      "hello\n"
     ]
    }
   ],
   "source": [
    "#Removes leading and trailing whitespace or characters specified in chars.\n",
    "\n",
    "s = \"----hello---\"\n",
    "print(s.strip(\"-\"))  # Output: \"hello\""
   ]
  },
  {
   "cell_type": "code",
   "execution_count": 38,
   "id": "1dd81c08-6dd2-48c5-b050-a3793f7245e3",
   "metadata": {},
   "outputs": [
    {
     "name": "stdout",
     "output_type": "stream",
     "text": [
      "Hello\n"
     ]
    }
   ],
   "source": [
    "s = \"Hello@@@@##$\"\n",
    "print(s.strip(\"@#$\"))  # Output: \"hello\""
   ]
  },
  {
   "cell_type": "code",
   "execution_count": 39,
   "id": "a39f37a0-082f-48b4-beb5-43edaee98fc7",
   "metadata": {},
   "outputs": [
    {
     "name": "stdout",
     "output_type": "stream",
     "text": [
      "hELLO wORLD\n"
     ]
    }
   ],
   "source": [
    "#Swaps case of all characters in the string (lower to upper and vice versa).\n",
    "\n",
    "s = \"Hello World\"\n",
    "print(s.swapcase())  # Output: \"hELLO wORLD\""
   ]
  },
  {
   "cell_type": "code",
   "execution_count": 40,
   "id": "9a6d0e81-c5f8-42e1-9786-0c405a730b49",
   "metadata": {},
   "outputs": [
    {
     "name": "stdout",
     "output_type": "stream",
     "text": [
      "Hello World\n"
     ]
    }
   ],
   "source": [
    "#title()\n",
    "\n",
    "#Returns a titlecased version of the string (first character of each word is uppercase, others are lowercase).\n",
    "\n",
    "s = \"hello world\"\n",
    "print(s.title())  # Output: \"Hello World\""
   ]
  },
  {
   "cell_type": "code",
   "execution_count": 49,
   "id": "dee47495-d1bd-40a7-bd77-fa70c8981f32",
   "metadata": {},
   "outputs": [
    {
     "name": "stdout",
     "output_type": "stream",
     "text": [
      "00042\n"
     ]
    }
   ],
   "source": [
    "#zfill(width)\n",
    "\n",
    "#Returns a copy of the string padded with zeros on the left to make a string of length width.\n",
    "\n",
    "s = \"42\"\n",
    "print(s.zfill(5))  # Output: \"00042\""
   ]
  },
  {
   "cell_type": "markdown",
   "id": "3027dd40-481a-41a7-b824-29059bbd0264",
   "metadata": {},
   "source": [
    "## Concatination"
   ]
  },
  {
   "cell_type": "code",
   "execution_count": 50,
   "id": "06154787-1d38-4f65-86f1-ae8f7a7e3bc5",
   "metadata": {},
   "outputs": [],
   "source": [
    "var1 = \"Python\"\n",
    "var2 = \"java\""
   ]
  },
  {
   "cell_type": "code",
   "execution_count": 51,
   "id": "5cd027ee-fef7-47d7-9cd9-6f6d90d70943",
   "metadata": {},
   "outputs": [
    {
     "data": {
      "text/plain": [
       "'Pythonjava'"
      ]
     },
     "execution_count": 51,
     "metadata": {},
     "output_type": "execute_result"
    }
   ],
   "source": [
    "var1+var2"
   ]
  },
  {
   "cell_type": "code",
   "execution_count": 52,
   "id": "35388034-b15b-4a83-9eca-2010f68b5fdc",
   "metadata": {},
   "outputs": [
    {
     "data": {
      "text/plain": [
       "'Python java'"
      ]
     },
     "execution_count": 52,
     "metadata": {},
     "output_type": "execute_result"
    }
   ],
   "source": [
    "var1+\" \"+ var2"
   ]
  },
  {
   "cell_type": "markdown",
   "id": "d04f30e9-e305-4b7b-b252-7b4d9e3e8d84",
   "metadata": {},
   "source": [
    "## Reapetation"
   ]
  },
  {
   "cell_type": "code",
   "execution_count": 56,
   "id": "4c6710ef-2eb0-45c6-9c2c-74078698d303",
   "metadata": {},
   "outputs": [
    {
     "data": {
      "text/plain": [
       "'PythonPythonPython'"
      ]
     },
     "execution_count": 56,
     "metadata": {},
     "output_type": "execute_result"
    }
   ],
   "source": [
    "var1*3"
   ]
  },
  {
   "cell_type": "code",
   "execution_count": 57,
   "id": "de99c621-8174-45ab-81b8-287963d7b9cf",
   "metadata": {},
   "outputs": [],
   "source": [
    "str1 = \"data analyst\""
   ]
  },
  {
   "cell_type": "code",
   "execution_count": 59,
   "id": "b9333644-a9a6-40ca-a9f8-d3e0872d6bef",
   "metadata": {},
   "outputs": [
    {
     "data": {
      "text/plain": [
       "False"
      ]
     },
     "execution_count": 59,
     "metadata": {},
     "output_type": "execute_result"
    }
   ],
   "source": [
    "\"data\" not in str1"
   ]
  },
  {
   "cell_type": "code",
   "execution_count": 61,
   "id": "fe19f0fa-7020-49ce-b541-4c85da4dc9b4",
   "metadata": {},
   "outputs": [
    {
     "name": "stderr",
     "output_type": "stream",
     "text": [
      "<>:1: SyntaxWarning: \"is\" with a literal. Did you mean \"==\"?\n",
      "<>:1: SyntaxWarning: \"is\" with a literal. Did you mean \"==\"?\n",
      "C:\\Users\\amitm\\AppData\\Local\\Temp\\ipykernel_16620\\547222246.py:1: SyntaxWarning: \"is\" with a literal. Did you mean \"==\"?\n",
      "  \"data\" is  str1\n"
     ]
    },
    {
     "data": {
      "text/plain": [
       "False"
      ]
     },
     "execution_count": 61,
     "metadata": {},
     "output_type": "execute_result"
    }
   ],
   "source": [
    "\"data\" is  str1"
   ]
  },
  {
   "cell_type": "code",
   "execution_count": 62,
   "id": "67036c49-ae06-43c0-bf04-1cd9bb5d1811",
   "metadata": {},
   "outputs": [],
   "source": [
    "a = \"data\""
   ]
  },
  {
   "cell_type": "code",
   "execution_count": 63,
   "id": "4fc5d662-d2be-4abe-89b7-3e12224cd447",
   "metadata": {},
   "outputs": [
    {
     "data": {
      "text/plain": [
       "False"
      ]
     },
     "execution_count": 63,
     "metadata": {},
     "output_type": "execute_result"
    }
   ],
   "source": [
    "a is str1"
   ]
  },
  {
   "cell_type": "code",
   "execution_count": null,
   "id": "e0f01aef-cc1f-433f-bc2b-709520d4d3f0",
   "metadata": {},
   "outputs": [],
   "source": []
  },
  {
   "cell_type": "code",
   "execution_count": null,
   "id": "8571b5cb-0b22-4b8a-a5ee-dcd812b73ad6",
   "metadata": {},
   "outputs": [],
   "source": []
  }
 ],
 "metadata": {
  "kernelspec": {
   "display_name": "Python 3 (ipykernel)",
   "language": "python",
   "name": "python3"
  },
  "language_info": {
   "codemirror_mode": {
    "name": "ipython",
    "version": 3
   },
   "file_extension": ".py",
   "mimetype": "text/x-python",
   "name": "python",
   "nbconvert_exporter": "python",
   "pygments_lexer": "ipython3",
   "version": "3.11.7"
  }
 },
 "nbformat": 4,
 "nbformat_minor": 5
}
