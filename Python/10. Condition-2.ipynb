{
 "cells": [
  {
   "cell_type": "code",
   "execution_count": 1,
   "id": "c8dd0c99-56c7-4b46-aabe-22c34668f54c",
   "metadata": {},
   "outputs": [],
   "source": [
    "import numpy as np\n",
    "import random "
   ]
  },
  {
   "cell_type": "code",
   "execution_count": 6,
   "id": "ffa37c73-e797-4ae4-a6ca-066b379054a1",
   "metadata": {},
   "outputs": [
    {
     "data": {
      "text/plain": [
       "3"
      ]
     },
     "execution_count": 6,
     "metadata": {},
     "output_type": "execute_result"
    }
   ],
   "source": [
    "np.random.randint(1,10)"
   ]
  },
  {
   "cell_type": "code",
   "execution_count": 9,
   "id": "e0d95108-2eb7-495f-8aa5-750bcfb9da0b",
   "metadata": {},
   "outputs": [
    {
     "name": "stdin",
     "output_type": "stream",
     "text": [
      "Enter an integer\n",
      " 9\n"
     ]
    },
    {
     "name": "stdout",
     "output_type": "stream",
     "text": [
      "8\n"
     ]
    }
   ],
   "source": [
    "rand_var = random.randint(1,10)\n",
    "\n",
    "guess = int(input(\"Enter an integer\\n\"))\n",
    "\n",
    "if guess == rand_var:\n",
    "    print(\"we guess correct value\")\n",
    "    \n",
    "print(rand_var)  "
   ]
  },
  {
   "cell_type": "code",
   "execution_count": 10,
   "id": "6bf79315-b337-4c7d-8351-e8b6c77d07ac",
   "metadata": {},
   "outputs": [
    {
     "name": "stdin",
     "output_type": "stream",
     "text": [
      "Enter an integer\n",
      " 6\n"
     ]
    },
    {
     "name": "stdout",
     "output_type": "stream",
     "text": [
      "Keep trying\n",
      "3\n"
     ]
    }
   ],
   "source": [
    "rand_var = 3\n",
    "\n",
    "guess = int(input(\"Enter an integer\\n\"))\n",
    "\n",
    "if guess == rand_var:\n",
    "    print(\"we guess correct value\")\n",
    "else:\n",
    "    print(\"Keep trying\")\n",
    "    \n",
    "print(rand_var)"
   ]
  },
  {
   "cell_type": "code",
   "execution_count": 12,
   "id": "0c084d3f-bd9c-402d-9868-d7333fad933d",
   "metadata": {},
   "outputs": [
    {
     "name": "stdin",
     "output_type": "stream",
     "text": [
      "Enter an integer\n",
      " 20\n"
     ]
    },
    {
     "name": "stdout",
     "output_type": "stream",
     "text": [
      "Keep trying\n",
      "23\n"
     ]
    }
   ],
   "source": [
    "rand_var = 23\n",
    "guess = int(input(\"Enter an integer\\n\"))\n",
    "\n",
    "if guess == rand_var:\n",
    "    print(\"we guess correct value\")\n",
    "elif guess > rand_var:\n",
    "    print(\"guess number is greter than random variable\")\n",
    "else:\n",
    "    print(\"Keep trying\")\n",
    "    \n",
    "print(rand_var)"
   ]
  },
  {
   "cell_type": "code",
   "execution_count": 14,
   "id": "a2a531f6-56b3-409d-b31f-211ec3a44e91",
   "metadata": {},
   "outputs": [
    {
     "name": "stdin",
     "output_type": "stream",
     "text": [
      "Enter an integer\n",
      " 11\n"
     ]
    },
    {
     "name": "stdout",
     "output_type": "stream",
     "text": [
      "we guess correct value\n",
      "guess number is smaller than random variable\n"
     ]
    }
   ],
   "source": [
    "rand_var = 11\n",
    "\n",
    "guess = int(input(\"Enter an integer\\n\"))\n",
    "\n",
    "if guess == rand_var:\n",
    "    print(\"we guess correct value\")\n",
    "    if guess <= rand_var:\n",
    "        print(\"guess number is smaller than random variable\")\n",
    "elif guess > rand_var:\n",
    "    print(\"guess number is greter than random variable\")\n",
    "else:\n",
    "    print(\"Keep trying\")"
   ]
  },
  {
   "cell_type": "code",
   "execution_count": 15,
   "id": "21672fa7-a67e-458f-b183-e9c992477ef8",
   "metadata": {},
   "outputs": [
    {
     "name": "stdin",
     "output_type": "stream",
     "text": [
      "Enter the number  4\n"
     ]
    },
    {
     "name": "stdout",
     "output_type": "stream",
     "text": [
      "4  is even number\n"
     ]
    }
   ],
   "source": [
    "number = int(input(\"Enter the number \"))\n",
    "\n",
    "if number % 2 == 0 :   # if entered number is even then only message is shown to the user\n",
    "    print(number ,\" is even number\")  "
   ]
  },
  {
   "cell_type": "code",
   "execution_count": 16,
   "id": "0841983b-e587-43d5-9944-3676b2c28ddc",
   "metadata": {},
   "outputs": [
    {
     "name": "stdin",
     "output_type": "stream",
     "text": [
      "Enter the number  7\n"
     ]
    }
   ],
   "source": [
    "number = int(input(\"Enter the number \"))\n",
    "\n",
    "if number % 3 == 0 :   # if entered number is even then only message is shown to the user\n",
    "    print(number ,\" is odd number\")  "
   ]
  },
  {
   "cell_type": "code",
   "execution_count": 17,
   "id": "910ba721-6ede-4632-b9a4-cbd4ad529ef6",
   "metadata": {},
   "outputs": [
    {
     "name": "stdin",
     "output_type": "stream",
     "text": [
      "Enter the number  7\n"
     ]
    },
    {
     "name": "stdout",
     "output_type": "stream",
     "text": [
      "7  is odd number\n"
     ]
    }
   ],
   "source": [
    "number = int(input(\"Enter the number \"))\n",
    "\n",
    "if number % 2 == 0 :   # if entered number is even then only message is shown to the user\n",
    "    print(number ,\" is even number\") \n",
    "else :\n",
    "    print(number ,\" is odd number\")"
   ]
  },
  {
   "cell_type": "code",
   "execution_count": 20,
   "id": "6dedda6e-9483-4871-95a5-7e88905773dd",
   "metadata": {},
   "outputs": [
    {
     "name": "stdin",
     "output_type": "stream",
     "text": [
      "Enter the mark  -1\n"
     ]
    },
    {
     "name": "stdout",
     "output_type": "stream",
     "text": [
      "Invalid marks are entered!\n"
     ]
    }
   ],
   "source": [
    "mark = int(input(\"Enter the mark \"))\n",
    "\n",
    "if mark < 0 or mark > 100: \n",
    "    print(\"Invalid marks are entered!\")\n",
    "elif mark >= 0 and mark < 35 :\n",
    "    print(\"Sorry you failed!\")\n",
    "elif mark >= 36 and mark <= 60:\n",
    "    print(\"You passed in second class\")\n",
    "elif mark >= 61 and mark <= 80 :\n",
    "    print(\"You passed in first class\")\n",
    "else :\n",
    "    print(\"You got distinction!\")"
   ]
  },
  {
   "cell_type": "code",
   "execution_count": 21,
   "id": "c7e659c2-a30c-4c50-acc9-d73ea06efdfc",
   "metadata": {},
   "outputs": [
    {
     "name": "stdin",
     "output_type": "stream",
     "text": [
      "Enter the mark  77\n"
     ]
    },
    {
     "name": "stdout",
     "output_type": "stream",
     "text": [
      "You passed in first class\n"
     ]
    }
   ],
   "source": [
    "mark = int(input(\"Enter the mark \"))\n",
    "\n",
    "if mark < 0 or mark > 100: \n",
    "    print(\"Invalid marks are entered!\")\n",
    "elif mark >= 0 and mark < 35 :\n",
    "    print(\"Sorry you failed!\")\n",
    "elif mark >= 36 and mark <= 60:\n",
    "    print(\"You passed in second class\")\n",
    "elif mark >= 61 and mark <= 80 :\n",
    "    print(\"You passed in first class\")\n",
    "elif mark >= 91 and mark <= 100:\n",
    "    print(\"you are in top 10 list\")\n",
    "else :\n",
    "    print(\"You got distinction!\")"
   ]
  },
  {
   "cell_type": "code",
   "execution_count": 22,
   "id": "89284e94-fe58-41ee-91fa-b6a3716ead0a",
   "metadata": {},
   "outputs": [
    {
     "name": "stdin",
     "output_type": "stream",
     "text": [
      "Enter first number \n",
      " 22\n",
      "Enter second number \n",
      " 88\n"
     ]
    },
    {
     "name": "stdout",
     "output_type": "stream",
     "text": [
      "First number is smaller than second\n"
     ]
    }
   ],
   "source": [
    "number1 = int(input(\"Enter first number \\n\"))\n",
    "number2 = int(input(\"Enter second number \\n\"))\n",
    "\n",
    "if number1 == number2:\n",
    "    print(\"Both numbers are same\")\n",
    "else:\n",
    "    if number1 > number2:\n",
    "        print(\"First number is bigger than second\")\n",
    "    else:\n",
    "        print(\"First number is smaller than second\")"
   ]
  },
  {
   "cell_type": "code",
   "execution_count": 23,
   "id": "2ad6ae59-dbe6-49a2-9bcb-28bae7d616cb",
   "metadata": {},
   "outputs": [
    {
     "name": "stdin",
     "output_type": "stream",
     "text": [
      "Enter the lenght in centimeter  656\n"
     ]
    },
    {
     "name": "stdout",
     "output_type": "stream",
     "text": [
      "656.0  cm =  258.26771653543307  inches\n"
     ]
    }
   ],
   "source": [
    "length_in_cm = input(\"Enter the lenght in centimeter \")\n",
    "\n",
    "length_in_cm = float(length_in_cm)\n",
    "    \n",
    "if length_in_cm < 0 :\n",
    "    print(\"You have entered negative value. \")\n",
    "else:\n",
    "    length_in_inches = length_in_cm / 2.54\n",
    "    print(length_in_cm, \" cm = \", length_in_inches, \" inches\")"
   ]
  },
  {
   "cell_type": "code",
   "execution_count": 27,
   "id": "40877c1e-0aca-4c42-9abc-047fb4639999",
   "metadata": {},
   "outputs": [
    {
     "name": "stdin",
     "output_type": "stream",
     "text": [
      "Enter your username:  guest\n",
      "Enter your password:  1234\n"
     ]
    },
    {
     "name": "stdout",
     "output_type": "stream",
     "text": [
      "Incorrect password. Please try again.\n"
     ]
    }
   ],
   "source": [
    "# Password and Username Checking\n",
    "username = input(\"Enter your username: \")\n",
    "password = input(\"Enter your password: \")\n",
    "\n",
    "\n",
    "if username == \"admin\":\n",
    "    if password == \"password\":\n",
    "        print(\"Login successful! Welcome, admin.\")\n",
    "    elif password == \"12345\":\n",
    "        print(\"Weak password. Please reset your password.\")\n",
    "    else:\n",
    "        print(\"Incorrect password. Please try again.\")\n",
    "else:\n",
    "    if username == \"guest\":\n",
    "        if password == \"guest\":\n",
    "            print(\"Login successful! Welcome, guest.\")\n",
    "        else:\n",
    "            print(\"Incorrect password. Please try again.\")\n",
    "    else:\n",
    "        print(\"Unknown user. Please try again.\")"
   ]
  },
  {
   "cell_type": "code",
   "execution_count": 32,
   "id": "585edb89-43f5-47f1-b369-2f43aadf69db",
   "metadata": {},
   "outputs": [
    {
     "name": "stdout",
     "output_type": "stream",
     "text": [
      "i will be able to buy a jacket\n"
     ]
    }
   ],
   "source": [
    "price = 360.67\n",
    "\n",
    "if price > 500 : \n",
    "    print(\" may be i wont be able to buy a jacket \")\n",
    "elif price < 500 :\n",
    "    print(\"i will be able to buy a jacket\")\n",
    "elif  price == 500 :\n",
    "    print(\"for sure i will be able to buy\")\n",
    "else  :\n",
    "    print(\"i don't know\")"
   ]
  },
  {
   "cell_type": "code",
   "execution_count": 33,
   "id": "42992402-fa08-4204-9eab-b3248ccf3dc3",
   "metadata": {},
   "outputs": [
    {
     "name": "stdout",
     "output_type": "stream",
     "text": [
      "do not perform this task\n"
     ]
    }
   ],
   "source": [
    "lis = [1,2,3,4,5,6]\n",
    "\n",
    "if 60 in lis :\n",
    "    print(\"try to perform a task \")\n",
    "else :\n",
    "    print(\"do not perform this task\")"
   ]
  },
  {
   "cell_type": "code",
   "execution_count": 34,
   "id": "e7de9462-01c6-48e5-89b9-e73960a91b29",
   "metadata": {},
   "outputs": [
    {
     "name": "stdout",
     "output_type": "stream",
     "text": [
      "try to perform a task \n"
     ]
    }
   ],
   "source": [
    "lis = [1,2,3,4,5,6]\n",
    "\n",
    "if 60 not in lis :\n",
    "    print(\"try to perform a task \")\n",
    "else :\n",
    "    print(\"do not perform this task\")"
   ]
  },
  {
   "cell_type": "code",
   "execution_count": 35,
   "id": "6540d41f-5ec2-485d-8665-845c113ea1ca",
   "metadata": {},
   "outputs": [
    {
     "name": "stdout",
     "output_type": "stream",
     "text": [
      "try to do sub\n",
      "try to do mul\n",
      "this is new statement\n"
     ]
    }
   ],
   "source": [
    "lis = [1,2,3,4,5,6]\n",
    "\n",
    "if 10 in lis :\n",
    "    print(\"thy to do a addition\")\n",
    "elif 2 in lis :\n",
    "    print(\"try to do sub\")\n",
    "    if 3 in lis :\n",
    "        print(\"try to do mul\")\n",
    "if 4 in lis :\n",
    "    print(\"this is new statement\")"
   ]
  },
  {
   "cell_type": "code",
   "execution_count": 36,
   "id": "c613acb6-c3db-4441-a0e6-b0758f19f806",
   "metadata": {},
   "outputs": [
    {
     "name": "stdout",
     "output_type": "stream",
     "text": [
      "Hello@@@@##&&\n"
     ]
    }
   ],
   "source": [
    "s= \"Hello@@@@##&&\"\n",
    "\n",
    "print(s.rstrip(\"@#\"))"
   ]
  },
  {
   "cell_type": "code",
   "execution_count": 37,
   "id": "32ebae5f-c818-43dd-8f43-d6671ad1c928",
   "metadata": {},
   "outputs": [
    {
     "name": "stdout",
     "output_type": "stream",
     "text": [
      "Hello\n"
     ]
    }
   ],
   "source": [
    "print(s.rstrip(\"&@#\"))"
   ]
  },
  {
   "cell_type": "code",
   "execution_count": 39,
   "id": "0b6f34e0-5e95-4fd1-ba13-acf4ad14a534",
   "metadata": {},
   "outputs": [
    {
     "name": "stdout",
     "output_type": "stream",
     "text": [
      "Hello@@@@##\n"
     ]
    }
   ],
   "source": [
    "print(s.strip(\"&\"))"
   ]
  },
  {
   "cell_type": "code",
   "execution_count": 42,
   "id": "61018294-d3bd-4661-8e4d-bc522e16e9c4",
   "metadata": {},
   "outputs": [
    {
     "data": {
      "text/plain": [
       "'Hello##&&'"
      ]
     },
     "execution_count": 42,
     "metadata": {},
     "output_type": "execute_result"
    }
   ],
   "source": [
    "s.replace(\"@\", \"\")"
   ]
  },
  {
   "cell_type": "code",
   "execution_count": 43,
   "id": "8cb429e3-22d6-4362-ae63-5e79a4cf0f95",
   "metadata": {},
   "outputs": [
    {
     "name": "stdout",
     "output_type": "stream",
     "text": [
      "if all the blocks wil fail then do this \n"
     ]
    }
   ],
   "source": [
    "a = 11\n",
    "\n",
    "if a == 12 :\n",
    "    print(\"here we are trying to compare 10 with 12\")\n",
    "elif a == 10:\n",
    "    print(\"we are trying to compare 10 with 11\")\n",
    "else :\n",
    "    print(\"if all the blocks wil fail then do this \")"
   ]
  },
  {
   "cell_type": "code",
   "execution_count": 46,
   "id": "c36bb7cf-39d3-4faf-afdc-722b9a88cc89",
   "metadata": {},
   "outputs": [
    {
     "name": "stdin",
     "output_type": "stream",
     "text": [
      " 401\n"
     ]
    },
    {
     "name": "stdout",
     "output_type": "stream",
     "text": [
      "i will be able to buy something\n",
      "\n",
      "i wont be able to buy anyting\n"
     ]
    }
   ],
   "source": [
    "price  = int(input())\n",
    "\n",
    "if price  < 500 :\n",
    "    print(\"i will be able to buy something\")\n",
    "    print()\n",
    "    if price < 400 :\n",
    "        print(\"i will be able to buy a jacket\")\n",
    "    elif price < 300 :\n",
    "        print(\"i will be able to buy a shirt\")\n",
    "        if price < 200 :\n",
    "            print(\"i would like to do sometign\")\n",
    "    else :\n",
    "        print(\"i wont be able to buy anyting\")\n",
    "else :\n",
    "     print(\"i wont be able to buy anything with this price tag\")"
   ]
  },
  {
   "cell_type": "code",
   "execution_count": 48,
   "id": "cf47f959-957b-4037-9b62-16e12f6f6166",
   "metadata": {},
   "outputs": [
    {
     "name": "stdin",
     "output_type": "stream",
     "text": [
      " -6\n"
     ]
    },
    {
     "name": "stdout",
     "output_type": "stream",
     "text": [
      "rnage belowe 0\n"
     ]
    }
   ],
   "source": [
    "price  = int(input())\n",
    "\n",
    "if price >= 0 and price < 200:\n",
    "    print(\"range between 0-199\")\n",
    "    \n",
    "elif price >= 200 and price < 400:\n",
    "    print(\"range between 200-399\")\n",
    "\n",
    "elif price >= 400 and price < 600:\n",
    "    print(\"range between 400-599\")\n",
    "\n",
    "elif price >= 600 and price < 700:\n",
    "    print(\"range between 600-799\")\n",
    "    \n",
    "else:\n",
    "    if price < 0:\n",
    "        print(\"rnage belowe 0\")\n",
    "    else:\n",
    "        print(\"range above 799\")"
   ]
  },
  {
   "cell_type": "code",
   "execution_count": 49,
   "id": "c0b9f74b-7c74-4065-8451-d295747c7858",
   "metadata": {},
   "outputs": [
    {
     "name": "stdin",
     "output_type": "stream",
     "text": [
      " 755\n"
     ]
    },
    {
     "name": "stdout",
     "output_type": "stream",
     "text": [
      "you will get IIT\n",
      "you will get IIM\n"
     ]
    }
   ],
   "source": [
    "marks = int(input())\n",
    "\n",
    "if marks < 600:\n",
    "    print(\"NO GRE\")\n",
    "    if marks < 500:\n",
    "        print(\"TOFEL\")\n",
    "        if marks < 400:\n",
    "            print(\"Try something else\")\n",
    "    else:\n",
    "        print(\"YOU GOT TOFEL\")\n",
    "        \n",
    "elif marks > 600:\n",
    "    print(\"you will get IIT\")\n",
    "    if marks > 700:\n",
    "        print(\"you will get IIM\")\n",
    "    else:\n",
    "        print(\"try next time\")\n",
    "else:\n",
    "    print(\"You got GRE congratulations\")"
   ]
  },
  {
   "cell_type": "code",
   "execution_count": 50,
   "id": "587430bd-7651-4eaa-8717-1f0d51cbe54c",
   "metadata": {},
   "outputs": [
    {
     "ename": "SyntaxError",
     "evalue": "invalid syntax (613152775.py, line 7)",
     "output_type": "error",
     "traceback": [
      "\u001b[1;36m  Cell \u001b[1;32mIn[50], line 7\u001b[1;36m\u001b[0m\n\u001b[1;33m    elif:\u001b[0m\n\u001b[1;37m        ^\u001b[0m\n\u001b[1;31mSyntaxError\u001b[0m\u001b[1;31m:\u001b[0m invalid syntax\n"
     ]
    }
   ],
   "source": [
    "mark = int(input(\"entrance exam marks\"))\n",
    "\n",
    "if mark > 700:\n",
    "    print()\n",
    "    if mark :\n",
    "        print()\n",
    "    elif:\n",
    "        print()\n",
    "        if:\n",
    "            print()\n",
    "        else:\n",
    "            print()\n",
    "    else:\n",
    "        print()\n",
    "elif:\n",
    "    print()\n",
    "    \n",
    "else:\n",
    "    print()"
   ]
  },
  {
   "cell_type": "code",
   "execution_count": 52,
   "id": "4f2e43c9-a740-4a77-8f1e-9fa7a1ca53e1",
   "metadata": {},
   "outputs": [
    {
     "name": "stdin",
     "output_type": "stream",
     "text": [
      "enter a number  7\n"
     ]
    },
    {
     "name": "stdout",
     "output_type": "stream",
     "text": [
      "it is divisible by 3 or 2 or 5\n"
     ]
    }
   ],
   "source": [
    "n = int(input(\"enter a number \"))\n",
    "\n",
    "if n==2:\n",
    "    print(\"it is a prime number \", n)\n",
    "elif n==3:\n",
    "    print(\"it is a prime number \", n)\n",
    "    \n",
    "elif n%3==0 or n%2==0 or n%5==0 or n%7==0:\n",
    "    print(\"it is divisible by 3 or 2 or 5\")\n",
    "else:\n",
    "    print(\"it is a prime number\")"
   ]
  },
  {
   "cell_type": "code",
   "execution_count": 53,
   "id": "a4e17142-55ef-4532-932d-a24e3e24bd0e",
   "metadata": {},
   "outputs": [
    {
     "name": "stdin",
     "output_type": "stream",
     "text": [
      "enter a name of employee  rahul\n",
      "enter gender of employee   m\n",
      "enter basic salary of employee  25000\n",
      "enter experience  6\n",
      "enter incrament rate  0.20\n"
     ]
    },
    {
     "name": "stdout",
     "output_type": "stream",
     "text": [
      "gross_salary - 55000\n",
      "net_salary - 51250\n"
     ]
    }
   ],
   "source": [
    "name = input(\"enter a name of employee \")\n",
    "gender = input(\"enter gender of employee  \")\n",
    "first_base_salary = int(input(\"enter basic salary of employee \"))\n",
    "year_of_experience = eval(input(\"enter experience \"))\n",
    "salary_increase_rate = eval(input(\"enter incrament rate \"))\n",
    "\n",
    "gross_salary = first_base_salary * (1 + salary_increase_rate * year_of_experience)\n",
    "gross_salary = int(gross_salary)\n",
    "net_salary = gross_salary - (first_base_salary*0.15)\n",
    "net_salary = int(net_salary)\n",
    "print(\"gross_salary -\", gross_salary)\n",
    "print(\"net_salary -\", net_salary)\n",
    "\n",
    "bonus_thresold = 2"
   ]
  },
  {
   "cell_type": "code",
   "execution_count": 55,
   "id": "d67feeb4-43fa-4b3e-93da-b5ccbed7b964",
   "metadata": {},
   "outputs": [
    {
     "name": "stdin",
     "output_type": "stream",
     "text": [
      "enter a name of employee  abc\n",
      "enter gender of employee   m\n",
      "enter basic salary of employee  45000\n",
      "enter experience  12\n",
      "enter incrament rate  0.2\n"
     ]
    },
    {
     "name": "stdout",
     "output_type": "stream",
     "text": [
      "gross_salary - 153000\n",
      "net_salary - 146250\n",
      "Bonus =  26325\n",
      "overall_Bonus =  26325.0 + 10000 = 36325\n",
      "You will get early personal cabin\n"
     ]
    }
   ],
   "source": [
    "name = input(\"enter a name of employee \")\n",
    "gender = input(\"enter gender of employee  \")\n",
    "first_base_salary = int(input(\"enter basic salary of employee \"))\n",
    "year_of_experience = eval(input(\"enter experience \"))\n",
    "salary_increase_rate = eval(input(\"enter incrament rate \"))\n",
    "\n",
    "gross_salary = first_base_salary * (1 + salary_increase_rate * year_of_experience)\n",
    "gross_salary = int(gross_salary)\n",
    "net_salary = gross_salary - (first_base_salary*0.15)\n",
    "net_salary = int(net_salary)\n",
    "print(\"gross_salary -\", gross_salary)\n",
    "print(\"net_salary -\", net_salary)\n",
    "\n",
    "bonus_thresold = 2\n",
    "\n",
    "if year_of_experience >= 10:\n",
    "    if gender == \"f\":\n",
    "        bonus_rate = 0.2\n",
    "        bonus = net_salary * bonus_rate\n",
    "        print(\"Bonus = \", int(bonus))\n",
    "        if year_of_experience <=15 and gross_salary >= 100000:\n",
    "            aditional_bonus = 11000\n",
    "            total_bonus = bonus + aditional_bonus\n",
    "            print(\"overall_Bonus = \", bonus, \"+\", aditional_bonus,\"=\", int(total_bonus))\n",
    "            if net_salary >= 100000:\n",
    "                print(\"You will get early personal cabin\")\n",
    "        if year_of_experience > 15 and net_salary >= 100000:\n",
    "            aditional_bonus = 11000\n",
    "            total_bonus = bonus + aditional_bonus\n",
    "            print(\"overall_Bonus = \", bonus, \"+\", aditional_bonus,\"=\", int(total_bonus))\n",
    "            print(\"You will get personal cabin\")\n",
    "    elif gender == \"m\":\n",
    "        bonus_rate = 0.18\n",
    "        bonus = net_salary * bonus_rate\n",
    "        print(\"Bonus = \", int(bonus))\n",
    "        if year_of_experience <=15 and gross_salary >= 100000:\n",
    "            aditional_bonus = 10000\n",
    "            total_bonus = bonus + aditional_bonus\n",
    "            print(\"overall_Bonus = \", bonus, \"+\", aditional_bonus,\"=\", int(total_bonus))\n",
    "            if net_salary >= 100000:\n",
    "                print(\"You will get early personal cabin\")\n",
    "        if year_of_experience > 15 and net_salary >= 100000:\n",
    "            aditional_bonus = 10000\n",
    "            total_bonus = bonus + aditional_bonus\n",
    "            print(\"overall_Bonus = \", bonus, \"+\", aditional_bonus,\"=\", int(total_bonus))\n",
    "            print(\"You will get personal cabin\")  \n",
    "elif year_of_experience>= 6 < 10:\n",
    "    if gender == \"f\":\n",
    "        bonus_rate = 0.15\n",
    "        bonus = net_salary * bonus_rate\n",
    "        print(\"Bonus = \", bonus)\n",
    "        if gross_salary >= 75000:\n",
    "            print(\"Get promoted \")\n",
    "            if net_salary>= 70000:\n",
    "                print(\"Early promoted \")\n",
    "        else:\n",
    "            print(\"better luck next year\")\n",
    "    elif gender == \"m\":\n",
    "        bonus_rate = 0.14\n",
    "        bonus = net_salary * bonus_rate\n",
    "        print(\"Bonus = \", bonus)\n",
    "        if gross_salary >= 75000:\n",
    "            print(\"Get promoted \")\n",
    "            if net_salary>= 70000:\n",
    "                print(\"Early promoted \")\n",
    "        else:\n",
    "            print(\"better luck next year\")        \n",
    "elif year_of_experience > 2 <=5:\n",
    "    if gender == \"f\":\n",
    "        bonus_rate = 0.12\n",
    "        bonus = net_salary * bonus_rate\n",
    "        print(\"Bonus = \", bonus)\n",
    "        if gross_salary>= 50000:\n",
    "            print(\"Get regularization \")\n",
    "            if net_salary>= 45000:\n",
    "                print(\"Get early regularization\")\n",
    "    elif gender == \"m\":\n",
    "        bonus_rate = 0.10\n",
    "        bonus = net_salary * bonus_rate\n",
    "        print(\"Bonus = \", bonus)\n",
    "        if gross_salary>= 50000:\n",
    "            print(\"Get regularization \")\n",
    "            if net_salary>= 45000:\n",
    "                print(\"Get early regularization\")\n",
    "else:\n",
    "    print(\"No bonus for employee\")"
   ]
  },
  {
   "cell_type": "code",
   "execution_count": null,
   "id": "b957fda0-46e4-4612-a694-1085467aef0c",
   "metadata": {},
   "outputs": [],
   "source": []
  }
 ],
 "metadata": {
  "kernelspec": {
   "display_name": "Python 3 (ipykernel)",
   "language": "python",
   "name": "python3"
  },
  "language_info": {
   "codemirror_mode": {
    "name": "ipython",
    "version": 3
   },
   "file_extension": ".py",
   "mimetype": "text/x-python",
   "name": "python",
   "nbconvert_exporter": "python",
   "pygments_lexer": "ipython3",
   "version": "3.11.7"
  }
 },
 "nbformat": 4,
 "nbformat_minor": 5
}
