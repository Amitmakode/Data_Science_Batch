{
 "cells": [
  {
   "cell_type": "markdown",
   "id": "aaa69082-ec0a-4b2c-bb20-93c3a4338142",
   "metadata": {},
   "source": [
    "### Tuple"
   ]
  },
  {
   "cell_type": "code",
   "execution_count": 1,
   "id": "a7af1e2b-979f-4aa8-b799-ae4b8307900b",
   "metadata": {},
   "outputs": [],
   "source": [
    "tup = (\"blcak\", \"white\", \"Red\", \"green\", \"Blue\")"
   ]
  },
  {
   "cell_type": "code",
   "execution_count": 2,
   "id": "e9b55516-3373-4e81-a85c-c318e2bdddef",
   "metadata": {},
   "outputs": [
    {
     "data": {
      "text/plain": [
       "'white'"
      ]
     },
     "execution_count": 2,
     "metadata": {},
     "output_type": "execute_result"
    }
   ],
   "source": [
    "tup[1]"
   ]
  },
  {
   "cell_type": "code",
   "execution_count": 3,
   "id": "9fee35ca-01c6-46c4-8778-145dac91688e",
   "metadata": {},
   "outputs": [
    {
     "data": {
      "text/plain": [
       "'green'"
      ]
     },
     "execution_count": 3,
     "metadata": {},
     "output_type": "execute_result"
    }
   ],
   "source": [
    "tup[3]"
   ]
  },
  {
   "cell_type": "code",
   "execution_count": 4,
   "id": "61c66699-a8ee-4754-8e3c-3ea156b41474",
   "metadata": {},
   "outputs": [
    {
     "data": {
      "text/plain": [
       "'white'"
      ]
     },
     "execution_count": 4,
     "metadata": {},
     "output_type": "execute_result"
    }
   ],
   "source": [
    "tup[-4]"
   ]
  },
  {
   "cell_type": "code",
   "execution_count": 5,
   "id": "483268ad-e5a7-444a-954e-f2bcf5158e43",
   "metadata": {},
   "outputs": [
    {
     "data": {
      "text/plain": [
       "('white', 'Red', 'green')"
      ]
     },
     "execution_count": 5,
     "metadata": {},
     "output_type": "execute_result"
    }
   ],
   "source": [
    "tup[1:4]"
   ]
  },
  {
   "cell_type": "code",
   "execution_count": 6,
   "id": "3d6646bf-2fb0-4993-8758-5cccb254c877",
   "metadata": {},
   "outputs": [
    {
     "data": {
      "text/plain": [
       "('white', 'green')"
      ]
     },
     "execution_count": 6,
     "metadata": {},
     "output_type": "execute_result"
    }
   ],
   "source": [
    "tup[1:4:2]"
   ]
  },
  {
   "cell_type": "code",
   "execution_count": 7,
   "id": "7e0d3c2f-b31e-4ff8-8f33-bd8639cd6ad3",
   "metadata": {},
   "outputs": [
    {
     "data": {
      "text/plain": [
       "('Blue', 'Red')"
      ]
     },
     "execution_count": 7,
     "metadata": {},
     "output_type": "execute_result"
    }
   ],
   "source": [
    "tup[-1:-4:-2]"
   ]
  },
  {
   "cell_type": "code",
   "execution_count": 9,
   "id": "fec0da69-8fd8-4dfe-bad1-edef155dd698",
   "metadata": {},
   "outputs": [
    {
     "ename": "TypeError",
     "evalue": "'tuple' object does not support item assignment",
     "output_type": "error",
     "traceback": [
      "\u001b[1;31m---------------------------------------------------------------------------\u001b[0m",
      "\u001b[1;31mTypeError\u001b[0m                                 Traceback (most recent call last)",
      "Cell \u001b[1;32mIn[9], line 1\u001b[0m\n\u001b[1;32m----> 1\u001b[0m tup[\u001b[38;5;241m1\u001b[39m] \u001b[38;5;241m=\u001b[39m \u001b[38;5;124m\"\u001b[39m\u001b[38;5;124mYellow\u001b[39m\u001b[38;5;124m\"\u001b[39m\n",
      "\u001b[1;31mTypeError\u001b[0m: 'tuple' object does not support item assignment"
     ]
    }
   ],
   "source": [
    "tup[1] = \"Yellow\""
   ]
  },
  {
   "cell_type": "code",
   "execution_count": 10,
   "id": "75afa392-b689-4771-b3f0-d38ce1228d8d",
   "metadata": {},
   "outputs": [
    {
     "data": {
      "text/plain": [
       "1"
      ]
     },
     "execution_count": 10,
     "metadata": {},
     "output_type": "execute_result"
    }
   ],
   "source": [
    "tup.count(\"Red\")"
   ]
  },
  {
   "cell_type": "code",
   "execution_count": 11,
   "id": "99043ca6-303b-465a-a105-3096dab8ccc4",
   "metadata": {},
   "outputs": [
    {
     "data": {
      "text/plain": [
       "2"
      ]
     },
     "execution_count": 11,
     "metadata": {},
     "output_type": "execute_result"
    }
   ],
   "source": [
    "tup.index(\"Red\")"
   ]
  },
  {
   "cell_type": "markdown",
   "id": "0864e307-6694-42c6-a6a6-12f59b15931c",
   "metadata": {},
   "source": [
    "## Set"
   ]
  },
  {
   "cell_type": "code",
   "execution_count": 12,
   "id": "e8d1a9fa-30b4-4a77-970b-058decd9188f",
   "metadata": {},
   "outputs": [],
   "source": [
    "# Creating sets\n",
    "set1 = {1, 2, 3, 4, 5}\n",
    "\n",
    "set2 = set([3, 4, 5, 6, 7])"
   ]
  },
  {
   "cell_type": "code",
   "execution_count": 13,
   "id": "8ac18fe4-aba0-4cbd-8140-b3ede5bee9fe",
   "metadata": {},
   "outputs": [
    {
     "data": {
      "text/plain": [
       "{3, 4, 5, 6, 7}"
      ]
     },
     "execution_count": 13,
     "metadata": {},
     "output_type": "execute_result"
    }
   ],
   "source": [
    "set2"
   ]
  },
  {
   "cell_type": "code",
   "execution_count": 14,
   "id": "c90b3e94-9cc2-43c3-8fac-1509bcf01823",
   "metadata": {},
   "outputs": [],
   "source": [
    "set3 = {1,2,3,1,2,3}"
   ]
  },
  {
   "cell_type": "code",
   "execution_count": 15,
   "id": "d67fb1f4-e8ed-4aa6-82fb-98c561bd83ae",
   "metadata": {},
   "outputs": [
    {
     "data": {
      "text/plain": [
       "{1, 2, 3}"
      ]
     },
     "execution_count": 15,
     "metadata": {},
     "output_type": "execute_result"
    }
   ],
   "source": [
    "set3"
   ]
  },
  {
   "cell_type": "code",
   "execution_count": 17,
   "id": "8bb99e54-0514-4d1a-a288-a54c5cec08ab",
   "metadata": {},
   "outputs": [
    {
     "ename": "TypeError",
     "evalue": "'set' object is not subscriptable",
     "output_type": "error",
     "traceback": [
      "\u001b[1;31m---------------------------------------------------------------------------\u001b[0m",
      "\u001b[1;31mTypeError\u001b[0m                                 Traceback (most recent call last)",
      "Cell \u001b[1;32mIn[17], line 1\u001b[0m\n\u001b[1;32m----> 1\u001b[0m set1[\u001b[38;5;241m2\u001b[39m]\n",
      "\u001b[1;31mTypeError\u001b[0m: 'set' object is not subscriptable"
     ]
    }
   ],
   "source": [
    "set1[2]"
   ]
  },
  {
   "cell_type": "code",
   "execution_count": 18,
   "id": "698d1eb7-aa03-4d25-b1d3-85885ca68f81",
   "metadata": {},
   "outputs": [
    {
     "ename": "TypeError",
     "evalue": "'set' object is not subscriptable",
     "output_type": "error",
     "traceback": [
      "\u001b[1;31m---------------------------------------------------------------------------\u001b[0m",
      "\u001b[1;31mTypeError\u001b[0m                                 Traceback (most recent call last)",
      "Cell \u001b[1;32mIn[18], line 1\u001b[0m\n\u001b[1;32m----> 1\u001b[0m set1[\u001b[38;5;241m2\u001b[39m:\u001b[38;5;241m6\u001b[39m]\n",
      "\u001b[1;31mTypeError\u001b[0m: 'set' object is not subscriptable"
     ]
    }
   ],
   "source": [
    "set1[2:6]"
   ]
  },
  {
   "cell_type": "code",
   "execution_count": 20,
   "id": "6207ea65-b196-4399-97a2-2a54830cbec0",
   "metadata": {},
   "outputs": [
    {
     "ename": "TypeError",
     "evalue": "'set' object does not support item assignment",
     "output_type": "error",
     "traceback": [
      "\u001b[1;31m---------------------------------------------------------------------------\u001b[0m",
      "\u001b[1;31mTypeError\u001b[0m                                 Traceback (most recent call last)",
      "Cell \u001b[1;32mIn[20], line 1\u001b[0m\n\u001b[1;32m----> 1\u001b[0m set1[\u001b[38;5;241m2\u001b[39m] \u001b[38;5;241m=\u001b[39m \u001b[38;5;241m33\u001b[39m\n",
      "\u001b[1;31mTypeError\u001b[0m: 'set' object does not support item assignment"
     ]
    }
   ],
   "source": [
    "set1[2] = 33"
   ]
  },
  {
   "cell_type": "code",
   "execution_count": 21,
   "id": "bf901d2b-deeb-44dc-8e5e-cb459c4ba18d",
   "metadata": {},
   "outputs": [
    {
     "ename": "TypeError",
     "evalue": "unsupported operand type(s) for +: 'set' and 'set'",
     "output_type": "error",
     "traceback": [
      "\u001b[1;31m---------------------------------------------------------------------------\u001b[0m",
      "\u001b[1;31mTypeError\u001b[0m                                 Traceback (most recent call last)",
      "Cell \u001b[1;32mIn[21], line 1\u001b[0m\n\u001b[1;32m----> 1\u001b[0m set1\u001b[38;5;241m+\u001b[39mset2\n",
      "\u001b[1;31mTypeError\u001b[0m: unsupported operand type(s) for +: 'set' and 'set'"
     ]
    }
   ],
   "source": [
    "set1+set2"
   ]
  },
  {
   "cell_type": "code",
   "execution_count": 22,
   "id": "d6b2e3c3-95ca-4f63-9945-ad9183a2ef4f",
   "metadata": {},
   "outputs": [
    {
     "ename": "TypeError",
     "evalue": "unsupported operand type(s) for *: 'set' and 'set'",
     "output_type": "error",
     "traceback": [
      "\u001b[1;31m---------------------------------------------------------------------------\u001b[0m",
      "\u001b[1;31mTypeError\u001b[0m                                 Traceback (most recent call last)",
      "Cell \u001b[1;32mIn[22], line 1\u001b[0m\n\u001b[1;32m----> 1\u001b[0m set1\u001b[38;5;241m*\u001b[39mset2\n",
      "\u001b[1;31mTypeError\u001b[0m: unsupported operand type(s) for *: 'set' and 'set'"
     ]
    }
   ],
   "source": [
    "set1*set2"
   ]
  },
  {
   "cell_type": "code",
   "execution_count": 23,
   "id": "7b7c591c-a691-4e29-82a6-0ae5a35e4dee",
   "metadata": {},
   "outputs": [],
   "source": [
    "# updates\n",
    "\n",
    "s1 = {1, 2, 3}\n",
    "s2 = {3, 4, 5}\n",
    "s1.update(s2)  # s1 is now {1, 2, 3, 4, 5}"
   ]
  },
  {
   "cell_type": "code",
   "execution_count": 24,
   "id": "930ed25d-35e4-4402-a9e5-7a786b612924",
   "metadata": {},
   "outputs": [
    {
     "data": {
      "text/plain": [
       "{1, 2, 3, 4, 5}"
      ]
     },
     "execution_count": 24,
     "metadata": {},
     "output_type": "execute_result"
    }
   ],
   "source": [
    "s1"
   ]
  },
  {
   "cell_type": "code",
   "execution_count": 25,
   "id": "91d1f6db-a29c-466e-8ee8-25e3aa11a0f6",
   "metadata": {},
   "outputs": [
    {
     "ename": "KeyError",
     "evalue": "7",
     "output_type": "error",
     "traceback": [
      "\u001b[1;31m---------------------------------------------------------------------------\u001b[0m",
      "\u001b[1;31mKeyError\u001b[0m                                  Traceback (most recent call last)",
      "Cell \u001b[1;32mIn[25], line 4\u001b[0m\n\u001b[0;32m      1\u001b[0m \u001b[38;5;66;03m# remove\u001b[39;00m\n\u001b[0;32m      3\u001b[0m s \u001b[38;5;241m=\u001b[39m {\u001b[38;5;241m1\u001b[39m, \u001b[38;5;241m2\u001b[39m, \u001b[38;5;241m3\u001b[39m}\n\u001b[1;32m----> 4\u001b[0m s\u001b[38;5;241m.\u001b[39mremove(\u001b[38;5;241m7\u001b[39m)\n",
      "\u001b[1;31mKeyError\u001b[0m: 7"
     ]
    }
   ],
   "source": [
    "# remove\n",
    "\n",
    "s = {1, 2, 3}\n",
    "s.remove(7)  # s is now {1, 3}"
   ]
  },
  {
   "cell_type": "code",
   "execution_count": 26,
   "id": "c788cc10-d1bd-4eb4-bc5a-de1865c5908d",
   "metadata": {},
   "outputs": [],
   "source": [
    "s.remove(2)"
   ]
  },
  {
   "cell_type": "code",
   "execution_count": 27,
   "id": "fc01d40a-16e9-409e-b449-5dea0ac38345",
   "metadata": {},
   "outputs": [
    {
     "data": {
      "text/plain": [
       "{1, 3}"
      ]
     },
     "execution_count": 27,
     "metadata": {},
     "output_type": "execute_result"
    }
   ],
   "source": [
    "s"
   ]
  },
  {
   "cell_type": "code",
   "execution_count": 32,
   "id": "9e718667-9c58-4c7f-8557-d39d7b75d958",
   "metadata": {},
   "outputs": [],
   "source": [
    "# discard\n",
    "\n",
    "s = {1, 2, 3}\n",
    "s.discard(4)  # s remains {1, 2, 3}"
   ]
  },
  {
   "cell_type": "code",
   "execution_count": 33,
   "id": "52214f81-d544-43f6-94b8-e5f5518c76ca",
   "metadata": {},
   "outputs": [
    {
     "data": {
      "text/plain": [
       "{1, 2, 3}"
      ]
     },
     "execution_count": 33,
     "metadata": {},
     "output_type": "execute_result"
    }
   ],
   "source": [
    "s"
   ]
  },
  {
   "cell_type": "code",
   "execution_count": 34,
   "id": "5a6d0989-c2e0-412f-8af1-22c50c19d80b",
   "metadata": {},
   "outputs": [],
   "source": [
    "# pop\n",
    "\n",
    "s = {1, 2, 3}\n",
    "x = s.pop()  # s is now {2, 3}, x is the removed element (e.g., 1)"
   ]
  },
  {
   "cell_type": "code",
   "execution_count": 35,
   "id": "c93d8390-3057-4852-8a53-01561188f7e5",
   "metadata": {},
   "outputs": [
    {
     "data": {
      "text/plain": [
       "1"
      ]
     },
     "execution_count": 35,
     "metadata": {},
     "output_type": "execute_result"
    }
   ],
   "source": [
    "x"
   ]
  },
  {
   "cell_type": "code",
   "execution_count": 36,
   "id": "66b3013f-1465-47b6-a264-675b1755db72",
   "metadata": {},
   "outputs": [
    {
     "data": {
      "text/plain": [
       "{2, 3}"
      ]
     },
     "execution_count": 36,
     "metadata": {},
     "output_type": "execute_result"
    }
   ],
   "source": [
    "s"
   ]
  },
  {
   "cell_type": "code",
   "execution_count": 37,
   "id": "a62c95ae-0787-45a7-9eb2-c2f3164f1b04",
   "metadata": {},
   "outputs": [],
   "source": [
    "# clear\n",
    "\n",
    "s = {1, 2, 3}\n",
    "s.clear()  # s is now an empty set, set()"
   ]
  },
  {
   "cell_type": "code",
   "execution_count": 38,
   "id": "ab04d45f-2d37-49c4-b7a2-04b77c637ab8",
   "metadata": {},
   "outputs": [
    {
     "data": {
      "text/plain": [
       "set()"
      ]
     },
     "execution_count": 38,
     "metadata": {},
     "output_type": "execute_result"
    }
   ],
   "source": [
    "s"
   ]
  },
  {
   "cell_type": "code",
   "execution_count": 39,
   "id": "c12a1571-2394-44ec-a133-15462ac5f045",
   "metadata": {},
   "outputs": [],
   "source": [
    "# union\n",
    "\n",
    "s1 = {1, 2, 3}\n",
    "s2 = {3, 4, 5}\n",
    "s3 = s1.union(s2)  # s3 is {1, 2, 3, 4, 5}"
   ]
  },
  {
   "cell_type": "code",
   "execution_count": 40,
   "id": "e37c8ac4-4dd6-4e2e-9b7e-d5e90765fafa",
   "metadata": {},
   "outputs": [
    {
     "data": {
      "text/plain": [
       "{1, 2, 3, 4, 5}"
      ]
     },
     "execution_count": 40,
     "metadata": {},
     "output_type": "execute_result"
    }
   ],
   "source": [
    "s3"
   ]
  },
  {
   "cell_type": "code",
   "execution_count": 41,
   "id": "3e4a8573-a84f-4e30-b6f9-4fc029f3ee8e",
   "metadata": {},
   "outputs": [
    {
     "data": {
      "text/plain": [
       "{1, 2, 3, 4, 5}"
      ]
     },
     "execution_count": 41,
     "metadata": {},
     "output_type": "execute_result"
    }
   ],
   "source": [
    "s2.union(s1)"
   ]
  },
  {
   "cell_type": "code",
   "execution_count": 42,
   "id": "a136a5af-ae14-4145-955f-190d22376647",
   "metadata": {},
   "outputs": [],
   "source": [
    "goa_city = {\"panjim\", \"vascodegama\", \"madgaon\"}\n",
    "maha_city = {\"Mumbai\", \"nagpur\", \"pune\"}\n",
    "westernregion_city = {\"Mumbai\", \"pune\", \"panjim\"}"
   ]
  },
  {
   "cell_type": "code",
   "execution_count": 43,
   "id": "997eaf5b-9cba-4fc8-961f-a44d73096594",
   "metadata": {},
   "outputs": [
    {
     "data": {
      "text/plain": [
       "{'Mumbai', 'madgaon', 'panjim', 'pune', 'vascodegama'}"
      ]
     },
     "execution_count": 43,
     "metadata": {},
     "output_type": "execute_result"
    }
   ],
   "source": [
    "goa_city.union(westernregion_city)"
   ]
  },
  {
   "cell_type": "code",
   "execution_count": 44,
   "id": "d7efe15d-658c-4298-8629-8f44ff9e74fb",
   "metadata": {},
   "outputs": [],
   "source": [
    "# intersect\n",
    "\n",
    "s1 = {1, 2, 3,4}\n",
    "s2 = {3, 4, 5}\n",
    "s3 = s1.intersection(s2)  # s3 is {3}"
   ]
  },
  {
   "cell_type": "code",
   "execution_count": 45,
   "id": "3fe86683-736b-47e5-8f01-34aadc81e215",
   "metadata": {},
   "outputs": [
    {
     "data": {
      "text/plain": [
       "{3, 4}"
      ]
     },
     "execution_count": 45,
     "metadata": {},
     "output_type": "execute_result"
    }
   ],
   "source": [
    "s3"
   ]
  },
  {
   "cell_type": "code",
   "execution_count": 46,
   "id": "92adc42f-a07d-4b71-af90-0cc5de89159b",
   "metadata": {},
   "outputs": [],
   "source": [
    "# difference\n",
    "\n",
    "s1 = {1, 2, 3}\n",
    "s2 = {3, 4, 5}\n",
    "s3 = s1.difference(s2)  # s3 is {1, 2}"
   ]
  },
  {
   "cell_type": "code",
   "execution_count": 47,
   "id": "a07ba5cf-3ce2-494e-8eac-456b2ae9179e",
   "metadata": {},
   "outputs": [
    {
     "data": {
      "text/plain": [
       "{1, 2}"
      ]
     },
     "execution_count": 47,
     "metadata": {},
     "output_type": "execute_result"
    }
   ],
   "source": [
    "s3"
   ]
  },
  {
   "cell_type": "code",
   "execution_count": 48,
   "id": "624ec6c1-79bf-4837-bba9-c22b8e68ecbc",
   "metadata": {},
   "outputs": [
    {
     "data": {
      "text/plain": [
       "{4, 5}"
      ]
     },
     "execution_count": 48,
     "metadata": {},
     "output_type": "execute_result"
    }
   ],
   "source": [
    "s2.difference(s1)"
   ]
  },
  {
   "cell_type": "code",
   "execution_count": 49,
   "id": "506b3515-2a80-4166-8381-bf0f0e5708d7",
   "metadata": {},
   "outputs": [
    {
     "data": {
      "text/plain": [
       "{'madgaon', 'vascodegama'}"
      ]
     },
     "execution_count": 49,
     "metadata": {},
     "output_type": "execute_result"
    }
   ],
   "source": [
    "goa_city.difference(westernregion_city)"
   ]
  },
  {
   "cell_type": "code",
   "execution_count": 50,
   "id": "271613cd-d383-4a9e-87df-e900114f23d9",
   "metadata": {},
   "outputs": [],
   "source": [
    "# copy\n",
    "\n",
    "s = {1, 2, 3}\n",
    "s_copy = s.copy()"
   ]
  },
  {
   "cell_type": "code",
   "execution_count": 51,
   "id": "1106f177-08be-4a60-ae8f-c8af67221012",
   "metadata": {},
   "outputs": [],
   "source": [
    "#issubset\n",
    "\n",
    "s1 = {1, 5, 3, 6}\n",
    "\n",
    "s2 = {1, 5, 4, 6, 7, 3 }"
   ]
  },
  {
   "cell_type": "code",
   "execution_count": 52,
   "id": "ef321f7f-bb4d-4190-980e-35937e407b85",
   "metadata": {},
   "outputs": [
    {
     "data": {
      "text/plain": [
       "False"
      ]
     },
     "execution_count": 52,
     "metadata": {},
     "output_type": "execute_result"
    }
   ],
   "source": [
    "s2.issubset(s1)"
   ]
  },
  {
   "cell_type": "code",
   "execution_count": 53,
   "id": "cc5b5a49-b41e-4d1a-bbf1-2b1014b9a759",
   "metadata": {},
   "outputs": [
    {
     "data": {
      "text/plain": [
       "True"
      ]
     },
     "execution_count": 53,
     "metadata": {},
     "output_type": "execute_result"
    }
   ],
   "source": [
    "s1.issubset(s2)"
   ]
  },
  {
   "cell_type": "code",
   "execution_count": 54,
   "id": "4bb3ef0f-6ff7-47e7-bded-55ce4c453a5f",
   "metadata": {},
   "outputs": [
    {
     "data": {
      "text/plain": [
       "False"
      ]
     },
     "execution_count": 54,
     "metadata": {},
     "output_type": "execute_result"
    }
   ],
   "source": [
    "s1 is s2"
   ]
  },
  {
   "cell_type": "code",
   "execution_count": 55,
   "id": "24f54e04-87f9-4157-b78e-be6601fb74ca",
   "metadata": {},
   "outputs": [
    {
     "name": "stdout",
     "output_type": "stream",
     "text": [
      "{1, 2, 3, 4}\n"
     ]
    }
   ],
   "source": [
    "# add\n",
    "\n",
    "s = {1, 2, 3}\n",
    "\n",
    "s.add(4)\n",
    "print(s)  # Output: {1, 2, 3, 4}"
   ]
  },
  {
   "cell_type": "code",
   "execution_count": 60,
   "id": "3a55419f-bfff-4b9d-b921-b910b3f90e3c",
   "metadata": {},
   "outputs": [
    {
     "data": {
      "text/plain": [
       "False"
      ]
     },
     "execution_count": 60,
     "metadata": {},
     "output_type": "execute_result"
    }
   ],
   "source": [
    "# superset\n",
    "\n",
    "s1 = {1, 2, 3}\n",
    "\n",
    "s2 = {1, 4,2,3}\n",
    "\n",
    "s1.issuperset(s2)  # True"
   ]
  },
  {
   "cell_type": "code",
   "execution_count": 61,
   "id": "a13a8080-4bf0-4410-a6ef-53a4dc33f68e",
   "metadata": {},
   "outputs": [
    {
     "data": {
      "text/plain": [
       "True"
      ]
     },
     "execution_count": 61,
     "metadata": {},
     "output_type": "execute_result"
    }
   ],
   "source": [
    "s2.issuperset(s1)"
   ]
  },
  {
   "cell_type": "code",
   "execution_count": 62,
   "id": "abf522db-0501-4484-942d-700e8fa658ac",
   "metadata": {},
   "outputs": [
    {
     "name": "stdout",
     "output_type": "stream",
     "text": [
      "1\n",
      "2\n",
      "3\n"
     ]
    }
   ],
   "source": [
    "for i in s1:\n",
    "    print(i)"
   ]
  },
  {
   "cell_type": "code",
   "execution_count": null,
   "id": "a4b11748-797c-4605-b7cf-85ad0ac7c18f",
   "metadata": {},
   "outputs": [],
   "source": []
  }
 ],
 "metadata": {
  "kernelspec": {
   "display_name": "Python 3 (ipykernel)",
   "language": "python",
   "name": "python3"
  },
  "language_info": {
   "codemirror_mode": {
    "name": "ipython",
    "version": 3
   },
   "file_extension": ".py",
   "mimetype": "text/x-python",
   "name": "python",
   "nbconvert_exporter": "python",
   "pygments_lexer": "ipython3",
   "version": "3.11.7"
  }
 },
 "nbformat": 4,
 "nbformat_minor": 5
}
