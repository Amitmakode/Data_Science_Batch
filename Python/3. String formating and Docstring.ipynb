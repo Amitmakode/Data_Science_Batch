{
 "cells": [
  {
   "cell_type": "markdown",
   "id": "5a64459a-33e0-4eac-aff4-04eebf692ea4",
   "metadata": {},
   "source": [
    "## Special Character "
   ]
  },
  {
   "cell_type": "code",
   "execution_count": 1,
   "id": "fb8f5bf4-ca30-4af5-b523-285298415fe2",
   "metadata": {},
   "outputs": [
    {
     "name": "stdout",
     "output_type": "stream",
     "text": [
      "Hello\n",
      "World\n"
     ]
    }
   ],
   "source": [
    "# \\n new line\n",
    "print(\"Hello\\nWorld\")"
   ]
  },
  {
   "cell_type": "code",
   "execution_count": 2,
   "id": "e9fd0cfa-1bac-4736-99c0-85b83c0f719d",
   "metadata": {},
   "outputs": [
    {
     "name": "stdout",
     "output_type": "stream",
     "text": [
      "Name:\tAlice\n"
     ]
    }
   ],
   "source": [
    "# \\t tab space\n",
    "print(\"Name:\\tAlice\")"
   ]
  },
  {
   "cell_type": "code",
   "execution_count": null,
   "id": "7ce7f79e-3908-4d52-b2d9-f7657d97a1bf",
   "metadata": {},
   "outputs": [],
   "source": [
    "# \\\\ (Backslash)\n",
    "\n",
    "path = \"C:\\\\Users\\\\John\\\\Documents\"\n",
    "print(path) "
   ]
  },
  {
   "cell_type": "code",
   "execution_count": null,
   "id": "22f4ed58-ac1f-4e03-b226-c801f58ab411",
   "metadata": {},
   "outputs": [],
   "source": [
    "# \\\\ (Backslash)\n",
    "\n",
    "path = \"C:/Users/John/Documents\"\n",
    "print(path) "
   ]
  },
  {
   "cell_type": "code",
   "execution_count": 3,
   "id": "5a748489-542d-419d-b241-20a942eee030",
   "metadata": {},
   "outputs": [
    {
     "name": "stdout",
     "output_type": "stream",
     "text": [
      "He said, 'Hello!'\n"
     ]
    }
   ],
   "source": [
    "# \\' and \\\" (Single and Double Quotes)\n",
    "\n",
    "# Using \\' to include a single quote inside a string\n",
    "\n",
    "message = 'He said, \\'Hello!\\''\n",
    "print(message)"
   ]
  },
  {
   "cell_type": "code",
   "execution_count": 4,
   "id": "390a2d7e-6c94-49ef-b4a7-ccb0d8c4a3c2",
   "metadata": {},
   "outputs": [
    {
     "name": "stdout",
     "output_type": "stream",
     "text": [
      "She said, \"Hi!\"\n"
     ]
    }
   ],
   "source": [
    "# Using \\\" to include a double quote inside a string\n",
    "quote = \"She said, \\\"Hi!\\\"\"\n",
    "print(quote)"
   ]
  },
  {
   "cell_type": "code",
   "execution_count": 5,
   "id": "51c84273-1c5f-4ad8-9725-3173e3894816",
   "metadata": {},
   "outputs": [
    {
     "ename": "SyntaxError",
     "evalue": "invalid syntax (2646504715.py, line 1)",
     "output_type": "error",
     "traceback": [
      "\u001b[1;36m  Cell \u001b[1;32mIn[5], line 1\u001b[1;36m\u001b[0m\n\u001b[1;33m    message = 'He said, 'Hello!''\u001b[0m\n\u001b[1;37m                         ^\u001b[0m\n\u001b[1;31mSyntaxError\u001b[0m\u001b[1;31m:\u001b[0m invalid syntax\n"
     ]
    }
   ],
   "source": [
    "message = 'He said, 'Hello!''\n",
    "print(message)"
   ]
  },
  {
   "cell_type": "code",
   "execution_count": 6,
   "id": "721599a7-8802-4f2d-b1b2-c537c91f1c8f",
   "metadata": {},
   "outputs": [
    {
     "name": "stdout",
     "output_type": "stream",
     "text": [
      "He said, \"Hello!\"\n"
     ]
    }
   ],
   "source": [
    "message = 'He said, \"Hello!\"'\n",
    "print(message)"
   ]
  },
  {
   "cell_type": "code",
   "execution_count": 13,
   "id": "168f9030-9d5a-4c34-913d-0e8e80c3b273",
   "metadata": {},
   "outputs": [
    {
     "name": "stdout",
     "output_type": "stream",
     "text": [
      " World python\n"
     ]
    }
   ],
   "source": [
    "# \\r (Carriage Return)\n",
    "\n",
    "print(\"Hello \\r World python\")"
   ]
  },
  {
   "cell_type": "markdown",
   "id": "2835b01b-88c1-4ada-994b-d9fdbe14b8c6",
   "metadata": {},
   "source": [
    "## String Formating:-\n",
    "\t\n",
    "Old-Style String Formatting (% Formatting)\n",
    "Old-style formatting uses the % operator to insert values into a string template. It's less recommended for new code due to its limitations compared to str.format() and f-strings."
   ]
  },
  {
   "cell_type": "code",
   "execution_count": 17,
   "id": "98b8b686-3548-4620-be51-23ea591a56ff",
   "metadata": {},
   "outputs": [],
   "source": [
    "# 1.Basic Syntax: Use % followed by a tuple of values or a single value (if only one placeholder) to substitute into the string.\n",
    "name = \"Alice\"\n",
    "lastname = \"david\"\n",
    "age = 30\n",
    "formatted_string = \"My name is %s %s and I am %d years old.\" % (lastname, name, age)\n",
    "\n",
    "formatt = \"My name is\", lastname, name, \"and I am\", age, \"years old.\"  "
   ]
  },
  {
   "cell_type": "code",
   "execution_count": 19,
   "id": "9fd0cbda-b6fa-49d1-8631-30bbb3cc49c8",
   "metadata": {},
   "outputs": [
    {
     "data": {
      "text/plain": [
       "'My name is david Alice and I am 30 years old.'"
      ]
     },
     "execution_count": 19,
     "metadata": {},
     "output_type": "execute_result"
    }
   ],
   "source": [
    "formatted_string"
   ]
  },
  {
   "cell_type": "code",
   "execution_count": 20,
   "id": "f3a6d06c-43fe-4fdb-b19a-aeb4fede8780",
   "metadata": {},
   "outputs": [
    {
     "data": {
      "text/plain": [
       "('My name is', 'david', 'Alice', 'and I am', 30, 'years old.')"
      ]
     },
     "execution_count": 20,
     "metadata": {},
     "output_type": "execute_result"
    }
   ],
   "source": [
    "formatt"
   ]
  },
  {
   "cell_type": "code",
   "execution_count": 43,
   "id": "42ca3558-4b62-4afa-8769-b0e2773c9f01",
   "metadata": {},
   "outputs": [
    {
     "name": "stdout",
     "output_type": "stream",
     "text": [
      "The value of pi is approximately 3.14158999999999988262\n"
     ]
    }
   ],
   "source": [
    "#Formatting Options:\n",
    "# %s for strings\n",
    "# %d for integers\n",
    "# %.f for floating-point numbers\n",
    "# %x, %o, %e, %g for hexadecimal, octal, exponential, and general floating-point formats respectively.\n",
    "\n",
    "number = 3.14159\n",
    "formatted_number = \"The value of pi is approximately %.20f\" % number\n",
    "print(formatted_number)  "
   ]
  },
  {
   "cell_type": "code",
   "execution_count": 29,
   "id": "3e204505-cb67-41a3-ae7a-2ad6fca7a42f",
   "metadata": {},
   "outputs": [
    {
     "name": "stdout",
     "output_type": "stream",
     "text": [
      "My name is 25 and I am Bob years old.\n"
     ]
    }
   ],
   "source": [
    "#2. str.format() Method\n",
    "#Introduced in Python 2.7, str.format() provides more flexibility and readability compared to % formatting. It allows for positional arguments, keyword arguments, and more control over formatting.\n",
    "\n",
    "#Basic Syntax: Use {} placeholders inside the string and call .format() with arguments.\n",
    "\t\t \n",
    "name = \"Bob\"\n",
    "age = 25\n",
    "formatted_string = \"My name is {} and I am {} years old.\".format(age, name)\n",
    "print(formatted_string)  # Output: 'My name is Bob and I am 25 years old.'"
   ]
  },
  {
   "cell_type": "code",
   "execution_count": 30,
   "id": "0aa041f2-2c47-4cd3-b3a0-10dd18fa7dca",
   "metadata": {},
   "outputs": [
    {
     "data": {
      "text/plain": [
       "'First: B, Second: A'"
      ]
     },
     "execution_count": 30,
     "metadata": {},
     "output_type": "execute_result"
    }
   ],
   "source": [
    "#Positional and Keyword Arguments:\n",
    "\n",
    "#Positional arguments:\n",
    "\n",
    "formatted_string = \"First: {1}, Second: {0}\".format(\"A\", \"B\")\n",
    "formatted_string"
   ]
  },
  {
   "cell_type": "code",
   "execution_count": 31,
   "id": "a672bfe8-e5ad-4f2d-b958-500304415d5b",
   "metadata": {},
   "outputs": [
    {
     "data": {
      "text/plain": [
       "'Name: Alice, Age: 30'"
      ]
     },
     "execution_count": 31,
     "metadata": {},
     "output_type": "execute_result"
    }
   ],
   "source": [
    "#Keyword arguments:\n",
    "\n",
    "formatted_string = \"Name: {name}, Age: {age}\".format(name=\"Alice\", age=30)\n",
    "formatted_string"
   ]
  },
  {
   "cell_type": "code",
   "execution_count": 46,
   "id": "9a458643-dc69-45fa-98a7-1d279309382f",
   "metadata": {},
   "outputs": [
    {
     "name": "stdout",
     "output_type": "stream",
     "text": [
      "The value of pi is approximately 3.14\n"
     ]
    }
   ],
   "source": [
    "#Formatting Options:\n",
    "\n",
    "# {} for positional arguments\n",
    "# {name} for keyword arguments\n",
    "# {index:format_spec} for specifying formatting options (:format_spec is optional).\n",
    "\n",
    "pi = 3.14159\n",
    "formatted_number = \"The value of pi is approximately {:.2f}\".format(pi)\n",
    "\n",
    "print(formatted_number)  # Output: 'The value of pi is approximately 3.14'"
   ]
  },
  {
   "cell_type": "code",
   "execution_count": 38,
   "id": "c46531f8-13c9-4ab9-bee9-a21d588bb1ea",
   "metadata": {},
   "outputs": [
    {
     "data": {
      "text/plain": [
       "3.14159"
      ]
     },
     "execution_count": 38,
     "metadata": {},
     "output_type": "execute_result"
    }
   ],
   "source": [
    "pi"
   ]
  },
  {
   "cell_type": "code",
   "execution_count": 44,
   "id": "70a2c7eb-899a-4e8d-9635-2c05049fff9f",
   "metadata": {},
   "outputs": [],
   "source": [
    "import math"
   ]
  },
  {
   "cell_type": "code",
   "execution_count": 45,
   "id": "1927ae05-e857-47a1-8bd7-57cf6ef68ede",
   "metadata": {},
   "outputs": [
    {
     "data": {
      "text/plain": [
       "3.141592653589793"
      ]
     },
     "execution_count": 45,
     "metadata": {},
     "output_type": "execute_result"
    }
   ],
   "source": [
    "math.pi"
   ]
  },
  {
   "cell_type": "markdown",
   "id": "48ed1c37-f3ca-4cd1-828d-479ace1d3dfc",
   "metadata": {},
   "source": [
    "## Comparison and Recommendations\n",
    "#Readability: F-strings offer the most readable syntax.\n",
    "#Flexibility: F-strings support complex expressions and function calls directly inside {}.\n",
    "#Performance: F-strings are generally faster than both % formatting and str.format()."
   ]
  },
  {
   "cell_type": "code",
   "execution_count": 47,
   "id": "20a38ce3-3f20-49fc-9156-20320212d0de",
   "metadata": {},
   "outputs": [
    {
     "name": "stdout",
     "output_type": "stream",
     "text": [
      "My name is Alice, I am 30 years old, and I work as an engineer.\n"
     ]
    }
   ],
   "source": [
    "# f-string\n",
    "\n",
    "name = \"Alice\"\n",
    "age = 30\n",
    "occupation = \"engineer\"\n",
    "\n",
    "# Using f-string to format the output\n",
    "\n",
    "sentence = f\"My name is {name}, I am {age} years old, and I work as an {occupation}.\"\n",
    "print(sentence)"
   ]
  },
  {
   "cell_type": "code",
   "execution_count": 50,
   "id": "718b17cd-85c2-48b0-98f3-41eb70c6998a",
   "metadata": {},
   "outputs": [
    {
     "data": {
      "text/plain": [
       "'hello Alice 30 Alice'"
      ]
     },
     "execution_count": 50,
     "metadata": {},
     "output_type": "execute_result"
    }
   ],
   "source": [
    "f\"hello {name} {age} {name}\""
   ]
  },
  {
   "cell_type": "code",
   "execution_count": 52,
   "id": "1aed4485-2b5f-43a8-8b0b-573b3184a02d",
   "metadata": {},
   "outputs": [],
   "source": [
    "a, b,c = 10, 20,30"
   ]
  },
  {
   "cell_type": "code",
   "execution_count": 53,
   "id": "933d246b-c4a5-4ebc-b85f-ac6cb8a1a8a8",
   "metadata": {},
   "outputs": [
    {
     "name": "stdout",
     "output_type": "stream",
     "text": [
      "10\n",
      "20\n",
      "30\n"
     ]
    }
   ],
   "source": [
    "print(a)\n",
    "print(b)\n",
    "print(c)"
   ]
  },
  {
   "cell_type": "code",
   "execution_count": 54,
   "id": "4ee9d2f0-9354-469d-8d07-c30eab42940a",
   "metadata": {},
   "outputs": [
    {
     "name": "stdout",
     "output_type": "stream",
     "text": [
      "10 20 30\n"
     ]
    }
   ],
   "source": [
    "print(a, b,c)"
   ]
  },
  {
   "cell_type": "code",
   "execution_count": 60,
   "id": "67d16008-7e61-4a76-a2e6-7a0cf4c6c846",
   "metadata": {},
   "outputs": [
    {
     "name": "stdout",
     "output_type": "stream",
     "text": [
      "10 20 30\n"
     ]
    }
   ],
   "source": [
    "print(a, end= \" \")\n",
    "print(b, end = \" \")\n",
    "print(c)"
   ]
  },
  {
   "cell_type": "code",
   "execution_count": 61,
   "id": "66ff00dd-ccb0-42fd-8050-2776a6e662c2",
   "metadata": {},
   "outputs": [],
   "source": [
    "sttr = \"%s for strings\""
   ]
  },
  {
   "cell_type": "code",
   "execution_count": 62,
   "id": "45e3923b-9a2e-43b2-84f0-e4f88734fc9c",
   "metadata": {},
   "outputs": [
    {
     "data": {
      "text/plain": [
       "'%s for strings'"
      ]
     },
     "execution_count": 62,
     "metadata": {},
     "output_type": "execute_result"
    }
   ],
   "source": [
    "sttr"
   ]
  },
  {
   "cell_type": "code",
   "execution_count": 64,
   "id": "980172c2-3f4c-4c15-9dc8-f8c40c75c2b7",
   "metadata": {},
   "outputs": [],
   "source": [
    "sttr1 = \"\"\"#Readability: F-strings offer the most readable syntax. #Flexibility: \n",
    "F-strings support complex expressions and function calls directly inside {}.\n",
    "Performance: F-strings are generally faster than both % formatting and str.format().\"\"\""
   ]
  },
  {
   "cell_type": "code",
   "execution_count": 66,
   "id": "920117f7-4bde-4186-b112-1e65fa209677",
   "metadata": {},
   "outputs": [
    {
     "name": "stdout",
     "output_type": "stream",
     "text": [
      "#Readability: F-strings offer the most readable syntax. #Flexibility: \n",
      "F-strings support complex expressions and function calls directly inside {}.\n",
      "Performance: F-strings are generally faster than both % formatting and str.format().\n"
     ]
    }
   ],
   "source": [
    "print(sttr1)"
   ]
  },
  {
   "cell_type": "code",
   "execution_count": 85,
   "id": "00b512e4-9e22-4f4c-b51b-84678cf72291",
   "metadata": {},
   "outputs": [],
   "source": [
    "def square(num):\n",
    "    \"\"\"this square function\n",
    "     used to square number\"\"\"\n",
    "    return num**2"
   ]
  },
  {
   "cell_type": "code",
   "execution_count": 86,
   "id": "9f07587a-9cb7-4bc1-b7a7-7141a21a1ff8",
   "metadata": {},
   "outputs": [
    {
     "data": {
      "text/plain": [
       "16"
      ]
     },
     "execution_count": 86,
     "metadata": {},
     "output_type": "execute_result"
    }
   ],
   "source": [
    "square(4)"
   ]
  },
  {
   "cell_type": "code",
   "execution_count": null,
   "id": "da360aba-8643-4344-8ed4-7bbae5663713",
   "metadata": {},
   "outputs": [],
   "source": []
  }
 ],
 "metadata": {
  "kernelspec": {
   "display_name": "Python 3 (ipykernel)",
   "language": "python",
   "name": "python3"
  },
  "language_info": {
   "codemirror_mode": {
    "name": "ipython",
    "version": 3
   },
   "file_extension": ".py",
   "mimetype": "text/x-python",
   "name": "python",
   "nbconvert_exporter": "python",
   "pygments_lexer": "ipython3",
   "version": "3.11.7"
  }
 },
 "nbformat": 4,
 "nbformat_minor": 5
}
