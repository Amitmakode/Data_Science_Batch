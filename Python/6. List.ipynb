{
 "cells": [
  {
   "cell_type": "markdown",
   "id": "24edac1d-a744-45a1-a4f4-fca6ce8bbdf6",
   "metadata": {},
   "source": [
    "# List"
   ]
  },
  {
   "cell_type": "code",
   "execution_count": 1,
   "id": "47a8cfbe-7294-45ec-8fcc-3fa91c6719ac",
   "metadata": {},
   "outputs": [],
   "source": [
    "### Accessing and Sclicing"
   ]
  },
  {
   "cell_type": "code",
   "execution_count": 2,
   "id": "722b5019-83fb-4f44-b96d-50b33634fe10",
   "metadata": {},
   "outputs": [],
   "source": [
    "# Creating a list of integers\n",
    "my_list = [1, 2, 3, 4, 5]\n",
    "\n",
    "# Creating a list of strings\n",
    "fruits = ['apple', 'banana', 'cherry']"
   ]
  },
  {
   "cell_type": "code",
   "execution_count": 3,
   "id": "092da984-4265-4c56-b7e3-e777a8302e3c",
   "metadata": {},
   "outputs": [
    {
     "data": {
      "text/plain": [
       "5"
      ]
     },
     "execution_count": 3,
     "metadata": {},
     "output_type": "execute_result"
    }
   ],
   "source": [
    "my_list[4]"
   ]
  },
  {
   "cell_type": "code",
   "execution_count": 4,
   "id": "5a759365-476f-4b16-ba1c-9696e6392c72",
   "metadata": {},
   "outputs": [
    {
     "data": {
      "text/plain": [
       "'cherry'"
      ]
     },
     "execution_count": 4,
     "metadata": {},
     "output_type": "execute_result"
    }
   ],
   "source": [
    "fruits[2]"
   ]
  },
  {
   "cell_type": "code",
   "execution_count": 5,
   "id": "181392cd-5217-4751-8d15-ef4ba3516253",
   "metadata": {},
   "outputs": [
    {
     "data": {
      "text/plain": [
       "3"
      ]
     },
     "execution_count": 5,
     "metadata": {},
     "output_type": "execute_result"
    }
   ],
   "source": [
    "my_list[-3]"
   ]
  },
  {
   "cell_type": "code",
   "execution_count": 6,
   "id": "309402c6-5fe4-462a-b148-e06585c5a052",
   "metadata": {},
   "outputs": [],
   "source": [
    "#Slicing:\n",
    "#Slicing allows you to access a portion of the list by specifying a range of indices.\n",
    "\n",
    "my_list = [1, 2, 3, 4, 5,6,7,8,9,10,11,12,13,14,15,16,17,18,19,20]"
   ]
  },
  {
   "cell_type": "code",
   "execution_count": 7,
   "id": "0af38ecf-bc54-47ca-9469-8e9a0f782c38",
   "metadata": {},
   "outputs": [
    {
     "data": {
      "text/plain": [
       "[3, 4, 5, 6, 7]"
      ]
     },
     "execution_count": 7,
     "metadata": {},
     "output_type": "execute_result"
    }
   ],
   "source": [
    "my_list[2:7]"
   ]
  },
  {
   "cell_type": "code",
   "execution_count": 8,
   "id": "6aa0e282-3ad7-4df9-81db-4fce46be817f",
   "metadata": {},
   "outputs": [
    {
     "data": {
      "text/plain": [
       "[3, 5, 7]"
      ]
     },
     "execution_count": 8,
     "metadata": {},
     "output_type": "execute_result"
    }
   ],
   "source": [
    "my_list[2:7:2]"
   ]
  },
  {
   "cell_type": "code",
   "execution_count": 9,
   "id": "b5699fa2-ff5a-48bb-adb5-a640ae4ffaf4",
   "metadata": {},
   "outputs": [
    {
     "data": {
      "text/plain": [
       "[]"
      ]
     },
     "execution_count": 9,
     "metadata": {},
     "output_type": "execute_result"
    }
   ],
   "source": [
    "my_list[-2:-17:2]"
   ]
  },
  {
   "cell_type": "code",
   "execution_count": 10,
   "id": "bcf259f8-194c-4fdd-8226-6e48c4d6d301",
   "metadata": {},
   "outputs": [
    {
     "data": {
      "text/plain": [
       "[19, 17, 15, 13, 11, 9, 7, 5]"
      ]
     },
     "execution_count": 10,
     "metadata": {},
     "output_type": "execute_result"
    }
   ],
   "source": [
    "my_list[-2:-17:-2]"
   ]
  },
  {
   "cell_type": "code",
   "execution_count": 12,
   "id": "2125a81f-e696-4889-8f0c-83a956a6fe9e",
   "metadata": {},
   "outputs": [
    {
     "data": {
      "text/plain": [
       "[]"
      ]
     },
     "execution_count": 12,
     "metadata": {},
     "output_type": "execute_result"
    }
   ],
   "source": [
    "my_list[-2:17:2]"
   ]
  },
  {
   "cell_type": "code",
   "execution_count": 13,
   "id": "8716033a-50cf-4fe1-a15e-e5e7470143b9",
   "metadata": {},
   "outputs": [
    {
     "data": {
      "text/plain": [
       "[1, 2, 3, 4, 5, 6, 7, 8, 9, 10, 11, 12, 13, 14, 15, 16, 17, 18, 19, 20]"
      ]
     },
     "execution_count": 13,
     "metadata": {},
     "output_type": "execute_result"
    }
   ],
   "source": [
    "my_list[::1]"
   ]
  },
  {
   "cell_type": "code",
   "execution_count": 14,
   "id": "b7e9a78a-c9ba-42ad-a597-c667b36ae1b7",
   "metadata": {},
   "outputs": [
    {
     "data": {
      "text/plain": [
       "[20, 19, 18, 17, 16, 15, 14, 13, 12, 11, 10, 9, 8, 7, 6, 5, 4, 3, 2, 1]"
      ]
     },
     "execution_count": 14,
     "metadata": {},
     "output_type": "execute_result"
    }
   ],
   "source": [
    "my_list[::-1]"
   ]
  },
  {
   "cell_type": "markdown",
   "id": "34a13c8d-5a58-432d-a341-1c199bcca57c",
   "metadata": {},
   "source": [
    "## Mutation\n",
    "\n",
    "#### list is mutable datatype"
   ]
  },
  {
   "cell_type": "code",
   "execution_count": 16,
   "id": "b800f907-34fb-4e98-916d-0419a65aa848",
   "metadata": {},
   "outputs": [],
   "source": [
    "fruits[0] = \"Pineapple\""
   ]
  },
  {
   "cell_type": "code",
   "execution_count": 17,
   "id": "d349bfbe-9adc-4c68-821c-107c05bc6365",
   "metadata": {},
   "outputs": [
    {
     "data": {
      "text/plain": [
       "['Pineapple', 'banana', 'cherry']"
      ]
     },
     "execution_count": 17,
     "metadata": {},
     "output_type": "execute_result"
    }
   ],
   "source": [
    "fruits"
   ]
  },
  {
   "cell_type": "markdown",
   "id": "52b836c5-1117-4b21-9f43-4e73f20a49d9",
   "metadata": {},
   "source": [
    "## Concatination and Repeatation"
   ]
  },
  {
   "cell_type": "code",
   "execution_count": 19,
   "id": "cd1bc41a-62da-4153-93e7-5d5d8140e6f2",
   "metadata": {},
   "outputs": [
    {
     "data": {
      "text/plain": [
       "[1, 2, 3, 4, 5, 6, 7, 8, 9, 10, 11, 12, 13, 14, 15, 16, 17, 18, 19, 20]"
      ]
     },
     "execution_count": 19,
     "metadata": {},
     "output_type": "execute_result"
    }
   ],
   "source": [
    "my_list"
   ]
  },
  {
   "cell_type": "code",
   "execution_count": 21,
   "id": "6b8fab66-0733-4f91-9c1a-3498406f7214",
   "metadata": {},
   "outputs": [
    {
     "data": {
      "text/plain": [
       "['Pineapple', 'banana', 'cherry']"
      ]
     },
     "execution_count": 21,
     "metadata": {},
     "output_type": "execute_result"
    }
   ],
   "source": [
    "fruits"
   ]
  },
  {
   "cell_type": "code",
   "execution_count": 22,
   "id": "6e36a8f6-140b-4c75-9bbd-51a145087798",
   "metadata": {},
   "outputs": [
    {
     "data": {
      "text/plain": [
       "[1,\n",
       " 2,\n",
       " 3,\n",
       " 4,\n",
       " 5,\n",
       " 6,\n",
       " 7,\n",
       " 8,\n",
       " 9,\n",
       " 10,\n",
       " 11,\n",
       " 12,\n",
       " 13,\n",
       " 14,\n",
       " 15,\n",
       " 16,\n",
       " 17,\n",
       " 18,\n",
       " 19,\n",
       " 20,\n",
       " 'Pineapple',\n",
       " 'banana',\n",
       " 'cherry']"
      ]
     },
     "execution_count": 22,
     "metadata": {},
     "output_type": "execute_result"
    }
   ],
   "source": [
    "my_list+fruits"
   ]
  },
  {
   "cell_type": "code",
   "execution_count": 23,
   "id": "5300be59-0a6d-4815-aa19-03e96933118e",
   "metadata": {},
   "outputs": [
    {
     "data": {
      "text/plain": [
       "['Pineapple',\n",
       " 'banana',\n",
       " 'cherry',\n",
       " 'Pineapple',\n",
       " 'banana',\n",
       " 'cherry',\n",
       " 'Pineapple',\n",
       " 'banana',\n",
       " 'cherry']"
      ]
     },
     "execution_count": 23,
     "metadata": {},
     "output_type": "execute_result"
    }
   ],
   "source": [
    "fruits*3"
   ]
  },
  {
   "cell_type": "code",
   "execution_count": 24,
   "id": "d2f83504-f1a8-4fae-9b00-2995e7ee9fec",
   "metadata": {},
   "outputs": [
    {
     "data": {
      "text/plain": [
       "False"
      ]
     },
     "execution_count": 24,
     "metadata": {},
     "output_type": "execute_result"
    }
   ],
   "source": [
    "22 in my_list"
   ]
  },
  {
   "cell_type": "code",
   "execution_count": 25,
   "id": "a5d33d0b-63d1-49e2-8b5a-a005e2c3b222",
   "metadata": {},
   "outputs": [
    {
     "data": {
      "text/plain": [
       "True"
      ]
     },
     "execution_count": 25,
     "metadata": {},
     "output_type": "execute_result"
    }
   ],
   "source": [
    "20 in my_list"
   ]
  },
  {
   "cell_type": "markdown",
   "id": "c6eaa100-af32-4b4e-ad31-fdb079a3c8d0",
   "metadata": {},
   "source": [
    "### List Function"
   ]
  },
  {
   "cell_type": "code",
   "execution_count": 27,
   "id": "83f0483d-6302-4e19-90df-bda3e68d4bf3",
   "metadata": {},
   "outputs": [
    {
     "name": "stdout",
     "output_type": "stream",
     "text": [
      "[1, 2, 3, 4]\n"
     ]
    }
   ],
   "source": [
    "### 1. `append()`\n",
    "#The `append()` method adds an element to the end of the list.\n",
    "\n",
    "my_list = [1, 2, 3]\n",
    "\n",
    "my_list.append(4)\n",
    "\n",
    "print(my_list)  # Output: [1, 2, 3, 4]   "
   ]
  },
  {
   "cell_type": "code",
   "execution_count": 28,
   "id": "8be3b725-c1d0-4601-86a7-69b017fd845b",
   "metadata": {},
   "outputs": [
    {
     "name": "stdout",
     "output_type": "stream",
     "text": [
      "[]\n"
     ]
    }
   ],
   "source": [
    "### 2. `clear()`\n",
    "#The `clear()` method removes all elements from the list.\n",
    "\n",
    "my_list = [1, 2, 3]\n",
    "my_list.clear()\n",
    "\n",
    "print(my_list)  # Output: []"
   ]
  },
  {
   "cell_type": "code",
   "execution_count": 29,
   "id": "af340c7f-24d6-4390-aac3-8d4dda371a00",
   "metadata": {},
   "outputs": [
    {
     "name": "stdout",
     "output_type": "stream",
     "text": [
      "[1, 2, 3]\n"
     ]
    }
   ],
   "source": [
    "### 3. `copy()`\n",
    "#The `copy()` method returns a shallow copy of the list.\n",
    "\n",
    "my_list = [1, 2, 3]\n",
    "new_list = my_list.copy()\n",
    "print(new_list)  # Output: [1, 2, 3]"
   ]
  },
  {
   "cell_type": "code",
   "execution_count": 30,
   "id": "568e3b41-7d70-4355-85c0-e566a40add54",
   "metadata": {},
   "outputs": [
    {
     "data": {
      "text/plain": [
       "[1, 2, 3]"
      ]
     },
     "execution_count": 30,
     "metadata": {},
     "output_type": "execute_result"
    }
   ],
   "source": [
    "new_list"
   ]
  },
  {
   "cell_type": "code",
   "execution_count": 32,
   "id": "4ecf31eb-f064-407b-aec6-43bb08bda672",
   "metadata": {},
   "outputs": [
    {
     "name": "stdout",
     "output_type": "stream",
     "text": [
      "3\n"
     ]
    }
   ],
   "source": [
    "### 4. `count()`\n",
    "#The `count()` method returns the number of occurrences of a specified element in the list.\n",
    "\n",
    "my_list = [1, 2, 2, 3, 2]\n",
    "count_of_twos = my_list.count(2)\n",
    "\n",
    "\n",
    "print(count_of_twos)  # Output: 3"
   ]
  },
  {
   "cell_type": "code",
   "execution_count": 35,
   "id": "625800b5-e9f4-4920-a477-e4f125240495",
   "metadata": {},
   "outputs": [
    {
     "name": "stdout",
     "output_type": "stream",
     "text": [
      "[1, 2, 3, 8, 9, 7]\n"
     ]
    }
   ],
   "source": [
    "### 5. `extend()`\n",
    "#The `extend()` method extends the list by appending elements from an iterable.\n",
    "\n",
    "my_list = [1, 2, 3]\n",
    "my_list.extend([8,9,7])\n",
    "\n",
    "print(my_list)  # Output: [1, 2, 3, 4, 5, 6] "
   ]
  },
  {
   "cell_type": "code",
   "execution_count": 37,
   "id": "f788ae41-ee18-4331-ac02-f4e1fc66eff2",
   "metadata": {},
   "outputs": [
    {
     "name": "stdout",
     "output_type": "stream",
     "text": [
      "3\n"
     ]
    }
   ],
   "source": [
    "### 6. `index()`\n",
    "#The `index()` method returns the index of the first occurrence of a specified value.\n",
    "\n",
    "my_list = [1, 2, 3, 4, 2]\n",
    "index_of_two = my_list.index(4)\n",
    "print(index_of_two)  # Output: 1 (index of the first occurrence of 2)"
   ]
  },
  {
   "cell_type": "code",
   "execution_count": 38,
   "id": "53f8eb31-cc8d-44b6-9c71-c3d7b58d10d9",
   "metadata": {},
   "outputs": [
    {
     "name": "stdout",
     "output_type": "stream",
     "text": [
      "[1, 2, 'a', 3]\n"
     ]
    }
   ],
   "source": [
    "### 7. `insert()`\n",
    "#The `insert()` method inserts an element at a specified position.\n",
    "\n",
    "my_list = [1, 2, 3]\n",
    "my_list.insert(2, 'a')\n",
    "print(my_list)  # Output: [1, 'a', 2, 3]"
   ]
  },
  {
   "cell_type": "code",
   "execution_count": 39,
   "id": "dab7ab18-9e16-4ef6-b9d5-bfc1efda0d1b",
   "metadata": {},
   "outputs": [
    {
     "name": "stdout",
     "output_type": "stream",
     "text": [
      "5\n",
      "[1, 2, 3, 4]\n"
     ]
    }
   ],
   "source": [
    "### 8. `pop()`\n",
    "#The `pop()` method removes and returns the element at the specified position (default is the last element).\n",
    "\n",
    "my_list = [1, 2, 3,4,5]\n",
    "popped_element = my_list.pop()\n",
    "\n",
    "print(popped_element)  # Output: 3\n",
    "print(my_list)  # Output: [1, 2]"
   ]
  },
  {
   "cell_type": "code",
   "execution_count": 41,
   "id": "bb1783ff-2094-453b-a30a-082ddcbfac8a",
   "metadata": {},
   "outputs": [
    {
     "name": "stdout",
     "output_type": "stream",
     "text": [
      "[1, 2, 2]\n"
     ]
    }
   ],
   "source": [
    "### 9. `remove()`\n",
    "#The `remove()` method removes the first occurrence of a specified value.\n",
    "\n",
    "my_list = [1, 2, 3, 2]\n",
    "my_list.remove(3)\n",
    "print(my_list)  # Output: [1, 3, 2]"
   ]
  },
  {
   "cell_type": "code",
   "execution_count": 42,
   "id": "333e1a79-219d-4d14-8a8f-0fc8faa49870",
   "metadata": {},
   "outputs": [
    {
     "name": "stdout",
     "output_type": "stream",
     "text": [
      "[3, 2, 1]\n"
     ]
    }
   ],
   "source": [
    "### 10. `reverse()`\n",
    "#The `reverse()` method reverses the order of the elements in the list.\n",
    " \n",
    "my_list = [1, 2, 3]\n",
    "my_list.reverse()\n",
    "print(my_list)  # Output: [3, 2, 1]"
   ]
  },
  {
   "cell_type": "code",
   "execution_count": 44,
   "id": "617d8ab7-7869-4c39-8bf8-ce6cc8c6f5f0",
   "metadata": {},
   "outputs": [
    {
     "name": "stdout",
     "output_type": "stream",
     "text": [
      "[3, 2, 1]\n"
     ]
    }
   ],
   "source": [
    "### 11. `sort()`\n",
    "#The `sort()` method sorts the elements of the list in place.\n",
    "\n",
    "my_list = [3, 1, 2]\n",
    "my_list.sort(reverse=True)\n",
    "print(my_list)  # Output: [1, 2, 3]"
   ]
  },
  {
   "cell_type": "code",
   "execution_count": 45,
   "id": "7d5456c6-6942-4f34-981c-daf645969618",
   "metadata": {},
   "outputs": [
    {
     "data": {
      "text/plain": [
       "['__add__',\n",
       " '__class__',\n",
       " '__class_getitem__',\n",
       " '__contains__',\n",
       " '__delattr__',\n",
       " '__delitem__',\n",
       " '__dir__',\n",
       " '__doc__',\n",
       " '__eq__',\n",
       " '__format__',\n",
       " '__ge__',\n",
       " '__getattribute__',\n",
       " '__getitem__',\n",
       " '__getstate__',\n",
       " '__gt__',\n",
       " '__hash__',\n",
       " '__iadd__',\n",
       " '__imul__',\n",
       " '__init__',\n",
       " '__init_subclass__',\n",
       " '__iter__',\n",
       " '__le__',\n",
       " '__len__',\n",
       " '__lt__',\n",
       " '__mul__',\n",
       " '__ne__',\n",
       " '__new__',\n",
       " '__reduce__',\n",
       " '__reduce_ex__',\n",
       " '__repr__',\n",
       " '__reversed__',\n",
       " '__rmul__',\n",
       " '__setattr__',\n",
       " '__setitem__',\n",
       " '__sizeof__',\n",
       " '__str__',\n",
       " '__subclasshook__',\n",
       " 'append',\n",
       " 'clear',\n",
       " 'copy',\n",
       " 'count',\n",
       " 'extend',\n",
       " 'index',\n",
       " 'insert',\n",
       " 'pop',\n",
       " 'remove',\n",
       " 'reverse',\n",
       " 'sort']"
      ]
     },
     "execution_count": 45,
     "metadata": {},
     "output_type": "execute_result"
    }
   ],
   "source": [
    "dir(list)"
   ]
  },
  {
   "cell_type": "code",
   "execution_count": 47,
   "id": "501890e6-9186-4249-b434-a80c7a1c2f68",
   "metadata": {},
   "outputs": [
    {
     "data": {
      "text/plain": [
       "1"
      ]
     },
     "execution_count": 47,
     "metadata": {},
     "output_type": "execute_result"
    }
   ],
   "source": [
    "my_list.pop(2)"
   ]
  },
  {
   "cell_type": "code",
   "execution_count": 48,
   "id": "fcbc092f-50b6-4df6-bf2c-03724804e648",
   "metadata": {},
   "outputs": [
    {
     "data": {
      "text/plain": [
       "[3, 2]"
      ]
     },
     "execution_count": 48,
     "metadata": {},
     "output_type": "execute_result"
    }
   ],
   "source": [
    "my_list"
   ]
  },
  {
   "cell_type": "code",
   "execution_count": 49,
   "id": "8c990c4c-0a1e-42d2-a435-5e5162ef0f8a",
   "metadata": {},
   "outputs": [],
   "source": [
    "my_list1 = [1,2,3,4,5,6,7]"
   ]
  },
  {
   "cell_type": "code",
   "execution_count": 50,
   "id": "cafb19f8-2ae0-481f-96bd-a08b873d848d",
   "metadata": {},
   "outputs": [
    {
     "data": {
      "text/plain": [
       "7"
      ]
     },
     "execution_count": 50,
     "metadata": {},
     "output_type": "execute_result"
    }
   ],
   "source": [
    "my_list1.pop()"
   ]
  },
  {
   "cell_type": "code",
   "execution_count": 52,
   "id": "7c9295cb-3b35-4d83-8c6a-2f3b6b8045a3",
   "metadata": {},
   "outputs": [
    {
     "data": {
      "text/plain": [
       "6"
      ]
     },
     "execution_count": 52,
     "metadata": {},
     "output_type": "execute_result"
    }
   ],
   "source": [
    "my_list1.pop(5)"
   ]
  },
  {
   "cell_type": "code",
   "execution_count": 53,
   "id": "373266e1-bcb1-4ed5-87eb-7529d91afc39",
   "metadata": {},
   "outputs": [
    {
     "data": {
      "text/plain": [
       "[1, 2, 3, 4, 5]"
      ]
     },
     "execution_count": 53,
     "metadata": {},
     "output_type": "execute_result"
    }
   ],
   "source": [
    "my_list1."
   ]
  },
  {
   "cell_type": "code",
   "execution_count": null,
   "id": "dbcd2130-3696-48de-9706-1cbff70f9f1b",
   "metadata": {},
   "outputs": [],
   "source": []
  }
 ],
 "metadata": {
  "kernelspec": {
   "display_name": "Python 3 (ipykernel)",
   "language": "python",
   "name": "python3"
  },
  "language_info": {
   "codemirror_mode": {
    "name": "ipython",
    "version": 3
   },
   "file_extension": ".py",
   "mimetype": "text/x-python",
   "name": "python",
   "nbconvert_exporter": "python",
   "pygments_lexer": "ipython3",
   "version": "3.11.7"
  }
 },
 "nbformat": 4,
 "nbformat_minor": 5
}
