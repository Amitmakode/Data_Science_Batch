{
 "cells": [
  {
   "cell_type": "code",
   "execution_count": 1,
   "id": "ee15fb47-b40a-4ab4-a9a3-48ab3ebd7284",
   "metadata": {},
   "outputs": [
    {
     "name": "stdout",
     "output_type": "stream",
     "text": [
      "asdjhk asdjh asdf 67 90.09\n"
     ]
    }
   ],
   "source": [
    "print(\"asdjhk\",\"asdjh\", \"asdf\", 67, 90.09)"
   ]
  },
  {
   "cell_type": "code",
   "execution_count": 2,
   "id": "6abaf3b3-a2a2-462e-82e8-bffb88d64c0c",
   "metadata": {},
   "outputs": [
    {
     "name": "stdout",
     "output_type": "stream",
     "text": [
      "\n"
     ]
    }
   ],
   "source": [
    "print()"
   ]
  },
  {
   "cell_type": "code",
   "execution_count": 3,
   "id": "979afc76-f06d-4bb7-b814-d7106dfc3c4f",
   "metadata": {},
   "outputs": [
    {
     "ename": "TypeError",
     "evalue": "len() takes exactly one argument (0 given)",
     "output_type": "error",
     "traceback": [
      "\u001b[1;31m---------------------------------------------------------------------------\u001b[0m",
      "\u001b[1;31mTypeError\u001b[0m                                 Traceback (most recent call last)",
      "Cell \u001b[1;32mIn[3], line 1\u001b[0m\n\u001b[1;32m----> 1\u001b[0m \u001b[38;5;28mlen\u001b[39m()\n",
      "\u001b[1;31mTypeError\u001b[0m: len() takes exactly one argument (0 given)"
     ]
    }
   ],
   "source": [
    "len()"
   ]
  },
  {
   "cell_type": "code",
   "execution_count": 4,
   "id": "d6c55b77-9d95-4891-958e-36ebae9604f4",
   "metadata": {},
   "outputs": [
    {
     "ename": "TypeError",
     "evalue": "type() takes 1 or 3 arguments",
     "output_type": "error",
     "traceback": [
      "\u001b[1;31m---------------------------------------------------------------------------\u001b[0m",
      "\u001b[1;31mTypeError\u001b[0m                                 Traceback (most recent call last)",
      "Cell \u001b[1;32mIn[4], line 1\u001b[0m\n\u001b[1;32m----> 1\u001b[0m \u001b[38;5;28mtype\u001b[39m()\n",
      "\u001b[1;31mTypeError\u001b[0m: type() takes 1 or 3 arguments"
     ]
    }
   ],
   "source": [
    "type()"
   ]
  },
  {
   "cell_type": "code",
   "execution_count": 5,
   "id": "eb641eae-753b-4373-ba3b-69777bec1fcc",
   "metadata": {},
   "outputs": [
    {
     "ename": "TypeError",
     "evalue": "len() takes exactly one argument (2 given)",
     "output_type": "error",
     "traceback": [
      "\u001b[1;31m---------------------------------------------------------------------------\u001b[0m",
      "\u001b[1;31mTypeError\u001b[0m                                 Traceback (most recent call last)",
      "Cell \u001b[1;32mIn[5], line 1\u001b[0m\n\u001b[1;32m----> 1\u001b[0m \u001b[38;5;28mlen\u001b[39m(\u001b[38;5;124m\"\u001b[39m\u001b[38;5;124mpython\u001b[39m\u001b[38;5;124m\"\u001b[39m, \u001b[38;5;124m\"\u001b[39m\u001b[38;5;124mc++\u001b[39m\u001b[38;5;124m\"\u001b[39m)\n",
      "\u001b[1;31mTypeError\u001b[0m: len() takes exactly one argument (2 given)"
     ]
    }
   ],
   "source": [
    "len(\"python\", \"c++\")"
   ]
  },
  {
   "cell_type": "markdown",
   "id": "a8d40575-88cd-4aa5-9473-d0def7dc465e",
   "metadata": {},
   "source": [
    "### Arguments "
   ]
  },
  {
   "cell_type": "code",
   "execution_count": null,
   "id": "fab73e8d-20a0-424f-b9bd-c17221e08be1",
   "metadata": {},
   "outputs": [],
   "source": [
    "positional = fix\n",
    "*arg       = non-keyword argument \n",
    "**kwargs   = keyword argument "
   ]
  },
  {
   "cell_type": "code",
   "execution_count": null,
   "id": "4a1f695b-5c68-4bac-853d-63f5b6b5e347",
   "metadata": {},
   "outputs": [],
   "source": [
    "print()  # *args\n",
    "len()   # positional\n",
    "print(end= \" \")"
   ]
  },
  {
   "cell_type": "code",
   "execution_count": 6,
   "id": "79054e8d-ab11-4ce4-8de9-306fc7536de7",
   "metadata": {},
   "outputs": [],
   "source": [
    "def test():\n",
    "    return \"hello\""
   ]
  },
  {
   "cell_type": "code",
   "execution_count": 7,
   "id": "3a0f4c41-eeef-492a-82ea-e6b00ecf1011",
   "metadata": {},
   "outputs": [
    {
     "data": {
      "text/plain": [
       "'hello'"
      ]
     },
     "execution_count": 7,
     "metadata": {},
     "output_type": "execute_result"
    }
   ],
   "source": [
    "test()"
   ]
  },
  {
   "cell_type": "code",
   "execution_count": 8,
   "id": "22b6c9a6-d87d-424f-8446-e005177fd4e7",
   "metadata": {},
   "outputs": [],
   "source": [
    "def test1(a):\n",
    "    a = a**2\n",
    "    return a"
   ]
  },
  {
   "cell_type": "code",
   "execution_count": 10,
   "id": "8e79ea9c-0bde-49cb-9093-4160dc99ace4",
   "metadata": {},
   "outputs": [
    {
     "data": {
      "text/plain": [
       "36"
      ]
     },
     "execution_count": 10,
     "metadata": {},
     "output_type": "execute_result"
    }
   ],
   "source": [
    "test1(6)"
   ]
  },
  {
   "cell_type": "code",
   "execution_count": 11,
   "id": "855c2fe6-f34a-4c67-86bd-c3c9a3d59466",
   "metadata": {},
   "outputs": [
    {
     "data": {
      "text/plain": [
       "9"
      ]
     },
     "execution_count": 11,
     "metadata": {},
     "output_type": "execute_result"
    }
   ],
   "source": [
    "test1(3)"
   ]
  },
  {
   "cell_type": "code",
   "execution_count": 19,
   "id": "55b046fa-a122-4644-8890-c57e98fe40ef",
   "metadata": {},
   "outputs": [],
   "source": [
    "def test1(name):\n",
    "    b = input(\"user input -\", name)\n",
    "    return b"
   ]
  },
  {
   "cell_type": "code",
   "execution_count": 20,
   "id": "7103aee0-4ed4-4c17-ada5-362cd3df77b9",
   "metadata": {},
   "outputs": [
    {
     "ename": "TypeError",
     "evalue": "Kernel.raw_input() takes from 1 to 2 positional arguments but 3 were given",
     "output_type": "error",
     "traceback": [
      "\u001b[1;31m---------------------------------------------------------------------------\u001b[0m",
      "\u001b[1;31mTypeError\u001b[0m                                 Traceback (most recent call last)",
      "Cell \u001b[1;32mIn[20], line 1\u001b[0m\n\u001b[1;32m----> 1\u001b[0m test1(\u001b[38;5;124m\"\u001b[39m\u001b[38;5;124mamit\u001b[39m\u001b[38;5;124m\"\u001b[39m)\n",
      "Cell \u001b[1;32mIn[19], line 2\u001b[0m, in \u001b[0;36mtest1\u001b[1;34m(name)\u001b[0m\n\u001b[0;32m      1\u001b[0m \u001b[38;5;28;01mdef\u001b[39;00m \u001b[38;5;21mtest1\u001b[39m(name):\n\u001b[1;32m----> 2\u001b[0m     b \u001b[38;5;241m=\u001b[39m \u001b[38;5;28minput\u001b[39m(\u001b[38;5;124m\"\u001b[39m\u001b[38;5;124muser input -\u001b[39m\u001b[38;5;124m\"\u001b[39m, name)\n\u001b[0;32m      3\u001b[0m     \u001b[38;5;28;01mreturn\u001b[39;00m b\n",
      "\u001b[1;31mTypeError\u001b[0m: Kernel.raw_input() takes from 1 to 2 positional arguments but 3 were given"
     ]
    }
   ],
   "source": [
    "test1(\"amit\")"
   ]
  },
  {
   "cell_type": "code",
   "execution_count": 22,
   "id": "51e2069f-4ad1-49c1-80da-13d3c1987cea",
   "metadata": {},
   "outputs": [
    {
     "ename": "TypeError",
     "evalue": "Kernel.raw_input() takes from 1 to 2 positional arguments but 3 were given",
     "output_type": "error",
     "traceback": [
      "\u001b[1;31m---------------------------------------------------------------------------\u001b[0m",
      "\u001b[1;31mTypeError\u001b[0m                                 Traceback (most recent call last)",
      "Cell \u001b[1;32mIn[22], line 3\u001b[0m\n\u001b[0;32m      1\u001b[0m name \u001b[38;5;241m=\u001b[39m \u001b[38;5;124m\"\u001b[39m\u001b[38;5;124mpy\u001b[39m\u001b[38;5;124m\"\u001b[39m\n\u001b[1;32m----> 3\u001b[0m \u001b[38;5;28minput\u001b[39m(\u001b[38;5;124m\"\u001b[39m\u001b[38;5;124muser input -\u001b[39m\u001b[38;5;124m\"\u001b[39m,name)\n",
      "\u001b[1;31mTypeError\u001b[0m: Kernel.raw_input() takes from 1 to 2 positional arguments but 3 were given"
     ]
    }
   ],
   "source": [
    "name = \"py\"\n",
    "\n",
    "input(\"user input -\",name)"
   ]
  },
  {
   "cell_type": "code",
   "execution_count": 23,
   "id": "55ee1411-91fd-4491-85d7-8ac73634af31",
   "metadata": {},
   "outputs": [],
   "source": [
    "def test1():\n",
    "    b = input(\"My name is -- \")\n",
    "    return b"
   ]
  },
  {
   "cell_type": "code",
   "execution_count": 24,
   "id": "89d3c4a1-1064-422e-9cfc-591519fe9f53",
   "metadata": {},
   "outputs": [
    {
     "name": "stdin",
     "output_type": "stream",
     "text": [
      "My name is --  amit\n"
     ]
    },
    {
     "data": {
      "text/plain": [
       "'amit'"
      ]
     },
     "execution_count": 24,
     "metadata": {},
     "output_type": "execute_result"
    }
   ],
   "source": [
    "test1()"
   ]
  },
  {
   "cell_type": "code",
   "execution_count": 25,
   "id": "fe01f17b-9312-4a71-abe8-07237fd97539",
   "metadata": {},
   "outputs": [],
   "source": [
    "def test2(a):\n",
    "    b = a**3\n",
    "    return b"
   ]
  },
  {
   "cell_type": "code",
   "execution_count": 26,
   "id": "0d0aef2d-c4bf-4740-9422-a04a8172a7de",
   "metadata": {},
   "outputs": [
    {
     "ename": "TypeError",
     "evalue": "test2() takes 1 positional argument but 2 were given",
     "output_type": "error",
     "traceback": [
      "\u001b[1;31m---------------------------------------------------------------------------\u001b[0m",
      "\u001b[1;31mTypeError\u001b[0m                                 Traceback (most recent call last)",
      "Cell \u001b[1;32mIn[26], line 1\u001b[0m\n\u001b[1;32m----> 1\u001b[0m test2(\u001b[38;5;241m2\u001b[39m,\u001b[38;5;241m5\u001b[39m)\n",
      "\u001b[1;31mTypeError\u001b[0m: test2() takes 1 positional argument but 2 were given"
     ]
    }
   ],
   "source": [
    "test2(2,5)"
   ]
  },
  {
   "cell_type": "code",
   "execution_count": 27,
   "id": "2e2e0364-a79b-4d82-8393-ba8cc24ab4ea",
   "metadata": {},
   "outputs": [],
   "source": [
    "def test3(*a):\n",
    "    return a"
   ]
  },
  {
   "cell_type": "code",
   "execution_count": 28,
   "id": "1d7e46d7-c6ba-43ce-86f9-5c3c4cbc7c81",
   "metadata": {},
   "outputs": [
    {
     "data": {
      "text/plain": [
       "(3,)"
      ]
     },
     "execution_count": 28,
     "metadata": {},
     "output_type": "execute_result"
    }
   ],
   "source": [
    "test3(3)"
   ]
  },
  {
   "cell_type": "code",
   "execution_count": 29,
   "id": "70697727-653f-4a96-90f7-2a84ef749793",
   "metadata": {},
   "outputs": [
    {
     "data": {
      "text/plain": [
       "()"
      ]
     },
     "execution_count": 29,
     "metadata": {},
     "output_type": "execute_result"
    }
   ],
   "source": [
    "test3()"
   ]
  },
  {
   "cell_type": "code",
   "execution_count": 30,
   "id": "4c3afdaa-cc59-48db-b65a-b4d418b7a81a",
   "metadata": {},
   "outputs": [
    {
     "data": {
      "text/plain": [
       "(2, 3, 4, 5, 7)"
      ]
     },
     "execution_count": 30,
     "metadata": {},
     "output_type": "execute_result"
    }
   ],
   "source": [
    "test3(2,3,4,5,7)"
   ]
  },
  {
   "cell_type": "code",
   "execution_count": 31,
   "id": "68dffa96-135c-4fec-a9b7-4db3dc70c083",
   "metadata": {},
   "outputs": [],
   "source": [
    "def test4(**a):\n",
    "    return a"
   ]
  },
  {
   "cell_type": "code",
   "execution_count": 32,
   "id": "9b6f8c8b-44ff-451c-9e3a-5fc30d3be817",
   "metadata": {},
   "outputs": [
    {
     "data": {
      "text/plain": [
       "{}"
      ]
     },
     "execution_count": 32,
     "metadata": {},
     "output_type": "execute_result"
    }
   ],
   "source": [
    "test4()"
   ]
  },
  {
   "cell_type": "code",
   "execution_count": 34,
   "id": "e1d3c07d-6885-4b6f-95e9-6e90f4fdbac1",
   "metadata": {},
   "outputs": [
    {
     "data": {
      "text/plain": [
       "{'jan': 5}"
      ]
     },
     "execution_count": 34,
     "metadata": {},
     "output_type": "execute_result"
    }
   ],
   "source": [
    "test4(jan = 5)"
   ]
  },
  {
   "cell_type": "code",
   "execution_count": 35,
   "id": "5aa7ef9c-5e78-4989-acf3-46a5ec652fbf",
   "metadata": {},
   "outputs": [
    {
     "data": {
      "text/plain": [
       "{'jan': 5, 'feb': 6}"
      ]
     },
     "execution_count": 35,
     "metadata": {},
     "output_type": "execute_result"
    }
   ],
   "source": [
    "test4(jan = 5, feb =6 )"
   ]
  },
  {
   "cell_type": "code",
   "execution_count": 36,
   "id": "d5ed2ec8-d9c8-43f2-aeb2-48739a7c3157",
   "metadata": {},
   "outputs": [],
   "source": [
    "def test6(*a, b):\n",
    "    return a, b"
   ]
  },
  {
   "cell_type": "code",
   "execution_count": 39,
   "id": "54be5698-d0d4-481e-b010-c2f378e0aac2",
   "metadata": {},
   "outputs": [
    {
     "ename": "TypeError",
     "evalue": "test6() missing 1 required keyword-only argument: 'b'",
     "output_type": "error",
     "traceback": [
      "\u001b[1;31m---------------------------------------------------------------------------\u001b[0m",
      "\u001b[1;31mTypeError\u001b[0m                                 Traceback (most recent call last)",
      "Cell \u001b[1;32mIn[39], line 1\u001b[0m\n\u001b[1;32m----> 1\u001b[0m test6(\u001b[38;5;241m6\u001b[39m,\u001b[38;5;241m7\u001b[39m)\n",
      "\u001b[1;31mTypeError\u001b[0m: test6() missing 1 required keyword-only argument: 'b'"
     ]
    }
   ],
   "source": [
    "test6(6,7)"
   ]
  },
  {
   "cell_type": "code",
   "execution_count": 40,
   "id": "646e60df-4abe-4cae-9e49-48b55fb9b5a2",
   "metadata": {},
   "outputs": [
    {
     "ename": "TypeError",
     "evalue": "test6() missing 1 required keyword-only argument: 'b'",
     "output_type": "error",
     "traceback": [
      "\u001b[1;31m---------------------------------------------------------------------------\u001b[0m",
      "\u001b[1;31mTypeError\u001b[0m                                 Traceback (most recent call last)",
      "Cell \u001b[1;32mIn[40], line 1\u001b[0m\n\u001b[1;32m----> 1\u001b[0m test6(\u001b[38;5;241m6\u001b[39m,\u001b[38;5;241m7\u001b[39m, \u001b[38;5;241m7\u001b[39m,\u001b[38;5;241m47\u001b[39m,\u001b[38;5;241m90\u001b[39m,\u001b[38;5;241m9\u001b[39m)\n",
      "\u001b[1;31mTypeError\u001b[0m: test6() missing 1 required keyword-only argument: 'b'"
     ]
    }
   ],
   "source": [
    "test6(6,7, 7,47,90,9)"
   ]
  },
  {
   "cell_type": "code",
   "execution_count": 41,
   "id": "04639d6f-3254-4329-abb1-b04aacb1e271",
   "metadata": {},
   "outputs": [],
   "source": [
    "def test7(a, *b):\n",
    "    return a, b"
   ]
  },
  {
   "cell_type": "code",
   "execution_count": 42,
   "id": "97c1e581-0163-4554-a553-ad1232f209c1",
   "metadata": {},
   "outputs": [
    {
     "data": {
      "text/plain": [
       "(6, ())"
      ]
     },
     "execution_count": 42,
     "metadata": {},
     "output_type": "execute_result"
    }
   ],
   "source": [
    "test7(6)"
   ]
  },
  {
   "cell_type": "code",
   "execution_count": 43,
   "id": "6a29dc28-9a74-42c4-a30a-ca1ccd3a875a",
   "metadata": {},
   "outputs": [
    {
     "data": {
      "text/plain": [
       "(6, (77, 4, 9))"
      ]
     },
     "execution_count": 43,
     "metadata": {},
     "output_type": "execute_result"
    }
   ],
   "source": [
    "test7(6, 77, 4,9 )"
   ]
  },
  {
   "cell_type": "code",
   "execution_count": 44,
   "id": "9f3ee010-6ec6-463e-8bdf-8060dbadba06",
   "metadata": {},
   "outputs": [
    {
     "ename": "SyntaxError",
     "evalue": "arguments cannot follow var-keyword argument (3226958255.py, line 1)",
     "output_type": "error",
     "traceback": [
      "\u001b[1;36m  Cell \u001b[1;32mIn[44], line 1\u001b[1;36m\u001b[0m\n\u001b[1;33m    def test8(**a, b, *c):\u001b[0m\n\u001b[1;37m                   ^\u001b[0m\n\u001b[1;31mSyntaxError\u001b[0m\u001b[1;31m:\u001b[0m arguments cannot follow var-keyword argument\n"
     ]
    }
   ],
   "source": [
    "def test8(**a, b, *c):\n",
    "    return c, b, a"
   ]
  },
  {
   "cell_type": "code",
   "execution_count": 45,
   "id": "4adcd8c3-17c7-478d-869a-8994f775c5d8",
   "metadata": {},
   "outputs": [
    {
     "ename": "SyntaxError",
     "evalue": "arguments cannot follow var-keyword argument (1919943464.py, line 1)",
     "output_type": "error",
     "traceback": [
      "\u001b[1;36m  Cell \u001b[1;32mIn[45], line 1\u001b[1;36m\u001b[0m\n\u001b[1;33m    def test8( b, **a, *c):\u001b[0m\n\u001b[1;37m                       ^\u001b[0m\n\u001b[1;31mSyntaxError\u001b[0m\u001b[1;31m:\u001b[0m arguments cannot follow var-keyword argument\n"
     ]
    }
   ],
   "source": [
    "def test8( b, **a, *c):\n",
    "    return c, b, a"
   ]
  },
  {
   "cell_type": "code",
   "execution_count": 46,
   "id": "83902f6a-33ab-47dd-a161-1ed818906dfe",
   "metadata": {},
   "outputs": [],
   "source": [
    "def test8( b,  *c, **a,):\n",
    "    return c, b, a"
   ]
  },
  {
   "cell_type": "code",
   "execution_count": 47,
   "id": "b8ccb212-fa97-414d-97a6-855e3be39b51",
   "metadata": {},
   "outputs": [
    {
     "data": {
      "text/plain": [
       "((), 5, {})"
      ]
     },
     "execution_count": 47,
     "metadata": {},
     "output_type": "execute_result"
    }
   ],
   "source": [
    "test8(5)"
   ]
  },
  {
   "cell_type": "code",
   "execution_count": 48,
   "id": "19e3b3af-60ce-4584-903a-ce4620cbddc9",
   "metadata": {},
   "outputs": [],
   "source": [
    "def area_of_circle (r):\n",
    "    PI = 3.14\n",
    "    area = PI * r ** 2\n",
    "    return area"
   ]
  },
  {
   "cell_type": "code",
   "execution_count": 49,
   "id": "f6b0b94e-c81a-499a-8125-274b315f4dda",
   "metadata": {},
   "outputs": [
    {
     "data": {
      "text/plain": [
       "5024.0"
      ]
     },
     "execution_count": 49,
     "metadata": {},
     "output_type": "execute_result"
    }
   ],
   "source": [
    "area_of_circle(40)"
   ]
  },
  {
   "cell_type": "code",
   "execution_count": 50,
   "id": "93182480-303c-44d3-a699-15cfc5e25121",
   "metadata": {},
   "outputs": [],
   "source": [
    "def area_of_circle (r):\n",
    "    PI = 3.14\n",
    "    area = PI * r ** 2\n",
    "    print(area) "
   ]
  },
  {
   "cell_type": "code",
   "execution_count": 51,
   "id": "3498175f-4be6-4fc1-988b-1ca8d7043b07",
   "metadata": {},
   "outputs": [
    {
     "name": "stdout",
     "output_type": "stream",
     "text": [
      "5024.0\n"
     ]
    }
   ],
   "source": [
    "area_of_circle(40)"
   ]
  },
  {
   "cell_type": "code",
   "execution_count": 56,
   "id": "49dae9d3-f4be-4993-8f0e-554af3da4440",
   "metadata": {},
   "outputs": [],
   "source": [
    "def squre(*a):\n",
    "    a = int(a)\n",
    "    sq = a*a\n",
    "    print(sq)"
   ]
  },
  {
   "cell_type": "code",
   "execution_count": 58,
   "id": "3be865fa-6a0b-48f0-9310-22234f420890",
   "metadata": {},
   "outputs": [
    {
     "ename": "TypeError",
     "evalue": "int() argument must be a string, a bytes-like object or a real number, not 'tuple'",
     "output_type": "error",
     "traceback": [
      "\u001b[1;31m---------------------------------------------------------------------------\u001b[0m",
      "\u001b[1;31mTypeError\u001b[0m                                 Traceback (most recent call last)",
      "Cell \u001b[1;32mIn[58], line 1\u001b[0m\n\u001b[1;32m----> 1\u001b[0m squre(\u001b[38;5;241m5\u001b[39m)\n",
      "Cell \u001b[1;32mIn[56], line 2\u001b[0m, in \u001b[0;36msqure\u001b[1;34m(*a)\u001b[0m\n\u001b[0;32m      1\u001b[0m \u001b[38;5;28;01mdef\u001b[39;00m \u001b[38;5;21msqure\u001b[39m(\u001b[38;5;241m*\u001b[39ma):\n\u001b[1;32m----> 2\u001b[0m     a \u001b[38;5;241m=\u001b[39m \u001b[38;5;28mint\u001b[39m(a)\n\u001b[0;32m      3\u001b[0m     sq \u001b[38;5;241m=\u001b[39m a\u001b[38;5;241m*\u001b[39ma\n\u001b[0;32m      4\u001b[0m     \u001b[38;5;28mprint\u001b[39m(sq)\n",
      "\u001b[1;31mTypeError\u001b[0m: int() argument must be a string, a bytes-like object or a real number, not 'tuple'"
     ]
    }
   ],
   "source": [
    "squre(5)"
   ]
  },
  {
   "cell_type": "code",
   "execution_count": 59,
   "id": "28f5069d-2be6-4546-962b-70b8cef5f56e",
   "metadata": {},
   "outputs": [],
   "source": [
    "def sum_of_numbers(n):\n",
    "    total = 0\n",
    "    for i in range(n+1):\n",
    "        total+=i\n",
    "    print(total)"
   ]
  },
  {
   "cell_type": "code",
   "execution_count": 60,
   "id": "8191616c-5aa7-473f-8a25-af194e95772b",
   "metadata": {},
   "outputs": [
    {
     "name": "stdout",
     "output_type": "stream",
     "text": [
      "15\n"
     ]
    }
   ],
   "source": [
    "sum_of_numbers(5)"
   ]
  },
  {
   "cell_type": "code",
   "execution_count": 61,
   "id": "346121f6-3eb5-42ae-a8c1-051140ffe9b6",
   "metadata": {},
   "outputs": [],
   "source": [
    "def sum_of_numbers(*n):\n",
    "    total = 0\n",
    "    for i in range(n+1):\n",
    "        total+=i\n",
    "    print(total)"
   ]
  },
  {
   "cell_type": "code",
   "execution_count": 62,
   "id": "5da2b851-b3fd-4ee3-a317-dd2e66c89405",
   "metadata": {},
   "outputs": [
    {
     "ename": "TypeError",
     "evalue": "can only concatenate tuple (not \"int\") to tuple",
     "output_type": "error",
     "traceback": [
      "\u001b[1;31m---------------------------------------------------------------------------\u001b[0m",
      "\u001b[1;31mTypeError\u001b[0m                                 Traceback (most recent call last)",
      "Cell \u001b[1;32mIn[62], line 1\u001b[0m\n\u001b[1;32m----> 1\u001b[0m sum_of_numbers(\u001b[38;5;241m6\u001b[39m,\u001b[38;5;241m8\u001b[39m)\n",
      "Cell \u001b[1;32mIn[61], line 3\u001b[0m, in \u001b[0;36msum_of_numbers\u001b[1;34m(*n)\u001b[0m\n\u001b[0;32m      1\u001b[0m \u001b[38;5;28;01mdef\u001b[39;00m \u001b[38;5;21msum_of_numbers\u001b[39m(\u001b[38;5;241m*\u001b[39mn):\n\u001b[0;32m      2\u001b[0m     total \u001b[38;5;241m=\u001b[39m \u001b[38;5;241m0\u001b[39m\n\u001b[1;32m----> 3\u001b[0m     \u001b[38;5;28;01mfor\u001b[39;00m i \u001b[38;5;129;01min\u001b[39;00m \u001b[38;5;28mrange\u001b[39m(n\u001b[38;5;241m+\u001b[39m\u001b[38;5;241m1\u001b[39m):\n\u001b[0;32m      4\u001b[0m         total\u001b[38;5;241m+\u001b[39m\u001b[38;5;241m=\u001b[39mi\n\u001b[0;32m      5\u001b[0m     \u001b[38;5;28mprint\u001b[39m(total)\n",
      "\u001b[1;31mTypeError\u001b[0m: can only concatenate tuple (not \"int\") to tuple"
     ]
    }
   ],
   "source": [
    "sum_of_numbers(6,8)"
   ]
  },
  {
   "cell_type": "code",
   "execution_count": 63,
   "id": "11e36735-9991-4e7f-9d09-3058efe6eb4b",
   "metadata": {},
   "outputs": [],
   "source": [
    "def print_names(*args):\n",
    "    for name in args:\n",
    "        print(name)"
   ]
  },
  {
   "cell_type": "code",
   "execution_count": 64,
   "id": "6a2333aa-a0fd-415e-a33f-ea6fa767e500",
   "metadata": {},
   "outputs": [
    {
     "name": "stdout",
     "output_type": "stream",
     "text": [
      "Rahul\n",
      "Sagar\n",
      "Vijay\n"
     ]
    }
   ],
   "source": [
    "print_names(\"Rahul\", \"Sagar\", \"Vijay\")"
   ]
  },
  {
   "cell_type": "code",
   "execution_count": 65,
   "id": "0ee78724-678a-4922-b3a8-5cb932276329",
   "metadata": {},
   "outputs": [],
   "source": [
    "def sum_numbers(*args):\n",
    "    return sum(args)"
   ]
  },
  {
   "cell_type": "code",
   "execution_count": 66,
   "id": "be3f0109-1f2c-49a8-b190-b9f89f768cfe",
   "metadata": {},
   "outputs": [
    {
     "data": {
      "text/plain": [
       "18"
      ]
     },
     "execution_count": 66,
     "metadata": {},
     "output_type": "execute_result"
    }
   ],
   "source": [
    "sum_numbers(3,6,9)"
   ]
  },
  {
   "cell_type": "code",
   "execution_count": 67,
   "id": "e30f3d24-49f6-4116-b5ea-c443bb876408",
   "metadata": {},
   "outputs": [],
   "source": [
    "def concatenate_strings(*args):\n",
    "    return \" \".join(args)"
   ]
  },
  {
   "cell_type": "code",
   "execution_count": 68,
   "id": "74780528-9002-4469-b561-b1968cb4d5f4",
   "metadata": {},
   "outputs": [
    {
     "data": {
      "text/plain": [
       "'Python java js c# Ruby HTML'"
      ]
     },
     "execution_count": 68,
     "metadata": {},
     "output_type": "execute_result"
    }
   ],
   "source": [
    "concatenate_strings(\"Python\", \"java\", \"js\", \"c#\", \"Ruby\", \"HTML\")"
   ]
  },
  {
   "cell_type": "code",
   "execution_count": 70,
   "id": "ecc98877-657b-4f2c-8dc8-61015984f4da",
   "metadata": {},
   "outputs": [],
   "source": [
    "def create_report(title, *lines):\n",
    "    report = f\"Report Title: {title}\\n\"\n",
    "    report += \"-\" * 50 + \"\\n\"\n",
    "    for line in lines:\n",
    "        report += line + \"\\n\"\n",
    "    report += \"-\" * 50\n",
    "    return report"
   ]
  },
  {
   "cell_type": "code",
   "execution_count": 71,
   "id": "842c5dfd-0683-408a-8ae7-a55ce8647b95",
   "metadata": {},
   "outputs": [
    {
     "data": {
      "text/plain": [
       "'Report Title: Monthly Sales\\n--------------------------------------------------\\nSales increased by 20%.\\nProfit margins are stable.\\nExpenses are down.\\n--------------------------------------------------'"
      ]
     },
     "execution_count": 71,
     "metadata": {},
     "output_type": "execute_result"
    }
   ],
   "source": [
    "create_report(\"Monthly Sales\",\"Sales increased by 20%.\", \"Profit margins are stable.\", \"Expenses are down.\" )"
   ]
  },
  {
   "cell_type": "code",
   "execution_count": 74,
   "id": "36dcd8de-a42e-4df3-b4e2-ee178a519b06",
   "metadata": {},
   "outputs": [],
   "source": [
    "def create_report(title, *lines):\n",
    "    report = f\"Report Title: {title}\\n\"\n",
    "    report += \"-\" * 50 + \"\\n\"\n",
    "    for line in lines:\n",
    "        report += line + \"\\n\"\n",
    "    report += \"-\" * 50\n",
    "    print(report) "
   ]
  },
  {
   "cell_type": "code",
   "execution_count": 75,
   "id": "c4e9b089-3e42-420c-885b-7bae41e209ba",
   "metadata": {},
   "outputs": [
    {
     "name": "stdout",
     "output_type": "stream",
     "text": [
      "Report Title: Monthly Sales\n",
      "--------------------------------------------------\n",
      "Sales increased by 20%.\n",
      "Profit margins are stable.\n",
      "Expenses are down.\n",
      "--------------------------------------------------\n"
     ]
    }
   ],
   "source": [
    "create_report(\"Monthly Sales\",\"Sales increased by 20%.\", \"Profit margins are stable.\", \"Expenses are down.\")"
   ]
  },
  {
   "cell_type": "code",
   "execution_count": 78,
   "id": "86c29eda-cc35-4ef3-a149-8abe9e4eab9b",
   "metadata": {},
   "outputs": [],
   "source": [
    "def create_report(title, *lines):\n",
    "    report = f\"Report Title: {title}\\n\"\n",
    "    report += \"-\" * 50 \n",
    "    for line in lines:\n",
    "        report += line \n",
    "    report += \"-\" * 50\n",
    "    print(report)"
   ]
  },
  {
   "cell_type": "code",
   "execution_count": 79,
   "id": "464154b0-1b56-4ed0-b7fd-e327b638fbe6",
   "metadata": {},
   "outputs": [
    {
     "name": "stdout",
     "output_type": "stream",
     "text": [
      "Report Title: Monthly Sales\n",
      "--------------------------------------------------Sales increased by 20%.Profit margins are stable.Expenses are down.--------------------------------------------------\n"
     ]
    }
   ],
   "source": [
    "create_report(\"Monthly Sales\",\"Sales increased by 20%.\", \"Profit margins are stable.\", \"Expenses are down.\")"
   ]
  },
  {
   "cell_type": "code",
   "execution_count": 81,
   "id": "6c539073-73a0-4b0a-9f61-62130e242d7a",
   "metadata": {},
   "outputs": [],
   "source": [
    "def introduce(name, *hobbies):\n",
    "    print(f\"Hello, my name is {name}.\")\n",
    "    if hobbies:\n",
    "        print(\"My hobbies are:\")\n",
    "        for hobby in hobbies:\n",
    "            print(f\"- {hobby}\")"
   ]
  },
  {
   "cell_type": "code",
   "execution_count": 82,
   "id": "351bc443-8a90-4737-a1ba-7aeb1a0f5614",
   "metadata": {},
   "outputs": [
    {
     "name": "stdout",
     "output_type": "stream",
     "text": [
      "Hello, my name is amit.\n",
      "My hobbies are:\n",
      "- learning\n",
      "- reading\n",
      "- driving\n"
     ]
    }
   ],
   "source": [
    "introduce(\"amit\", \"learning\", \"reading\", \"driving\")"
   ]
  },
  {
   "cell_type": "code",
   "execution_count": 83,
   "id": "fcfb681e-5976-4f4e-b13d-1a38f454139d",
   "metadata": {},
   "outputs": [
    {
     "name": "stdout",
     "output_type": "stream",
     "text": [
      "Hello, my name is amit.\n"
     ]
    }
   ],
   "source": [
    "introduce(\"amit\")"
   ]
  },
  {
   "cell_type": "code",
   "execution_count": 85,
   "id": "943b3de0-81ce-497e-9bbf-e3fdf8c44779",
   "metadata": {},
   "outputs": [],
   "source": [
    "def detailed_info(name, *args, **kwargs):\n",
    "    print(f\"Name: {name}\")\n",
    "    print(\"Additional Information:\")\n",
    "    for arg in args:\n",
    "        print(f\"- {arg}\")\n",
    "    for key, value in kwargs.items():\n",
    "        print(f\"{key}: {value}\")"
   ]
  },
  {
   "cell_type": "code",
   "execution_count": 92,
   "id": "3508edd4-aa39-4159-a486-d90d46a85647",
   "metadata": {},
   "outputs": [
    {
     "name": "stdout",
     "output_type": "stream",
     "text": [
      "Name: amit\n",
      "Additional Information:\n",
      "- mentor\n",
      "Designation: Data analyst\n"
     ]
    }
   ],
   "source": [
    "detailed_info(\"amit\", \"mentor\", Designation = \"Data analyst\")"
   ]
  },
  {
   "cell_type": "code",
   "execution_count": null,
   "id": "4ab0eaad-80f4-4fa1-9efd-7eff074e9131",
   "metadata": {},
   "outputs": [],
   "source": []
  }
 ],
 "metadata": {
  "kernelspec": {
   "display_name": "Python 3 (ipykernel)",
   "language": "python",
   "name": "python3"
  },
  "language_info": {
   "codemirror_mode": {
    "name": "ipython",
    "version": 3
   },
   "file_extension": ".py",
   "mimetype": "text/x-python",
   "name": "python",
   "nbconvert_exporter": "python",
   "pygments_lexer": "ipython3",
   "version": "3.11.7"
  }
 },
 "nbformat": 4,
 "nbformat_minor": 5
}
