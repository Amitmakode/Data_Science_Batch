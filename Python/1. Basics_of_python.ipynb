{
 "cells": [
  {
   "cell_type": "code",
   "execution_count": 1,
   "id": "8174c109-a86e-4679-803f-6c4993fa3f54",
   "metadata": {},
   "outputs": [
    {
     "name": "stdout",
     "output_type": "stream",
     "text": [
      "hello python\n"
     ]
    }
   ],
   "source": [
    "print(\"hello python\")"
   ]
  },
  {
   "cell_type": "markdown",
   "id": "268b9b85-0213-495e-9de2-0393a215c177",
   "metadata": {},
   "source": [
    "## Data Types"
   ]
  },
  {
   "cell_type": "code",
   "execution_count": null,
   "id": "47107c79-04e5-4848-b00c-7568aeaa2b7d",
   "metadata": {},
   "outputs": [],
   "source": [
    "int           = any whole number (0-9)\n",
    "\n",
    "float         = any decimal number (0.5, 1.99, 3.25)\n",
    "\n",
    "str           = any printed values/ syntax \"hello\", '3423', \"7#py\", \"    \"\n",
    "\n",
    "complex       = any number with combination of real and imagine number (2x+4y = 30),  (45+5j)\n",
    "                                                                        \n",
    "Bool          = True / False\n",
    "\n",
    "List          = [ ],    [\"py\", 56, 55.77, 33+77j, True,{\"jan\" :31, \"feb\" :28, \"march\":31}]\n",
    "\n",
    "tuple         = ( ),   (\"py\", 56, 55.77, 33+77j, True)\n",
    "\n",
    "set           =  { },     {\"py\", 56, 55.77, 33+77j, True}\n",
    "\n",
    "dict          =  { key : value},       {\"jan\" :31, \"feb\" :28, \"march\":31}   # key value pair"
   ]
  },
  {
   "cell_type": "markdown",
   "id": "bf79a677-4be3-4b74-b225-8485bbd32f98",
   "metadata": {},
   "source": [
    "## Arithmatic Operators "
   ]
  },
  {
   "cell_type": "code",
   "execution_count": null,
   "id": "6f20b2d4-c88c-41f4-b9a9-75c61e6b0f43",
   "metadata": {},
   "outputs": [],
   "source": [
    "+ = add\n",
    "- = sub\n",
    "* = multi\n",
    "/ = devision\n",
    "% = mod\n",
    "** = power\n",
    "// = floor division"
   ]
  },
  {
   "cell_type": "code",
   "execution_count": 2,
   "id": "24d17231-2d23-4f65-8701-5963fd6ccb11",
   "metadata": {},
   "outputs": [
    {
     "data": {
      "text/plain": [
       "1"
      ]
     },
     "execution_count": 2,
     "metadata": {},
     "output_type": "execute_result"
    }
   ],
   "source": [
    "33%2"
   ]
  },
  {
   "cell_type": "code",
   "execution_count": 3,
   "id": "41fcf005-2d1f-4554-a8f2-9826a85800e1",
   "metadata": {},
   "outputs": [
    {
     "data": {
      "text/plain": [
       "8"
      ]
     },
     "execution_count": 3,
     "metadata": {},
     "output_type": "execute_result"
    }
   ],
   "source": [
    "2**3"
   ]
  },
  {
   "cell_type": "code",
   "execution_count": 4,
   "id": "344a7622-78e6-4a0c-b948-a93049111c8b",
   "metadata": {},
   "outputs": [
    {
     "data": {
      "text/plain": [
       "16"
      ]
     },
     "execution_count": 4,
     "metadata": {},
     "output_type": "execute_result"
    }
   ],
   "source": [
    "33//2"
   ]
  },
  {
   "cell_type": "code",
   "execution_count": 5,
   "id": "92f1e6ba-6845-4fcd-a715-080c9c173155",
   "metadata": {},
   "outputs": [
    {
     "data": {
      "text/plain": [
       "3"
      ]
     },
     "execution_count": 5,
     "metadata": {},
     "output_type": "execute_result"
    }
   ],
   "source": [
    "7//2"
   ]
  },
  {
   "cell_type": "markdown",
   "id": "968a25a6-a50f-47b3-9178-02ec0abcd778",
   "metadata": {},
   "source": [
    "## Comparision Operators"
   ]
  },
  {
   "cell_type": "raw",
   "id": "560da0cf-edba-4e34-82e9-105d516a5b10",
   "metadata": {},
   "source": [
    "==\n",
    ">\n",
    "<\n",
    ">=\n",
    "<=\n",
    "!="
   ]
  },
  {
   "cell_type": "code",
   "execution_count": 8,
   "id": "052f598c-06d6-471d-8bb3-7c97a93981e6",
   "metadata": {},
   "outputs": [
    {
     "data": {
      "text/plain": [
       "True"
      ]
     },
     "execution_count": 8,
     "metadata": {},
     "output_type": "execute_result"
    }
   ],
   "source": [
    "2 == 2"
   ]
  },
  {
   "cell_type": "code",
   "execution_count": 9,
   "id": "804da580-c8f9-4afd-83e5-fbd966aebd77",
   "metadata": {},
   "outputs": [
    {
     "data": {
      "text/plain": [
       "True"
      ]
     },
     "execution_count": 9,
     "metadata": {},
     "output_type": "execute_result"
    }
   ],
   "source": [
    "3>2"
   ]
  },
  {
   "cell_type": "markdown",
   "id": "62affe56-d9a5-4a97-a4c6-b9575969092b",
   "metadata": {},
   "source": [
    "## Logical Operators"
   ]
  },
  {
   "cell_type": "code",
   "execution_count": null,
   "id": "658875e0-11b6-4c9e-9411-f96c3dc70245",
   "metadata": {},
   "outputs": [],
   "source": [
    "and\n",
    "or\n",
    "not\n",
    "in\n",
    "not in\n",
    "is \n",
    "is not"
   ]
  },
  {
   "cell_type": "code",
   "execution_count": null,
   "id": "97a07c25-03ab-45dc-838e-9c09786b6fca",
   "metadata": {},
   "outputs": [],
   "source": [
    "T and T = T\n",
    "T and F = F\n",
    "F and T = F\n",
    "F and F = F"
   ]
  },
  {
   "cell_type": "code",
   "execution_count": null,
   "id": "40d46b2f-dae7-45da-a627-af5e8d890929",
   "metadata": {},
   "outputs": [],
   "source": [
    "T or F = T\n",
    "F or F = F\n",
    "F or T = T\n",
    "T or T = T"
   ]
  },
  {
   "cell_type": "code",
   "execution_count": 11,
   "id": "34408020-5122-4af4-9143-b9a367f3822a",
   "metadata": {},
   "outputs": [],
   "source": [
    "l = [3,7,9]"
   ]
  },
  {
   "cell_type": "code",
   "execution_count": 12,
   "id": "2507b618-264b-40fa-8933-9ecb669fc9eb",
   "metadata": {},
   "outputs": [
    {
     "data": {
      "text/plain": [
       "True"
      ]
     },
     "execution_count": 12,
     "metadata": {},
     "output_type": "execute_result"
    }
   ],
   "source": [
    "3 in l"
   ]
  },
  {
   "cell_type": "code",
   "execution_count": 13,
   "id": "a9066149-807f-4f2a-83bb-8b3b79861f06",
   "metadata": {},
   "outputs": [
    {
     "data": {
      "text/plain": [
       "False"
      ]
     },
     "execution_count": 13,
     "metadata": {},
     "output_type": "execute_result"
    }
   ],
   "source": [
    "3 not in l"
   ]
  },
  {
   "cell_type": "code",
   "execution_count": 15,
   "id": "c19ec586-959a-4153-95fa-51244874a818",
   "metadata": {},
   "outputs": [
    {
     "name": "stderr",
     "output_type": "stream",
     "text": [
      "<>:1: SyntaxWarning: \"is not\" with a literal. Did you mean \"!=\"?\n",
      "<>:1: SyntaxWarning: \"is not\" with a literal. Did you mean \"!=\"?\n",
      "C:\\Users\\amitm\\AppData\\Local\\Temp\\ipykernel_3544\\2231232904.py:1: SyntaxWarning: \"is not\" with a literal. Did you mean \"!=\"?\n",
      "  2 is not 3\n"
     ]
    },
    {
     "data": {
      "text/plain": [
       "True"
      ]
     },
     "execution_count": 15,
     "metadata": {},
     "output_type": "execute_result"
    }
   ],
   "source": [
    "2 is not 3"
   ]
  },
  {
   "cell_type": "code",
   "execution_count": 19,
   "id": "fff3d590-0e2b-48e1-8dc0-09a40cb2616d",
   "metadata": {},
   "outputs": [],
   "source": [
    "a = 20\n",
    "b = 50\n",
    "c = 20\n",
    "d = 5"
   ]
  },
  {
   "cell_type": "code",
   "execution_count": 17,
   "id": "9a52290a-3d80-444c-b0c5-bab5edc2c945",
   "metadata": {},
   "outputs": [
    {
     "data": {
      "text/plain": [
       "70"
      ]
     },
     "execution_count": 17,
     "metadata": {},
     "output_type": "execute_result"
    }
   ],
   "source": [
    "a +b"
   ]
  },
  {
   "cell_type": "code",
   "execution_count": 18,
   "id": "667441c6-bcee-44d4-be83-412942b9c1fb",
   "metadata": {},
   "outputs": [
    {
     "data": {
      "text/plain": [
       "22.5"
      ]
     },
     "execution_count": 18,
     "metadata": {},
     "output_type": "execute_result"
    }
   ],
   "source": [
    "a + b /a"
   ]
  },
  {
   "cell_type": "code",
   "execution_count": 20,
   "id": "d5c6bf3e-996a-4dee-be9f-c726b81186e5",
   "metadata": {},
   "outputs": [
    {
     "data": {
      "text/plain": [
       "155.0"
      ]
     },
     "execution_count": 20,
     "metadata": {},
     "output_type": "execute_result"
    }
   ],
   "source": [
    "(a + b) * ( b - c)/ a + b   #bodmas"
   ]
  },
  {
   "cell_type": "code",
   "execution_count": 21,
   "id": "95d7ede8-2757-4899-b4b2-8eefb81095cd",
   "metadata": {},
   "outputs": [
    {
     "data": {
      "text/plain": [
       "0.0"
      ]
     },
     "execution_count": 21,
     "metadata": {},
     "output_type": "execute_result"
    }
   ],
   "source": [
    "0/1"
   ]
  },
  {
   "cell_type": "code",
   "execution_count": 22,
   "id": "d037f7e1-2a0e-44c6-a5ef-6c8c07d62897",
   "metadata": {},
   "outputs": [
    {
     "ename": "ZeroDivisionError",
     "evalue": "division by zero",
     "output_type": "error",
     "traceback": [
      "\u001b[1;31m---------------------------------------------------------------------------\u001b[0m",
      "\u001b[1;31mZeroDivisionError\u001b[0m                         Traceback (most recent call last)",
      "Cell \u001b[1;32mIn[22], line 1\u001b[0m\n\u001b[1;32m----> 1\u001b[0m \u001b[38;5;241m1\u001b[39m\u001b[38;5;241m/\u001b[39m\u001b[38;5;241m0\u001b[39m\n",
      "\u001b[1;31mZeroDivisionError\u001b[0m: division by zero"
     ]
    }
   ],
   "source": [
    "1/0"
   ]
  },
  {
   "cell_type": "markdown",
   "id": "247a611a-732e-4d1b-a284-9edc86e205b4",
   "metadata": {},
   "source": [
    "## Variables"
   ]
  },
  {
   "cell_type": "code",
   "execution_count": 24,
   "id": "51b8531f-6250-4d40-b68f-e3add80ef680",
   "metadata": {},
   "outputs": [],
   "source": [
    "name = \"python\""
   ]
  },
  {
   "cell_type": "code",
   "execution_count": 25,
   "id": "379e0ff5-0117-403f-83ee-c6e5f37f7c8c",
   "metadata": {},
   "outputs": [
    {
     "data": {
      "text/plain": [
       "'python'"
      ]
     },
     "execution_count": 25,
     "metadata": {},
     "output_type": "execute_result"
    }
   ],
   "source": [
    "name"
   ]
  },
  {
   "cell_type": "code",
   "execution_count": 26,
   "id": "ab9f0128-cc21-49b5-9648-cd4c70d72fb6",
   "metadata": {},
   "outputs": [
    {
     "ename": "SyntaxError",
     "evalue": "invalid decimal literal (4043814365.py, line 1)",
     "output_type": "error",
     "traceback": [
      "\u001b[1;36m  Cell \u001b[1;32mIn[26], line 1\u001b[1;36m\u001b[0m\n\u001b[1;33m    1name = \"python\"\u001b[0m\n\u001b[1;37m    ^\u001b[0m\n\u001b[1;31mSyntaxError\u001b[0m\u001b[1;31m:\u001b[0m invalid decimal literal\n"
     ]
    }
   ],
   "source": [
    "1name = \"python\""
   ]
  },
  {
   "cell_type": "code",
   "execution_count": 27,
   "id": "f8cb4ee6-337d-4a0c-9b5c-0a7920bd8b91",
   "metadata": {},
   "outputs": [],
   "source": [
    "name1 = \"python\""
   ]
  },
  {
   "cell_type": "code",
   "execution_count": 28,
   "id": "a48e2a86-cfe5-476d-8453-17798365cd6a",
   "metadata": {},
   "outputs": [
    {
     "data": {
      "text/plain": [
       "'python'"
      ]
     },
     "execution_count": 28,
     "metadata": {},
     "output_type": "execute_result"
    }
   ],
   "source": [
    "name1"
   ]
  },
  {
   "cell_type": "code",
   "execution_count": 29,
   "id": "205d325e-3bd3-4f87-9465-c40923e223d6",
   "metadata": {},
   "outputs": [
    {
     "ename": "SyntaxError",
     "evalue": "invalid syntax (4074957369.py, line 1)",
     "output_type": "error",
     "traceback": [
      "\u001b[1;36m  Cell \u001b[1;32mIn[29], line 1\u001b[1;36m\u001b[0m\n\u001b[1;33m    name@ = \"python\"\u001b[0m\n\u001b[1;37m          ^\u001b[0m\n\u001b[1;31mSyntaxError\u001b[0m\u001b[1;31m:\u001b[0m invalid syntax\n"
     ]
    }
   ],
   "source": [
    "name@ = \"python\""
   ]
  },
  {
   "cell_type": "code",
   "execution_count": 30,
   "id": "f6bf68d8-99a2-4051-a4c0-be0fd4d26bee",
   "metadata": {},
   "outputs": [],
   "source": [
    "name_1 = \"python\""
   ]
  },
  {
   "cell_type": "code",
   "execution_count": 31,
   "id": "af372610-1fb7-42ad-b59d-bc37ccc5e159",
   "metadata": {},
   "outputs": [
    {
     "ename": "SyntaxError",
     "evalue": "invalid syntax (2083796670.py, line 1)",
     "output_type": "error",
     "traceback": [
      "\u001b[1;36m  Cell \u001b[1;32mIn[31], line 1\u001b[1;36m\u001b[0m\n\u001b[1;33m    $ = \"python\"\u001b[0m\n\u001b[1;37m    ^\u001b[0m\n\u001b[1;31mSyntaxError\u001b[0m\u001b[1;31m:\u001b[0m invalid syntax\n"
     ]
    }
   ],
   "source": [
    "$ = \"python\""
   ]
  },
  {
   "cell_type": "code",
   "execution_count": 32,
   "id": "ed58c618-be45-4d1d-8160-dc5a696740bd",
   "metadata": {},
   "outputs": [],
   "source": [
    "_ = \"python\""
   ]
  },
  {
   "cell_type": "code",
   "execution_count": 33,
   "id": "5c8db742-2979-4a5a-a7ca-97574c44b8c6",
   "metadata": {},
   "outputs": [
    {
     "data": {
      "text/plain": [
       "'python'"
      ]
     },
     "execution_count": 33,
     "metadata": {},
     "output_type": "execute_result"
    }
   ],
   "source": [
    "_"
   ]
  },
  {
   "cell_type": "code",
   "execution_count": 34,
   "id": "74abc51c-4beb-4dc7-bc71-b3aa1fce9ee8",
   "metadata": {},
   "outputs": [
    {
     "ename": "SyntaxError",
     "evalue": "invalid syntax (1077948173.py, line 1)",
     "output_type": "error",
     "traceback": [
      "\u001b[1;36m  Cell \u001b[1;32mIn[34], line 1\u001b[1;36m\u001b[0m\n\u001b[1;33m    fisrt name = \"amit\"\u001b[0m\n\u001b[1;37m          ^\u001b[0m\n\u001b[1;31mSyntaxError\u001b[0m\u001b[1;31m:\u001b[0m invalid syntax\n"
     ]
    }
   ],
   "source": [
    "fisrt name = \"amit\""
   ]
  },
  {
   "cell_type": "code",
   "execution_count": 35,
   "id": "a43d0976-c4d7-4483-8ae9-9843d05b7a3f",
   "metadata": {},
   "outputs": [
    {
     "ename": "SyntaxError",
     "evalue": "cannot assign to expression here. Maybe you meant '==' instead of '='? (1962395652.py, line 1)",
     "output_type": "error",
     "traceback": [
      "\u001b[1;36m  Cell \u001b[1;32mIn[35], line 1\u001b[1;36m\u001b[0m\n\u001b[1;33m    fisrt-name = \"amit\"\u001b[0m\n\u001b[1;37m    ^\u001b[0m\n\u001b[1;31mSyntaxError\u001b[0m\u001b[1;31m:\u001b[0m cannot assign to expression here. Maybe you meant '==' instead of '='?\n"
     ]
    }
   ],
   "source": [
    "fisrt-name = \"amit\""
   ]
  },
  {
   "cell_type": "code",
   "execution_count": 36,
   "id": "894cef36-7ffb-4ab8-b521-dfed5e31ab04",
   "metadata": {},
   "outputs": [],
   "source": [
    "fisrt_name = \"amit\""
   ]
  },
  {
   "cell_type": "code",
   "execution_count": 37,
   "id": "43c1e487-45f7-4e8c-9f97-4ec14824ce5e",
   "metadata": {},
   "outputs": [],
   "source": [
    "_1 = \"amit\""
   ]
  },
  {
   "cell_type": "code",
   "execution_count": 38,
   "id": "c9f8adf6-1cd2-4da3-934f-6ebb07f1cfae",
   "metadata": {},
   "outputs": [],
   "source": [
    "a = 10,20, 30 "
   ]
  },
  {
   "cell_type": "code",
   "execution_count": 39,
   "id": "0d2f2626-1c0a-4f31-8410-6fc33c826c78",
   "metadata": {},
   "outputs": [],
   "source": [
    "a, b, c = 10,20, 30 "
   ]
  },
  {
   "cell_type": "code",
   "execution_count": null,
   "id": "e21e745a-d408-4cc6-ad75-4f7f1bb6cfff",
   "metadata": {},
   "outputs": [],
   "source": []
  },
  {
   "cell_type": "code",
   "execution_count": 40,
   "id": "ccf2793e-66fe-4eff-a1e9-a0132ad2ac85",
   "metadata": {},
   "outputs": [
    {
     "name": "stdout",
     "output_type": "stream",
     "text": [
      "True\n"
     ]
    }
   ],
   "source": [
    "### 1. `and` Operator\n",
    "\n",
    "#The `and` operator returns `True` if both operands are `True`, otherwise it returns `False`.\n",
    "\n",
    "# Example with 'and' operator\n",
    "x = 5\t\n",
    "y = 10\n",
    "\n",
    "result = (x > 0) and (y < 20)  # True because both conditions are True\n",
    "print(result)  # Output: True"
   ]
  },
  {
   "cell_type": "code",
   "execution_count": 41,
   "id": "01b18339-8ea8-4a37-93d4-13fcb0549764",
   "metadata": {},
   "outputs": [
    {
     "name": "stdout",
     "output_type": "stream",
     "text": [
      "False\n"
     ]
    }
   ],
   "source": [
    "result = (x > 0) and (y > 20)  # False because y > 20 is False\n",
    "print(result)  # Output: False"
   ]
  },
  {
   "cell_type": "code",
   "execution_count": 42,
   "id": "fe31e3b4-1945-4a0e-b76e-99ddbd90280c",
   "metadata": {},
   "outputs": [
    {
     "name": "stdout",
     "output_type": "stream",
     "text": [
      "False\n"
     ]
    }
   ],
   "source": [
    "# Example with boolean variables\n",
    "is_adult = True\n",
    "has_license = False\n",
    "\n",
    "can_drive = is_adult and has_license\n",
    "print(can_drive)  # Output: False because has_license is False"
   ]
  },
  {
   "cell_type": "code",
   "execution_count": 43,
   "id": "1d8d35a3-d6cd-4f31-82aa-bcc35d6ba049",
   "metadata": {},
   "outputs": [
    {
     "name": "stdout",
     "output_type": "stream",
     "text": [
      "False\n"
     ]
    }
   ],
   "source": [
    "### 3. `not` Operator\n",
    "\n",
    "#The `not` operator is used to negate a Boolean expression. It returns `True` if the expression is `False`, and `False` if the expression is `True`.\n",
    "\n",
    "# Example with 'not' operator\n",
    "x = 5\n",
    "y = 10\n",
    "\n",
    "result = not (x > 0)  # False because x > 0 is True\n",
    "print(result)  # Output: False\n"
   ]
  },
  {
   "cell_type": "code",
   "execution_count": 44,
   "id": "5c51128c-bf21-4017-8b43-f432e67f0399",
   "metadata": {},
   "outputs": [
    {
     "name": "stdout",
     "output_type": "stream",
     "text": [
      "False\n",
      "True\n"
     ]
    }
   ],
   "source": [
    "result = not (y < 20)  # False because y < 20 is True\n",
    "print(result)  # Output: False\n",
    "\n",
    "# Example with boolean variable\n",
    "is_adult = False\n",
    "\n",
    "is_minor = not is_adult\n",
    "print(is_minor)  # Output: True because is_adult is False"
   ]
  },
  {
   "cell_type": "code",
   "execution_count": 45,
   "id": "d2d3ca58-85e5-453f-b162-fe59829c0131",
   "metadata": {},
   "outputs": [
    {
     "name": "stdout",
     "output_type": "stream",
     "text": [
      "True\n"
     ]
    }
   ],
   "source": [
    "# Example of precedence\n",
    "x = 5\n",
    "y = 10\n",
    "z = 15\n",
    "\n",
    "result = x > 0 and y < 20 or z == 15  # True because (x > 0 and y < 20) is True\n",
    "print(result)  # Output: True"
   ]
  },
  {
   "cell_type": "code",
   "execution_count": 46,
   "id": "cebf8a36-0707-4b1b-b4e4-0aafc2e59c9b",
   "metadata": {},
   "outputs": [
    {
     "data": {
      "text/plain": [
       "False"
      ]
     },
     "execution_count": 46,
     "metadata": {},
     "output_type": "execute_result"
    }
   ],
   "source": [
    "x == 2 and y <20 and z > 10"
   ]
  },
  {
   "cell_type": "code",
   "execution_count": 47,
   "id": "26f9ca3c-75f5-4d5c-9046-1a303eab003b",
   "metadata": {},
   "outputs": [
    {
     "data": {
      "text/plain": [
       "False"
      ]
     },
     "execution_count": 47,
     "metadata": {},
     "output_type": "execute_result"
    }
   ],
   "source": [
    "x == 2 and y <20 or z > 10 and z == 14"
   ]
  },
  {
   "cell_type": "code",
   "execution_count": 48,
   "id": "e53cd455-8eeb-46e3-b5dc-85ce40312f3d",
   "metadata": {},
   "outputs": [
    {
     "name": "stdout",
     "output_type": "stream",
     "text": [
      "True\n",
      "False\n"
     ]
    }
   ],
   "source": [
    "### 1. `is` Operator\n",
    "\n",
    "#The `is` operator is used to test object identity. It checks if two variables point to the same object in memory.\n",
    "\n",
    "a = [1, 2, 3]\n",
    "b = a  # b is assigned to the same object as a\n",
    "\n",
    "print(a is b)  # Output: True\n",
    "\n",
    "c = [1, 2, 3]\n",
    "print(a is c)  # Output: False, because c is a different object than a"
   ]
  },
  {
   "cell_type": "code",
   "execution_count": 49,
   "id": "698e8cdc-04dd-4e80-8524-2320c711e7fb",
   "metadata": {},
   "outputs": [],
   "source": [
    "name = \"amit\""
   ]
  },
  {
   "cell_type": "code",
   "execution_count": 50,
   "id": "8cc70d21-c1d9-463f-9c02-5d0b2d45d11f",
   "metadata": {},
   "outputs": [],
   "source": [
    "number = 55"
   ]
  },
  {
   "cell_type": "code",
   "execution_count": 51,
   "id": "2a2c927f-f300-4912-bf8d-bd8a47b03f80",
   "metadata": {},
   "outputs": [],
   "source": [
    "ele_list = [3,48,\"py\"]"
   ]
  },
  {
   "cell_type": "code",
   "execution_count": 52,
   "id": "72418cde-357a-4bd7-9f88-f6ccfaf655dc",
   "metadata": {},
   "outputs": [
    {
     "data": {
      "text/plain": [
       "str"
      ]
     },
     "execution_count": 52,
     "metadata": {},
     "output_type": "execute_result"
    }
   ],
   "source": [
    "type(name)"
   ]
  },
  {
   "cell_type": "code",
   "execution_count": 53,
   "id": "35e057f8-de9a-467c-abfe-3dbf467c61b8",
   "metadata": {},
   "outputs": [
    {
     "data": {
      "text/plain": [
       "list"
      ]
     },
     "execution_count": 53,
     "metadata": {},
     "output_type": "execute_result"
    }
   ],
   "source": [
    "type(ele_list)"
   ]
  },
  {
   "cell_type": "code",
   "execution_count": 54,
   "id": "dae849be-55ab-42e7-8289-d6aaebc3fdd3",
   "metadata": {},
   "outputs": [
    {
     "data": {
      "text/plain": [
       "int"
      ]
     },
     "execution_count": 54,
     "metadata": {},
     "output_type": "execute_result"
    }
   ],
   "source": [
    "type(number)"
   ]
  },
  {
   "cell_type": "code",
   "execution_count": 55,
   "id": "2ad64c58-c2c7-4da2-ad46-3747444eb34b",
   "metadata": {},
   "outputs": [],
   "source": [
    "var = \"amit\""
   ]
  },
  {
   "cell_type": "code",
   "execution_count": 56,
   "id": "e8ccd54f-31e9-4b3e-aa50-dccb61943d91",
   "metadata": {},
   "outputs": [
    {
     "data": {
      "text/plain": [
       "str"
      ]
     },
     "execution_count": 56,
     "metadata": {},
     "output_type": "execute_result"
    }
   ],
   "source": [
    "type(var)"
   ]
  },
  {
   "cell_type": "code",
   "execution_count": 57,
   "id": "26168f0c-31b5-43d4-b40a-d2f8d440f576",
   "metadata": {},
   "outputs": [],
   "source": [
    "var = 76687"
   ]
  },
  {
   "cell_type": "code",
   "execution_count": 58,
   "id": "90428613-b474-4a9f-ae2c-3bf55d5efd4e",
   "metadata": {},
   "outputs": [
    {
     "data": {
      "text/plain": [
       "int"
      ]
     },
     "execution_count": 58,
     "metadata": {},
     "output_type": "execute_result"
    }
   ],
   "source": [
    "type(var)"
   ]
  },
  {
   "cell_type": "code",
   "execution_count": 59,
   "id": "2402caa4-e536-4754-a068-98547a28facd",
   "metadata": {},
   "outputs": [
    {
     "data": {
      "text/plain": [
       "76687"
      ]
     },
     "execution_count": 59,
     "metadata": {},
     "output_type": "execute_result"
    }
   ],
   "source": [
    "var"
   ]
  },
  {
   "cell_type": "code",
   "execution_count": 61,
   "id": "91cab77f-3ac2-434b-8762-3cdabb1e1031",
   "metadata": {},
   "outputs": [
    {
     "ename": "TypeError",
     "evalue": "object of type 'int' has no len()",
     "output_type": "error",
     "traceback": [
      "\u001b[1;31m---------------------------------------------------------------------------\u001b[0m",
      "\u001b[1;31mTypeError\u001b[0m                                 Traceback (most recent call last)",
      "Cell \u001b[1;32mIn[61], line 1\u001b[0m\n\u001b[1;32m----> 1\u001b[0m \u001b[38;5;28mlen\u001b[39m(var)\n",
      "\u001b[1;31mTypeError\u001b[0m: object of type 'int' has no len()"
     ]
    }
   ],
   "source": [
    "len(var)"
   ]
  },
  {
   "cell_type": "code",
   "execution_count": 62,
   "id": "b52a09a1-87ce-4954-a537-7d258dba25d5",
   "metadata": {},
   "outputs": [
    {
     "data": {
      "text/plain": [
       "3"
      ]
     },
     "execution_count": 62,
     "metadata": {},
     "output_type": "execute_result"
    }
   ],
   "source": [
    "len(ele_list)"
   ]
  },
  {
   "cell_type": "code",
   "execution_count": 63,
   "id": "5d5918a0-9337-4cd8-b3be-68f69e752c83",
   "metadata": {},
   "outputs": [
    {
     "data": {
      "text/plain": [
       "4"
      ]
     },
     "execution_count": 63,
     "metadata": {},
     "output_type": "execute_result"
    }
   ],
   "source": [
    "len(name)"
   ]
  },
  {
   "cell_type": "markdown",
   "id": "2ac86824-b08a-487a-a6d7-188c02472c86",
   "metadata": {},
   "source": [
    "## bitwise operators"
   ]
  },
  {
   "cell_type": "code",
   "execution_count": 64,
   "id": "344749e1-09d8-4b77-a2bf-c0bedaf59356",
   "metadata": {},
   "outputs": [],
   "source": [
    "a = 1"
   ]
  },
  {
   "cell_type": "code",
   "execution_count": 69,
   "id": "61962df3-a5bb-4137-9eac-1f4b38689d87",
   "metadata": {},
   "outputs": [],
   "source": [
    "a += 1"
   ]
  },
  {
   "cell_type": "code",
   "execution_count": 70,
   "id": "a02a9081-e688-4292-8d0b-883bf7220cce",
   "metadata": {},
   "outputs": [
    {
     "data": {
      "text/plain": [
       "4"
      ]
     },
     "execution_count": 70,
     "metadata": {},
     "output_type": "execute_result"
    }
   ],
   "source": [
    "a"
   ]
  },
  {
   "cell_type": "code",
   "execution_count": 73,
   "id": "a3518bed-29a0-40fa-b7ec-4c90dcd8eac5",
   "metadata": {},
   "outputs": [],
   "source": [
    "a -= 1"
   ]
  },
  {
   "cell_type": "code",
   "execution_count": null,
   "id": "b0499c6e-00bf-4b02-9c97-4baeb16a2756",
   "metadata": {},
   "outputs": [],
   "source": []
  },
  {
   "cell_type": "code",
   "execution_count": 74,
   "id": "ab45d289-a844-4737-af9b-5437ace8ddef",
   "metadata": {},
   "outputs": [
    {
     "data": {
      "text/plain": [
       "2"
      ]
     },
     "execution_count": 74,
     "metadata": {},
     "output_type": "execute_result"
    }
   ],
   "source": [
    "a"
   ]
  },
  {
   "cell_type": "code",
   "execution_count": null,
   "id": "a3377c75-9014-4abc-9945-f7c7688f884e",
   "metadata": {},
   "outputs": [],
   "source": [
    "a = a + 1\n",
    "a = a - 1"
   ]
  },
  {
   "cell_type": "markdown",
   "id": "9bb6b861-877c-4d45-bb89-dcba4c7bb7f5",
   "metadata": {},
   "source": [
    "## DataType Casting:-\t"
   ]
  },
  {
   "cell_type": "code",
   "execution_count": 75,
   "id": "8c566058-5171-493a-8026-9581e6309b29",
   "metadata": {},
   "outputs": [
    {
     "data": {
      "text/plain": [
       "'amit'"
      ]
     },
     "execution_count": 75,
     "metadata": {},
     "output_type": "execute_result"
    }
   ],
   "source": [
    "name"
   ]
  },
  {
   "cell_type": "code",
   "execution_count": 76,
   "id": "4fb5dae0-b4e2-4ecf-979e-cfa3675f2837",
   "metadata": {},
   "outputs": [
    {
     "data": {
      "text/plain": [
       "[3, 48, 'py']"
      ]
     },
     "execution_count": 76,
     "metadata": {},
     "output_type": "execute_result"
    }
   ],
   "source": [
    "ele_list"
   ]
  },
  {
   "cell_type": "code",
   "execution_count": 77,
   "id": "857a6675-7ccd-44d9-a4ad-d99ff1964808",
   "metadata": {},
   "outputs": [
    {
     "ename": "ValueError",
     "evalue": "invalid literal for int() with base 10: 'amit'",
     "output_type": "error",
     "traceback": [
      "\u001b[1;31m---------------------------------------------------------------------------\u001b[0m",
      "\u001b[1;31mValueError\u001b[0m                                Traceback (most recent call last)",
      "Cell \u001b[1;32mIn[77], line 1\u001b[0m\n\u001b[1;32m----> 1\u001b[0m \u001b[38;5;28mint\u001b[39m(name)\n",
      "\u001b[1;31mValueError\u001b[0m: invalid literal for int() with base 10: 'amit'"
     ]
    }
   ],
   "source": [
    "int(name)"
   ]
  },
  {
   "cell_type": "code",
   "execution_count": 78,
   "id": "987865b2-7520-4143-8e17-9694fe448e7c",
   "metadata": {},
   "outputs": [
    {
     "data": {
      "text/plain": [
       "55"
      ]
     },
     "execution_count": 78,
     "metadata": {},
     "output_type": "execute_result"
    }
   ],
   "source": [
    "number"
   ]
  },
  {
   "cell_type": "code",
   "execution_count": 79,
   "id": "75d8a15b-42a8-498e-95da-46a9d3789e1a",
   "metadata": {},
   "outputs": [
    {
     "data": {
      "text/plain": [
       "'55'"
      ]
     },
     "execution_count": 79,
     "metadata": {},
     "output_type": "execute_result"
    }
   ],
   "source": [
    "str(number)"
   ]
  },
  {
   "cell_type": "code",
   "execution_count": 82,
   "id": "0f54a54c-a201-4a94-b4ba-1585671a7af6",
   "metadata": {},
   "outputs": [],
   "source": [
    "var2 = tuple(ele_list)"
   ]
  },
  {
   "cell_type": "code",
   "execution_count": 83,
   "id": "88c7611d-c2a2-406e-83f1-41a45a748ebb",
   "metadata": {},
   "outputs": [
    {
     "data": {
      "text/plain": [
       "(3, 48, 'py')"
      ]
     },
     "execution_count": 83,
     "metadata": {},
     "output_type": "execute_result"
    }
   ],
   "source": [
    "var2"
   ]
  },
  {
   "cell_type": "code",
   "execution_count": 84,
   "id": "36f46dfd-f57d-4c0f-b326-8add960d4648",
   "metadata": {},
   "outputs": [
    {
     "data": {
      "text/plain": [
       "{3, 48, 'py'}"
      ]
     },
     "execution_count": 84,
     "metadata": {},
     "output_type": "execute_result"
    }
   ],
   "source": [
    "set(var2)"
   ]
  },
  {
   "cell_type": "code",
   "execution_count": 85,
   "id": "0dbc6535-2ee6-4c6e-af80-15692f0e8aa3",
   "metadata": {},
   "outputs": [
    {
     "ename": "TypeError",
     "evalue": "cannot convert dictionary update sequence element #0 to a sequence",
     "output_type": "error",
     "traceback": [
      "\u001b[1;31m---------------------------------------------------------------------------\u001b[0m",
      "\u001b[1;31mTypeError\u001b[0m                                 Traceback (most recent call last)",
      "Cell \u001b[1;32mIn[85], line 1\u001b[0m\n\u001b[1;32m----> 1\u001b[0m \u001b[38;5;28mdict\u001b[39m(var2)\n",
      "\u001b[1;31mTypeError\u001b[0m: cannot convert dictionary update sequence element #0 to a sequence"
     ]
    }
   ],
   "source": [
    "dict(var2)"
   ]
  },
  {
   "cell_type": "code",
   "execution_count": 91,
   "id": "f68a3ba3-0681-45bf-b997-6b353a17205f",
   "metadata": {},
   "outputs": [],
   "source": [
    "l = [(\"a1\" ,2), (\"b1\" , 4)]"
   ]
  },
  {
   "cell_type": "code",
   "execution_count": 92,
   "id": "04302a15-b5f3-495b-8e5e-cec4e8f75823",
   "metadata": {},
   "outputs": [
    {
     "data": {
      "text/plain": [
       "{'a1': 2, 'b1': 4}"
      ]
     },
     "execution_count": 92,
     "metadata": {},
     "output_type": "execute_result"
    }
   ],
   "source": [
    "dict(l)"
   ]
  },
  {
   "cell_type": "code",
   "execution_count": 93,
   "id": "e03cc56a-1edb-497e-a319-02563a4ffbeb",
   "metadata": {},
   "outputs": [],
   "source": [
    "ste1 = '765'"
   ]
  },
  {
   "cell_type": "code",
   "execution_count": 94,
   "id": "67ea17af-887a-477e-9b9d-fd3fe62a8ac6",
   "metadata": {},
   "outputs": [
    {
     "data": {
      "text/plain": [
       "765"
      ]
     },
     "execution_count": 94,
     "metadata": {},
     "output_type": "execute_result"
    }
   ],
   "source": [
    "int(ste1)"
   ]
  },
  {
   "cell_type": "code",
   "execution_count": 95,
   "id": "7e10d601-d47c-4f67-9076-44e6a5518a8c",
   "metadata": {},
   "outputs": [],
   "source": [
    "f = 8.99"
   ]
  },
  {
   "cell_type": "code",
   "execution_count": 96,
   "id": "78372e3e-5731-4bf6-8f4e-5a5ebd2488cb",
   "metadata": {},
   "outputs": [
    {
     "data": {
      "text/plain": [
       "8"
      ]
     },
     "execution_count": 96,
     "metadata": {},
     "output_type": "execute_result"
    }
   ],
   "source": [
    "int(f)"
   ]
  },
  {
   "cell_type": "markdown",
   "id": "1e6f740e-c3e0-4e9c-8684-61175cad207c",
   "metadata": {},
   "source": [
    "## Iterable "
   ]
  },
  {
   "cell_type": "code",
   "execution_count": null,
   "id": "901b9a95-b328-4972-b552-9708e415e0a0",
   "metadata": {},
   "outputs": [],
   "source": [
    "str\n",
    "list\n",
    "tuple\n",
    "set\n",
    "dict"
   ]
  }
 ],
 "metadata": {
  "kernelspec": {
   "display_name": "Python 3 (ipykernel)",
   "language": "python",
   "name": "python3"
  },
  "language_info": {
   "codemirror_mode": {
    "name": "ipython",
    "version": 3
   },
   "file_extension": ".py",
   "mimetype": "text/x-python",
   "name": "python",
   "nbconvert_exporter": "python",
   "pygments_lexer": "ipython3",
   "version": "3.11.7"
  }
 },
 "nbformat": 4,
 "nbformat_minor": 5
}
