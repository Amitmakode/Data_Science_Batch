{
 "cells": [
  {
   "cell_type": "code",
   "execution_count": 1,
   "id": "9b28f776-25f4-49e6-8f61-625f75dd81b3",
   "metadata": {},
   "outputs": [
    {
     "name": "stdin",
     "output_type": "stream",
     "text": [
      "Enter the height of triangle\n",
      " 2\n"
     ]
    },
    {
     "name": "stdout",
     "output_type": "stream",
     "text": [
      "\n"
     ]
    }
   ],
   "source": [
    "times = int(input(\"Enter the height of triangle\\n\"))\n",
    "\n",
    "print()\n",
    "\n",
    "items = []\n",
    "for i in range(times,20,2):\n",
    "    items.append(i+1)"
   ]
  },
  {
   "cell_type": "code",
   "execution_count": 2,
   "id": "4517c55a-e4c0-4443-84e4-22759a41a5d5",
   "metadata": {},
   "outputs": [
    {
     "data": {
      "text/plain": [
       "[3, 5, 7, 9, 11, 13, 15, 17, 19]"
      ]
     },
     "execution_count": 2,
     "metadata": {},
     "output_type": "execute_result"
    }
   ],
   "source": [
    "items"
   ]
  },
  {
   "cell_type": "code",
   "execution_count": 4,
   "id": "9ef47617-55bd-4725-bcd5-a1c1d97ec091",
   "metadata": {},
   "outputs": [
    {
     "name": "stdout",
     "output_type": "stream",
     "text": [
      "    ***\n",
      "      *****\n",
      "        *******\n",
      "          *********\n",
      "            ***********\n",
      "              *************\n",
      "                ***************\n",
      "                  *****************\n",
      "                    *******************\n"
     ]
    }
   ],
   "source": [
    "for j in items:\n",
    "    print((2*j-j)* \" \", j * \"*\")"
   ]
  },
  {
   "cell_type": "code",
   "execution_count": 7,
   "id": "a6b1cf00-e305-4d35-b7ca-c097606af85a",
   "metadata": {},
   "outputs": [
    {
     "name": "stdout",
     "output_type": "stream",
     "text": [
      "\n",
      "1 \n",
      "2 2 \n",
      "3 3 3 \n",
      "4 4 4 4 \n"
     ]
    }
   ],
   "source": [
    "rows = 5\n",
    "\n",
    "for i in range(rows):\n",
    "    # nested loop\n",
    "    for j in range(i):\n",
    "        # display number\n",
    "        print(i, end=' ')\n",
    "    # new line after each row\n",
    "    print('')"
   ]
  },
  {
   "cell_type": "code",
   "execution_count": 9,
   "id": "bc679df7-3480-4d76-a8b5-311ac6d7eba0",
   "metadata": {},
   "outputs": [
    {
     "data": {
      "text/plain": [
       "range(0, 8)"
      ]
     },
     "execution_count": 9,
     "metadata": {},
     "output_type": "execute_result"
    }
   ],
   "source": [
    "range(8)"
   ]
  },
  {
   "cell_type": "code",
   "execution_count": 12,
   "id": "b6c4030a-5cf3-4d65-bb73-a5f1de786a95",
   "metadata": {},
   "outputs": [
    {
     "name": "stdout",
     "output_type": "stream",
     "text": [
      "1 \n",
      "1 2 \n",
      "1 2 3 \n",
      "1 2 3 4 \n",
      "1 2 3 4 5 \n"
     ]
    }
   ],
   "source": [
    "rows = 5\n",
    "for i in range(1, rows + 1):\n",
    "    for j in range(1, i + 1):\n",
    "        print(j, end=' ')\n",
    "    print('')"
   ]
  },
  {
   "cell_type": "code",
   "execution_count": 16,
   "id": "69c988d3-4174-4711-b9e7-64006078a696",
   "metadata": {},
   "outputs": [
    {
     "name": "stdout",
     "output_type": "stream",
     "text": [
      "1 1 1 1 1 1 1 1 1 1  \n",
      "2 2 2 2 2 2 2 2 2  \n",
      "3 3 3 3 3 3 3 3  \n",
      "4 4 4 4 4 4 4  \n",
      "5 5 5 5 5 5  \n",
      "6 6 6 6 6  \n",
      "7 7 7 7  \n",
      "8 8 8  \n",
      "9 9  \n",
      "10  \n"
     ]
    }
   ],
   "source": [
    "rows = 10\n",
    "b = 0\n",
    "# reverse for loop from 5 to 0\n",
    "for i in range(rows, 0, -1):\n",
    "    b += 1\n",
    "    for j in range(1, i + 1):\n",
    "        print(b, end=' ')\n",
    "    print(' ')"
   ]
  },
  {
   "cell_type": "code",
   "execution_count": 17,
   "id": "5ffc4533-e876-4ee2-8236-ba75adc0d94b",
   "metadata": {},
   "outputs": [
    {
     "name": "stdout",
     "output_type": "stream",
     "text": [
      "* \n",
      "* * \n",
      "* * * \n",
      "* * * * \n",
      "* * * * * \n"
     ]
    }
   ],
   "source": [
    "# number of rows\n",
    "rows = 5\n",
    "for i in range(0, rows):\n",
    "    # nested loop for each column\n",
    "    for j in range(0, i + 1):\n",
    "        # print star\n",
    "        print(\"*\", end=' ')\n",
    "    # new line after each row\n",
    "    print(\"\\r\")"
   ]
  },
  {
   "cell_type": "code",
   "execution_count": 18,
   "id": "059aa39e-31db-4c73-b240-38c1d70d1f28",
   "metadata": {},
   "outputs": [
    {
     "name": "stdout",
     "output_type": "stream",
     "text": [
      "        * \n",
      "      * * \n",
      "    * * * \n",
      "  * * * * \n",
      "* * * * * \n"
     ]
    }
   ],
   "source": [
    "# number of rows\n",
    "rows = 5\n",
    "k = 2 * rows - 2\n",
    "for i in range(0, rows):\n",
    "    # process each column\n",
    "    for j in range(0, k):\n",
    "        # print space in pyramid\n",
    "        print(end=\" \")\n",
    "    k = k - 2\n",
    "    for j in range(0, i + 1):\n",
    "        # display star\n",
    "        print(\"* \", end=\"\")\n",
    "    print(\"\")"
   ]
  },
  {
   "cell_type": "code",
   "execution_count": 20,
   "id": "f25aadf2-bd88-43fb-a683-581a2eb75963",
   "metadata": {},
   "outputs": [
    {
     "name": "stdout",
     "output_type": "stream",
     "text": [
      "        *       * *     * * *   * * * * * * * * * "
     ]
    }
   ],
   "source": [
    "rows = 5\n",
    "k = 2 * rows - 2\n",
    "for i in range(0, rows):\n",
    "    # process each column\n",
    "    for j in range(0, k):\n",
    "        # print space in pyramid\n",
    "        print(end=\" \")\n",
    "    k = k - 2\n",
    "    for j in range(0, i + 1):\n",
    "        # display star\n",
    "        print(\"* \", end=\"\")    "
   ]
  },
  {
   "cell_type": "code",
   "execution_count": 21,
   "id": "eaeb2069-3196-4642-8261-fcd91d369f72",
   "metadata": {},
   "outputs": [
    {
     "name": "stdout",
     "output_type": "stream",
     "text": [
      "        * \n",
      "      * * \n",
      "    * * * \n",
      "  * * * * \n",
      "* * * * * \n"
     ]
    }
   ],
   "source": [
    "# number of rows\n",
    "rows = 5\n",
    "k = 2 * rows - 2\n",
    "for i in range(0, rows):\n",
    "    # process each column\n",
    "    for j in range(0, k):\n",
    "        # print space in pyramid\n",
    "        print(end=\" \")\n",
    "    k = k - 2\n",
    "    for j in range(0, i + 1):\n",
    "        # display star\n",
    "        print(\"* \", end=\"\")\n",
    "    print(\"\")"
   ]
  },
  {
   "cell_type": "code",
   "execution_count": 23,
   "id": "81ac869f-0f8a-4e9f-84ef-439c1e831083",
   "metadata": {},
   "outputs": [
    {
     "name": "stdout",
     "output_type": "stream",
     "text": [
      "        * * * * * * \n",
      "         * * * * * \n",
      "          * * * * \n",
      "           * * * \n",
      "            * * \n",
      "             * \n"
     ]
    }
   ],
   "source": [
    "rows = 5\n",
    "k = 2 * rows - 2\n",
    "for i in range(rows, -1, -1):\n",
    "    for j in range(k, 0, -1):\n",
    "        print(end=\" \")\n",
    "    k = k + 1\n",
    "    for j in range(0, i + 1):\n",
    "        print(\"*\", end=\" \")\n",
    "    print(\"\")"
   ]
  },
  {
   "cell_type": "code",
   "execution_count": 24,
   "id": "c0ed97a2-6c18-40a1-80ff-48cfadca2219",
   "metadata": {},
   "outputs": [
    {
     "name": "stdout",
     "output_type": "stream",
     "text": [
      "* * * * * \n",
      "  * * * * \n",
      "    * * * \n",
      "      * * \n",
      "        * \n"
     ]
    }
   ],
   "source": [
    "rows = 5\n",
    "i = rows\n",
    "while i >= 1:\n",
    "    j = rows\n",
    "    while j > i:\n",
    "        # display space\n",
    "        print(' ', end=' ')\n",
    "        j -= 1\n",
    "    k = 1\n",
    "    while k <= i:\n",
    "        print('*', end=' ')\n",
    "        k += 1\n",
    "    print()\n",
    "    i -= 1"
   ]
  },
  {
   "cell_type": "code",
   "execution_count": 31,
   "id": "9062e2eb-d531-4072-992d-94e4e764adb0",
   "metadata": {},
   "outputs": [
    {
     "name": "stdout",
     "output_type": "stream",
     "text": [
      "11\n",
      "9\n",
      "7\n",
      "5\n",
      "3\n"
     ]
    }
   ],
   "source": [
    "for i in range(11,1,-2):\n",
    "    print(i)"
   ]
  },
  {
   "cell_type": "code",
   "execution_count": 35,
   "id": "c2a40294-235f-4bfe-8679-c21b6db55fc7",
   "metadata": {},
   "outputs": [
    {
     "name": "stdin",
     "output_type": "stream",
     "text": [
      " 21\n"
     ]
    },
    {
     "name": "stdout",
     "output_type": "stream",
     "text": [
      "[0, 1, 2, 3, 4, 5, 6, 7, 8, 9, 10, 11, 12, 13, 14, 15, 16, 17, 18, 19, 20]\n"
     ]
    },
    {
     "data": {
      "text/plain": [
       "210"
      ]
     },
     "execution_count": 35,
     "metadata": {},
     "output_type": "execute_result"
    }
   ],
   "source": [
    "num = int(input())\n",
    "l1 = []\n",
    "for i in range(num):\n",
    "    l1.append(i)\n",
    "print(l1)    \n",
    "sum(l1)"
   ]
  },
  {
   "cell_type": "code",
   "execution_count": 32,
   "id": "0683986a-c7b1-41fa-8a1b-94b8062beed2",
   "metadata": {},
   "outputs": [],
   "source": [
    "list = [3,4,5]"
   ]
  },
  {
   "cell_type": "code",
   "execution_count": 33,
   "id": "002f70ad-6918-4b98-aa07-52c6f0c41d56",
   "metadata": {},
   "outputs": [
    {
     "data": {
      "text/plain": [
       "12"
      ]
     },
     "execution_count": 33,
     "metadata": {},
     "output_type": "execute_result"
    }
   ],
   "source": [
    "sum(list)"
   ]
  },
  {
   "cell_type": "code",
   "execution_count": 36,
   "id": "8fd5fcfb-340f-4593-b18f-a29fca391a48",
   "metadata": {},
   "outputs": [],
   "source": [
    "numbers = [12, 75, 150, 180, 145, 525, 50]"
   ]
  },
  {
   "cell_type": "code",
   "execution_count": 37,
   "id": "dfaaf8aa-26e7-40e3-886e-33b2c9df3f3e",
   "metadata": {},
   "outputs": [
    {
     "name": "stdout",
     "output_type": "stream",
     "text": [
      "75\n",
      "150\n",
      "145\n"
     ]
    }
   ],
   "source": [
    "for i in numbers:\n",
    "    if i == 75 or i == 150 or i == 145:\n",
    "        print(i)"
   ]
  },
  {
   "cell_type": "code",
   "execution_count": 38,
   "id": "7e0084e9-6560-4fff-9631-6f7b87d595fd",
   "metadata": {},
   "outputs": [],
   "source": [
    "list1 = [10, 20, 30, 40, 50]"
   ]
  },
  {
   "cell_type": "code",
   "execution_count": 40,
   "id": "14dff095-7679-4377-bae7-e9e20011b009",
   "metadata": {},
   "outputs": [
    {
     "name": "stdout",
     "output_type": "stream",
     "text": [
      "50\n",
      "40\n",
      "30\n",
      "20\n",
      "10\n"
     ]
    }
   ],
   "source": [
    "for i in reversed(list1):\n",
    "    print(i)"
   ]
  },
  {
   "cell_type": "code",
   "execution_count": 42,
   "id": "497ad464-6b18-43e4-9c7b-52e4f1a0a42a",
   "metadata": {},
   "outputs": [
    {
     "name": "stdout",
     "output_type": "stream",
     "text": [
      "1\n",
      "2\n",
      "3\n",
      "4\n",
      "5\n",
      "done!\n"
     ]
    }
   ],
   "source": [
    "for i in range(1,6):\n",
    "    print(i)\n",
    "else:\n",
    "    print(\"done!\")"
   ]
  },
  {
   "cell_type": "code",
   "execution_count": null,
   "id": "eff3cf9c-ab7e-4d28-ae1a-eb1aef322258",
   "metadata": {},
   "outputs": [],
   "source": [
    "for i in range(25, 51):\n",
    "    if i%2!=0 and  i%3!=0 and  i%5!=0 and  i%7!=0 and  i%9!=0 :\n",
    "        print(i)"
   ]
  }
 ],
 "metadata": {
  "kernelspec": {
   "display_name": "Python 3 (ipykernel)",
   "language": "python",
   "name": "python3"
  },
  "language_info": {
   "codemirror_mode": {
    "name": "ipython",
    "version": 3
   },
   "file_extension": ".py",
   "mimetype": "text/x-python",
   "name": "python",
   "nbconvert_exporter": "python",
   "pygments_lexer": "ipython3",
   "version": "3.11.7"
  }
 },
 "nbformat": 4,
 "nbformat_minor": 5
}
