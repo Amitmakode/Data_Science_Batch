{
 "cells": [
  {
   "cell_type": "markdown",
   "id": "a6a5daaa-92ed-4343-88ca-cbb632793c98",
   "metadata": {},
   "source": [
    "## Built-in Function"
   ]
  },
  {
   "cell_type": "code",
   "execution_count": 1,
   "id": "b2216935-b487-43e7-b497-7d5df1d44eef",
   "metadata": {},
   "outputs": [],
   "source": [
    "a = 10"
   ]
  },
  {
   "cell_type": "code",
   "execution_count": 2,
   "id": "757dbfb3-3856-4ee4-bf93-69cf34383178",
   "metadata": {},
   "outputs": [
    {
     "name": "stdout",
     "output_type": "stream",
     "text": [
      "10\n"
     ]
    }
   ],
   "source": [
    "print(a)"
   ]
  },
  {
   "cell_type": "code",
   "execution_count": 3,
   "id": "17d2d463-57b0-48e6-aca8-c352d9cd76ca",
   "metadata": {},
   "outputs": [
    {
     "name": "stdout",
     "output_type": "stream",
     "text": [
      "[6, 89, 0]\n"
     ]
    }
   ],
   "source": [
    "print([6,89,0])"
   ]
  },
  {
   "cell_type": "code",
   "execution_count": 4,
   "id": "065bd246-41f0-4a9d-9873-794ab9f97428",
   "metadata": {},
   "outputs": [
    {
     "name": "stdout",
     "output_type": "stream",
     "text": [
      "[6, 89, 0] 10\n"
     ]
    }
   ],
   "source": [
    "print([6,89,0], a)"
   ]
  },
  {
   "cell_type": "code",
   "execution_count": 5,
   "id": "f153bf2c-c960-4eed-9bcf-1d2fa709aaeb",
   "metadata": {},
   "outputs": [
    {
     "name": "stdin",
     "output_type": "stream",
     "text": [
      " amit\n"
     ]
    },
    {
     "data": {
      "text/plain": [
       "'amit'"
      ]
     },
     "execution_count": 5,
     "metadata": {},
     "output_type": "execute_result"
    }
   ],
   "source": [
    "input()"
   ]
  },
  {
   "cell_type": "code",
   "execution_count": 6,
   "id": "f6159a05-9ae9-4e39-b3d5-83598a265285",
   "metadata": {},
   "outputs": [
    {
     "name": "stdin",
     "output_type": "stream",
     "text": [
      " 7677\n"
     ]
    },
    {
     "data": {
      "text/plain": [
       "'7677'"
      ]
     },
     "execution_count": 6,
     "metadata": {},
     "output_type": "execute_result"
    }
   ],
   "source": [
    "input()"
   ]
  },
  {
   "cell_type": "code",
   "execution_count": 7,
   "id": "2f3e69f4-87ed-4f50-8c2b-2e6b805bbc0f",
   "metadata": {},
   "outputs": [
    {
     "name": "stdin",
     "output_type": "stream",
     "text": [
      " 55\n"
     ]
    }
   ],
   "source": [
    "v1 = input()"
   ]
  },
  {
   "cell_type": "code",
   "execution_count": 9,
   "id": "a7fc348c-1130-4747-848a-961fee522456",
   "metadata": {},
   "outputs": [
    {
     "data": {
      "text/plain": [
       "str"
      ]
     },
     "execution_count": 9,
     "metadata": {},
     "output_type": "execute_result"
    }
   ],
   "source": [
    "type(v1)"
   ]
  },
  {
   "cell_type": "code",
   "execution_count": 10,
   "id": "7b6cde55-8b4b-4ac3-82d9-5e6fdaa60e9c",
   "metadata": {},
   "outputs": [
    {
     "name": "stdin",
     "output_type": "stream",
     "text": [
      "enter your age 25\n"
     ]
    }
   ],
   "source": [
    "age = input(\"enter your age\")"
   ]
  },
  {
   "cell_type": "code",
   "execution_count": 11,
   "id": "3a031219-20fe-4b38-89b4-5fa31e2c90ef",
   "metadata": {},
   "outputs": [
    {
     "data": {
      "text/plain": [
       "str"
      ]
     },
     "execution_count": 11,
     "metadata": {},
     "output_type": "execute_result"
    }
   ],
   "source": [
    "type(age)"
   ]
  },
  {
   "cell_type": "code",
   "execution_count": 12,
   "id": "c70971f8-e198-4003-b80a-ee14bc53d228",
   "metadata": {},
   "outputs": [
    {
     "data": {
      "text/plain": [
       "int"
      ]
     },
     "execution_count": 12,
     "metadata": {},
     "output_type": "execute_result"
    }
   ],
   "source": [
    "type(77)"
   ]
  },
  {
   "cell_type": "code",
   "execution_count": 13,
   "id": "53cd904c-7bc3-40de-9f48-f6417a2ca8a3",
   "metadata": {},
   "outputs": [
    {
     "data": {
      "text/plain": [
       "builtin_function_or_method"
      ]
     },
     "execution_count": 13,
     "metadata": {},
     "output_type": "execute_result"
    }
   ],
   "source": [
    "type(print)"
   ]
  },
  {
   "cell_type": "code",
   "execution_count": 14,
   "id": "01ca10d3-bba5-4a7c-946a-cfd6c07eb2a8",
   "metadata": {},
   "outputs": [
    {
     "name": "stdin",
     "output_type": "stream",
     "text": [
      " python\n"
     ]
    }
   ],
   "source": [
    "tup = tuple(input())"
   ]
  },
  {
   "cell_type": "code",
   "execution_count": 15,
   "id": "14b9023d-eed6-4e29-86ff-b350cc023c48",
   "metadata": {},
   "outputs": [
    {
     "data": {
      "text/plain": [
       "('p', 'y', 't', 'h', 'o', 'n')"
      ]
     },
     "execution_count": 15,
     "metadata": {},
     "output_type": "execute_result"
    }
   ],
   "source": [
    "tup"
   ]
  },
  {
   "cell_type": "code",
   "execution_count": 16,
   "id": "37b273dc-4b37-4520-9fe7-155723a08006",
   "metadata": {},
   "outputs": [
    {
     "name": "stdin",
     "output_type": "stream",
     "text": [
      " 677\n"
     ]
    }
   ],
   "source": [
    "v2 = int(input())"
   ]
  },
  {
   "cell_type": "code",
   "execution_count": 17,
   "id": "91149630-5638-4711-9a39-e3d3315332b1",
   "metadata": {},
   "outputs": [
    {
     "data": {
      "text/plain": [
       "677"
      ]
     },
     "execution_count": 17,
     "metadata": {},
     "output_type": "execute_result"
    }
   ],
   "source": [
    "v2"
   ]
  },
  {
   "cell_type": "markdown",
   "id": "ede68754-e52b-4850-a53d-a09418eec280",
   "metadata": {},
   "source": [
    "### Iterable"
   ]
  },
  {
   "cell_type": "code",
   "execution_count": null,
   "id": "413d719a-ff88-457a-a04e-da19c59f0490",
   "metadata": {},
   "outputs": [],
   "source": [
    "str, list, tuple, set, dict"
   ]
  },
  {
   "cell_type": "code",
   "execution_count": 18,
   "id": "e2571071-eae3-41bc-9bf5-53f04b03b697",
   "metadata": {},
   "outputs": [
    {
     "name": "stdout",
     "output_type": "stream",
     "text": [
      "'\\xe4\\xf6\\xfc'\n"
     ]
    }
   ],
   "source": [
    "# ascii()\n",
    "\n",
    "#Description: Returns a string containing a printable representation of an object. Non-ASCII characters are escaped using \\x, \\u or \\U notation.\n",
    "s = \"äöü\"\n",
    "ascii_s = ascii(s)\n",
    "print(ascii_s)  # Output: '\\xe4\\xf6\\xfc'"
   ]
  },
  {
   "cell_type": "code",
   "execution_count": 19,
   "id": "fa1a66e7-c5c7-453b-aa42-c42bae8cb32b",
   "metadata": {},
   "outputs": [
    {
     "name": "stdout",
     "output_type": "stream",
     "text": [
      "0b10000100100\n"
     ]
    }
   ],
   "source": [
    "# bin()\n",
    "\n",
    "#Description: Converts an integer number to a binary string prefixed with \"0b\".\n",
    "\n",
    "num = 1060\n",
    "binary_num = bin(num)\n",
    "print(binary_num)  # Output: '0b1010'"
   ]
  },
  {
   "cell_type": "code",
   "execution_count": 20,
   "id": "a0084b52-76d1-4a75-bf9c-d60571b69a5f",
   "metadata": {},
   "outputs": [],
   "source": [
    "b = -20"
   ]
  },
  {
   "cell_type": "code",
   "execution_count": 21,
   "id": "40c6277f-d568-4099-981e-ecb780126d98",
   "metadata": {},
   "outputs": [
    {
     "name": "stdout",
     "output_type": "stream",
     "text": [
      "10\n"
     ]
    }
   ],
   "source": [
    "# abs()\n",
    "#Description: Returns the absolute value of a number.\n",
    "\n",
    "num = -10\n",
    "\n",
    "abs_num = abs(num)\n",
    "print(abs_num)  # Output: 10"
   ]
  },
  {
   "cell_type": "code",
   "execution_count": 22,
   "id": "fb2a002c-94f4-4030-b9a0-30ed061d3035",
   "metadata": {},
   "outputs": [
    {
     "name": "stdout",
     "output_type": "stream",
     "text": [
      "True\n"
     ]
    }
   ],
   "source": [
    "# all()\n",
    "#Description: Returns True if all elements of an iterable are true (or if the iterable is empty).\n",
    "\n",
    "list1 = [True, True, 30]\n",
    "\n",
    "result = all(list1)\n",
    "\n",
    "print(result)  "
   ]
  },
  {
   "cell_type": "code",
   "execution_count": 23,
   "id": "868313ba-2b11-4770-9025-5f88a4947c41",
   "metadata": {},
   "outputs": [
    {
     "name": "stdout",
     "output_type": "stream",
     "text": [
      "False\n"
     ]
    }
   ],
   "source": [
    "list1 = [False, True, 30]\n",
    "\n",
    "result = all(list1)\n",
    "\n",
    "print(result) "
   ]
  },
  {
   "cell_type": "code",
   "execution_count": 24,
   "id": "b67aaae8-7fbd-4ad7-b9a5-f49de59e63aa",
   "metadata": {},
   "outputs": [
    {
     "name": "stdout",
     "output_type": "stream",
     "text": [
      "True\n"
     ]
    }
   ],
   "source": [
    "# any()\n",
    "#Description: Returns True if any element of an iterable is true. If the iterable is empty, it returns False.\n",
    "\n",
    "list1 = [False, False, True]\n",
    "result = any(list1)\n",
    "print(result)  # Output: True"
   ]
  },
  {
   "cell_type": "code",
   "execution_count": 25,
   "id": "3095be21-43c6-4579-926c-fda6f6945851",
   "metadata": {},
   "outputs": [
    {
     "name": "stdout",
     "output_type": "stream",
     "text": [
      "False\n"
     ]
    }
   ],
   "source": [
    "# bool()\n",
    "\n",
    "#Description: Converts a value to a Boolean, using the standard truth testing procedure.\n",
    "\n",
    "bool_value = bool(0)\n",
    "print(bool_value)  # Output: False"
   ]
  },
  {
   "cell_type": "code",
   "execution_count": 28,
   "id": "a08e4447-eb81-4cdd-b174-e09fdfdd723b",
   "metadata": {},
   "outputs": [
    {
     "name": "stdout",
     "output_type": "stream",
     "text": [
      "D\n"
     ]
    }
   ],
   "source": [
    "# chr()\n",
    "\n",
    "#Description: Returns the string representing a character whose Unicode code point is the integer i.\n",
    "\n",
    "\n",
    "char = chr(68)\n",
    "\n",
    "print(char)  "
   ]
  },
  {
   "cell_type": "code",
   "execution_count": 29,
   "id": "ca8b2c27-09ac-4dff-bf78-2fcf0309c451",
   "metadata": {},
   "outputs": [
    {
     "name": "stdout",
     "output_type": "stream",
     "text": [
      "(77-7j)\n"
     ]
    }
   ],
   "source": [
    "# complex()\n",
    "\n",
    "#Description: Returns a complex number with the value real + imag*1j.\n",
    "\n",
    "comp_num = complex(77, -7)\n",
    "print(comp_num)  # Output: (2-3j)"
   ]
  },
  {
   "cell_type": "code",
   "execution_count": 30,
   "id": "8c61d447-d9fc-4f75-b973-6bb0a4cb42af",
   "metadata": {},
   "outputs": [
    {
     "name": "stdout",
     "output_type": "stream",
     "text": [
      "{'key1': 'value1', 'key2': 'value2'}\n"
     ]
    }
   ],
   "source": [
    "# dict()\n",
    "\n",
    "#Description: Returns a dictionary (or associative array) object.\n",
    "\n",
    "dict_obj = dict(key1='value1', key2='value2')\n",
    "print(dict_obj)  # Output: {'key1': 'value1', 'key2': 'value2'}"
   ]
  },
  {
   "cell_type": "code",
   "execution_count": 31,
   "id": "b48533f0-78bc-4b46-bf7f-71f2cc431e43",
   "metadata": {},
   "outputs": [
    {
     "name": "stdout",
     "output_type": "stream",
     "text": [
      "['__add__', '__class__', '__class_getitem__', '__contains__', '__delattr__', '__delitem__', '__dir__', '__doc__', '__eq__', '__format__', '__ge__', '__getattribute__', '__getitem__', '__getstate__', '__gt__', '__hash__', '__iadd__', '__imul__', '__init__', '__init_subclass__', '__iter__', '__le__', '__len__', '__lt__', '__mul__', '__ne__', '__new__', '__reduce__', '__reduce_ex__', '__repr__', '__reversed__', '__rmul__', '__setattr__', '__setitem__', '__sizeof__', '__str__', '__subclasshook__', 'append', 'clear', 'copy', 'count', 'extend', 'index', 'insert', 'pop', 'remove', 'reverse', 'sort']\n"
     ]
    }
   ],
   "source": [
    "# dir()\n",
    "\n",
    "#Description: Returns a list of attributes and methods of any object (without the __ attributes).\n",
    "\n",
    "numbers = [1, 2, 3]\n",
    "print(dir(numbers))"
   ]
  },
  {
   "cell_type": "code",
   "execution_count": 32,
   "id": "406ae23e-db39-46d3-a65e-4c1dc3d9b98e",
   "metadata": {},
   "outputs": [
    {
     "data": {
      "text/plain": [
       "['__abstractmethods__',\n",
       " '__annotations__',\n",
       " '__base__',\n",
       " '__bases__',\n",
       " '__basicsize__',\n",
       " '__call__',\n",
       " '__class__',\n",
       " '__delattr__',\n",
       " '__dict__',\n",
       " '__dictoffset__',\n",
       " '__dir__',\n",
       " '__doc__',\n",
       " '__eq__',\n",
       " '__flags__',\n",
       " '__format__',\n",
       " '__ge__',\n",
       " '__getattribute__',\n",
       " '__getstate__',\n",
       " '__gt__',\n",
       " '__hash__',\n",
       " '__init__',\n",
       " '__init_subclass__',\n",
       " '__instancecheck__',\n",
       " '__itemsize__',\n",
       " '__le__',\n",
       " '__lt__',\n",
       " '__module__',\n",
       " '__mro__',\n",
       " '__name__',\n",
       " '__ne__',\n",
       " '__new__',\n",
       " '__or__',\n",
       " '__prepare__',\n",
       " '__qualname__',\n",
       " '__reduce__',\n",
       " '__reduce_ex__',\n",
       " '__repr__',\n",
       " '__ror__',\n",
       " '__setattr__',\n",
       " '__sizeof__',\n",
       " '__str__',\n",
       " '__subclasscheck__',\n",
       " '__subclasses__',\n",
       " '__subclasshook__',\n",
       " '__text_signature__',\n",
       " '__weakrefoffset__',\n",
       " 'mro']"
      ]
     },
     "execution_count": 32,
     "metadata": {},
     "output_type": "execute_result"
    }
   ],
   "source": [
    "dir(type)"
   ]
  },
  {
   "cell_type": "code",
   "execution_count": 33,
   "id": "ca86f190-2987-4aa2-b8b2-30a013c39619",
   "metadata": {},
   "outputs": [
    {
     "name": "stdout",
     "output_type": "stream",
     "text": [
      "(4, 1)\n"
     ]
    }
   ],
   "source": [
    "# divmod()\n",
    "\n",
    "#Description: Returns a tuple of the quotient and the remainder when argument1 is divided by argument 2\n",
    "\n",
    "result = divmod(9, 2)\n",
    "print(result)  # Output: (4, 1)"
   ]
  },
  {
   "cell_type": "code",
   "execution_count": 34,
   "id": "59971c1c-f5d8-46c6-9b7c-62e778994ca5",
   "metadata": {},
   "outputs": [
    {
     "data": {
      "text/plain": [
       "(6, 3)"
      ]
     },
     "execution_count": 34,
     "metadata": {},
     "output_type": "execute_result"
    }
   ],
   "source": [
    "divmod(33, 5)"
   ]
  },
  {
   "cell_type": "code",
   "execution_count": 35,
   "id": "f56fd057-c960-4057-85d3-d0cc8cfd67ae",
   "metadata": {},
   "outputs": [
    {
     "name": "stdout",
     "output_type": "stream",
     "text": [
      "[(0, 'apple'), (1, 'banana'), (2, 'cherry'), (3, 'chiku')]\n"
     ]
    }
   ],
   "source": [
    "# enumerate()\n",
    "\n",
    "#Description: Returns an enumerate object. It adds a counter to an iterable and returns it as an enumerate object.\n",
    "\n",
    "fruits = ['apple', 'banana', 'cherry', \"chiku\"]\n",
    "enum_obj = enumerate(fruits)\n",
    "print(list(enum_obj))  # Output: [(0, 'apple'), (1, 'banana'), (2, 'cherry')]"
   ]
  },
  {
   "cell_type": "code",
   "execution_count": 36,
   "id": "41a3dd67-bed5-4e86-aee3-353f15f8674a",
   "metadata": {},
   "outputs": [
    {
     "name": "stdout",
     "output_type": "stream",
     "text": [
      "15\n"
     ]
    }
   ],
   "source": [
    "# eval()\n",
    "\n",
    "#Description: Evaluates and executes an expression dynamically.\n",
    "\n",
    "x = 10\n",
    "result = eval('x + 5')\n",
    "print(result) "
   ]
  },
  {
   "cell_type": "code",
   "execution_count": 37,
   "id": "e618bc6a-270c-4b96-b38c-c9837433f5bd",
   "metadata": {},
   "outputs": [
    {
     "name": "stdin",
     "output_type": "stream",
     "text": [
      " 4+6\n"
     ]
    },
    {
     "data": {
      "text/plain": [
       "10"
      ]
     },
     "execution_count": 37,
     "metadata": {},
     "output_type": "execute_result"
    }
   ],
   "source": [
    "eval(input())"
   ]
  },
  {
   "cell_type": "code",
   "execution_count": 38,
   "id": "8fd88154-13b1-4e6a-b7d9-73a2a0910616",
   "metadata": {},
   "outputs": [
    {
     "name": "stdin",
     "output_type": "stream",
     "text": [
      " 4+6\n"
     ]
    },
    {
     "data": {
      "text/plain": [
       "'4+6'"
      ]
     },
     "execution_count": 38,
     "metadata": {},
     "output_type": "execute_result"
    }
   ],
   "source": [
    "input()"
   ]
  },
  {
   "cell_type": "code",
   "execution_count": 39,
   "id": "f4e4049c-44d7-4c99-8fad-0100464c8d6a",
   "metadata": {},
   "outputs": [
    {
     "name": "stdout",
     "output_type": "stream",
     "text": [
      "Hello, World!\n"
     ]
    }
   ],
   "source": [
    "# exec()\n",
    "\n",
    "#Description: Executes the Python code dynamically.\n",
    "\n",
    "exec('print(\"Hello, World!\")')"
   ]
  },
  {
   "cell_type": "code",
   "execution_count": 40,
   "id": "62bfa971-8980-4254-abda-193e6341efc3",
   "metadata": {},
   "outputs": [
    {
     "name": "stdout",
     "output_type": "stream",
     "text": [
      "Hello, World!\n"
     ]
    }
   ],
   "source": [
    "print(\"Hello, World!\")"
   ]
  },
  {
   "cell_type": "code",
   "execution_count": 51,
   "id": "7de606ec-2961-4557-9462-dc6b5e86e1b7",
   "metadata": {},
   "outputs": [
    {
     "name": "stdout",
     "output_type": "stream",
     "text": [
      "15\n"
     ]
    }
   ],
   "source": [
    "v4 = exec('print(eval(\"x + 5\"))')"
   ]
  },
  {
   "cell_type": "code",
   "execution_count": 57,
   "id": "9c201ad6-c4f0-44cb-84be-bd594163235b",
   "metadata": {},
   "outputs": [
    {
     "name": "stdout",
     "output_type": "stream",
     "text": [
      "[2, 4, 6]\n"
     ]
    }
   ],
   "source": [
    "# filter()\n",
    "\n",
    "#Description: Constructs an iterator from elements of an iterable for which a function returns true.\n",
    "\t\t\n",
    "def is_even(num):\n",
    "    return num % 2 == 0\n",
    "\n",
    "numbers = [1, 2, 3, 4, 5, 6]\n",
    "\n",
    "filtered_nums = filter(is_even, numbers)\n",
    "\n",
    "print(list(filtered_nums)) "
   ]
  },
  {
   "cell_type": "code",
   "execution_count": 55,
   "id": "a3f96b09-3e0a-4e1f-89dd-b3f12c38435d",
   "metadata": {},
   "outputs": [
    {
     "ename": "TypeError",
     "evalue": "unsupported operand type(s) for %: 'list' and 'int'",
     "output_type": "error",
     "traceback": [
      "\u001b[1;31m---------------------------------------------------------------------------\u001b[0m",
      "\u001b[1;31mTypeError\u001b[0m                                 Traceback (most recent call last)",
      "Cell \u001b[1;32mIn[55], line 1\u001b[0m\n\u001b[1;32m----> 1\u001b[0m is_even([\u001b[38;5;241m2\u001b[39m,\u001b[38;5;241m4\u001b[39m,\u001b[38;5;241m5\u001b[39m])\n",
      "Cell \u001b[1;32mIn[52], line 6\u001b[0m, in \u001b[0;36mis_even\u001b[1;34m(num)\u001b[0m\n\u001b[0;32m      5\u001b[0m \u001b[38;5;28;01mdef\u001b[39;00m \u001b[38;5;21mis_even\u001b[39m(num):\n\u001b[1;32m----> 6\u001b[0m     \u001b[38;5;28;01mreturn\u001b[39;00m num \u001b[38;5;241m%\u001b[39m \u001b[38;5;241m2\u001b[39m \u001b[38;5;241m==\u001b[39m \u001b[38;5;241m0\u001b[39m\n",
      "\u001b[1;31mTypeError\u001b[0m: unsupported operand type(s) for %: 'list' and 'int'"
     ]
    }
   ],
   "source": [
    "is_even([2,4,5])"
   ]
  },
  {
   "cell_type": "code",
   "execution_count": 62,
   "id": "cbd90b94-211f-4b7a-b639-dbcfe1720351",
   "metadata": {},
   "outputs": [
    {
     "name": "stdout",
     "output_type": "stream",
     "text": [
      "300.0\n"
     ]
    }
   ],
   "source": [
    "# float()\n",
    "\n",
    "#Description: Returns a floating point number constructed from a number or string.\n",
    "\t\t\n",
    "float_num = float(300)\n",
    "print(float_num)  "
   ]
  },
  {
   "cell_type": "code",
   "execution_count": 64,
   "id": "11f95833-7836-4912-b420-95605a49b169",
   "metadata": {},
   "outputs": [
    {
     "name": "stdout",
     "output_type": "stream",
     "text": [
      "65.000000%\n"
     ]
    }
   ],
   "source": [
    "# format()\n",
    "\n",
    "#Description: Formats a specified value into a specified format.\n",
    "\t\t\n",
    "formatted = format(0.65, '%')\n",
    "\n",
    "print(formatted) "
   ]
  },
  {
   "cell_type": "code",
   "execution_count": 65,
   "id": "07ec2138-7618-4d26-a587-527564e0710e",
   "metadata": {},
   "outputs": [
    {
     "name": "stdout",
     "output_type": "stream",
     "text": [
      "9171422744802730016\n"
     ]
    }
   ],
   "source": [
    "# hash()\n",
    "\n",
    "#Description: Returns the hash value of an object if it has one.\n",
    "\t\t\n",
    "hash_value = hash('y')\n",
    "print(hash_value)"
   ]
  },
  {
   "cell_type": "code",
   "execution_count": 66,
   "id": "8694a714-fd66-4140-8453-c0376c247bb3",
   "metadata": {},
   "outputs": [
    {
     "name": "stdout",
     "output_type": "stream",
     "text": [
      "Help on class complex in module builtins:\n",
      "\n",
      "class complex(object)\n",
      " |  complex(real=0, imag=0)\n",
      " |  \n",
      " |  Create a complex number from a real part and an optional imaginary part.\n",
      " |  \n",
      " |  This is equivalent to (real + imag*1j) where imag defaults to 0.\n",
      " |  \n",
      " |  Methods defined here:\n",
      " |  \n",
      " |  __abs__(self, /)\n",
      " |      abs(self)\n",
      " |  \n",
      " |  __add__(self, value, /)\n",
      " |      Return self+value.\n",
      " |  \n",
      " |  __bool__(self, /)\n",
      " |      True if self else False\n",
      " |  \n",
      " |  __complex__(self, /)\n",
      " |      Convert this value to exact type complex.\n",
      " |  \n",
      " |  __eq__(self, value, /)\n",
      " |      Return self==value.\n",
      " |  \n",
      " |  __format__(self, format_spec, /)\n",
      " |      Convert to a string according to format_spec.\n",
      " |  \n",
      " |  __ge__(self, value, /)\n",
      " |      Return self>=value.\n",
      " |  \n",
      " |  __getattribute__(self, name, /)\n",
      " |      Return getattr(self, name).\n",
      " |  \n",
      " |  __getnewargs__(self, /)\n",
      " |  \n",
      " |  __gt__(self, value, /)\n",
      " |      Return self>value.\n",
      " |  \n",
      " |  __hash__(self, /)\n",
      " |      Return hash(self).\n",
      " |  \n",
      " |  __le__(self, value, /)\n",
      " |      Return self<=value.\n",
      " |  \n",
      " |  __lt__(self, value, /)\n",
      " |      Return self<value.\n",
      " |  \n",
      " |  __mul__(self, value, /)\n",
      " |      Return self*value.\n",
      " |  \n",
      " |  __ne__(self, value, /)\n",
      " |      Return self!=value.\n",
      " |  \n",
      " |  __neg__(self, /)\n",
      " |      -self\n",
      " |  \n",
      " |  __pos__(self, /)\n",
      " |      +self\n",
      " |  \n",
      " |  __pow__(self, value, mod=None, /)\n",
      " |      Return pow(self, value, mod).\n",
      " |  \n",
      " |  __radd__(self, value, /)\n",
      " |      Return value+self.\n",
      " |  \n",
      " |  __repr__(self, /)\n",
      " |      Return repr(self).\n",
      " |  \n",
      " |  __rmul__(self, value, /)\n",
      " |      Return value*self.\n",
      " |  \n",
      " |  __rpow__(self, value, mod=None, /)\n",
      " |      Return pow(value, self, mod).\n",
      " |  \n",
      " |  __rsub__(self, value, /)\n",
      " |      Return value-self.\n",
      " |  \n",
      " |  __rtruediv__(self, value, /)\n",
      " |      Return value/self.\n",
      " |  \n",
      " |  __sub__(self, value, /)\n",
      " |      Return self-value.\n",
      " |  \n",
      " |  __truediv__(self, value, /)\n",
      " |      Return self/value.\n",
      " |  \n",
      " |  conjugate(self, /)\n",
      " |      Return the complex conjugate of its argument. (3-4j).conjugate() == 3+4j.\n",
      " |  \n",
      " |  ----------------------------------------------------------------------\n",
      " |  Static methods defined here:\n",
      " |  \n",
      " |  __new__(*args, **kwargs) from builtins.type\n",
      " |      Create and return a new object.  See help(type) for accurate signature.\n",
      " |  \n",
      " |  ----------------------------------------------------------------------\n",
      " |  Data descriptors defined here:\n",
      " |  \n",
      " |  imag\n",
      " |      the imaginary part of a complex number\n",
      " |  \n",
      " |  real\n",
      " |      the real part of a complex number\n",
      "\n"
     ]
    }
   ],
   "source": [
    "# help()\n",
    "\n",
    "#Description: Invokes the built-in help system.\n",
    "\t\t\n",
    "help(complex)"
   ]
  },
  {
   "cell_type": "code",
   "execution_count": 67,
   "id": "e4895d02-18b6-4072-8f2d-ac83ac09c675",
   "metadata": {},
   "outputs": [
    {
     "name": "stdout",
     "output_type": "stream",
     "text": [
      "Help on class int in module builtins:\n",
      "\n",
      "class int(object)\n",
      " |  int([x]) -> integer\n",
      " |  int(x, base=10) -> integer\n",
      " |  \n",
      " |  Convert a number or string to an integer, or return 0 if no arguments\n",
      " |  are given.  If x is a number, return x.__int__().  For floating point\n",
      " |  numbers, this truncates towards zero.\n",
      " |  \n",
      " |  If x is not a number or if base is given, then x must be a string,\n",
      " |  bytes, or bytearray instance representing an integer literal in the\n",
      " |  given base.  The literal can be preceded by '+' or '-' and be surrounded\n",
      " |  by whitespace.  The base defaults to 10.  Valid bases are 0 and 2-36.\n",
      " |  Base 0 means to interpret the base from the string as an integer literal.\n",
      " |  >>> int('0b100', base=0)\n",
      " |  4\n",
      " |  \n",
      " |  Built-in subclasses:\n",
      " |      bool\n",
      " |  \n",
      " |  Methods defined here:\n",
      " |  \n",
      " |  __abs__(self, /)\n",
      " |      abs(self)\n",
      " |  \n",
      " |  __add__(self, value, /)\n",
      " |      Return self+value.\n",
      " |  \n",
      " |  __and__(self, value, /)\n",
      " |      Return self&value.\n",
      " |  \n",
      " |  __bool__(self, /)\n",
      " |      True if self else False\n",
      " |  \n",
      " |  __ceil__(...)\n",
      " |      Ceiling of an Integral returns itself.\n",
      " |  \n",
      " |  __divmod__(self, value, /)\n",
      " |      Return divmod(self, value).\n",
      " |  \n",
      " |  __eq__(self, value, /)\n",
      " |      Return self==value.\n",
      " |  \n",
      " |  __float__(self, /)\n",
      " |      float(self)\n",
      " |  \n",
      " |  __floor__(...)\n",
      " |      Flooring an Integral returns itself.\n",
      " |  \n",
      " |  __floordiv__(self, value, /)\n",
      " |      Return self//value.\n",
      " |  \n",
      " |  __format__(self, format_spec, /)\n",
      " |      Default object formatter.\n",
      " |  \n",
      " |  __ge__(self, value, /)\n",
      " |      Return self>=value.\n",
      " |  \n",
      " |  __getattribute__(self, name, /)\n",
      " |      Return getattr(self, name).\n",
      " |  \n",
      " |  __getnewargs__(self, /)\n",
      " |  \n",
      " |  __gt__(self, value, /)\n",
      " |      Return self>value.\n",
      " |  \n",
      " |  __hash__(self, /)\n",
      " |      Return hash(self).\n",
      " |  \n",
      " |  __index__(self, /)\n",
      " |      Return self converted to an integer, if self is suitable for use as an index into a list.\n",
      " |  \n",
      " |  __int__(self, /)\n",
      " |      int(self)\n",
      " |  \n",
      " |  __invert__(self, /)\n",
      " |      ~self\n",
      " |  \n",
      " |  __le__(self, value, /)\n",
      " |      Return self<=value.\n",
      " |  \n",
      " |  __lshift__(self, value, /)\n",
      " |      Return self<<value.\n",
      " |  \n",
      " |  __lt__(self, value, /)\n",
      " |      Return self<value.\n",
      " |  \n",
      " |  __mod__(self, value, /)\n",
      " |      Return self%value.\n",
      " |  \n",
      " |  __mul__(self, value, /)\n",
      " |      Return self*value.\n",
      " |  \n",
      " |  __ne__(self, value, /)\n",
      " |      Return self!=value.\n",
      " |  \n",
      " |  __neg__(self, /)\n",
      " |      -self\n",
      " |  \n",
      " |  __or__(self, value, /)\n",
      " |      Return self|value.\n",
      " |  \n",
      " |  __pos__(self, /)\n",
      " |      +self\n",
      " |  \n",
      " |  __pow__(self, value, mod=None, /)\n",
      " |      Return pow(self, value, mod).\n",
      " |  \n",
      " |  __radd__(self, value, /)\n",
      " |      Return value+self.\n",
      " |  \n",
      " |  __rand__(self, value, /)\n",
      " |      Return value&self.\n",
      " |  \n",
      " |  __rdivmod__(self, value, /)\n",
      " |      Return divmod(value, self).\n",
      " |  \n",
      " |  __repr__(self, /)\n",
      " |      Return repr(self).\n",
      " |  \n",
      " |  __rfloordiv__(self, value, /)\n",
      " |      Return value//self.\n",
      " |  \n",
      " |  __rlshift__(self, value, /)\n",
      " |      Return value<<self.\n",
      " |  \n",
      " |  __rmod__(self, value, /)\n",
      " |      Return value%self.\n",
      " |  \n",
      " |  __rmul__(self, value, /)\n",
      " |      Return value*self.\n",
      " |  \n",
      " |  __ror__(self, value, /)\n",
      " |      Return value|self.\n",
      " |  \n",
      " |  __round__(...)\n",
      " |      Rounding an Integral returns itself.\n",
      " |      \n",
      " |      Rounding with an ndigits argument also returns an integer.\n",
      " |  \n",
      " |  __rpow__(self, value, mod=None, /)\n",
      " |      Return pow(value, self, mod).\n",
      " |  \n",
      " |  __rrshift__(self, value, /)\n",
      " |      Return value>>self.\n",
      " |  \n",
      " |  __rshift__(self, value, /)\n",
      " |      Return self>>value.\n",
      " |  \n",
      " |  __rsub__(self, value, /)\n",
      " |      Return value-self.\n",
      " |  \n",
      " |  __rtruediv__(self, value, /)\n",
      " |      Return value/self.\n",
      " |  \n",
      " |  __rxor__(self, value, /)\n",
      " |      Return value^self.\n",
      " |  \n",
      " |  __sizeof__(self, /)\n",
      " |      Returns size in memory, in bytes.\n",
      " |  \n",
      " |  __sub__(self, value, /)\n",
      " |      Return self-value.\n",
      " |  \n",
      " |  __truediv__(self, value, /)\n",
      " |      Return self/value.\n",
      " |  \n",
      " |  __trunc__(...)\n",
      " |      Truncating an Integral returns itself.\n",
      " |  \n",
      " |  __xor__(self, value, /)\n",
      " |      Return self^value.\n",
      " |  \n",
      " |  as_integer_ratio(self, /)\n",
      " |      Return integer ratio.\n",
      " |      \n",
      " |      Return a pair of integers, whose ratio is exactly equal to the original int\n",
      " |      and with a positive denominator.\n",
      " |      \n",
      " |      >>> (10).as_integer_ratio()\n",
      " |      (10, 1)\n",
      " |      >>> (-10).as_integer_ratio()\n",
      " |      (-10, 1)\n",
      " |      >>> (0).as_integer_ratio()\n",
      " |      (0, 1)\n",
      " |  \n",
      " |  bit_count(self, /)\n",
      " |      Number of ones in the binary representation of the absolute value of self.\n",
      " |      \n",
      " |      Also known as the population count.\n",
      " |      \n",
      " |      >>> bin(13)\n",
      " |      '0b1101'\n",
      " |      >>> (13).bit_count()\n",
      " |      3\n",
      " |  \n",
      " |  bit_length(self, /)\n",
      " |      Number of bits necessary to represent self in binary.\n",
      " |      \n",
      " |      >>> bin(37)\n",
      " |      '0b100101'\n",
      " |      >>> (37).bit_length()\n",
      " |      6\n",
      " |  \n",
      " |  conjugate(...)\n",
      " |      Returns self, the complex conjugate of any int.\n",
      " |  \n",
      " |  to_bytes(self, /, length=1, byteorder='big', *, signed=False)\n",
      " |      Return an array of bytes representing an integer.\n",
      " |      \n",
      " |      length\n",
      " |        Length of bytes object to use.  An OverflowError is raised if the\n",
      " |        integer is not representable with the given number of bytes.  Default\n",
      " |        is length 1.\n",
      " |      byteorder\n",
      " |        The byte order used to represent the integer.  If byteorder is 'big',\n",
      " |        the most significant byte is at the beginning of the byte array.  If\n",
      " |        byteorder is 'little', the most significant byte is at the end of the\n",
      " |        byte array.  To request the native byte order of the host system, use\n",
      " |        `sys.byteorder' as the byte order value.  Default is to use 'big'.\n",
      " |      signed\n",
      " |        Determines whether two's complement is used to represent the integer.\n",
      " |        If signed is False and a negative integer is given, an OverflowError\n",
      " |        is raised.\n",
      " |  \n",
      " |  ----------------------------------------------------------------------\n",
      " |  Class methods defined here:\n",
      " |  \n",
      " |  from_bytes(bytes, byteorder='big', *, signed=False) from builtins.type\n",
      " |      Return the integer represented by the given array of bytes.\n",
      " |      \n",
      " |      bytes\n",
      " |        Holds the array of bytes to convert.  The argument must either\n",
      " |        support the buffer protocol or be an iterable object producing bytes.\n",
      " |        Bytes and bytearray are examples of built-in objects that support the\n",
      " |        buffer protocol.\n",
      " |      byteorder\n",
      " |        The byte order used to represent the integer.  If byteorder is 'big',\n",
      " |        the most significant byte is at the beginning of the byte array.  If\n",
      " |        byteorder is 'little', the most significant byte is at the end of the\n",
      " |        byte array.  To request the native byte order of the host system, use\n",
      " |        `sys.byteorder' as the byte order value.  Default is to use 'big'.\n",
      " |      signed\n",
      " |        Indicates whether two's complement is used to represent the integer.\n",
      " |  \n",
      " |  ----------------------------------------------------------------------\n",
      " |  Static methods defined here:\n",
      " |  \n",
      " |  __new__(*args, **kwargs) from builtins.type\n",
      " |      Create and return a new object.  See help(type) for accurate signature.\n",
      " |  \n",
      " |  ----------------------------------------------------------------------\n",
      " |  Data descriptors defined here:\n",
      " |  \n",
      " |  denominator\n",
      " |      the denominator of a rational number in lowest terms\n",
      " |  \n",
      " |  imag\n",
      " |      the imaginary part of a complex number\n",
      " |  \n",
      " |  numerator\n",
      " |      the numerator of a rational number in lowest terms\n",
      " |  \n",
      " |  real\n",
      " |      the real part of a complex number\n",
      "\n"
     ]
    }
   ],
   "source": [
    "help(int)"
   ]
  },
  {
   "cell_type": "code",
   "execution_count": 68,
   "id": "b75a1998-05ce-4ecc-867a-3bf7ef07d9c3",
   "metadata": {},
   "outputs": [
    {
     "name": "stdout",
     "output_type": "stream",
     "text": [
      "0x14\n"
     ]
    }
   ],
   "source": [
    "# hex()\n",
    "\n",
    "#Description: Converts an integer to a lowercase hexadecimal string prefixed with '0x'.\n",
    "\t\n",
    "num = 20\n",
    "hex_num = hex(num)\n",
    "print(hex_num)  # Output: '0xff'"
   ]
  },
  {
   "cell_type": "code",
   "execution_count": 69,
   "id": "ef06d07e-cb6e-4108-bb18-b621be47931d",
   "metadata": {},
   "outputs": [
    {
     "name": "stdout",
     "output_type": "stream",
     "text": [
      "140730961414472\n"
     ]
    }
   ],
   "source": [
    "# id()\n",
    "\n",
    "#Description: Returns the identity (unique integer) of an object.\n",
    "\n",
    "x = 50\n",
    "identity = id(x)\n",
    "print(identity)"
   ]
  },
  {
   "cell_type": "code",
   "execution_count": 70,
   "id": "8def09c3-7dab-486e-8e20-0a958aa71695",
   "metadata": {},
   "outputs": [
    {
     "name": "stdin",
     "output_type": "stream",
     "text": [
      "Enter your name:  6\n"
     ]
    },
    {
     "name": "stdout",
     "output_type": "stream",
     "text": [
      "Hello, 6\n"
     ]
    }
   ],
   "source": [
    "# input()\n",
    "\n",
    "#Description: Reads a line from input, converts it to a string (stripping a trailing newline), and returns that.\n",
    "\t\t\n",
    "name = input(\"Enter your name: \")\n",
    "print(\"Hello, \" + name)"
   ]
  },
  {
   "cell_type": "code",
   "execution_count": 71,
   "id": "9f24c847-65cc-422c-9295-594b4f6a1e15",
   "metadata": {},
   "outputs": [
    {
     "name": "stdout",
     "output_type": "stream",
     "text": [
      "10\n"
     ]
    }
   ],
   "source": [
    "# int()\n",
    "\n",
    "#Description: Returns an integer object constructed from a number or string.\n",
    "\t\t\n",
    "int_num = int(10.00002)\n",
    "print(int_num)  # Output: 10"
   ]
  },
  {
   "cell_type": "code",
   "execution_count": 74,
   "id": "b42041c1-e444-4dd3-97bb-506e94b6dfbb",
   "metadata": {},
   "outputs": [
    {
     "name": "stdout",
     "output_type": "stream",
     "text": [
      "True\n"
     ]
    }
   ],
   "source": [
    "# isinstance()\n",
    "\n",
    "# Description: Returns True if the object is an instance of the class (direct, indirect, or virtual inheritance), False otherwise.\n",
    "\t\t\n",
    "z = 5.0\n",
    "result = isinstance(z, float)\n",
    "print(result)  # Output: True"
   ]
  },
  {
   "cell_type": "code",
   "execution_count": 75,
   "id": "81188352-cb23-4e30-848f-51df1dcda57d",
   "metadata": {},
   "outputs": [
    {
     "name": "stdout",
     "output_type": "stream",
     "text": [
      "1\n"
     ]
    }
   ],
   "source": [
    "# iter()\n",
    "\n",
    "#Description: Returns an iterator object for an iterable.\n",
    "\t\t\n",
    "iterable = [1, 2, 3,4]\n",
    "iter_obj = iter(iterable)\n",
    "print(next(iter_obj))  # Output: 1"
   ]
  },
  {
   "cell_type": "code",
   "execution_count": 76,
   "id": "4c5702aa-8b19-44d3-be2f-e4e0015be0d5",
   "metadata": {},
   "outputs": [
    {
     "name": "stdout",
     "output_type": "stream",
     "text": [
      "2\n"
     ]
    }
   ],
   "source": [
    "print(next(iter_obj)) "
   ]
  },
  {
   "cell_type": "code",
   "execution_count": 77,
   "id": "64395b0a-b887-43ca-9f30-d2972018e599",
   "metadata": {},
   "outputs": [
    {
     "name": "stdout",
     "output_type": "stream",
     "text": [
      "3\n"
     ]
    }
   ],
   "source": [
    "print(next(iter_obj)) "
   ]
  },
  {
   "cell_type": "code",
   "execution_count": 78,
   "id": "809522ed-ad14-43a5-9b7f-bf7b4df0b27a",
   "metadata": {},
   "outputs": [
    {
     "name": "stdout",
     "output_type": "stream",
     "text": [
      "4\n"
     ]
    }
   ],
   "source": [
    "print(next(iter_obj)) "
   ]
  },
  {
   "cell_type": "code",
   "execution_count": 79,
   "id": "c76b0ce3-ad6c-471e-b65a-c82954c25778",
   "metadata": {},
   "outputs": [
    {
     "ename": "StopIteration",
     "evalue": "",
     "output_type": "error",
     "traceback": [
      "\u001b[1;31m---------------------------------------------------------------------------\u001b[0m",
      "\u001b[1;31mStopIteration\u001b[0m                             Traceback (most recent call last)",
      "Cell \u001b[1;32mIn[79], line 1\u001b[0m\n\u001b[1;32m----> 1\u001b[0m \u001b[38;5;28mprint\u001b[39m(\u001b[38;5;28mnext\u001b[39m(iter_obj))\n",
      "\u001b[1;31mStopIteration\u001b[0m: "
     ]
    }
   ],
   "source": [
    "print(next(iter_obj)) "
   ]
  },
  {
   "cell_type": "code",
   "execution_count": 80,
   "id": "749178d8-3d7f-49e1-a3da-65f4b2830a08",
   "metadata": {},
   "outputs": [
    {
     "name": "stdout",
     "output_type": "stream",
     "text": [
      "9\n"
     ]
    }
   ],
   "source": [
    "# len()\n",
    "\n",
    "#Description: Returns the length (number of items) of an object.\n",
    "\t\t\n",
    "my_list = \"amitkumar\"\n",
    "length = len(my_list)\n",
    "print(length)  # Output: 3"
   ]
  },
  {
   "cell_type": "code",
   "execution_count": 81,
   "id": "999438cd-d492-4313-841c-06c2fe4c1d28",
   "metadata": {},
   "outputs": [
    {
     "name": "stdout",
     "output_type": "stream",
     "text": [
      "[1, 2, 3]\n"
     ]
    }
   ],
   "source": [
    "# list()\n",
    "\n",
    "#Description: Returns a list object.\n",
    "\t\t\n",
    "lst = list((1, 2, 3))\n",
    "print(lst)  # Output: [1, 2, 3]"
   ]
  },
  {
   "cell_type": "code",
   "execution_count": 86,
   "id": "19cd40f0-713e-4399-8870-0a4e26554d0a",
   "metadata": {},
   "outputs": [
    {
     "name": "stdout",
     "output_type": "stream",
     "text": [
      "[1, 4, 9, 16, 144]\n"
     ]
    }
   ],
   "source": [
    "# map()\n",
    "\n",
    "#Description: Applies a function to all items in an input list and returns an iterator of results.\n",
    "\t\t\n",
    "def square(x):\n",
    "\treturn x ** 2\n",
    "\n",
    "numbers = [1, 2, 3, 4, 12]\n",
    "squared = map(square, numbers)\n",
    "print(list(squared))  # Output: [1, 4, 9, 16]"
   ]
  },
  {
   "cell_type": "code",
   "execution_count": 85,
   "id": "e963d53d-e5bc-4b28-8a4a-7ff14ec48790",
   "metadata": {},
   "outputs": [
    {
     "ename": "TypeError",
     "evalue": "unsupported operand type(s) for ** or pow(): 'list' and 'int'",
     "output_type": "error",
     "traceback": [
      "\u001b[1;31m---------------------------------------------------------------------------\u001b[0m",
      "\u001b[1;31mTypeError\u001b[0m                                 Traceback (most recent call last)",
      "Cell \u001b[1;32mIn[85], line 1\u001b[0m\n\u001b[1;32m----> 1\u001b[0m square([\u001b[38;5;241m8\u001b[39m])\n",
      "Cell \u001b[1;32mIn[82], line 6\u001b[0m, in \u001b[0;36msquare\u001b[1;34m(x)\u001b[0m\n\u001b[0;32m      5\u001b[0m \u001b[38;5;28;01mdef\u001b[39;00m \u001b[38;5;21msquare\u001b[39m(x):\n\u001b[1;32m----> 6\u001b[0m \t\u001b[38;5;28;01mreturn\u001b[39;00m x \u001b[38;5;241m*\u001b[39m\u001b[38;5;241m*\u001b[39m \u001b[38;5;241m2\u001b[39m\n",
      "\u001b[1;31mTypeError\u001b[0m: unsupported operand type(s) for ** or pow(): 'list' and 'int'"
     ]
    }
   ],
   "source": [
    "square([8])"
   ]
  },
  {
   "cell_type": "code",
   "execution_count": 87,
   "id": "24f42fc1-df56-4ab6-ba79-e9856925ed6a",
   "metadata": {},
   "outputs": [
    {
     "name": "stdout",
     "output_type": "stream",
     "text": [
      "3\n"
     ]
    }
   ],
   "source": [
    "# max()\n",
    "\n",
    "#Description: Returns the largest item in an iterable or the largest of two or more arguments.\n",
    "\t\t\n",
    "max_num = max(1, 2, 3)\n",
    "print(max_num)  # Output: 3"
   ]
  },
  {
   "cell_type": "code",
   "execution_count": 88,
   "id": "cb7097a4-1b8a-4877-9aee-e40171929c43",
   "metadata": {},
   "outputs": [
    {
     "name": "stdout",
     "output_type": "stream",
     "text": [
      "1\n"
     ]
    }
   ],
   "source": [
    "# min()\n",
    "\n",
    "#Description: Returns the smallest item in an iterable or the smallest of two or more arguments.\n",
    "\t\t \n",
    "min_num = min(1, 2, 3)\n",
    "print(min_num)  # Output: 1"
   ]
  },
  {
   "cell_type": "code",
   "execution_count": 89,
   "id": "081fcac1-6e82-4dfd-91e1-b13a5d100087",
   "metadata": {},
   "outputs": [
    {
     "name": "stdout",
     "output_type": "stream",
     "text": [
      "1\n"
     ]
    }
   ],
   "source": [
    "# next()\n",
    "\n",
    "#Description: Retrieves the next item from the iterator.\n",
    "\t\t \n",
    "iterator = iter([1, 2, 3])\n",
    "print(next(iterator))  # Output: 1"
   ]
  },
  {
   "cell_type": "code",
   "execution_count": 90,
   "id": "1596e738-8e2c-400c-90d1-af8e3b140ade",
   "metadata": {},
   "outputs": [
    {
     "ename": "FileNotFoundError",
     "evalue": "[Errno 2] No such file or directory: 'example.txt'",
     "output_type": "error",
     "traceback": [
      "\u001b[1;31m---------------------------------------------------------------------------\u001b[0m",
      "\u001b[1;31mFileNotFoundError\u001b[0m                         Traceback (most recent call last)",
      "Cell \u001b[1;32mIn[90], line 5\u001b[0m\n\u001b[0;32m      1\u001b[0m \u001b[38;5;66;03m# open()\u001b[39;00m\n\u001b[0;32m      2\u001b[0m \n\u001b[0;32m      3\u001b[0m \u001b[38;5;66;03m#Description: Opens a file and returns a file object.\u001b[39;00m\n\u001b[1;32m----> 5\u001b[0m file_obj \u001b[38;5;241m=\u001b[39m \u001b[38;5;28mopen\u001b[39m(\u001b[38;5;124m'\u001b[39m\u001b[38;5;124mexample.txt\u001b[39m\u001b[38;5;124m'\u001b[39m, \u001b[38;5;124m'\u001b[39m\u001b[38;5;124mr\u001b[39m\u001b[38;5;124m'\u001b[39m)\n\u001b[0;32m      6\u001b[0m content \u001b[38;5;241m=\u001b[39m file_obj\u001b[38;5;241m.\u001b[39mread()\n\u001b[0;32m      7\u001b[0m \u001b[38;5;28mprint\u001b[39m(content)\n",
      "File \u001b[1;32m~\\anaconda3\\Lib\\site-packages\\IPython\\core\\interactiveshell.py:310\u001b[0m, in \u001b[0;36m_modified_open\u001b[1;34m(file, *args, **kwargs)\u001b[0m\n\u001b[0;32m    303\u001b[0m \u001b[38;5;28;01mif\u001b[39;00m file \u001b[38;5;129;01min\u001b[39;00m {\u001b[38;5;241m0\u001b[39m, \u001b[38;5;241m1\u001b[39m, \u001b[38;5;241m2\u001b[39m}:\n\u001b[0;32m    304\u001b[0m     \u001b[38;5;28;01mraise\u001b[39;00m \u001b[38;5;167;01mValueError\u001b[39;00m(\n\u001b[0;32m    305\u001b[0m         \u001b[38;5;124mf\u001b[39m\u001b[38;5;124m\"\u001b[39m\u001b[38;5;124mIPython won\u001b[39m\u001b[38;5;124m'\u001b[39m\u001b[38;5;124mt let you open fd=\u001b[39m\u001b[38;5;132;01m{\u001b[39;00mfile\u001b[38;5;132;01m}\u001b[39;00m\u001b[38;5;124m by default \u001b[39m\u001b[38;5;124m\"\u001b[39m\n\u001b[0;32m    306\u001b[0m         \u001b[38;5;124m\"\u001b[39m\u001b[38;5;124mas it is likely to crash IPython. If you know what you are doing, \u001b[39m\u001b[38;5;124m\"\u001b[39m\n\u001b[0;32m    307\u001b[0m         \u001b[38;5;124m\"\u001b[39m\u001b[38;5;124myou can use builtins\u001b[39m\u001b[38;5;124m'\u001b[39m\u001b[38;5;124m open.\u001b[39m\u001b[38;5;124m\"\u001b[39m\n\u001b[0;32m    308\u001b[0m     )\n\u001b[1;32m--> 310\u001b[0m \u001b[38;5;28;01mreturn\u001b[39;00m io_open(file, \u001b[38;5;241m*\u001b[39margs, \u001b[38;5;241m*\u001b[39m\u001b[38;5;241m*\u001b[39mkwargs)\n",
      "\u001b[1;31mFileNotFoundError\u001b[0m: [Errno 2] No such file or directory: 'example.txt'"
     ]
    }
   ],
   "source": [
    "# open()\n",
    "\n",
    "#Description: Opens a file and returns a file object.\n",
    "\t\t \n",
    "file_obj = open('example.txt', 'r')\n",
    "content = file_obj.read()\n",
    "print(content)\n",
    "file_obj.close()"
   ]
  },
  {
   "cell_type": "code",
   "execution_count": 95,
   "id": "99183934-8726-476d-a2cc-4fdf6c22c22d",
   "metadata": {},
   "outputs": [
    {
     "name": "stdout",
     "output_type": "stream",
     "text": [
      "96\n"
     ]
    }
   ],
   "source": [
    "# ord()\n",
    "\n",
    "#Description: Returns the Unicode code point for a given character.\n",
    "\t\t \n",
    "unicode_value = ord('`')\n",
    "print(unicode_value)    "
   ]
  },
  {
   "cell_type": "code",
   "execution_count": 97,
   "id": "084fe0db-70ab-42d3-b21e-1a387b942206",
   "metadata": {},
   "outputs": [
    {
     "name": "stdout",
     "output_type": "stream",
     "text": [
      "100000000\n"
     ]
    }
   ],
   "source": [
    "# pow()\n",
    "\n",
    "#Description: Returns the value of x to the power of y.\n",
    "\n",
    "result = pow(10, 8)\n",
    "print(result)  # Output: 8"
   ]
  },
  {
   "cell_type": "code",
   "execution_count": 98,
   "id": "b8dc319b-3579-4cc5-ac87-1edb513b5a47",
   "metadata": {},
   "outputs": [
    {
     "name": "stdout",
     "output_type": "stream",
     "text": [
      "Hello, World!\n"
     ]
    }
   ],
   "source": [
    "# print()\n",
    "\n",
    "#Description: Outputs a message to the console or other standard output device.\n",
    "\t\t\n",
    "print(\"Hello, World!\")"
   ]
  },
  {
   "cell_type": "code",
   "execution_count": 99,
   "id": "3591659c-0256-4019-8666-cf617d5742be",
   "metadata": {},
   "outputs": [
    {
     "name": "stdout",
     "output_type": "stream",
     "text": [
      "{1, 2, 3}\n"
     ]
    }
   ],
   "source": [
    "# set()\n",
    "\n",
    "#Description: Returns a new set object.\n",
    "\t\t \n",
    "set_obj = set([1, 2, 3])\n",
    "print(set_obj)  # Output: {1, 2, 3}"
   ]
  },
  {
   "cell_type": "code",
   "execution_count": 100,
   "id": "1eec715b-06e2-4341-860c-34217516874b",
   "metadata": {},
   "outputs": [
    {
     "name": "stdout",
     "output_type": "stream",
     "text": [
      "[0, 1, 2, 3, 4]\n"
     ]
    }
   ],
   "source": [
    "# range()\n",
    "\n",
    "#Description: Returns a sequence of numbers, starting from 0 (by default), and increments by 1 (by default), and stops before a specified number.\n",
    "\t\t \n",
    "rng = range(5)\n",
    "print(list(rng))  # Output: [0, 1, 2, 3, 4]"
   ]
  },
  {
   "cell_type": "code",
   "execution_count": 104,
   "id": "c6f5d235-42eb-4097-a777-5b8c73c38722",
   "metadata": {},
   "outputs": [],
   "source": [
    "var = list(range(60))"
   ]
  },
  {
   "cell_type": "code",
   "execution_count": 106,
   "id": "2fcdaabd-0f4d-42dd-8f0d-9315b4e4c08a",
   "metadata": {},
   "outputs": [
    {
     "data": {
      "text/plain": [
       "[2, 3, 4, 5, 6]"
      ]
     },
     "execution_count": 106,
     "metadata": {},
     "output_type": "execute_result"
    }
   ],
   "source": [
    "var[2:7]"
   ]
  },
  {
   "cell_type": "code",
   "execution_count": 107,
   "id": "6e446212-b322-4e76-a63d-1a937d737c7f",
   "metadata": {},
   "outputs": [
    {
     "data": {
      "text/plain": [
       "[2, 5, 8, 11, 14, 17, 20, 23, 26, 29, 32, 35, 38, 41, 44, 47]"
      ]
     },
     "execution_count": 107,
     "metadata": {},
     "output_type": "execute_result"
    }
   ],
   "source": [
    "var[2:50:3]"
   ]
  },
  {
   "cell_type": "code",
   "execution_count": 109,
   "id": "771f6e87-9ee3-43b9-a921-96e82cfcd5a6",
   "metadata": {},
   "outputs": [
    {
     "data": {
      "text/plain": [
       "[50, 46, 42, 38, 34, 30, 26, 22, 18, 14, 10, 6]"
      ]
     },
     "execution_count": 109,
     "metadata": {},
     "output_type": "execute_result"
    }
   ],
   "source": [
    "var[50:3:-4]"
   ]
  },
  {
   "cell_type": "code",
   "execution_count": 112,
   "id": "f0c18667-fcae-4e6e-a03c-89ae4609575d",
   "metadata": {},
   "outputs": [
    {
     "data": {
      "text/plain": [
       "[]"
      ]
     },
     "execution_count": 112,
     "metadata": {},
     "output_type": "execute_result"
    }
   ],
   "source": [
    "var[2:30:- 4]"
   ]
  },
  {
   "cell_type": "code",
   "execution_count": 113,
   "id": "53650906-0898-4a65-b453-e527ef178259",
   "metadata": {},
   "outputs": [
    {
     "data": {
      "text/plain": [
       "[2, 6, 10, 14, 18, 22, 26]"
      ]
     },
     "execution_count": 113,
     "metadata": {},
     "output_type": "execute_result"
    }
   ],
   "source": [
    "var[2:30:4]"
   ]
  },
  {
   "cell_type": "code",
   "execution_count": 114,
   "id": "e8418b1f-c2fd-42f1-8b79-274caa0fdc0a",
   "metadata": {},
   "outputs": [
    {
     "name": "stdout",
     "output_type": "stream",
     "text": [
      "[3, 2, 1]\n"
     ]
    }
   ],
   "source": [
    "# reversed()\n",
    "\n",
    "#Description: Returns a reverse iterator.\n",
    "\t\t \n",
    "rev_iter = reversed([1, 2, 3])\n",
    "\n",
    "print(list(rev_iter))  # Output: [3, 2, 1]"
   ]
  },
  {
   "cell_type": "code",
   "execution_count": 116,
   "id": "fe5f024b-7364-4413-ab93-57b0ec55995a",
   "metadata": {},
   "outputs": [
    {
     "data": {
      "text/plain": [
       "['n', 'o', 'h', 't', 'y', 'p']"
      ]
     },
     "execution_count": 116,
     "metadata": {},
     "output_type": "execute_result"
    }
   ],
   "source": [
    "list(reversed(\"python\"))"
   ]
  },
  {
   "cell_type": "code",
   "execution_count": 120,
   "id": "2dcc6999-e360-4f49-b514-5504675150fb",
   "metadata": {},
   "outputs": [
    {
     "name": "stdout",
     "output_type": "stream",
     "text": [
      "3.142\n"
     ]
    }
   ],
   "source": [
    "# round()\n",
    "\n",
    "#Description: Rounds a number to a specified precision in decimal digits.\n",
    "\t\t \n",
    "num = 3.14159\n",
    "rounded_num = round(num, 3)\n",
    "print(rounded_num)  # Output: 3.14"
   ]
  },
  {
   "cell_type": "code",
   "execution_count": 121,
   "id": "7c05a30b-fa66-483b-b28a-420de6d5b396",
   "metadata": {},
   "outputs": [
    {
     "name": "stdout",
     "output_type": "stream",
     "text": [
      "[1, 2, 3]\n"
     ]
    }
   ],
   "source": [
    "# sorted()\n",
    "\n",
    "#Description: Returns a sorted list from the items in an iterable.\n",
    " \n",
    "lst = [3, 1, 2]\n",
    "\n",
    "sorted_lst = sorted(lst)\n",
    "print(sorted_lst)  # Output: [1, 2, 3]"
   ]
  },
  {
   "cell_type": "code",
   "execution_count": 123,
   "id": "40b8e586-aafa-4d57-9674-6f0aa2ce3f82",
   "metadata": {},
   "outputs": [
    {
     "data": {
      "text/plain": [
       "[3, 2, 1]"
      ]
     },
     "execution_count": 123,
     "metadata": {},
     "output_type": "execute_result"
    }
   ],
   "source": [
    "sorted(lst, reverse=True)"
   ]
  },
  {
   "cell_type": "code",
   "execution_count": 124,
   "id": "d1f63674-4bc9-488b-bc8e-6cd4eec4ffb9",
   "metadata": {},
   "outputs": [
    {
     "name": "stdout",
     "output_type": "stream",
     "text": [
      "6648\n"
     ]
    }
   ],
   "source": [
    "# str()\n",
    "\n",
    "#Description: Returns a string object.\n",
    "\t\t \n",
    "str_obj = str(\"6648\")\n",
    "print(str_obj)  # Output: '123'"
   ]
  },
  {
   "cell_type": "code",
   "execution_count": 125,
   "id": "584ec895-fc69-4e15-8c09-e89a10485b78",
   "metadata": {},
   "outputs": [
    {
     "name": "stdout",
     "output_type": "stream",
     "text": [
      "6\n"
     ]
    }
   ],
   "source": [
    "# sum()\n",
    "\n",
    "#Description: Sums the items of an iterable.\n",
    "\t\t \n",
    "lst = [1, 2, 3]\n",
    "sum_lst = sum(lst)\n",
    "print(sum_lst)  # Output: 6"
   ]
  },
  {
   "cell_type": "code",
   "execution_count": 126,
   "id": "64457677-a208-4daf-92cc-4cc5245cee31",
   "metadata": {},
   "outputs": [
    {
     "name": "stdout",
     "output_type": "stream",
     "text": [
      "(1, 2, 3)\n"
     ]
    }
   ],
   "source": [
    "# tuple()\n",
    "\n",
    "#Description: Returns a tuple object.\n",
    "\t\t \n",
    "tpl = tuple([1, 2, 3])\n",
    "print(tpl)  # Output: (1, 2, 3)"
   ]
  },
  {
   "cell_type": "code",
   "execution_count": 127,
   "id": "0ba125b2-f78d-4d0d-9de4-d395e7939bf8",
   "metadata": {},
   "outputs": [
    {
     "name": "stdout",
     "output_type": "stream",
     "text": [
      "<class 'int'>\n"
     ]
    }
   ],
   "source": [
    "# type()\n",
    "\n",
    "#Description: Returns the type of an object or creates a new type object.\n",
    "\t\t \n",
    "x = 5\n",
    "print(type(x))  # Output: <class 'int'>"
   ]
  },
  {
   "cell_type": "code",
   "execution_count": 128,
   "id": "dde240aa-cfba-4561-80f5-10a1711362a8",
   "metadata": {},
   "outputs": [
    {
     "name": "stdout",
     "output_type": "stream",
     "text": [
      "[(1, 'a'), (2, 'b'), (3, 'c')]\n"
     ]
    }
   ],
   "source": [
    "# zip()\n",
    "\n",
    "#Description: Returns an iterator of tuples, where the i-th tuple contains the i-th element from each of the argument sequences or iterables.\n",
    "\t\t \n",
    "lst1 = [1, 2, 3]\n",
    "lst2 = ['a', 'b', 'c']\n",
    "\n",
    "zipped = zip(lst1, lst2)\n",
    "print(list(zipped))  # Output: [(1, 'a'), (2, 'b'), (3, 'c')]"
   ]
  },
  {
   "cell_type": "code",
   "execution_count": null,
   "id": "d27513e3-d735-4d8e-a24a-b96b707f5b90",
   "metadata": {},
   "outputs": [],
   "source": []
  }
 ],
 "metadata": {
  "kernelspec": {
   "display_name": "Python 3 (ipykernel)",
   "language": "python",
   "name": "python3"
  },
  "language_info": {
   "codemirror_mode": {
    "name": "ipython",
    "version": 3
   },
   "file_extension": ".py",
   "mimetype": "text/x-python",
   "name": "python",
   "nbconvert_exporter": "python",
   "pygments_lexer": "ipython3",
   "version": "3.11.7"
  }
 },
 "nbformat": 4,
 "nbformat_minor": 5
}
