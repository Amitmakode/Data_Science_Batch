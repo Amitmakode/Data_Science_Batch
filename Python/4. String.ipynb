{
 "cells": [
  {
   "cell_type": "markdown",
   "id": "9a4ded9d-711e-4068-86e0-3782a4e53c72",
   "metadata": {},
   "source": [
    "### String"
   ]
  },
  {
   "cell_type": "code",
   "execution_count": 1,
   "id": "e83ae92c-e53f-4076-bf05-c0ca9edbd6e9",
   "metadata": {},
   "outputs": [],
   "source": [
    "# Mutation   #immutable"
   ]
  },
  {
   "cell_type": "code",
   "execution_count": 2,
   "id": "a9a56d77-f9f1-48bd-b5a2-1279dc846c1b",
   "metadata": {},
   "outputs": [],
   "source": [
    "s = \"hello\""
   ]
  },
  {
   "cell_type": "code",
   "execution_count": 3,
   "id": "d682911a-c8d2-4878-9cc4-34d045f142d8",
   "metadata": {},
   "outputs": [
    {
     "data": {
      "text/plain": [
       "'l'"
      ]
     },
     "execution_count": 3,
     "metadata": {},
     "output_type": "execute_result"
    }
   ],
   "source": [
    "s[2]"
   ]
  },
  {
   "cell_type": "code",
   "execution_count": 4,
   "id": "37524f0e-a54b-4ca5-a288-2cf668daf08c",
   "metadata": {},
   "outputs": [
    {
     "ename": "TypeError",
     "evalue": "'str' object does not support item assignment",
     "output_type": "error",
     "traceback": [
      "\u001b[1;31m---------------------------------------------------------------------------\u001b[0m",
      "\u001b[1;31mTypeError\u001b[0m                                 Traceback (most recent call last)",
      "Cell \u001b[1;32mIn[4], line 1\u001b[0m\n\u001b[1;32m----> 1\u001b[0m s[\u001b[38;5;241m2\u001b[39m] \u001b[38;5;241m=\u001b[39m \u001b[38;5;124m\"\u001b[39m\u001b[38;5;124mm\u001b[39m\u001b[38;5;124m\"\u001b[39m\n",
      "\u001b[1;31mTypeError\u001b[0m: 'str' object does not support item assignment"
     ]
    }
   ],
   "source": [
    "s[2] = \"m\""
   ]
  },
  {
   "cell_type": "code",
   "execution_count": 5,
   "id": "b0773790-0290-416e-bb3f-e85f229e6f76",
   "metadata": {},
   "outputs": [],
   "source": [
    "#### Indexing"
   ]
  },
  {
   "cell_type": "code",
   "execution_count": 6,
   "id": "eb77b5ed-4b49-406a-b0f5-99497a352b2a",
   "metadata": {},
   "outputs": [],
   "source": [
    "s = \"hello python\""
   ]
  },
  {
   "cell_type": "code",
   "execution_count": 7,
   "id": "8b473563-5e92-4769-9e9b-a7c34f2b0b72",
   "metadata": {},
   "outputs": [
    {
     "data": {
      "text/plain": [
       "'h'"
      ]
     },
     "execution_count": 7,
     "metadata": {},
     "output_type": "execute_result"
    }
   ],
   "source": [
    "s[0]"
   ]
  },
  {
   "cell_type": "code",
   "execution_count": 8,
   "id": "1942c97e-803d-466a-a10d-be6a8bc00b7e",
   "metadata": {},
   "outputs": [
    {
     "data": {
      "text/plain": [
       "'p'"
      ]
     },
     "execution_count": 8,
     "metadata": {},
     "output_type": "execute_result"
    }
   ],
   "source": [
    "s[6]"
   ]
  },
  {
   "cell_type": "code",
   "execution_count": 10,
   "id": "54ae708b-9128-4433-92e5-b431d6dc0e2d",
   "metadata": {},
   "outputs": [
    {
     "data": {
      "text/plain": [
       "'h'"
      ]
     },
     "execution_count": 10,
     "metadata": {},
     "output_type": "execute_result"
    }
   ],
   "source": [
    "s[-3]"
   ]
  },
  {
   "cell_type": "code",
   "execution_count": 11,
   "id": "99c2e1e3-3bcb-4ced-8abd-c267c736d6aa",
   "metadata": {},
   "outputs": [],
   "source": [
    "#SLicing"
   ]
  },
  {
   "cell_type": "code",
   "execution_count": 12,
   "id": "5693c86a-f9c6-4d99-8466-3e3225993b19",
   "metadata": {},
   "outputs": [],
   "source": [
    "s_var = \"object does@ not support item assignment\""
   ]
  },
  {
   "cell_type": "code",
   "execution_count": 13,
   "id": "51007419-b238-4168-8419-767aa7a4eff7",
   "metadata": {},
   "outputs": [
    {
     "data": {
      "text/plain": [
       "'object does@ not support item assignment'"
      ]
     },
     "execution_count": 13,
     "metadata": {},
     "output_type": "execute_result"
    }
   ],
   "source": [
    "s_var[:]"
   ]
  },
  {
   "cell_type": "code",
   "execution_count": 14,
   "id": "1558fc22-f70d-406b-998c-62535731ec4f",
   "metadata": {},
   "outputs": [
    {
     "data": {
      "text/plain": [
       "'ject doe'"
      ]
     },
     "execution_count": 14,
     "metadata": {},
     "output_type": "execute_result"
    }
   ],
   "source": [
    "s_var[2:10]"
   ]
  },
  {
   "cell_type": "code",
   "execution_count": 15,
   "id": "80775d6c-6fed-4f0e-840a-cbaa1bc4693c",
   "metadata": {},
   "outputs": [
    {
     "data": {
      "text/plain": [
       "''"
      ]
     },
     "execution_count": 15,
     "metadata": {},
     "output_type": "execute_result"
    }
   ],
   "source": [
    "s_var[-2:-10]"
   ]
  },
  {
   "cell_type": "code",
   "execution_count": 16,
   "id": "db35e2e1-c6fd-46ef-bbd2-46d31159e976",
   "metadata": {},
   "outputs": [
    {
     "data": {
      "text/plain": [
       "'port item '"
      ]
     },
     "execution_count": 16,
     "metadata": {},
     "output_type": "execute_result"
    }
   ],
   "source": [
    "s_var[-20:-10]"
   ]
  },
  {
   "cell_type": "code",
   "execution_count": 17,
   "id": "4bdf5b0d-7b56-464e-81ce-4c44a363b008",
   "metadata": {},
   "outputs": [
    {
     "data": {
      "text/plain": [
       "'jc os o upr '"
      ]
     },
     "execution_count": 17,
     "metadata": {},
     "output_type": "execute_result"
    }
   ],
   "source": [
    "s_var[2:25:2]"
   ]
  },
  {
   "cell_type": "code",
   "execution_count": 18,
   "id": "1c3bf60d-e5d9-4630-8c47-93d10c14b84f",
   "metadata": {},
   "outputs": [
    {
     "data": {
      "text/plain": [
       "''"
      ]
     },
     "execution_count": 18,
     "metadata": {},
     "output_type": "execute_result"
    }
   ],
   "source": [
    "s_var[2:25:-2]"
   ]
  },
  {
   "cell_type": "code",
   "execution_count": 19,
   "id": "66fcf3b4-9b66-428d-8ccd-3ed5f8ed60bc",
   "metadata": {},
   "outputs": [
    {
     "data": {
      "text/plain": [
       "'nmgsamt rpu '"
      ]
     },
     "execution_count": 19,
     "metadata": {},
     "output_type": "execute_result"
    }
   ],
   "source": [
    "s_var[-2:-25:-2]"
   ]
  },
  {
   "cell_type": "code",
   "execution_count": 20,
   "id": "9ca6f664-265d-4888-81a3-df4506b9bf7f",
   "metadata": {},
   "outputs": [
    {
     "data": {
      "text/plain": [
       "'tn@edte'"
      ]
     },
     "execution_count": 20,
     "metadata": {},
     "output_type": "execute_result"
    }
   ],
   "source": [
    "s_var[-25:2:-2]"
   ]
  },
  {
   "cell_type": "code",
   "execution_count": 21,
   "id": "67dedebb-c961-42c2-a79a-51cd37e72355",
   "metadata": {},
   "outputs": [
    {
     "data": {
      "text/plain": [
       "'tnemngissa meti troppus ton @seod tcejbo'"
      ]
     },
     "execution_count": 21,
     "metadata": {},
     "output_type": "execute_result"
    }
   ],
   "source": [
    "s_var[::-1]"
   ]
  },
  {
   "cell_type": "code",
   "execution_count": 22,
   "id": "e7756b5e-0718-430a-9187-0e47b742977f",
   "metadata": {},
   "outputs": [
    {
     "name": "stdout",
     "output_type": "stream",
     "text": [
      "example.com\n"
     ]
    }
   ],
   "source": [
    "email = \"user@example.com\"\n",
    "\n",
    "domain = email[email.index('@') + 1:]\n",
    "\n",
    "print(domain)  # Output: \"example.com\""
   ]
  },
  {
   "cell_type": "code",
   "execution_count": 24,
   "id": "87bacf80-a6b9-4514-ad24-a61cdcc83afa",
   "metadata": {},
   "outputs": [
    {
     "data": {
      "text/plain": [
       "6"
      ]
     },
     "execution_count": 24,
     "metadata": {},
     "output_type": "execute_result"
    }
   ],
   "source": [
    "email.index(\"x\")"
   ]
  },
  {
   "cell_type": "markdown",
   "id": "ce87bc13-863b-4acf-8f95-14d6867d135b",
   "metadata": {},
   "source": [
    "### String Methods"
   ]
  },
  {
   "cell_type": "code",
   "execution_count": 25,
   "id": "a16d38e0-405a-4d2d-8e60-452ad49867a0",
   "metadata": {},
   "outputs": [
    {
     "data": {
      "text/plain": [
       "['__add__',\n",
       " '__class__',\n",
       " '__contains__',\n",
       " '__delattr__',\n",
       " '__dir__',\n",
       " '__doc__',\n",
       " '__eq__',\n",
       " '__format__',\n",
       " '__ge__',\n",
       " '__getattribute__',\n",
       " '__getitem__',\n",
       " '__getnewargs__',\n",
       " '__getstate__',\n",
       " '__gt__',\n",
       " '__hash__',\n",
       " '__init__',\n",
       " '__init_subclass__',\n",
       " '__iter__',\n",
       " '__le__',\n",
       " '__len__',\n",
       " '__lt__',\n",
       " '__mod__',\n",
       " '__mul__',\n",
       " '__ne__',\n",
       " '__new__',\n",
       " '__reduce__',\n",
       " '__reduce_ex__',\n",
       " '__repr__',\n",
       " '__rmod__',\n",
       " '__rmul__',\n",
       " '__setattr__',\n",
       " '__sizeof__',\n",
       " '__str__',\n",
       " '__subclasshook__',\n",
       " 'capitalize',\n",
       " 'casefold',\n",
       " 'center',\n",
       " 'count',\n",
       " 'encode',\n",
       " 'endswith',\n",
       " 'expandtabs',\n",
       " 'find',\n",
       " 'format',\n",
       " 'format_map',\n",
       " 'index',\n",
       " 'isalnum',\n",
       " 'isalpha',\n",
       " 'isascii',\n",
       " 'isdecimal',\n",
       " 'isdigit',\n",
       " 'isidentifier',\n",
       " 'islower',\n",
       " 'isnumeric',\n",
       " 'isprintable',\n",
       " 'isspace',\n",
       " 'istitle',\n",
       " 'isupper',\n",
       " 'join',\n",
       " 'ljust',\n",
       " 'lower',\n",
       " 'lstrip',\n",
       " 'maketrans',\n",
       " 'partition',\n",
       " 'removeprefix',\n",
       " 'removesuffix',\n",
       " 'replace',\n",
       " 'rfind',\n",
       " 'rindex',\n",
       " 'rjust',\n",
       " 'rpartition',\n",
       " 'rsplit',\n",
       " 'rstrip',\n",
       " 'split',\n",
       " 'splitlines',\n",
       " 'startswith',\n",
       " 'strip',\n",
       " 'swapcase',\n",
       " 'title',\n",
       " 'translate',\n",
       " 'upper',\n",
       " 'zfill']"
      ]
     },
     "execution_count": 25,
     "metadata": {},
     "output_type": "execute_result"
    }
   ],
   "source": [
    "dir(str)"
   ]
  },
  {
   "cell_type": "code",
   "execution_count": 26,
   "id": "70f4cbbb-8fcd-43b6-8526-0866e9b1e88e",
   "metadata": {},
   "outputs": [
    {
     "name": "stdout",
     "output_type": "stream",
     "text": [
      "Hello world\n"
     ]
    }
   ],
   "source": [
    "#capitalize()\n",
    "\n",
    "#Converts the first character of the string to uppercase and the rest to lowercase.\n",
    "\n",
    "s = \"hello world\"\n",
    "print(s.capitalize())  # Output: \"Hello world\""
   ]
  },
  {
   "cell_type": "code",
   "execution_count": 27,
   "id": "55a13902-da5f-46fe-86e7-71679c1bd068",
   "metadata": {},
   "outputs": [
    {
     "name": "stdout",
     "output_type": "stream",
     "text": [
      "hello world\n"
     ]
    }
   ],
   "source": [
    "#casefold()\n",
    "\n",
    "#Similar to lower(), but more aggressive; removes all case distinctions.\n",
    "\n",
    "    \n",
    "s = \"HELLO World\"\n",
    "print(s.casefold())  # Output: \"hello world\""
   ]
  },
  {
   "cell_type": "code",
   "execution_count": 33,
   "id": "550d318a-52fd-4ac7-8b59-d6c24be252e4",
   "metadata": {},
   "outputs": [
    {
     "name": "stdout",
     "output_type": "stream",
     "text": [
      "-----------------------------------------------hello------------------------------------------------\n"
     ]
    }
   ],
   "source": [
    "#center(width[, fillchar])\n",
    "\n",
    "#Returns a centered string of specified width with optional fill character.\n",
    "\n",
    "s = \"hello\"\n",
    "print(s.center(100, '-'))  # Output: \"--hello---\""
   ]
  },
  {
   "cell_type": "code",
   "execution_count": 34,
   "id": "2278cf10-e399-4f14-a735-56e7a9940ea2",
   "metadata": {},
   "outputs": [
    {
     "name": "stdout",
     "output_type": "stream",
     "text": [
      "6\n"
     ]
    }
   ],
   "source": [
    "#count(sub[, start[, end]])\n",
    "\n",
    "#Returns the number of occurrences of substring sub in the string.\n",
    "\n",
    "s = \"hello hello hello\"\n",
    "print(s.count('l'))  # Output: 3"
   ]
  },
  {
   "cell_type": "code",
   "execution_count": 35,
   "id": "ce7efd0f-1d66-4209-93af-5464c2392a60",
   "metadata": {},
   "outputs": [
    {
     "name": "stdout",
     "output_type": "stream",
     "text": [
      "b'hello'\n"
     ]
    }
   ],
   "source": [
    "#encode(encoding=\"utf-8\", errors=\"strict\")\n",
    "\n",
    "#Returns the encoded version of the string as bytes object.\n",
    "\n",
    "s = \"hello\"\n",
    "encoded = s.encode('utf-8')\n",
    "print(encoded)  # Output: b'hello'"
   ]
  },
  {
   "cell_type": "code",
   "execution_count": 39,
   "id": "f3cffa9d-0e13-491d-8f4f-c73d8c0c4d5e",
   "metadata": {},
   "outputs": [
    {
     "name": "stdout",
     "output_type": "stream",
     "text": [
      "True\n"
     ]
    }
   ],
   "source": [
    "#endswith(suffix[, start[, end]])\n",
    "\n",
    "#Checks if the string ends with the specified suffix.\n",
    "\n",
    "s = \"hello world\"\n",
    "print(s.endswith(\"d\"))  # Output: True"
   ]
  },
  {
   "cell_type": "code",
   "execution_count": 40,
   "id": "61154374-a3cb-4675-812a-579794916c1b",
   "metadata": {},
   "outputs": [
    {
     "name": "stdout",
     "output_type": "stream",
     "text": [
      "hello   world\n"
     ]
    }
   ],
   "source": [
    "#expandtabs(tabsize=8)\n",
    "\n",
    "#Expands tabs in the string to multiple spaces.\n",
    "\n",
    "s = \"hello\\tworld\"\n",
    "print(s.expandtabs())  # Output: \"hello   world\""
   ]
  },
  {
   "cell_type": "code",
   "execution_count": 43,
   "id": "9caf01fe-8d0e-4c2b-b7b2-2b67235b9038",
   "metadata": {},
   "outputs": [],
   "source": [
    "a = \"pyt\\thon\""
   ]
  },
  {
   "cell_type": "code",
   "execution_count": 44,
   "id": "484b2512-4c06-400c-81a9-1413df226dd8",
   "metadata": {},
   "outputs": [
    {
     "data": {
      "text/plain": [
       "'pyt     hon'"
      ]
     },
     "execution_count": 44,
     "metadata": {},
     "output_type": "execute_result"
    }
   ],
   "source": [
    "a.expandtabs()"
   ]
  },
  {
   "cell_type": "code",
   "execution_count": 46,
   "id": "f8ee9ee6-2653-4f54-a048-a9740595fcdf",
   "metadata": {},
   "outputs": [
    {
     "name": "stdout",
     "output_type": "stream",
     "text": [
      "9\n"
     ]
    }
   ],
   "source": [
    "#find(sub[, start[, end]])\n",
    "\n",
    "#Returns the lowest index in the string where substring sub is found, or -1 if not found.\n",
    "\n",
    "s = \"hello world\"\n",
    "\n",
    "print(s.find('ld'))  # Output: 6"
   ]
  },
  {
   "cell_type": "code",
   "execution_count": 47,
   "id": "3a53349b-9044-462e-a695-15c070f88960",
   "metadata": {},
   "outputs": [
    {
     "name": "stdout",
     "output_type": "stream",
     "text": [
      "My name is Alice and I am 30 years old.\n"
     ]
    }
   ],
   "source": [
    "#format(*args, **kwargs)\n",
    "\n",
    "#Formats the string into a nicer output, replacing {} placeholders with arguments.\n",
    "\n",
    "name = \"Alice\"\n",
    "age = 30\n",
    "\n",
    "print(\"My name is {} and I am {} years old.\".format(name, age))\n",
    "# Output: \"My name is Alice and I am 30 years old.\""
   ]
  },
  {
   "cell_type": "code",
   "execution_count": 52,
   "id": "2ac43f2a-0f3c-4417-a36a-66d48775cd26",
   "metadata": {},
   "outputs": [
    {
     "name": "stdout",
     "output_type": "stream",
     "text": [
      "My name is Bob and I am 25 years old 9.\n"
     ]
    }
   ],
   "source": [
    "#format_map(mapping)\n",
    "\n",
    "#Similar to format(), but accepts a mapping (dictionary) instead of individual arguments.\n",
    "\n",
    "person = {'name': 'Bob', 'age': 25, 'exp' : 9}\n",
    "print(\"My name is {name} and I am {age} years old {exp}.\".format_map(person))\n",
    "# Output: \"My name is Bob and I am 25 years old.\""
   ]
  },
  {
   "cell_type": "code",
   "execution_count": 53,
   "id": "e5d23d90-87cc-49df-b404-0e9cec83c58d",
   "metadata": {},
   "outputs": [
    {
     "name": "stdout",
     "output_type": "stream",
     "text": [
      "8\n"
     ]
    }
   ],
   "source": [
    "#index(sub[, start[, end]])\n",
    "\n",
    "#Like find(), but raises ValueError if sub is not found.\n",
    "\n",
    "s = \"hello world\"\n",
    "print(s.index('r'))  # Output: 6"
   ]
  },
  {
   "cell_type": "code",
   "execution_count": 54,
   "id": "bfa81dbe-7a35-4c3d-813e-b983bc32c804",
   "metadata": {},
   "outputs": [
    {
     "name": "stdout",
     "output_type": "stream",
     "text": [
      "True\n"
     ]
    }
   ],
   "source": [
    "#isalnum()\n",
    "\n",
    "#Checks if all characters in the string are alphanumeric.\n",
    "\n",
    "s = \"hello123\"\n",
    "print(s.isalnum())  # Output: True"
   ]
  },
  {
   "cell_type": "code",
   "execution_count": 57,
   "id": "0d048f7b-f76e-40ab-b3f3-4fdd283a7268",
   "metadata": {},
   "outputs": [
    {
     "name": "stdout",
     "output_type": "stream",
     "text": [
      "False\n"
     ]
    }
   ],
   "source": [
    "#isalpha()\n",
    "\n",
    "#Checks if all characters in the string are alphabetic.\n",
    "\n",
    "s = \"hello4\"\n",
    "print(s.isalpha())  # Output: True"
   ]
  },
  {
   "cell_type": "code",
   "execution_count": 58,
   "id": "2a72b8b8-27dc-4a36-90fd-1f498ccf2019",
   "metadata": {},
   "outputs": [
    {
     "name": "stdout",
     "output_type": "stream",
     "text": [
      "True\n"
     ]
    }
   ],
   "source": [
    "#isascii()\n",
    "\n",
    "#Checks if the string is empty or contains only ASCII characters.\n",
    "\n",
    "s = \"hello\"\n",
    "print(s.isascii())  # Output: True"
   ]
  },
  {
   "cell_type": "code",
   "execution_count": 61,
   "id": "f8f39304-1230-4a53-8106-0e3a09d3577b",
   "metadata": {},
   "outputs": [
    {
     "name": "stdout",
     "output_type": "stream",
     "text": [
      "True\n"
     ]
    }
   ],
   "source": [
    "#isdecimal()\n",
    "\n",
    "#Checks if all characters in the string are decimal (0-9).\n",
    "\n",
    "s = \"6\"\n",
    "print(s.isdecimal())  # Output: True"
   ]
  },
  {
   "cell_type": "code",
   "execution_count": 62,
   "id": "2c8f4990-8828-474f-adc4-b0af1ef45f75",
   "metadata": {},
   "outputs": [
    {
     "name": "stdout",
     "output_type": "stream",
     "text": [
      "False\n"
     ]
    }
   ],
   "source": [
    "#isdigit()\n",
    "\n",
    "#Checks if all characters in the string are digits.\n",
    "\n",
    "s = \"12345.9\"\n",
    "print(s.isdigit())  # Output: True"
   ]
  },
  {
   "cell_type": "code",
   "execution_count": 63,
   "id": "b3fdd398-98bb-4b29-9094-52f69c9aec92",
   "metadata": {},
   "outputs": [
    {
     "name": "stdout",
     "output_type": "stream",
     "text": [
      "True\n"
     ]
    }
   ],
   "source": [
    "#isidentifier()\n",
    "\n",
    "#Checks if the string is a valid Python identifier.\n",
    "\n",
    "s = \"hello\"\n",
    "print(s.isidentifier())  # Output: True"
   ]
  },
  {
   "cell_type": "code",
   "execution_count": 64,
   "id": "4675f1b0-ef85-430a-b5ab-913f52b8b151",
   "metadata": {},
   "outputs": [
    {
     "name": "stdout",
     "output_type": "stream",
     "text": [
      "False\n"
     ]
    }
   ],
   "source": [
    "#islower()\n",
    "\n",
    "#Checks if all characters in the string are lowercase.\n",
    "\n",
    "s = \"heLlo\"\n",
    "print(s.islower())  # Output: True"
   ]
  },
  {
   "cell_type": "code",
   "execution_count": 66,
   "id": "304b4917-84ea-4096-8db3-11a9be037009",
   "metadata": {},
   "outputs": [
    {
     "name": "stdout",
     "output_type": "stream",
     "text": [
      "True\n"
     ]
    }
   ],
   "source": [
    "#isnumeric()\n",
    "\n",
    "#Checks if all characters in the string are numeric.\n",
    "\n",
    "s = \"12345\"\n",
    "print(s.isnumeric())  # Output: True"
   ]
  },
  {
   "cell_type": "code",
   "execution_count": 70,
   "id": "0a48df0b-6447-4651-8430-f394b24e7208",
   "metadata": {},
   "outputs": [
    {
     "name": "stdout",
     "output_type": "stream",
     "text": [
      "False\n"
     ]
    }
   ],
   "source": [
    "#isprintable()\n",
    "\n",
    "#Checks if all characters in the string are printable.\n",
    "\n",
    "s = \"hello\\tworld\"\n",
    "print(s.isprintable())  # Output: False"
   ]
  },
  {
   "cell_type": "code",
   "execution_count": 72,
   "id": "f449b212-98b5-4819-83ff-ce331b55fcee",
   "metadata": {},
   "outputs": [
    {
     "name": "stdout",
     "output_type": "stream",
     "text": [
      "False\n"
     ]
    }
   ],
   "source": [
    "#isspace()\n",
    "\n",
    "#Checks if all characters in the string are whitespace.\n",
    "\n",
    "s = \" r  \"\n",
    "print(s.isspace())  # Output: True"
   ]
  },
  {
   "cell_type": "code",
   "execution_count": 75,
   "id": "fa077570-c190-49d1-a335-8607d481d5ed",
   "metadata": {},
   "outputs": [
    {
     "name": "stdout",
     "output_type": "stream",
     "text": [
      "True\n"
     ]
    }
   ],
   "source": [
    "#istitle()\n",
    "\n",
    "#Checks if the string is titlecased (first character of each word is uppercase, others are lowercase).\n",
    "\n",
    "s = \"Hello World\"\n",
    "print(s.istitle())  # Output: True"
   ]
  },
  {
   "cell_type": "code",
   "execution_count": 76,
   "id": "8be08cba-592a-4619-abeb-1cb9d7ae5d19",
   "metadata": {},
   "outputs": [
    {
     "name": "stdout",
     "output_type": "stream",
     "text": [
      "False\n"
     ]
    }
   ],
   "source": [
    "#isupper()\n",
    "\n",
    "#Checks if all characters in the string are uppercase.\n",
    "\n",
    "s = \"HELlO\"\n",
    "print(s.isupper())  # Output: True"
   ]
  },
  {
   "cell_type": "code",
   "execution_count": null,
   "id": "6a4d497a-31da-4d93-8144-9abd5d8ea697",
   "metadata": {},
   "outputs": [],
   "source": [
    "#join(iterable)\n",
    "\n",
    "#Joins elements of iterable (like a list) into a single string with self as separator.\n",
    "\n",
    "words = ['hello', 'world', \"py\"]\n",
    "print(','.join(words))  # Output: \"hello-world\""
   ]
  }
 ],
 "metadata": {
  "kernelspec": {
   "display_name": "Python 3 (ipykernel)",
   "language": "python",
   "name": "python3"
  },
  "language_info": {
   "codemirror_mode": {
    "name": "ipython",
    "version": 3
   },
   "file_extension": ".py",
   "mimetype": "text/x-python",
   "name": "python",
   "nbconvert_exporter": "python",
   "pygments_lexer": "ipython3",
   "version": "3.11.7"
  }
 },
 "nbformat": 4,
 "nbformat_minor": 5
}
