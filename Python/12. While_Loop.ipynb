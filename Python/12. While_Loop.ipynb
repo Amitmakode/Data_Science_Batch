{
 "cells": [
  {
   "cell_type": "code",
   "execution_count": 1,
   "id": "2a7135fa-9333-4557-ba34-3948841b51b8",
   "metadata": {},
   "outputs": [
    {
     "data": {
      "text/plain": [
       "5"
      ]
     },
     "execution_count": 1,
     "metadata": {},
     "output_type": "execute_result"
    }
   ],
   "source": [
    "my_number_list = range(3,8)\n",
    "my_number_list\n",
    "len(my_number_list)"
   ]
  },
  {
   "cell_type": "code",
   "execution_count": 2,
   "id": "9ca2c6f9-43e0-4106-afea-a62a067fe11a",
   "metadata": {},
   "outputs": [
    {
     "name": "stdout",
     "output_type": "stream",
     "text": [
      "5\n",
      "6\n",
      "7\n",
      "8\n",
      "9\n"
     ]
    }
   ],
   "source": [
    "n = 5\n",
    "\n",
    "while n < 10:\n",
    "    print(n)\n",
    "    n+=1"
   ]
  },
  {
   "cell_type": "code",
   "execution_count": 3,
   "id": "03f9ed3f-9b09-499a-b819-eb7973553bad",
   "metadata": {},
   "outputs": [
    {
     "name": "stdout",
     "output_type": "stream",
     "text": [
      "0 3\n",
      "1 4\n",
      "2 5\n",
      "3 6\n",
      "4 7\n",
      "Length of list  5\n"
     ]
    }
   ],
   "source": [
    "i = 0\n",
    "\n",
    "while i < len(my_number_list):\n",
    "    print( i, my_number_list[i])\n",
    "    i = i+1\n",
    "    \n",
    "print(\"Length of list \", len(my_number_list))    "
   ]
  },
  {
   "cell_type": "code",
   "execution_count": 4,
   "id": "6b7b263c-ec12-4e67-9ad8-596e5d18c8d6",
   "metadata": {},
   "outputs": [
    {
     "name": "stdout",
     "output_type": "stream",
     "text": [
      "0\n",
      "1\n",
      "2\n"
     ]
    }
   ],
   "source": [
    "i = 0\n",
    "while i < 3:\n",
    "    print(i)\n",
    "    i+=1"
   ]
  },
  {
   "cell_type": "code",
   "execution_count": 5,
   "id": "1140000f-4ef5-466d-9a31-2ecdb773fcec",
   "metadata": {},
   "outputs": [
    {
     "name": "stdin",
     "output_type": "stream",
     "text": [
      "Enter the name :  rahul\n"
     ]
    },
    {
     "name": "stdout",
     "output_type": "stream",
     "text": [
      "\n",
      "You entered  rahul\n"
     ]
    },
    {
     "name": "stdin",
     "output_type": "stream",
     "text": [
      "Enter the name :  vijay\n"
     ]
    },
    {
     "name": "stdout",
     "output_type": "stream",
     "text": [
      "\n",
      "You entered  vijay\n"
     ]
    },
    {
     "name": "stdin",
     "output_type": "stream",
     "text": [
      "Enter the name :  aarti\n"
     ]
    },
    {
     "name": "stdout",
     "output_type": "stream",
     "text": [
      "\n",
      "You entered  aarti\n"
     ]
    }
   ],
   "source": [
    "count = 3\n",
    "\n",
    "for i in range(count):\n",
    "    name = input(\"Enter the name : \")\n",
    "    print()\n",
    "    print('You entered ', name)"
   ]
  },
  {
   "cell_type": "code",
   "execution_count": 6,
   "id": "e4f13299-b527-41e1-bf40-bf42441a5830",
   "metadata": {},
   "outputs": [
    {
     "name": "stdin",
     "output_type": "stream",
     "text": [
      "Enter the name (use 'Quit' to stop : quit\n"
     ]
    },
    {
     "name": "stdout",
     "output_type": "stream",
     "text": [
      "You entered  quit\n"
     ]
    },
    {
     "name": "stdin",
     "output_type": "stream",
     "text": [
      "Enter the name (use 'Quit' to stop : pass\n"
     ]
    },
    {
     "name": "stdout",
     "output_type": "stream",
     "text": [
      "You entered  pass\n"
     ]
    },
    {
     "name": "stdin",
     "output_type": "stream",
     "text": [
      "Enter the name (use 'Quit' to stop : stop\n"
     ]
    },
    {
     "name": "stdout",
     "output_type": "stream",
     "text": [
      "You entered  stop\n"
     ]
    },
    {
     "name": "stdin",
     "output_type": "stream",
     "text": [
      "Enter the name (use 'Quit' to stop : Quit\n"
     ]
    }
   ],
   "source": [
    "name = \"\"\n",
    "\n",
    "while name != \"Quit\":\n",
    "    name = input(\"Enter the name (use 'Quit' to stop :\")\n",
    "    if name != \"Quit\":\n",
    "        print('You entered ', name) "
   ]
  },
  {
   "cell_type": "code",
   "execution_count": 7,
   "id": "02b0966b-dc3f-4bc5-b334-88c528e061b8",
   "metadata": {},
   "outputs": [
    {
     "name": "stdout",
     "output_type": "stream",
     "text": [
      "1\n",
      "2\n",
      "3\n",
      "4\n",
      "4\n",
      "5\n",
      "5\n",
      "6\n",
      "6\n",
      "7\n"
     ]
    }
   ],
   "source": [
    "# Example\n",
    "i = 0           #iteration variable initialized\n",
    "\n",
    "while i < 7:    # condition is evaluated \n",
    "    if i > 3 :   \n",
    "        print(i)    # block statements are executed until the condition is true and iteration variable is less that 3\n",
    "    i = i + 1\n",
    "    print(i)"
   ]
  },
  {
   "cell_type": "code",
   "execution_count": 8,
   "id": "848004c3-6f85-46b1-86bd-4e72b3bfa4d0",
   "metadata": {},
   "outputs": [
    {
     "name": "stdout",
     "output_type": "stream",
     "text": [
      "1\n",
      "2\n",
      "3\n",
      "4\n"
     ]
    }
   ],
   "source": [
    "# Example\n",
    "i = 0           #iteration variable initialized\n",
    "while i < 7:    # condition is evaluated \n",
    "    if i > 3 :   \n",
    "        break   # no more further execution of the loop, once i is greater than 4 \n",
    "        print(i)    # block statements are executed until the condition is true and iteration variable is less that 3\n",
    "    i = i + 1\n",
    "    print(i)"
   ]
  },
  {
   "cell_type": "code",
   "execution_count": 9,
   "id": "c3181114-42ab-47fe-93a1-f832b33d49d6",
   "metadata": {},
   "outputs": [
    {
     "name": "stdout",
     "output_type": "stream",
     "text": [
      "1\n",
      "2\n",
      "3\n",
      "4\n",
      "4\n",
      "5\n",
      "5\n",
      "6\n",
      "6\n",
      "7\n"
     ]
    }
   ],
   "source": [
    "# Example\n",
    "i = 0           #iteration variable initialized\n",
    "while i < 7:    # condition is evaluated \n",
    "    if i > 3 :   \n",
    "        pass  # no more further execution of the loop, once i is greater than 4 \n",
    "        print(i)    # block statements are executed until the condition is true and iteration variable is less that 3\n",
    "    i = i + 1\n",
    "    print(i)"
   ]
  },
  {
   "cell_type": "code",
   "execution_count": 10,
   "id": "81c8f978-b8c4-4255-ac0b-337df4f5f467",
   "metadata": {},
   "outputs": [
    {
     "name": "stdout",
     "output_type": "stream",
     "text": [
      "1\n",
      "2\n",
      "3\n",
      "4\n"
     ]
    },
    {
     "ename": "KeyboardInterrupt",
     "evalue": "",
     "output_type": "error",
     "traceback": [
      "\u001b[1;31m---------------------------------------------------------------------------\u001b[0m",
      "\u001b[1;31mKeyboardInterrupt\u001b[0m                         Traceback (most recent call last)",
      "Cell \u001b[1;32mIn[10], line 5\u001b[0m\n\u001b[0;32m      3\u001b[0m \u001b[38;5;28;01mwhile\u001b[39;00m i \u001b[38;5;241m<\u001b[39m \u001b[38;5;241m7\u001b[39m:    \u001b[38;5;66;03m# condition is evaluated \u001b[39;00m\n\u001b[0;32m      4\u001b[0m     \u001b[38;5;28;01mif\u001b[39;00m i \u001b[38;5;241m>\u001b[39m \u001b[38;5;241m3\u001b[39m :   \n\u001b[1;32m----> 5\u001b[0m         \u001b[38;5;28;01mcontinue\u001b[39;00m   \u001b[38;5;66;03m# no more further execution of the loop, once i is greater than 4 \u001b[39;00m\n\u001b[0;32m      6\u001b[0m         \u001b[38;5;28mprint\u001b[39m(i)    \u001b[38;5;66;03m# block statements are executed until the condition is true and iteration variable is less that 3\u001b[39;00m\n\u001b[0;32m      7\u001b[0m     i \u001b[38;5;241m=\u001b[39m i \u001b[38;5;241m+\u001b[39m \u001b[38;5;241m1\u001b[39m\n",
      "\u001b[1;31mKeyboardInterrupt\u001b[0m: "
     ]
    }
   ],
   "source": [
    "# Example\n",
    "i = 0           #iteration variable initialized\n",
    "while i < 7:    # condition is evaluated \n",
    "    if i > 3 :   \n",
    "        continue   # no more further execution of the loop, once i is greater than 4 \n",
    "        print(i)    # block statements are executed until the condition is true and iteration variable is less that 3\n",
    "    i = i + 1\n",
    "    print(i)"
   ]
  },
  {
   "cell_type": "code",
   "execution_count": 12,
   "id": "386d031a-98fa-4ed6-a541-4abcc5eb0e8a",
   "metadata": {},
   "outputs": [
    {
     "name": "stdin",
     "output_type": "stream",
     "text": [
      "Enter the stmt (Use 'Quit' to stop ) quit\n"
     ]
    },
    {
     "name": "stdout",
     "output_type": "stream",
     "text": [
      "quit\n"
     ]
    },
    {
     "name": "stdin",
     "output_type": "stream",
     "text": [
      "Enter the stmt (Use 'Quit' to stop ) #quit\n",
      "Enter the stmt (Use 'Quit' to stop ) #QUit\n",
      "Enter the stmt (Use 'Quit' to stop ) Quit\n"
     ]
    },
    {
     "name": "stdout",
     "output_type": "stream",
     "text": [
      "Quit\n"
     ]
    }
   ],
   "source": [
    "stmt = \"\"\n",
    "\n",
    "while stmt != 'Quit':\n",
    "    stmt = input(\"Enter the stmt (Use 'Quit' to stop )\")\n",
    "    if stmt.startswith(\"#\") :\n",
    "        continue\n",
    "    if len(stmt) > 0 :\n",
    "        print(stmt)"
   ]
  },
  {
   "cell_type": "code",
   "execution_count": 13,
   "id": "7a0026af-b5e7-4dff-a3c9-55b6f4f34df6",
   "metadata": {},
   "outputs": [
    {
     "name": "stdout",
     "output_type": "stream",
     "text": [
      "Hello 1\n",
      "Hello 2\n",
      "Hello 3\n",
      "Hello 4\n",
      "Hello 5\n"
     ]
    }
   ],
   "source": [
    "#Example : print Hello five times\n",
    "for i in range(5):\n",
    "    print(\"Hello\", i+1)"
   ]
  },
  {
   "cell_type": "code",
   "execution_count": 14,
   "id": "b554c34d-459d-4cbb-b370-f40102acf7c7",
   "metadata": {},
   "outputs": [
    {
     "name": "stdin",
     "output_type": "stream",
     "text": [
      "Enter the number 22\n"
     ]
    },
    {
     "name": "stdout",
     "output_type": "stream",
     "text": [
      "the cube is  10648\n"
     ]
    },
    {
     "name": "stdin",
     "output_type": "stream",
     "text": [
      "Enter the number 3\n"
     ]
    },
    {
     "name": "stdout",
     "output_type": "stream",
     "text": [
      "the cube is  27\n"
     ]
    },
    {
     "name": "stdin",
     "output_type": "stream",
     "text": [
      "Enter the number 5\n"
     ]
    },
    {
     "name": "stdout",
     "output_type": "stream",
     "text": [
      "the cube is  125\n"
     ]
    }
   ],
   "source": [
    "for i in range(3):\n",
    "    number = int(input(\"Enter the number\"))\n",
    "    print(\"the cube is \" , number*number*number )"
   ]
  },
  {
   "cell_type": "code",
   "execution_count": 15,
   "id": "a3eeb179-b415-41b8-8c29-efa215bd8d91",
   "metadata": {},
   "outputs": [
    {
     "name": "stdout",
     "output_type": "stream",
     "text": [
      "(i)   0 (number)  1\n",
      "(i)   1 (number)  2\n",
      "(i)   2 (number)  3\n",
      "(i)   3 (number)  4\n",
      "(i)   4 (number)  5\n"
     ]
    }
   ],
   "source": [
    "for i in range(5):\n",
    "    print(\"(i)  \", i, \"(number) \" , i+1)"
   ]
  },
  {
   "cell_type": "code",
   "execution_count": 16,
   "id": "7d9262cd-50c5-49be-9836-ede5de38637b",
   "metadata": {},
   "outputs": [
    {
     "name": "stdout",
     "output_type": "stream",
     "text": [
      "99\n",
      "94\n",
      "89\n",
      "84\n",
      "79\n",
      "74\n",
      "69\n",
      "64\n",
      "59\n",
      "54\n"
     ]
    }
   ],
   "source": [
    "for i in range(99, 50, -5):\n",
    "    print(i)"
   ]
  },
  {
   "cell_type": "code",
   "execution_count": 21,
   "id": "eb318f97-328a-4671-856b-a3bc76151d87",
   "metadata": {},
   "outputs": [
    {
     "name": "stdout",
     "output_type": "stream",
     "text": [
      "index :  0    value :  0\n",
      "index :  1    value :  1\n",
      "index :  2    value :  6\n",
      "index :  3    value :  9\n",
      "index :  4    value :  12\n"
     ]
    }
   ],
   "source": [
    "squares = [0, 1, 6, 9, 12]\n",
    "\n",
    "for i, j in enumerate(squares):\n",
    "    print(\"index : \", i, \"  \", \"value : \" , j)"
   ]
  },
  {
   "cell_type": "code",
   "execution_count": 22,
   "id": "9c4c8c15-2aa7-4559-942d-8a4a4532e13a",
   "metadata": {},
   "outputs": [
    {
     "name": "stdout",
     "output_type": "stream",
     "text": [
      "index :  0    value :  0\n",
      "index :  1    value :  1\n",
      "index :  2    value :  40\n",
      "index :  3    value :  90\n",
      "index :  4    value :  16\n",
      "index :  5    value :  20\n"
     ]
    }
   ],
   "source": [
    "squares = [0, 1, 40, 90, 16, 20]\n",
    "\n",
    "for i, j in enumerate(squares):\n",
    "    print(\"index : \", i, \"  \", \"value : \" , j)"
   ]
  },
  {
   "cell_type": "code",
   "execution_count": 23,
   "id": "8c22411e-789c-4e40-8e67-2ab9e0b18976",
   "metadata": {},
   "outputs": [
    {
     "name": "stdout",
     "output_type": "stream",
     "text": [
      "0 - 0\n",
      "1 - 1\n",
      "2 - 2\n",
      "3 - 3\n",
      "4 - 4\n",
      "5 - 5\n",
      "6 - 6\n",
      "7 - 7\n",
      "8 - 8\n",
      "9 - 9\n"
     ]
    }
   ],
   "source": [
    "for i, j in enumerate(range(10)):\n",
    "    print(i, \"-\", j)"
   ]
  },
  {
   "cell_type": "code",
   "execution_count": 24,
   "id": "7dc009f4-08e1-4a66-8b2d-8ecefd4c118b",
   "metadata": {},
   "outputs": [
    {
     "name": "stdout",
     "output_type": "stream",
     "text": [
      "0 J\n",
      "1 a\n",
      "2 s\n",
      "3 m\n",
      "4 i\n",
      "5 n\n",
      "6  \n",
      "7 s\n",
      "8 h\n",
      "9 e\n",
      "10 i\n",
      "11 k\n",
      "12 h\n"
     ]
    }
   ],
   "source": [
    "s = \"Jasmin sheikh\"\n",
    "for i in range(len(s)) : \n",
    "    print(i , s[i])"
   ]
  },
  {
   "cell_type": "code",
   "execution_count": 25,
   "id": "1b079ab3-f0d4-4aa6-9b71-f121cc904a8c",
   "metadata": {},
   "outputs": [
    {
     "name": "stdout",
     "output_type": "stream",
     "text": [
      "5 n\n",
      "4 i\n",
      "3 m\n",
      "2 s\n",
      "1 a\n",
      "0 J\n"
     ]
    }
   ],
   "source": [
    "S = \"Jasmin\"\n",
    "for i in range(len(S)-1 , -1, -1):\n",
    "    print(i , S[i])"
   ]
  },
  {
   "cell_type": "code",
   "execution_count": 26,
   "id": "3afe97c3-e4b0-4118-9187-ff565b05596e",
   "metadata": {},
   "outputs": [],
   "source": [
    "d = {1: \"Nikita\", 2: \"mayuri\", 3:\"jasmin\", 4:\"aarti\", 5:\"pratiksha\"}"
   ]
  },
  {
   "cell_type": "code",
   "execution_count": 27,
   "id": "de13dbe0-289f-4ad9-a2bd-75f47c8dceea",
   "metadata": {},
   "outputs": [
    {
     "name": "stdout",
     "output_type": "stream",
     "text": [
      "(1, 'Nikita') <class 'tuple'> <class 'int'>\n",
      "(2, 'mayuri') <class 'tuple'> <class 'int'>\n",
      "(3, 'jasmin') <class 'tuple'> <class 'int'>\n",
      "(4, 'aarti') <class 'tuple'> <class 'int'>\n",
      "(5, 'pratiksha') <class 'tuple'> <class 'int'>\n"
     ]
    }
   ],
   "source": [
    "for i in d.items():\n",
    "    print(i , type(i) , type(i[0]))"
   ]
  },
  {
   "cell_type": "code",
   "execution_count": 28,
   "id": "3abc7151-fb69-40d0-be3b-e7ee1184aa0e",
   "metadata": {},
   "outputs": [
    {
     "name": "stdout",
     "output_type": "stream",
     "text": [
      "0\n",
      "0\n",
      "1\n",
      "0\n",
      "1\n",
      "2\n"
     ]
    }
   ],
   "source": [
    "i= 0\n",
    "while i <  4:\n",
    "    for j in range(i):\n",
    "        print(j)\n",
    "    i+=1 "
   ]
  },
  {
   "cell_type": "code",
   "execution_count": 32,
   "id": "9c97380a-7a5a-4280-a9af-9eaaef05f2b9",
   "metadata": {},
   "outputs": [
    {
     "data": {
      "text/plain": [
       "[0, 1, 2]"
      ]
     },
     "execution_count": 32,
     "metadata": {},
     "output_type": "execute_result"
    }
   ],
   "source": [
    "list(range(3))"
   ]
  },
  {
   "cell_type": "code",
   "execution_count": 33,
   "id": "5f0a7867-b4ac-4054-a32a-896f212c9176",
   "metadata": {},
   "outputs": [],
   "source": [
    "d = { 1:[1,(1,2)], 2:(1,[1,5,3]), 3:[1,{4:(5,6)}]}"
   ]
  },
  {
   "cell_type": "code",
   "execution_count": 34,
   "id": "76e70027-e69d-4379-b950-7c519df92159",
   "metadata": {},
   "outputs": [
    {
     "name": "stdout",
     "output_type": "stream",
     "text": [
      "(1, [1, (1, 2)])   <class 'tuple'> <class 'int'>\n",
      "(2, (1, [1, 5, 3]))   <class 'tuple'> <class 'int'>\n",
      "(3, [1, {4: (5, 6)}])   <class 'tuple'> <class 'int'>\n"
     ]
    }
   ],
   "source": [
    "for i in d.items():\n",
    "    print(i, \" \", type(i), type(i[0])) "
   ]
  },
  {
   "cell_type": "code",
   "execution_count": 35,
   "id": "fa75c888-00ee-4970-8273-c9ceda73ad49",
   "metadata": {},
   "outputs": [
    {
     "name": "stdout",
     "output_type": "stream",
     "text": [
      "(1, [1, (1, 2)])   <class 'tuple'> <class 'list'>\n",
      "(2, (1, [1, 5, 3]))   <class 'tuple'> <class 'tuple'>\n",
      "(3, [1, {4: (5, 6)}])   <class 'tuple'> <class 'list'>\n"
     ]
    }
   ],
   "source": [
    "for i in d.items():\n",
    "    print(i, \" \", type(i), type(i[1])) "
   ]
  },
  {
   "cell_type": "code",
   "execution_count": 36,
   "id": "bd117946-0854-4ae2-9fc3-0f3f68b45727",
   "metadata": {},
   "outputs": [
    {
     "ename": "IndexError",
     "evalue": "tuple index out of range",
     "output_type": "error",
     "traceback": [
      "\u001b[1;31m---------------------------------------------------------------------------\u001b[0m",
      "\u001b[1;31mIndexError\u001b[0m                                Traceback (most recent call last)",
      "Cell \u001b[1;32mIn[36], line 2\u001b[0m\n\u001b[0;32m      1\u001b[0m \u001b[38;5;28;01mfor\u001b[39;00m i \u001b[38;5;129;01min\u001b[39;00m d\u001b[38;5;241m.\u001b[39mitems():\n\u001b[1;32m----> 2\u001b[0m     \u001b[38;5;28mprint\u001b[39m(i, \u001b[38;5;124m\"\u001b[39m\u001b[38;5;124m \u001b[39m\u001b[38;5;124m\"\u001b[39m, \u001b[38;5;28mtype\u001b[39m(i), \u001b[38;5;28mtype\u001b[39m(i[\u001b[38;5;241m2\u001b[39m]))\n",
      "\u001b[1;31mIndexError\u001b[0m: tuple index out of range"
     ]
    }
   ],
   "source": [
    "for i in d.items():\n",
    "    print(i, \" \", type(i), type(i[2])) "
   ]
  },
  {
   "cell_type": "code",
   "execution_count": 40,
   "id": "0393df05-e318-4083-9b7e-05ca2370ec06",
   "metadata": {},
   "outputs": [],
   "source": [
    "d4 = {1: ([[\"a\",\"b\"],1,2],\"Nikita\",\"mayuri\"), 2: ([[2,\"b\"],\"k1\",2000, 8, 55],\"mayuri\",\"nikita\")}"
   ]
  },
  {
   "cell_type": "code",
   "execution_count": 38,
   "id": "516efb7c-328e-4785-b4ef-caa3661e3a78",
   "metadata": {},
   "outputs": [
    {
     "name": "stdout",
     "output_type": "stream",
     "text": [
      "Nikita\n",
      "mayuri\n",
      "mayuri\n",
      "nikita\n"
     ]
    }
   ],
   "source": [
    "for i in d4.values():\n",
    "    for j in i:\n",
    "        if type(j) == str: \n",
    "            print(j)"
   ]
  },
  {
   "cell_type": "code",
   "execution_count": 41,
   "id": "0184173c-5f93-4124-b679-eef5470ed1e0",
   "metadata": {},
   "outputs": [
    {
     "name": "stdout",
     "output_type": "stream",
     "text": [
      "1\n",
      "2\n",
      "2000\n",
      "8\n",
      "55\n"
     ]
    }
   ],
   "source": [
    "for i in d4.values():\n",
    "    for j in i:\n",
    "        if type(j) == list: \n",
    "            for k in j:\n",
    "                if type(k) == int:\n",
    "                    print(k)"
   ]
  },
  {
   "cell_type": "code",
   "execution_count": 42,
   "id": "6bf367f0-d95c-4a9c-8c59-171633265f63",
   "metadata": {},
   "outputs": [
    {
     "name": "stdout",
     "output_type": "stream",
     "text": [
      "3 3\n",
      "4 kjshdf\n",
      "key1 kumar\n"
     ]
    }
   ],
   "source": [
    "d5 = {3:3, 4:\"kjshdf\", \"key1\":\"sudh\", \"key1\":\"kumar\"}\n",
    "for k,v  in d5.items():\n",
    "        print(k,v)"
   ]
  },
  {
   "cell_type": "code",
   "execution_count": null,
   "id": "3412f208-a546-4930-8a2d-3adcc63bac50",
   "metadata": {},
   "outputs": [],
   "source": []
  }
 ],
 "metadata": {
  "kernelspec": {
   "display_name": "Python 3 (ipykernel)",
   "language": "python",
   "name": "python3"
  },
  "language_info": {
   "codemirror_mode": {
    "name": "ipython",
    "version": 3
   },
   "file_extension": ".py",
   "mimetype": "text/x-python",
   "name": "python",
   "nbconvert_exporter": "python",
   "pygments_lexer": "ipython3",
   "version": "3.11.7"
  }
 },
 "nbformat": 4,
 "nbformat_minor": 5
}
