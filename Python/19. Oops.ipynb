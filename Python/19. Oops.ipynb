{
 "cells": [
  {
   "cell_type": "code",
   "execution_count": 1,
   "id": "edeb020c-ca21-4a47-bf7d-01a158d0cccb",
   "metadata": {},
   "outputs": [],
   "source": [
    "class person:\n",
    "     def __init__(self, name, surname, emailid , year_of_birth):   #constructor Method \n",
    "            self.name = name\n",
    "            self.surname = surname\n",
    "            self.emailid = emailid\n",
    "            self.year_of_birth = year_of_birth"
   ]
  },
  {
   "cell_type": "code",
   "execution_count": 4,
   "id": "876e0333-cb28-40c7-8893-c7aedb03c756",
   "metadata": {},
   "outputs": [],
   "source": [
    "c1 = person(\"Rohit\", \"Soni\", \"rohit@gmail.com\", 2002)"
   ]
  },
  {
   "cell_type": "code",
   "execution_count": 5,
   "id": "56acc1fe-b21f-43bc-91e4-b5dbbda43820",
   "metadata": {},
   "outputs": [
    {
     "data": {
      "text/plain": [
       "'Rohit'"
      ]
     },
     "execution_count": 5,
     "metadata": {},
     "output_type": "execute_result"
    }
   ],
   "source": [
    "c1.name"
   ]
  },
  {
   "cell_type": "code",
   "execution_count": 7,
   "id": "24be9d5a-3501-4947-930e-b7c23e95c015",
   "metadata": {},
   "outputs": [],
   "source": [
    "c2 = person(\"rahul\", \"Roy\", \"roy@gmail.com\", 1990)"
   ]
  },
  {
   "cell_type": "code",
   "execution_count": 8,
   "id": "17890c1b-e056-4e56-be8d-c2f620da5b1c",
   "metadata": {},
   "outputs": [
    {
     "data": {
      "text/plain": [
       "'Roy'"
      ]
     },
     "execution_count": 8,
     "metadata": {},
     "output_type": "execute_result"
    }
   ],
   "source": [
    "c2.surname"
   ]
  },
  {
   "cell_type": "code",
   "execution_count": 11,
   "id": "3a1a7645-d20f-494c-8050-04e01236876e",
   "metadata": {},
   "outputs": [
    {
     "data": {
      "text/plain": [
       "'RohitRoy'"
      ]
     },
     "execution_count": 11,
     "metadata": {},
     "output_type": "execute_result"
    }
   ],
   "source": [
    "c1.name + c2.surname"
   ]
  },
  {
   "cell_type": "code",
   "execution_count": null,
   "id": "39317698-dee2-43a7-8e62-23c131a70ee2",
   "metadata": {},
   "outputs": [],
   "source": [
    "@@@@@@@@@@@@@@@@@@@@@@@@@@@@@@@@@@@@@@"
   ]
  },
  {
   "cell_type": "code",
   "execution_count": 23,
   "id": "3826cc5c-0151-4489-b68a-e4a9d1f0e3d6",
   "metadata": {},
   "outputs": [],
   "source": [
    "class person1:\n",
    "    def __init__(self, name, surname, emailid , year_of_birth):   #constructor Method \n",
    "        self.name = name\n",
    "        self.surname = surname\n",
    "        self.emailid = emailid\n",
    "        self.year_of_birth = year_of_birth\n",
    "\n",
    "    def __init__(self, name, emailid):\n",
    "        self.name = name\n",
    "        self.emailid = emailid"
   ]
  },
  {
   "cell_type": "code",
   "execution_count": 19,
   "id": "ed7a8f37-c445-4a49-b34a-047b6e8c5d56",
   "metadata": {},
   "outputs": [
    {
     "ename": "TypeError",
     "evalue": "person1.__init__() takes 3 positional arguments but 5 were given",
     "output_type": "error",
     "traceback": [
      "\u001b[1;31m---------------------------------------------------------------------------\u001b[0m",
      "\u001b[1;31mTypeError\u001b[0m                                 Traceback (most recent call last)",
      "Cell \u001b[1;32mIn[19], line 1\u001b[0m\n\u001b[1;32m----> 1\u001b[0m o1 \u001b[38;5;241m=\u001b[39m person1(\u001b[38;5;124m\"\u001b[39m\u001b[38;5;124mMayuri\u001b[39m\u001b[38;5;124m\"\u001b[39m, \u001b[38;5;124m\"\u001b[39m\u001b[38;5;124mseth\u001b[39m\u001b[38;5;124m\"\u001b[39m, \u001b[38;5;124m\"\u001b[39m\u001b[38;5;124mseth@gmail.com\u001b[39m\u001b[38;5;124m\"\u001b[39m, \u001b[38;5;241m2001\u001b[39m)\n",
      "\u001b[1;31mTypeError\u001b[0m: person1.__init__() takes 3 positional arguments but 5 were given"
     ]
    }
   ],
   "source": [
    "o1 = person1(\"Mayuri\", \"seth\", \"seth@gmail.com\", 2001)"
   ]
  },
  {
   "cell_type": "code",
   "execution_count": 25,
   "id": "4b804a9a-a6a8-48be-a41c-43bbe04412b2",
   "metadata": {},
   "outputs": [],
   "source": [
    "o2 = person1(\"Mayuri\",\"seth@gmail.com\")"
   ]
  },
  {
   "cell_type": "code",
   "execution_count": 26,
   "id": "788b49e2-43da-4340-9bae-0bb2716b61d4",
   "metadata": {},
   "outputs": [
    {
     "data": {
      "text/plain": [
       "'seth@gmail.com'"
      ]
     },
     "execution_count": 26,
     "metadata": {},
     "output_type": "execute_result"
    }
   ],
   "source": [
    "o2.emailid"
   ]
  },
  {
   "cell_type": "code",
   "execution_count": 27,
   "id": "a211d3ee-e676-40c8-898f-8fb18b006533",
   "metadata": {},
   "outputs": [
    {
     "data": {
      "text/plain": [
       "'Mayuri'"
      ]
     },
     "execution_count": 27,
     "metadata": {},
     "output_type": "execute_result"
    }
   ],
   "source": [
    "o2.name"
   ]
  },
  {
   "cell_type": "code",
   "execution_count": 32,
   "id": "7429b9d7-e353-44cf-a668-a0a93cabb0ad",
   "metadata": {},
   "outputs": [],
   "source": [
    "class person1:\n",
    "    def __init__(self, name, surname, emailid , year_of_birth):   #constructor Method \n",
    "        self.name = name\n",
    "        self.surname = surname\n",
    "        self.emailid = emailid\n",
    "        self.year_of_birth = year_of_birth\n",
    "\n",
    "    def __init__(self, name, emailid):\n",
    "        self.name = name\n",
    "        self.emailid = emailid\n",
    "        \n",
    "    def __init__(self, name, surname, salary):\n",
    "        self.name = name\n",
    "        self.emailid = surname\n",
    "        self.salary = salary\n"
   ]
  },
  {
   "cell_type": "code",
   "execution_count": 35,
   "id": "24d31bd5-918b-4e73-97f7-fd75a2142e17",
   "metadata": {},
   "outputs": [],
   "source": [
    "o3  =person1(\"gunjan\", \"saxsena\", 56000)"
   ]
  },
  {
   "cell_type": "code",
   "execution_count": 36,
   "id": "f295af17-5482-4919-8411-8d8dee59e772",
   "metadata": {},
   "outputs": [
    {
     "data": {
      "text/plain": [
       "56000"
      ]
     },
     "execution_count": 36,
     "metadata": {},
     "output_type": "execute_result"
    }
   ],
   "source": [
    "o3.salary"
   ]
  },
  {
   "cell_type": "code",
   "execution_count": null,
   "id": "9bc7ca04-d9fb-4562-9178-95587d3b0477",
   "metadata": {},
   "outputs": [],
   "source": [
    "@@@@@@@@@@@@@@@@@@@@@@@@@@"
   ]
  },
  {
   "cell_type": "code",
   "execution_count": 37,
   "id": "1c995312-63fb-48b9-8ff4-b76148c76b3c",
   "metadata": {},
   "outputs": [],
   "source": [
    "class person2:\n",
    "\n",
    "    def __init__(self, name, surname, emailid, year_of_birth):\n",
    "        self.name1 = name\n",
    "        self.surname1 = surname\n",
    "        self.emailid1 = emailid\n",
    "        self.year_of_birth = year_of_birth\n",
    "           \n",
    "    def age(self, curretn_year):\n",
    "        return curretn_year - self.year_of_birth \n",
    "    \n",
    "    def age_2(self, curretn_year):\n",
    "        return curretn_year "
   ]
  },
  {
   "cell_type": "code",
   "execution_count": 39,
   "id": "448df946-0a52-4988-819d-8138d2f7fc6f",
   "metadata": {},
   "outputs": [],
   "source": [
    "obj = person2(\"rohit\", \"soni\", \"rohit@gmail.com\", 1999)"
   ]
  },
  {
   "cell_type": "code",
   "execution_count": 41,
   "id": "ebabff80-093e-4832-8961-3cae011e18d2",
   "metadata": {},
   "outputs": [
    {
     "data": {
      "text/plain": [
       "25"
      ]
     },
     "execution_count": 41,
     "metadata": {},
     "output_type": "execute_result"
    }
   ],
   "source": [
    "obj.age(2024)"
   ]
  },
  {
   "cell_type": "code",
   "execution_count": 42,
   "id": "de88f5de-2cdf-40e2-a22b-e982c5650e5b",
   "metadata": {},
   "outputs": [
    {
     "data": {
      "text/plain": [
       "2025"
      ]
     },
     "execution_count": 42,
     "metadata": {},
     "output_type": "execute_result"
    }
   ],
   "source": [
    "obj.age_2(2025)"
   ]
  },
  {
   "cell_type": "code",
   "execution_count": 47,
   "id": "c55ea8ac-f8c9-4658-9eb4-3c8f635f4ebb",
   "metadata": {},
   "outputs": [],
   "source": [
    "class person2:\n",
    "\n",
    "    def __init__(self, name, surname, emailid, year_of_birth):\n",
    "        self.name1 = name\n",
    "        self.surname1 = surname\n",
    "        self.emailid1 = emailid\n",
    "        self.year_of_birth = year_of_birth\n",
    "           \n",
    "    def age(self, curretn_year):\n",
    "        return curretn_year - self.year_of_birth \n",
    "    \n",
    "    def Add_age(self, curretn_year, year):\n",
    "        age1 = self.year_of_birth - year\n",
    "        return curretn_year - age1"
   ]
  },
  {
   "cell_type": "code",
   "execution_count": 48,
   "id": "788ff651-c03a-402b-a705-3ab3ea9bb5aa",
   "metadata": {},
   "outputs": [],
   "source": [
    "obj1 = person2(\"rohit\", \"soni\", \"rohit@gmail.com\", 2000)"
   ]
  },
  {
   "cell_type": "code",
   "execution_count": 49,
   "id": "a0e21883-9bec-4b65-9eda-1b3528c7aa6c",
   "metadata": {},
   "outputs": [
    {
     "data": {
      "text/plain": [
       "2000"
      ]
     },
     "execution_count": 49,
     "metadata": {},
     "output_type": "execute_result"
    }
   ],
   "source": [
    "obj1.year_of_birth"
   ]
  },
  {
   "cell_type": "code",
   "execution_count": 50,
   "id": "7537c195-1258-4ae1-a996-800a91705325",
   "metadata": {},
   "outputs": [
    {
     "data": {
      "text/plain": [
       "27"
      ]
     },
     "execution_count": 50,
     "metadata": {},
     "output_type": "execute_result"
    }
   ],
   "source": [
    "obj1.Add_age(2024, 3 )"
   ]
  },
  {
   "cell_type": "code",
   "execution_count": 57,
   "id": "c96a27c7-4513-4b4c-b1e9-fe4e42d2d80a",
   "metadata": {},
   "outputs": [],
   "source": [
    "class person2:\n",
    "\n",
    "    def __init__(self, name, surname, emailid, year_of_birth):\n",
    "        self.name1 = name\n",
    "        self.surname1 = surname\n",
    "        self.emailid1 = emailid\n",
    "        self.year_of_birth = year_of_birth\n",
    "           \n",
    "    def age(self, curretn_year):\n",
    "        return curretn_year - self.year_of_birth \n",
    "    \n",
    "    def Add_age(self, curretn_year, year):\n",
    "        age1 = curretn_year - self.year_of_birth\n",
    "        return age1 + year, curretn_year, self.year_of_birth"
   ]
  },
  {
   "cell_type": "code",
   "execution_count": 58,
   "id": "9ea0c239-3534-48e0-b1e2-807107788dd2",
   "metadata": {},
   "outputs": [],
   "source": [
    "obj3 = person2(\"rohit\", \"soni\", \"rohit@gmail.com\", 2000)"
   ]
  },
  {
   "cell_type": "code",
   "execution_count": 59,
   "id": "caa5aa39-331c-441a-b2e2-f3138e5e94a9",
   "metadata": {},
   "outputs": [
    {
     "data": {
      "text/plain": [
       "(29, 2024, 2000)"
      ]
     },
     "execution_count": 59,
     "metadata": {},
     "output_type": "execute_result"
    }
   ],
   "source": [
    "obj3.Add_age(2024, 5)"
   ]
  },
  {
   "cell_type": "code",
   "execution_count": null,
   "id": "77a6eb40-4ae3-49f5-b0b1-b4c540cde2ad",
   "metadata": {},
   "outputs": [],
   "source": []
  }
 ],
 "metadata": {
  "kernelspec": {
   "display_name": "Python 3 (ipykernel)",
   "language": "python",
   "name": "python3"
  },
  "language_info": {
   "codemirror_mode": {
    "name": "ipython",
    "version": 3
   },
   "file_extension": ".py",
   "mimetype": "text/x-python",
   "name": "python",
   "nbconvert_exporter": "python",
   "pygments_lexer": "ipython3",
   "version": "3.11.7"
  }
 },
 "nbformat": 4,
 "nbformat_minor": 5
}
