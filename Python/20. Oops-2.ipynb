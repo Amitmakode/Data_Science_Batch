{
 "cells": [
  {
   "cell_type": "code",
   "execution_count": 1,
   "id": "b1f3cd1f-241e-4975-bfb1-07fadebbce08",
   "metadata": {},
   "outputs": [],
   "source": [
    "class person3 :\n",
    "    \n",
    "    def __init__(self , name ,surname , yob):\n",
    "        self._name1 = name                 # single _ means private \n",
    "        self.__surname1 = surname          #  double __ means protective\n",
    "        self.yob1 = yob                    # public "
   ]
  },
  {
   "cell_type": "code",
   "execution_count": 2,
   "id": "7704428f-f66e-4053-a723-04cda635ec61",
   "metadata": {},
   "outputs": [],
   "source": [
    "obj = person3(\"amit\", 'kumar', 2000)"
   ]
  },
  {
   "cell_type": "code",
   "execution_count": 8,
   "id": "091b1f1d-ac11-4f19-bcc2-cd5368b5866e",
   "metadata": {},
   "outputs": [
    {
     "data": {
      "text/plain": [
       "2000"
      ]
     },
     "execution_count": 8,
     "metadata": {},
     "output_type": "execute_result"
    }
   ],
   "source": [
    "obj.yob1"
   ]
  },
  {
   "cell_type": "code",
   "execution_count": 9,
   "id": "165c1552-b956-43b3-b82f-fb169baa5229",
   "metadata": {},
   "outputs": [
    {
     "data": {
      "text/plain": [
       "'amit'"
      ]
     },
     "execution_count": 9,
     "metadata": {},
     "output_type": "execute_result"
    }
   ],
   "source": [
    "obj._name1"
   ]
  },
  {
   "cell_type": "code",
   "execution_count": 10,
   "id": "bac367f6-528a-43cc-8fbf-6c9949eb7a62",
   "metadata": {},
   "outputs": [
    {
     "ename": "AttributeError",
     "evalue": "'person3' object has no attribute '__surname1'",
     "output_type": "error",
     "traceback": [
      "\u001b[1;31m---------------------------------------------------------------------------\u001b[0m",
      "\u001b[1;31mAttributeError\u001b[0m                            Traceback (most recent call last)",
      "Cell \u001b[1;32mIn[10], line 1\u001b[0m\n\u001b[1;32m----> 1\u001b[0m obj\u001b[38;5;241m.\u001b[39m__surname1\n",
      "\u001b[1;31mAttributeError\u001b[0m: 'person3' object has no attribute '__surname1'"
     ]
    }
   ],
   "source": [
    "obj.__surname1"
   ]
  },
  {
   "cell_type": "code",
   "execution_count": 11,
   "id": "525f35cc-27cb-4d7e-ad86-7ef9277b6298",
   "metadata": {},
   "outputs": [
    {
     "data": {
      "text/plain": [
       "'kumar'"
      ]
     },
     "execution_count": 11,
     "metadata": {},
     "output_type": "execute_result"
    }
   ],
   "source": [
    "obj._person3__surname1"
   ]
  },
  {
   "cell_type": "markdown",
   "id": "60ae21d5-6e32-4a36-bef9-aa193fb9a05b",
   "metadata": {},
   "source": [
    "#### Inheretence"
   ]
  },
  {
   "cell_type": "code",
   "execution_count": 12,
   "id": "9ad5e539-26c8-404c-8c8f-3d87f59eb998",
   "metadata": {},
   "outputs": [],
   "source": [
    "class person4:                             # parents class\n",
    "\n",
    "    name = \"amit\"\n",
    "    surname = \"kumar\"\n",
    "    yob = 1990\n",
    "\n",
    "    def age(self , current_year ):\n",
    "        return current_year - self.yob\n",
    "\n",
    "\n",
    "class employee(person4):           #child class\n",
    "    name = \"amit\"\n",
    "    surname = \"singh\"\n",
    "    yob = 1991"
   ]
  },
  {
   "cell_type": "code",
   "execution_count": 13,
   "id": "e7f08038-848b-4a1a-92ab-fd8f7a8671de",
   "metadata": {},
   "outputs": [],
   "source": [
    "obj1 = person4()"
   ]
  },
  {
   "cell_type": "code",
   "execution_count": 14,
   "id": "c30688de-02f6-4eea-a1b2-57130e646e3e",
   "metadata": {},
   "outputs": [],
   "source": [
    "obj2 = employee()"
   ]
  },
  {
   "cell_type": "code",
   "execution_count": 15,
   "id": "33baa14d-e559-40f1-b06d-843d38fc9c37",
   "metadata": {},
   "outputs": [
    {
     "data": {
      "text/plain": [
       "34"
      ]
     },
     "execution_count": 15,
     "metadata": {},
     "output_type": "execute_result"
    }
   ],
   "source": [
    "obj1.age(2024)"
   ]
  },
  {
   "cell_type": "code",
   "execution_count": 16,
   "id": "c0acb1a6-d3f9-4a63-8af5-61ac7c3a1255",
   "metadata": {},
   "outputs": [
    {
     "data": {
      "text/plain": [
       "'amit'"
      ]
     },
     "execution_count": 16,
     "metadata": {},
     "output_type": "execute_result"
    }
   ],
   "source": [
    "obj2.name"
   ]
  },
  {
   "cell_type": "code",
   "execution_count": 17,
   "id": "d24b46ca-e6ba-49fd-8ced-8d8ed88e80c6",
   "metadata": {},
   "outputs": [
    {
     "data": {
      "text/plain": [
       "'singh'"
      ]
     },
     "execution_count": 17,
     "metadata": {},
     "output_type": "execute_result"
    }
   ],
   "source": [
    "obj2.surname"
   ]
  },
  {
   "cell_type": "code",
   "execution_count": 18,
   "id": "210788d8-3ff5-4543-87d4-fc20b436ff76",
   "metadata": {},
   "outputs": [
    {
     "data": {
      "text/plain": [
       "34"
      ]
     },
     "execution_count": 18,
     "metadata": {},
     "output_type": "execute_result"
    }
   ],
   "source": [
    "obj2.age(2025)"
   ]
  },
  {
   "cell_type": "code",
   "execution_count": null,
   "id": "2936a8a8-6c34-4c86-85e8-05422a8b3c3e",
   "metadata": {},
   "outputs": [],
   "source": [
    "class car :                 #perent class   \n",
    "                         # inheritence \n",
    "    def __init__(self , body , engin , tyre):\n",
    "        self.body = body\n",
    "        self.engin = engin\n",
    "        self.tyre = tyre\n",
    "\n",
    "    def milage (self):\n",
    "        print(\"milage of this car \") \n",
    "        \n",
    "        \n",
    "class tata(car):                #child class\n",
    "    pass\n",
    "\n",
    "t = tata(\"solid1\" , \"v8\" , \"radial1\")\n",
    "print(t)\n",
    "print(t.milage())  "
   ]
  },
  {
   "cell_type": "markdown",
   "id": "d249b54b-315d-49f5-8bec-022f599ded03",
   "metadata": {},
   "source": [
    "#### Multilevel Inheritence"
   ]
  },
  {
   "cell_type": "code",
   "execution_count": 19,
   "id": "30771b44-994b-4cb9-b4bc-89504a7202e9",
   "metadata": {},
   "outputs": [],
   "source": [
    "class bank :             # perents class \n",
    "    def transaction(self) :\n",
    "        print(\"total transaction value \")\n",
    "    def account_opening(self):\n",
    "        print(\"this will show you your account open status \")\n",
    "    def deposite(self):\n",
    "        print(\"this will show your deposited amount\")\n",
    "\n",
    "\n",
    "class HDFC_bank(bank):             # child class\n",
    "    def hdfc_to_icici(self):\n",
    "        print(\"this will show you all the transaction happend to icici throuhg hdfc\")\n",
    "\n",
    "class icici(HDFC_bank):          # child class\n",
    "    pass                        \n",
    "\n",
    "# multilevel inheritence"
   ]
  },
  {
   "cell_type": "code",
   "execution_count": 20,
   "id": "de769e7f-61b1-4933-b653-cf4b571bf131",
   "metadata": {},
   "outputs": [],
   "source": [
    "obj7 = bank()\n",
    "obj8 = HDFC_bank()\n",
    "obj9 = icici()"
   ]
  },
  {
   "cell_type": "code",
   "execution_count": 21,
   "id": "80f33d57-97dc-4e79-8a56-0f88e8fa535b",
   "metadata": {},
   "outputs": [
    {
     "name": "stdout",
     "output_type": "stream",
     "text": [
      "this will show your deposited amount\n"
     ]
    }
   ],
   "source": [
    "obj9.deposite()"
   ]
  },
  {
   "cell_type": "markdown",
   "id": "e85137be-8faf-4903-86a1-817044bdfbdd",
   "metadata": {},
   "source": [
    "#### Multiple"
   ]
  },
  {
   "cell_type": "code",
   "execution_count": 22,
   "id": "0ce0d2d7-6e9c-41c7-8767-b24dcab166a0",
   "metadata": {},
   "outputs": [],
   "source": [
    "class bank :\n",
    "    def transaction(self) :\n",
    "        print(\"total transaction value \")\n",
    "    def account_opening(self):\n",
    "        print(\"this will show you your account open status \")\n",
    "    def deposite(self):\n",
    "        print(\"this will show your deposited amount\")\n",
    "    def test(self):                          # override code\n",
    "        print(\"this is a test methond form bank class \")\n",
    "\n",
    "\n",
    "class HDFC_bank:\n",
    "    def hdfc_to_icici(self):\n",
    "        print(\"this will show you all the transaction happend to icici throuhg hdfc\")\n",
    "    def test(self):           #override code\n",
    "        print(\"this is a test method form hdfc bank \")\n",
    "\n",
    "class ineron_bank:\n",
    "    def account_status_icici(self):\n",
    "        print(\"print a account status in icici \")\n",
    "\n",
    "class icici(bank, HDFC_bank, ineron_bank):      # multiple inheritence\n",
    "    pass"
   ]
  },
  {
   "cell_type": "code",
   "execution_count": 23,
   "id": "afd7504d-0fd6-4488-b77f-f40c5bb5397b",
   "metadata": {},
   "outputs": [],
   "source": [
    "obj10 = bank()"
   ]
  },
  {
   "cell_type": "code",
   "execution_count": 24,
   "id": "1f0f302e-10fc-441e-ad6f-7193496eacf9",
   "metadata": {},
   "outputs": [],
   "source": [
    "obj11 = HDFC_bank()"
   ]
  },
  {
   "cell_type": "code",
   "execution_count": 25,
   "id": "9ae488cd-bf56-477d-93ce-77ce53d41a75",
   "metadata": {},
   "outputs": [],
   "source": [
    "obj12 = ineron_bank()"
   ]
  },
  {
   "cell_type": "code",
   "execution_count": 27,
   "id": "3bd5a0ae-c65c-4b67-ba8c-a50c17ebc6b6",
   "metadata": {},
   "outputs": [],
   "source": [
    "obj13 = icici()"
   ]
  },
  {
   "cell_type": "code",
   "execution_count": 29,
   "id": "1b80227a-833c-4071-8820-f86e79dff6de",
   "metadata": {},
   "outputs": [
    {
     "name": "stdout",
     "output_type": "stream",
     "text": [
      "this is a test methond form bank class \n"
     ]
    }
   ],
   "source": [
    "obj13.test()"
   ]
  },
  {
   "cell_type": "markdown",
   "id": "6f13148f-7f3f-47b5-b85b-6da3c236a774",
   "metadata": {},
   "source": [
    "#### data abstraction"
   ]
  },
  {
   "cell_type": "code",
   "execution_count": 38,
   "id": "ee07c1bb-4104-42cd-a59c-0edde4cf68d5",
   "metadata": {},
   "outputs": [],
   "source": [
    "class ineuron1:\n",
    "    __students = \"data science\"       #data abstraction \n",
    "\n",
    "    def studetns(self):\n",
    "        print(ineuron1.__students)"
   ]
  },
  {
   "cell_type": "code",
   "execution_count": 39,
   "id": "44da86d6-e5da-467b-9083-bfac5deb140f",
   "metadata": {},
   "outputs": [
    {
     "name": "stdout",
     "output_type": "stream",
     "text": [
      "data science\n"
     ]
    },
    {
     "ename": "AttributeError",
     "evalue": "'ineuron1' object has no attribute '__students'",
     "output_type": "error",
     "traceback": [
      "\u001b[1;31m---------------------------------------------------------------------------\u001b[0m",
      "\u001b[1;31mAttributeError\u001b[0m                            Traceback (most recent call last)",
      "Cell \u001b[1;32mIn[39], line 3\u001b[0m\n\u001b[0;32m      1\u001b[0m i \u001b[38;5;241m=\u001b[39m ineuron1()\n\u001b[0;32m      2\u001b[0m i\u001b[38;5;241m.\u001b[39mstudetns()\n\u001b[1;32m----> 3\u001b[0m \u001b[38;5;28mprint\u001b[39m(i\u001b[38;5;241m.\u001b[39m__students)\n",
      "\u001b[1;31mAttributeError\u001b[0m: 'ineuron1' object has no attribute '__students'"
     ]
    }
   ],
   "source": [
    "i = ineuron1()\n",
    "i.studetns()\n",
    "print(i.__students)"
   ]
  },
  {
   "cell_type": "code",
   "execution_count": 40,
   "id": "0e1e1af9-b3ca-4e6a-b8fd-388fb6dd511b",
   "metadata": {},
   "outputs": [
    {
     "name": "stdout",
     "output_type": "stream",
     "text": [
      "data science\n",
      "data science\n"
     ]
    }
   ],
   "source": [
    "i = ineuron1()\n",
    "i.studetns()\n",
    "print(i._ineuron1__students)"
   ]
  },
  {
   "cell_type": "code",
   "execution_count": 41,
   "id": "52cf452f-5adc-4ccc-ac71-ff8e0ca4dfcd",
   "metadata": {},
   "outputs": [],
   "source": [
    "class ineuron2:                      # encpsulation \n",
    "    def __init__(self):\n",
    "        self.students1 = \"data science\"\n",
    "\n",
    "    def students(self):\n",
    "        print(self.students1)\n",
    "\n",
    "\n",
    "\n",
    "class ineuron3:\n",
    "    def __init__(self):\n",
    "        self.__students1 = \"data science \"\n",
    "\n",
    "    def students(self):\n",
    "        print(self.__students1)\n",
    "        \n",
    "    def student_change(self,new_value):\n",
    "        self.__students1 = new_value"
   ]
  },
  {
   "cell_type": "code",
   "execution_count": 42,
   "id": "73b3aca1-5556-435d-ae6e-90e359e6aab9",
   "metadata": {},
   "outputs": [
    {
     "name": "stdout",
     "output_type": "stream",
     "text": [
      "data science\n"
     ]
    }
   ],
   "source": [
    "i = ineuron2()\n",
    "i.students()"
   ]
  },
  {
   "cell_type": "code",
   "execution_count": 43,
   "id": "0a48a24b-0e09-41d2-8e0f-1e4c6cd66060",
   "metadata": {},
   "outputs": [
    {
     "name": "stdout",
     "output_type": "stream",
     "text": [
      "data analytics\n"
     ]
    }
   ],
   "source": [
    "i.students1 = \"data analytics\"\n",
    "i.students()"
   ]
  },
  {
   "cell_type": "code",
   "execution_count": 44,
   "id": "fffe4ae2-1683-4825-869f-37b8186ee07e",
   "metadata": {},
   "outputs": [
    {
     "name": "stdout",
     "output_type": "stream",
     "text": [
      "data science \n"
     ]
    }
   ],
   "source": [
    "i1 = ineuron3()\n",
    "i1.students()"
   ]
  },
  {
   "cell_type": "code",
   "execution_count": 45,
   "id": "2f4ee966-4390-4062-8307-c38e123f2a13",
   "metadata": {},
   "outputs": [
    {
     "name": "stdout",
     "output_type": "stream",
     "text": [
      "data science \n"
     ]
    }
   ],
   "source": [
    "i1.students1 = \"data analytics\"\n",
    "i1.students()"
   ]
  },
  {
   "cell_type": "code",
   "execution_count": 46,
   "id": "8263e456-824a-4f96-8c99-1f3d00b60c4f",
   "metadata": {},
   "outputs": [
    {
     "name": "stdout",
     "output_type": "stream",
     "text": [
      "data analytics\n"
     ]
    }
   ],
   "source": [
    "i1._ineuron3__students1 = \"data analytics\"\n",
    "i1.students()"
   ]
  },
  {
   "cell_type": "markdown",
   "id": "52742725-4e4e-4525-be39-c95f71eb68ac",
   "metadata": {},
   "source": [
    "### polymorphism"
   ]
  },
  {
   "cell_type": "code",
   "execution_count": 47,
   "id": "303b4536-6a43-4d57-b104-054a679b20f2",
   "metadata": {},
   "outputs": [],
   "source": [
    "class ineuron4:\n",
    "    def students(self):\n",
    "        print(\"print a students details \")\n",
    "\n",
    "class class_type :\n",
    "    def student(self):\n",
    "        print(\"print the class type of students\")"
   ]
  },
  {
   "cell_type": "code",
   "execution_count": 48,
   "id": "0e4d45ed-711a-4292-9718-592ab59c6673",
   "metadata": {},
   "outputs": [],
   "source": [
    "def ineuron_external(a,b):\n",
    "    a.students()\n",
    "    b.student()"
   ]
  },
  {
   "cell_type": "code",
   "execution_count": 49,
   "id": "edb6df25-5e88-4404-b89b-e560b0dc42d3",
   "metadata": {},
   "outputs": [],
   "source": [
    "obj4 = ineuron4()"
   ]
  },
  {
   "cell_type": "code",
   "execution_count": 50,
   "id": "92bfdb03-c46f-416f-ba28-24c35d51cd51",
   "metadata": {},
   "outputs": [],
   "source": [
    "obj5 = class_type()"
   ]
  },
  {
   "cell_type": "code",
   "execution_count": 52,
   "id": "9a56c435-8439-463b-8247-027a7f2002f3",
   "metadata": {},
   "outputs": [
    {
     "name": "stdout",
     "output_type": "stream",
     "text": [
      "print a students details \n"
     ]
    }
   ],
   "source": [
    "obj4.students()"
   ]
  },
  {
   "cell_type": "code",
   "execution_count": 53,
   "id": "df888487-d56a-460a-bfcb-2da53af92d24",
   "metadata": {},
   "outputs": [
    {
     "name": "stdout",
     "output_type": "stream",
     "text": [
      "print the class type of students\n"
     ]
    }
   ],
   "source": [
    "obj5.student()"
   ]
  },
  {
   "cell_type": "code",
   "execution_count": 54,
   "id": "a6e99627-df1a-4d5c-87d7-743642ff026a",
   "metadata": {},
   "outputs": [
    {
     "name": "stdout",
     "output_type": "stream",
     "text": [
      "print a students details \n",
      "print the class type of students\n"
     ]
    }
   ],
   "source": [
    "ineuron_external(obj4, obj5)"
   ]
  },
  {
   "cell_type": "code",
   "execution_count": null,
   "id": "386304e5-2617-49bf-83c8-965352107cf3",
   "metadata": {},
   "outputs": [],
   "source": []
  }
 ],
 "metadata": {
  "kernelspec": {
   "display_name": "Python 3 (ipykernel)",
   "language": "python",
   "name": "python3"
  },
  "language_info": {
   "codemirror_mode": {
    "name": "ipython",
    "version": 3
   },
   "file_extension": ".py",
   "mimetype": "text/x-python",
   "name": "python",
   "nbconvert_exporter": "python",
   "pygments_lexer": "ipython3",
   "version": "3.11.7"
  }
 },
 "nbformat": 4,
 "nbformat_minor": 5
}
